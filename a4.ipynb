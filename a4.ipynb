{
 "cells": [
  {
   "cell_type": "code",
   "execution_count": 5,
   "metadata": {},
   "outputs": [],
   "source": [
    "\n",
    "import glob\n",
    "import pandas as pd\n",
    "\n",
    "\n",
    "csv_files = glob.glob('/home/micro2/Desktop/bdvc/*.csv')\n",
    "\n",
    "\n",
    "dfs = [pd.read_csv(file) for file in csv_files]\n",
    "df = pd.concat(dfs, ignore_index=True)\n",
    "#diis_index = df[df['Promoter'] == 'Government'].index\n",
    "diis_index = df[df['Promoter'] == 'FIIs'].index\n",
    "promter_index = df[df['Promoter'] == 'Promoters'].index\n",
    "\n",
    "\n",
    "drop_indices = []\n",
    "\n",
    "\n",
    "for start in diis_index:\n",
    "\n",
    "    end_candidates = promter_index[promter_index > start]\n",
    "    if not end_candidates.empty:\n",
    "        end = end_candidates[0]\n",
    "        drop_indices.extend(range(start + 1, end))\n",
    "\n",
    "\n",
    "df.drop(drop_indices, inplace=True)\n",
    "df.reset_index(drop=True, inplace=True)\n",
    "\n",
    "\n",
    "diis_index = df[df['Promoter'] == 'DIIs'].index\n",
    "promter_index = df[df['Promoter'] == 'Promoters'].index\n",
    "\n",
    "\n",
    "drop_indices = []\n",
    "\n",
    "\n",
    "for start in diis_index:\n",
    "\n",
    "    end_candidates = promter_index[promter_index > start]\n",
    "    if not end_candidates.empty:\n",
    "        end = end_candidates[0]\n",
    "        drop_indices.extend(range(start + 1, end))\n",
    "\n",
    "\n",
    "df.drop(drop_indices, inplace=True)\n",
    "df = df[df['Promoter'] != \"FIIs\"] \n",
    "df = df[df['Promoter'] != \"DIIs\"] \n",
    "df = df[df['Promoter'] != \"Public\"] \n",
    "df = df[df['Promoter'] != \"Government\"] \n",
    "df = df[df['Promoter'] != \"Others\"]\n",
    "df = df[df['Promoter'] != \"Promoters\"]\n",
    "df.reset_index(drop=True, inplace=True)\n",
    "\n",
    "#top_promoters = df['Promoter'].value_counts().head(10).index\n",
    "#top_promoters =top_promoters.drop(\"Promoters\")\n",
    "#top_promoter_df = df[df['Promoter'].isin(top_promoters)]\n"
   ]
  },
  {
   "cell_type": "code",
   "execution_count": 9,
   "metadata": {},
   "outputs": [],
   "source": [
    "du = df"
   ]
  },
  {
   "cell_type": "code",
   "execution_count": 10,
   "metadata": {},
   "outputs": [],
   "source": [
    "du[\"Share_Change\"] = du.groupby(\"Promoter\")[\"Share\"].transform(lambda x: x.pct_change() * 100)\n"
   ]
  },
  {
   "cell_type": "code",
   "execution_count": 6,
   "metadata": {},
   "outputs": [],
   "source": [
    "a =du[du[\"BSE Code\"]==540900]"
   ]
  },
  {
   "cell_type": "code",
   "execution_count": 4,
   "metadata": {},
   "outputs": [
    {
     "data": {
      "text/html": [
       "<div>\n",
       "<style scoped>\n",
       "    .dataframe tbody tr th:only-of-type {\n",
       "        vertical-align: middle;\n",
       "    }\n",
       "\n",
       "    .dataframe tbody tr th {\n",
       "        vertical-align: top;\n",
       "    }\n",
       "\n",
       "    .dataframe thead th {\n",
       "        text-align: right;\n",
       "    }\n",
       "</style>\n",
       "<table border=\"1\" class=\"dataframe\">\n",
       "  <thead>\n",
       "    <tr style=\"text-align: right;\">\n",
       "      <th></th>\n",
       "      <th>Promoter</th>\n",
       "      <th>Share</th>\n",
       "      <th>BSE Code</th>\n",
       "      <th>NSE Code</th>\n",
       "      <th>Price</th>\n",
       "      <th>MCap</th>\n",
       "      <th>TotalShares</th>\n",
       "      <th>CaptureDate</th>\n",
       "      <th>Date</th>\n",
       "      <th>Share_Cha0nge</th>\n",
       "    </tr>\n",
       "  </thead>\n",
       "  <tbody>\n",
       "    <tr>\n",
       "      <th>0</th>\n",
       "      <td>Diwakar Nigam</td>\n",
       "      <td>22.41</td>\n",
       "      <td>540900</td>\n",
       "      <td>NEWGEN</td>\n",
       "      <td>1074.0</td>\n",
       "      <td>1.507000e+11</td>\n",
       "      <td>1.403166e+08</td>\n",
       "      <td>Sep 2021</td>\n",
       "      <td>01-09-2021</td>\n",
       "      <td>NaN</td>\n",
       "    </tr>\n",
       "    <tr>\n",
       "      <th>1</th>\n",
       "      <td>T S Varadarajan</td>\n",
       "      <td>21.46</td>\n",
       "      <td>540900</td>\n",
       "      <td>NEWGEN</td>\n",
       "      <td>1074.0</td>\n",
       "      <td>1.507000e+11</td>\n",
       "      <td>1.403166e+08</td>\n",
       "      <td>Sep 2021</td>\n",
       "      <td>01-09-2021</td>\n",
       "      <td>NaN</td>\n",
       "    </tr>\n",
       "    <tr>\n",
       "      <th>2</th>\n",
       "      <td>Priyadarshini Nigam</td>\n",
       "      <td>9.39</td>\n",
       "      <td>540900</td>\n",
       "      <td>NEWGEN</td>\n",
       "      <td>1074.0</td>\n",
       "      <td>1.507000e+11</td>\n",
       "      <td>1.403166e+08</td>\n",
       "      <td>Sep 2021</td>\n",
       "      <td>01-09-2021</td>\n",
       "      <td>NaN</td>\n",
       "    </tr>\n",
       "    <tr>\n",
       "      <th>3</th>\n",
       "      <td>Usha Varadarajan</td>\n",
       "      <td>1.90</td>\n",
       "      <td>540900</td>\n",
       "      <td>NEWGEN</td>\n",
       "      <td>1074.0</td>\n",
       "      <td>1.507000e+11</td>\n",
       "      <td>1.403166e+08</td>\n",
       "      <td>Sep 2021</td>\n",
       "      <td>01-09-2021</td>\n",
       "      <td>NaN</td>\n",
       "    </tr>\n",
       "    <tr>\n",
       "      <th>4</th>\n",
       "      <td>Ragini Goorha</td>\n",
       "      <td>0.00</td>\n",
       "      <td>540900</td>\n",
       "      <td>NEWGEN</td>\n",
       "      <td>1074.0</td>\n",
       "      <td>1.507000e+11</td>\n",
       "      <td>1.403166e+08</td>\n",
       "      <td>Sep 2021</td>\n",
       "      <td>01-09-2021</td>\n",
       "      <td>NaN</td>\n",
       "    </tr>\n",
       "    <tr>\n",
       "      <th>...</th>\n",
       "      <td>...</td>\n",
       "      <td>...</td>\n",
       "      <td>...</td>\n",
       "      <td>...</td>\n",
       "      <td>...</td>\n",
       "      <td>...</td>\n",
       "      <td>...</td>\n",
       "      <td>...</td>\n",
       "      <td>...</td>\n",
       "      <td>...</td>\n",
       "    </tr>\n",
       "    <tr>\n",
       "      <th>481019</th>\n",
       "      <td>SBI General Insurance Company Limited</td>\n",
       "      <td>0.00</td>\n",
       "      <td>543066</td>\n",
       "      <td>SBICARD</td>\n",
       "      <td>717.0</td>\n",
       "      <td>6.815900e+11</td>\n",
       "      <td>9.506137e+08</td>\n",
       "      <td>Jun 2024</td>\n",
       "      <td>01-06-2024</td>\n",
       "      <td>NaN</td>\n",
       "    </tr>\n",
       "    <tr>\n",
       "      <th>481020</th>\n",
       "      <td>Icici Prudential MultiAsset Fund</td>\n",
       "      <td>5.37</td>\n",
       "      <td>543066</td>\n",
       "      <td>SBICARD</td>\n",
       "      <td>717.0</td>\n",
       "      <td>6.815900e+11</td>\n",
       "      <td>9.506137e+08</td>\n",
       "      <td>Jun 2024</td>\n",
       "      <td>01-06-2024</td>\n",
       "      <td>NaN</td>\n",
       "    </tr>\n",
       "    <tr>\n",
       "      <th>481021</th>\n",
       "      <td>Life Insurance Corporation Of India  P  Gs Fund</td>\n",
       "      <td>5.96</td>\n",
       "      <td>543066</td>\n",
       "      <td>SBICARD</td>\n",
       "      <td>717.0</td>\n",
       "      <td>6.815900e+11</td>\n",
       "      <td>9.506137e+08</td>\n",
       "      <td>Jun 2024</td>\n",
       "      <td>01-06-2024</td>\n",
       "      <td>NaN</td>\n",
       "    </tr>\n",
       "    <tr>\n",
       "      <th>481022</th>\n",
       "      <td>Mirae Asset Large Cap Fund</td>\n",
       "      <td>1.11</td>\n",
       "      <td>543066</td>\n",
       "      <td>SBICARD</td>\n",
       "      <td>717.0</td>\n",
       "      <td>6.815900e+11</td>\n",
       "      <td>9.506137e+08</td>\n",
       "      <td>Jun 2024</td>\n",
       "      <td>01-06-2024</td>\n",
       "      <td>NaN</td>\n",
       "    </tr>\n",
       "    <tr>\n",
       "      <th>481023</th>\n",
       "      <td>Nippon Life India Trustee LtdAC Nippon India Lar</td>\n",
       "      <td>1.65</td>\n",
       "      <td>543066</td>\n",
       "      <td>SBICARD</td>\n",
       "      <td>717.0</td>\n",
       "      <td>6.815900e+11</td>\n",
       "      <td>9.506137e+08</td>\n",
       "      <td>Jun 2024</td>\n",
       "      <td>01-06-2024</td>\n",
       "      <td>NaN</td>\n",
       "    </tr>\n",
       "  </tbody>\n",
       "</table>\n",
       "<p>481024 rows × 10 columns</p>\n",
       "</div>"
      ],
      "text/plain": [
       "                                                Promoter  Share  BSE Code  \\\n",
       "0                                          Diwakar Nigam  22.41    540900   \n",
       "1                                        T S Varadarajan  21.46    540900   \n",
       "2                                    Priyadarshini Nigam   9.39    540900   \n",
       "3                                       Usha Varadarajan   1.90    540900   \n",
       "4                                          Ragini Goorha   0.00    540900   \n",
       "...                                                  ...    ...       ...   \n",
       "481019             SBI General Insurance Company Limited   0.00    543066   \n",
       "481020                  Icici Prudential MultiAsset Fund   5.37    543066   \n",
       "481021   Life Insurance Corporation Of India  P  Gs Fund   5.96    543066   \n",
       "481022                        Mirae Asset Large Cap Fund   1.11    543066   \n",
       "481023  Nippon Life India Trustee LtdAC Nippon India Lar   1.65    543066   \n",
       "\n",
       "       NSE Code   Price          MCap   TotalShares CaptureDate        Date  \\\n",
       "0        NEWGEN  1074.0  1.507000e+11  1.403166e+08    Sep 2021  01-09-2021   \n",
       "1        NEWGEN  1074.0  1.507000e+11  1.403166e+08    Sep 2021  01-09-2021   \n",
       "2        NEWGEN  1074.0  1.507000e+11  1.403166e+08    Sep 2021  01-09-2021   \n",
       "3        NEWGEN  1074.0  1.507000e+11  1.403166e+08    Sep 2021  01-09-2021   \n",
       "4        NEWGEN  1074.0  1.507000e+11  1.403166e+08    Sep 2021  01-09-2021   \n",
       "...         ...     ...           ...           ...         ...         ...   \n",
       "481019  SBICARD   717.0  6.815900e+11  9.506137e+08    Jun 2024  01-06-2024   \n",
       "481020  SBICARD   717.0  6.815900e+11  9.506137e+08    Jun 2024  01-06-2024   \n",
       "481021  SBICARD   717.0  6.815900e+11  9.506137e+08    Jun 2024  01-06-2024   \n",
       "481022  SBICARD   717.0  6.815900e+11  9.506137e+08    Jun 2024  01-06-2024   \n",
       "481023  SBICARD   717.0  6.815900e+11  9.506137e+08    Jun 2024  01-06-2024   \n",
       "\n",
       "        Share_Cha0nge  \n",
       "0                 NaN  \n",
       "1                 NaN  \n",
       "2                 NaN  \n",
       "3                 NaN  \n",
       "4                 NaN  \n",
       "...               ...  \n",
       "481019            NaN  \n",
       "481020            NaN  \n",
       "481021            NaN  \n",
       "481022            NaN  \n",
       "481023            NaN  \n",
       "\n",
       "[481024 rows x 10 columns]"
      ]
     },
     "execution_count": 4,
     "metadata": {},
     "output_type": "execute_result"
    }
   ],
   "source": [
    "du"
   ]
  },
  {
   "cell_type": "code",
   "execution_count": 7,
   "metadata": {},
   "outputs": [
    {
     "data": {
      "text/html": [
       "<div>\n",
       "<style scoped>\n",
       "    .dataframe tbody tr th:only-of-type {\n",
       "        vertical-align: middle;\n",
       "    }\n",
       "\n",
       "    .dataframe tbody tr th {\n",
       "        vertical-align: top;\n",
       "    }\n",
       "\n",
       "    .dataframe thead th {\n",
       "        text-align: right;\n",
       "    }\n",
       "</style>\n",
       "<table border=\"1\" class=\"dataframe\">\n",
       "  <thead>\n",
       "    <tr style=\"text-align: right;\">\n",
       "      <th></th>\n",
       "      <th>Promoter</th>\n",
       "      <th>Share</th>\n",
       "      <th>BSE Code</th>\n",
       "      <th>NSE Code</th>\n",
       "      <th>Price</th>\n",
       "      <th>MCap</th>\n",
       "      <th>TotalShares</th>\n",
       "      <th>CaptureDate</th>\n",
       "      <th>Date</th>\n",
       "      <th>Share_Cha0nge</th>\n",
       "    </tr>\n",
       "  </thead>\n",
       "  <tbody>\n",
       "    <tr>\n",
       "      <th>0</th>\n",
       "      <td>Diwakar Nigam</td>\n",
       "      <td>22.41</td>\n",
       "      <td>540900</td>\n",
       "      <td>NEWGEN</td>\n",
       "      <td>1074.0</td>\n",
       "      <td>1.507000e+11</td>\n",
       "      <td>1.403166e+08</td>\n",
       "      <td>Sep 2021</td>\n",
       "      <td>01-09-2021</td>\n",
       "      <td>NaN</td>\n",
       "    </tr>\n",
       "    <tr>\n",
       "      <th>1</th>\n",
       "      <td>T S Varadarajan</td>\n",
       "      <td>21.46</td>\n",
       "      <td>540900</td>\n",
       "      <td>NEWGEN</td>\n",
       "      <td>1074.0</td>\n",
       "      <td>1.507000e+11</td>\n",
       "      <td>1.403166e+08</td>\n",
       "      <td>Sep 2021</td>\n",
       "      <td>01-09-2021</td>\n",
       "      <td>NaN</td>\n",
       "    </tr>\n",
       "    <tr>\n",
       "      <th>2</th>\n",
       "      <td>Priyadarshini Nigam</td>\n",
       "      <td>9.39</td>\n",
       "      <td>540900</td>\n",
       "      <td>NEWGEN</td>\n",
       "      <td>1074.0</td>\n",
       "      <td>1.507000e+11</td>\n",
       "      <td>1.403166e+08</td>\n",
       "      <td>Sep 2021</td>\n",
       "      <td>01-09-2021</td>\n",
       "      <td>NaN</td>\n",
       "    </tr>\n",
       "    <tr>\n",
       "      <th>3</th>\n",
       "      <td>Usha Varadarajan</td>\n",
       "      <td>1.90</td>\n",
       "      <td>540900</td>\n",
       "      <td>NEWGEN</td>\n",
       "      <td>1074.0</td>\n",
       "      <td>1.507000e+11</td>\n",
       "      <td>1.403166e+08</td>\n",
       "      <td>Sep 2021</td>\n",
       "      <td>01-09-2021</td>\n",
       "      <td>NaN</td>\n",
       "    </tr>\n",
       "    <tr>\n",
       "      <th>4</th>\n",
       "      <td>Ragini Goorha</td>\n",
       "      <td>0.00</td>\n",
       "      <td>540900</td>\n",
       "      <td>NEWGEN</td>\n",
       "      <td>1074.0</td>\n",
       "      <td>1.507000e+11</td>\n",
       "      <td>1.403166e+08</td>\n",
       "      <td>Sep 2021</td>\n",
       "      <td>01-09-2021</td>\n",
       "      <td>NaN</td>\n",
       "    </tr>\n",
       "    <tr>\n",
       "      <th>...</th>\n",
       "      <td>...</td>\n",
       "      <td>...</td>\n",
       "      <td>...</td>\n",
       "      <td>...</td>\n",
       "      <td>...</td>\n",
       "      <td>...</td>\n",
       "      <td>...</td>\n",
       "      <td>...</td>\n",
       "      <td>...</td>\n",
       "      <td>...</td>\n",
       "    </tr>\n",
       "    <tr>\n",
       "      <th>256</th>\n",
       "      <td>Sudha Sairaj</td>\n",
       "      <td>0.00</td>\n",
       "      <td>540900</td>\n",
       "      <td>NEWGEN</td>\n",
       "      <td>1074.0</td>\n",
       "      <td>1.507000e+11</td>\n",
       "      <td>1.403166e+08</td>\n",
       "      <td>Jun 2024</td>\n",
       "      <td>01-06-2024</td>\n",
       "      <td>NaN</td>\n",
       "    </tr>\n",
       "    <tr>\n",
       "      <th>257</th>\n",
       "      <td>Krios Technologies Private Limited</td>\n",
       "      <td>0.00</td>\n",
       "      <td>540900</td>\n",
       "      <td>NEWGEN</td>\n",
       "      <td>1074.0</td>\n",
       "      <td>1.507000e+11</td>\n",
       "      <td>1.403166e+08</td>\n",
       "      <td>Jun 2024</td>\n",
       "      <td>01-06-2024</td>\n",
       "      <td>NaN</td>\n",
       "    </tr>\n",
       "    <tr>\n",
       "      <th>258</th>\n",
       "      <td>Jnanaadri Technovations Private Limited</td>\n",
       "      <td>0.00</td>\n",
       "      <td>540900</td>\n",
       "      <td>NEWGEN</td>\n",
       "      <td>1074.0</td>\n",
       "      <td>1.507000e+11</td>\n",
       "      <td>1.403166e+08</td>\n",
       "      <td>Jun 2024</td>\n",
       "      <td>01-06-2024</td>\n",
       "      <td>NaN</td>\n",
       "    </tr>\n",
       "    <tr>\n",
       "      <th>259</th>\n",
       "      <td>Sosaley Technologies Private Limited</td>\n",
       "      <td>0.00</td>\n",
       "      <td>540900</td>\n",
       "      <td>NEWGEN</td>\n",
       "      <td>1074.0</td>\n",
       "      <td>1.507000e+11</td>\n",
       "      <td>1.403166e+08</td>\n",
       "      <td>Jun 2024</td>\n",
       "      <td>01-06-2024</td>\n",
       "      <td>NaN</td>\n",
       "    </tr>\n",
       "    <tr>\n",
       "      <th>260</th>\n",
       "      <td>Jnanaadri Innovations Llp</td>\n",
       "      <td>0.00</td>\n",
       "      <td>540900</td>\n",
       "      <td>NEWGEN</td>\n",
       "      <td>1074.0</td>\n",
       "      <td>1.507000e+11</td>\n",
       "      <td>1.403166e+08</td>\n",
       "      <td>Jun 2024</td>\n",
       "      <td>01-06-2024</td>\n",
       "      <td>NaN</td>\n",
       "    </tr>\n",
       "  </tbody>\n",
       "</table>\n",
       "<p>261 rows × 10 columns</p>\n",
       "</div>"
      ],
      "text/plain": [
       "                                    Promoter  Share  BSE Code NSE Code  \\\n",
       "0                              Diwakar Nigam  22.41    540900   NEWGEN   \n",
       "1                            T S Varadarajan  21.46    540900   NEWGEN   \n",
       "2                        Priyadarshini Nigam   9.39    540900   NEWGEN   \n",
       "3                           Usha Varadarajan   1.90    540900   NEWGEN   \n",
       "4                              Ragini Goorha   0.00    540900   NEWGEN   \n",
       "..                                       ...    ...       ...      ...   \n",
       "256                             Sudha Sairaj   0.00    540900   NEWGEN   \n",
       "257       Krios Technologies Private Limited   0.00    540900   NEWGEN   \n",
       "258  Jnanaadri Technovations Private Limited   0.00    540900   NEWGEN   \n",
       "259     Sosaley Technologies Private Limited   0.00    540900   NEWGEN   \n",
       "260                Jnanaadri Innovations Llp   0.00    540900   NEWGEN   \n",
       "\n",
       "      Price          MCap   TotalShares CaptureDate        Date  Share_Cha0nge  \n",
       "0    1074.0  1.507000e+11  1.403166e+08    Sep 2021  01-09-2021            NaN  \n",
       "1    1074.0  1.507000e+11  1.403166e+08    Sep 2021  01-09-2021            NaN  \n",
       "2    1074.0  1.507000e+11  1.403166e+08    Sep 2021  01-09-2021            NaN  \n",
       "3    1074.0  1.507000e+11  1.403166e+08    Sep 2021  01-09-2021            NaN  \n",
       "4    1074.0  1.507000e+11  1.403166e+08    Sep 2021  01-09-2021            NaN  \n",
       "..      ...           ...           ...         ...         ...            ...  \n",
       "256  1074.0  1.507000e+11  1.403166e+08    Jun 2024  01-06-2024            NaN  \n",
       "257  1074.0  1.507000e+11  1.403166e+08    Jun 2024  01-06-2024            NaN  \n",
       "258  1074.0  1.507000e+11  1.403166e+08    Jun 2024  01-06-2024            NaN  \n",
       "259  1074.0  1.507000e+11  1.403166e+08    Jun 2024  01-06-2024            NaN  \n",
       "260  1074.0  1.507000e+11  1.403166e+08    Jun 2024  01-06-2024            NaN  \n",
       "\n",
       "[261 rows x 10 columns]"
      ]
     },
     "execution_count": 7,
     "metadata": {},
     "output_type": "execute_result"
    }
   ],
   "source": [
    "a"
   ]
  },
  {
   "cell_type": "code",
   "execution_count": 34,
   "metadata": {},
   "outputs": [],
   "source": [
    "a =du[du[\"Promoter\"]==\"T S Varadarajan\"]"
   ]
  },
  {
   "cell_type": "code",
   "execution_count": 35,
   "metadata": {},
   "outputs": [
    {
     "data": {
      "text/html": [
       "<div>\n",
       "<style scoped>\n",
       "    .dataframe tbody tr th:only-of-type {\n",
       "        vertical-align: middle;\n",
       "    }\n",
       "\n",
       "    .dataframe tbody tr th {\n",
       "        vertical-align: top;\n",
       "    }\n",
       "\n",
       "    .dataframe thead th {\n",
       "        text-align: right;\n",
       "    }\n",
       "</style>\n",
       "<table border=\"1\" class=\"dataframe\">\n",
       "  <thead>\n",
       "    <tr style=\"text-align: right;\">\n",
       "      <th></th>\n",
       "      <th></th>\n",
       "      <th>Promoter</th>\n",
       "      <th>Share</th>\n",
       "      <th>BSE Code</th>\n",
       "      <th>NSE Code</th>\n",
       "      <th>Price</th>\n",
       "      <th>MCap</th>\n",
       "      <th>TotalShares</th>\n",
       "      <th>CaptureDate</th>\n",
       "      <th>Date</th>\n",
       "      <th>Share_Cha0nge</th>\n",
       "      <th>ch</th>\n",
       "    </tr>\n",
       "    <tr>\n",
       "      <th>Promoter</th>\n",
       "      <th></th>\n",
       "      <th></th>\n",
       "      <th></th>\n",
       "      <th></th>\n",
       "      <th></th>\n",
       "      <th></th>\n",
       "      <th></th>\n",
       "      <th></th>\n",
       "      <th></th>\n",
       "      <th></th>\n",
       "      <th></th>\n",
       "      <th></th>\n",
       "    </tr>\n",
       "  </thead>\n",
       "  <tbody>\n",
       "    <tr>\n",
       "      <th rowspan=\"12\" valign=\"top\">T S Varadarajan</th>\n",
       "      <th>1</th>\n",
       "      <td>T S Varadarajan</td>\n",
       "      <td>21.46</td>\n",
       "      <td>540900</td>\n",
       "      <td>NEWGEN</td>\n",
       "      <td>1074.0</td>\n",
       "      <td>1.507000e+11</td>\n",
       "      <td>1.403166e+08</td>\n",
       "      <td>Sep 2021</td>\n",
       "      <td>01-09-2021</td>\n",
       "      <td>NaN</td>\n",
       "      <td>EQUAL</td>\n",
       "    </tr>\n",
       "    <tr>\n",
       "      <th>22</th>\n",
       "      <td>T S Varadarajan</td>\n",
       "      <td>21.46</td>\n",
       "      <td>540900</td>\n",
       "      <td>NEWGEN</td>\n",
       "      <td>1074.0</td>\n",
       "      <td>1.507000e+11</td>\n",
       "      <td>1.403166e+08</td>\n",
       "      <td>Dec 2021</td>\n",
       "      <td>01-12-2021</td>\n",
       "      <td>0.000000</td>\n",
       "      <td>EQUAL</td>\n",
       "    </tr>\n",
       "    <tr>\n",
       "      <th>44</th>\n",
       "      <td>T S Varadarajan</td>\n",
       "      <td>21.46</td>\n",
       "      <td>540900</td>\n",
       "      <td>NEWGEN</td>\n",
       "      <td>1074.0</td>\n",
       "      <td>1.507000e+11</td>\n",
       "      <td>1.403166e+08</td>\n",
       "      <td>Mar 2022</td>\n",
       "      <td>01-03-2022</td>\n",
       "      <td>0.000000</td>\n",
       "      <td>EQUAL</td>\n",
       "    </tr>\n",
       "    <tr>\n",
       "      <th>66</th>\n",
       "      <td>T S Varadarajan</td>\n",
       "      <td>21.46</td>\n",
       "      <td>540900</td>\n",
       "      <td>NEWGEN</td>\n",
       "      <td>1074.0</td>\n",
       "      <td>1.507000e+11</td>\n",
       "      <td>1.403166e+08</td>\n",
       "      <td>Jun 2022</td>\n",
       "      <td>01-06-2022</td>\n",
       "      <td>0.000000</td>\n",
       "      <td>EQUAL</td>\n",
       "    </tr>\n",
       "    <tr>\n",
       "      <th>88</th>\n",
       "      <td>T S Varadarajan</td>\n",
       "      <td>21.46</td>\n",
       "      <td>540900</td>\n",
       "      <td>NEWGEN</td>\n",
       "      <td>1074.0</td>\n",
       "      <td>1.507000e+11</td>\n",
       "      <td>1.403166e+08</td>\n",
       "      <td>Sep 2022</td>\n",
       "      <td>01-09-2022</td>\n",
       "      <td>0.000000</td>\n",
       "      <td>EQUAL</td>\n",
       "    </tr>\n",
       "    <tr>\n",
       "      <th>110</th>\n",
       "      <td>T S Varadarajan</td>\n",
       "      <td>21.46</td>\n",
       "      <td>540900</td>\n",
       "      <td>NEWGEN</td>\n",
       "      <td>1074.0</td>\n",
       "      <td>1.507000e+11</td>\n",
       "      <td>1.403166e+08</td>\n",
       "      <td>Dec 2022</td>\n",
       "      <td>01-12-2022</td>\n",
       "      <td>0.000000</td>\n",
       "      <td>EQUAL</td>\n",
       "    </tr>\n",
       "    <tr>\n",
       "      <th>132</th>\n",
       "      <td>T S Varadarajan</td>\n",
       "      <td>21.46</td>\n",
       "      <td>540900</td>\n",
       "      <td>NEWGEN</td>\n",
       "      <td>1074.0</td>\n",
       "      <td>1.507000e+11</td>\n",
       "      <td>1.403166e+08</td>\n",
       "      <td>Mar 2023</td>\n",
       "      <td>01-03-2023</td>\n",
       "      <td>0.000000</td>\n",
       "      <td>EQUAL</td>\n",
       "    </tr>\n",
       "    <tr>\n",
       "      <th>154</th>\n",
       "      <td>T S Varadarajan</td>\n",
       "      <td>21.46</td>\n",
       "      <td>540900</td>\n",
       "      <td>NEWGEN</td>\n",
       "      <td>1074.0</td>\n",
       "      <td>1.507000e+11</td>\n",
       "      <td>1.403166e+08</td>\n",
       "      <td>Jun 2023</td>\n",
       "      <td>01-06-2023</td>\n",
       "      <td>0.000000</td>\n",
       "      <td>EQUAL</td>\n",
       "    </tr>\n",
       "    <tr>\n",
       "      <th>176</th>\n",
       "      <td>T S Varadarajan</td>\n",
       "      <td>21.46</td>\n",
       "      <td>540900</td>\n",
       "      <td>NEWGEN</td>\n",
       "      <td>1074.0</td>\n",
       "      <td>1.507000e+11</td>\n",
       "      <td>1.403166e+08</td>\n",
       "      <td>Sep 2023</td>\n",
       "      <td>01-09-2023</td>\n",
       "      <td>0.000000</td>\n",
       "      <td>EQUAL</td>\n",
       "    </tr>\n",
       "    <tr>\n",
       "      <th>198</th>\n",
       "      <td>T S Varadarajan</td>\n",
       "      <td>21.42</td>\n",
       "      <td>540900</td>\n",
       "      <td>NEWGEN</td>\n",
       "      <td>1074.0</td>\n",
       "      <td>1.507000e+11</td>\n",
       "      <td>1.403166e+08</td>\n",
       "      <td>Dec 2023</td>\n",
       "      <td>01-12-2023</td>\n",
       "      <td>-0.186393</td>\n",
       "      <td>Down</td>\n",
       "    </tr>\n",
       "    <tr>\n",
       "      <th>220</th>\n",
       "      <td>T S Varadarajan</td>\n",
       "      <td>21.40</td>\n",
       "      <td>540900</td>\n",
       "      <td>NEWGEN</td>\n",
       "      <td>1074.0</td>\n",
       "      <td>1.507000e+11</td>\n",
       "      <td>1.403166e+08</td>\n",
       "      <td>Mar 2024</td>\n",
       "      <td>01-03-2024</td>\n",
       "      <td>-0.093371</td>\n",
       "      <td>Down</td>\n",
       "    </tr>\n",
       "    <tr>\n",
       "      <th>241</th>\n",
       "      <td>T S Varadarajan</td>\n",
       "      <td>21.40</td>\n",
       "      <td>540900</td>\n",
       "      <td>NEWGEN</td>\n",
       "      <td>1074.0</td>\n",
       "      <td>1.507000e+11</td>\n",
       "      <td>1.403166e+08</td>\n",
       "      <td>Jun 2024</td>\n",
       "      <td>01-06-2024</td>\n",
       "      <td>0.000000</td>\n",
       "      <td>EQUAL</td>\n",
       "    </tr>\n",
       "  </tbody>\n",
       "</table>\n",
       "</div>"
      ],
      "text/plain": [
       "                            Promoter  Share  BSE Code NSE Code   Price  \\\n",
       "Promoter                                                                 \n",
       "T S Varadarajan 1    T S Varadarajan  21.46    540900   NEWGEN  1074.0   \n",
       "                22   T S Varadarajan  21.46    540900   NEWGEN  1074.0   \n",
       "                44   T S Varadarajan  21.46    540900   NEWGEN  1074.0   \n",
       "                66   T S Varadarajan  21.46    540900   NEWGEN  1074.0   \n",
       "                88   T S Varadarajan  21.46    540900   NEWGEN  1074.0   \n",
       "                110  T S Varadarajan  21.46    540900   NEWGEN  1074.0   \n",
       "                132  T S Varadarajan  21.46    540900   NEWGEN  1074.0   \n",
       "                154  T S Varadarajan  21.46    540900   NEWGEN  1074.0   \n",
       "                176  T S Varadarajan  21.46    540900   NEWGEN  1074.0   \n",
       "                198  T S Varadarajan  21.42    540900   NEWGEN  1074.0   \n",
       "                220  T S Varadarajan  21.40    540900   NEWGEN  1074.0   \n",
       "                241  T S Varadarajan  21.40    540900   NEWGEN  1074.0   \n",
       "\n",
       "                             MCap   TotalShares CaptureDate        Date  \\\n",
       "Promoter                                                                  \n",
       "T S Varadarajan 1    1.507000e+11  1.403166e+08    Sep 2021  01-09-2021   \n",
       "                22   1.507000e+11  1.403166e+08    Dec 2021  01-12-2021   \n",
       "                44   1.507000e+11  1.403166e+08    Mar 2022  01-03-2022   \n",
       "                66   1.507000e+11  1.403166e+08    Jun 2022  01-06-2022   \n",
       "                88   1.507000e+11  1.403166e+08    Sep 2022  01-09-2022   \n",
       "                110  1.507000e+11  1.403166e+08    Dec 2022  01-12-2022   \n",
       "                132  1.507000e+11  1.403166e+08    Mar 2023  01-03-2023   \n",
       "                154  1.507000e+11  1.403166e+08    Jun 2023  01-06-2023   \n",
       "                176  1.507000e+11  1.403166e+08    Sep 2023  01-09-2023   \n",
       "                198  1.507000e+11  1.403166e+08    Dec 2023  01-12-2023   \n",
       "                220  1.507000e+11  1.403166e+08    Mar 2024  01-03-2024   \n",
       "                241  1.507000e+11  1.403166e+08    Jun 2024  01-06-2024   \n",
       "\n",
       "                     Share_Cha0nge     ch  \n",
       "Promoter                                   \n",
       "T S Varadarajan 1              NaN  EQUAL  \n",
       "                22        0.000000  EQUAL  \n",
       "                44        0.000000  EQUAL  \n",
       "                66        0.000000  EQUAL  \n",
       "                88        0.000000  EQUAL  \n",
       "                110       0.000000  EQUAL  \n",
       "                132       0.000000  EQUAL  \n",
       "                154       0.000000  EQUAL  \n",
       "                176       0.000000  EQUAL  \n",
       "                198      -0.186393   Down  \n",
       "                220      -0.093371   Down  \n",
       "                241       0.000000  EQUAL  "
      ]
     },
     "execution_count": 35,
     "metadata": {},
     "output_type": "execute_result"
    }
   ],
   "source": [
    "a"
   ]
  },
  {
   "cell_type": "code",
   "execution_count": 20,
   "metadata": {},
   "outputs": [
    {
     "ename": "KeyError",
     "evalue": "'Share'",
     "output_type": "error",
     "traceback": [
      "\u001b[0;31m---------------------------------------------------------------------------\u001b[0m",
      "\u001b[0;31mKeyError\u001b[0m                                  Traceback (most recent call last)",
      "File \u001b[0;32m~/.local/lib/python3.10/site-packages/pandas/core/indexes/base.py:3805\u001b[0m, in \u001b[0;36mIndex.get_loc\u001b[0;34m(self, key)\u001b[0m\n\u001b[1;32m   3804\u001b[0m \u001b[38;5;28;01mtry\u001b[39;00m:\n\u001b[0;32m-> 3805\u001b[0m     \u001b[38;5;28;01mreturn\u001b[39;00m \u001b[38;5;28;43mself\u001b[39;49m\u001b[38;5;241;43m.\u001b[39;49m\u001b[43m_engine\u001b[49m\u001b[38;5;241;43m.\u001b[39;49m\u001b[43mget_loc\u001b[49m\u001b[43m(\u001b[49m\u001b[43mcasted_key\u001b[49m\u001b[43m)\u001b[49m\n\u001b[1;32m   3806\u001b[0m \u001b[38;5;28;01mexcept\u001b[39;00m \u001b[38;5;167;01mKeyError\u001b[39;00m \u001b[38;5;28;01mas\u001b[39;00m err:\n",
      "File \u001b[0;32mindex.pyx:167\u001b[0m, in \u001b[0;36mpandas._libs.index.IndexEngine.get_loc\u001b[0;34m()\u001b[0m\n",
      "File \u001b[0;32mindex.pyx:175\u001b[0m, in \u001b[0;36mpandas._libs.index.IndexEngine.get_loc\u001b[0;34m()\u001b[0m\n",
      "File \u001b[0;32mpandas/_libs/index_class_helper.pxi:70\u001b[0m, in \u001b[0;36mpandas._libs.index.Int64Engine._check_type\u001b[0;34m()\u001b[0m\n",
      "\u001b[0;31mKeyError\u001b[0m: 'Share'",
      "\nThe above exception was the direct cause of the following exception:\n",
      "\u001b[0;31mKeyError\u001b[0m                                  Traceback (most recent call last)",
      "Cell \u001b[0;32mIn[20], line 10\u001b[0m\n\u001b[1;32m      7\u001b[0m \u001b[38;5;28;01mdef\u001b[39;00m \u001b[38;5;21mcompare_shares\u001b[39m(group):\n\u001b[1;32m      8\u001b[0m     \u001b[38;5;28;01mreturn\u001b[39;00m pd\u001b[38;5;241m.\u001b[39mSeries([\u001b[38;5;124m'\u001b[39m\u001b[38;5;124m'\u001b[39m] \u001b[38;5;241m+\u001b[39m [\u001b[38;5;124m'\u001b[39m\u001b[38;5;124mUp\u001b[39m\u001b[38;5;124m'\u001b[39m \u001b[38;5;28;01mif\u001b[39;00m x \u001b[38;5;241m>\u001b[39m y \u001b[38;5;28;01melse\u001b[39;00m \u001b[38;5;124m'\u001b[39m\u001b[38;5;124mDown\u001b[39m\u001b[38;5;124m'\u001b[39m \u001b[38;5;28;01mif\u001b[39;00m x \u001b[38;5;241m<\u001b[39m y \u001b[38;5;28;01melse\u001b[39;00m \u001b[38;5;124m'\u001b[39m\u001b[38;5;124mEqual\u001b[39m\u001b[38;5;124m'\u001b[39m \u001b[38;5;28;01mfor\u001b[39;00m x, y \u001b[38;5;129;01min\u001b[39;00m \u001b[38;5;28mzip\u001b[39m(group[\u001b[38;5;124m'\u001b[39m\u001b[38;5;124mShare\u001b[39m\u001b[38;5;124m'\u001b[39m], group[\u001b[38;5;124m'\u001b[39m\u001b[38;5;124mShare\u001b[39m\u001b[38;5;124m'\u001b[39m][\u001b[38;5;241m1\u001b[39m:])])\n\u001b[0;32m---> 10\u001b[0m du[\u001b[38;5;124m'\u001b[39m\u001b[38;5;124mch\u001b[39m\u001b[38;5;124m'\u001b[39m] \u001b[38;5;241m=\u001b[39m \u001b[43mdu\u001b[49m\u001b[38;5;241;43m.\u001b[39;49m\u001b[43mgroupby\u001b[49m\u001b[43m(\u001b[49m\u001b[38;5;124;43m'\u001b[39;49m\u001b[38;5;124;43mPromoter\u001b[39;49m\u001b[38;5;124;43m'\u001b[39;49m\u001b[43m)\u001b[49m\u001b[38;5;241;43m.\u001b[39;49m\u001b[43mtransform\u001b[49m\u001b[43m(\u001b[49m\u001b[43mcompare_shares\u001b[49m\u001b[43m)\u001b[49m\n",
      "File \u001b[0;32m~/.local/lib/python3.10/site-packages/pandas/core/groupby/generic.py:1815\u001b[0m, in \u001b[0;36mDataFrameGroupBy.transform\u001b[0;34m(self, func, engine, engine_kwargs, *args, **kwargs)\u001b[0m\n\u001b[1;32m   1812\u001b[0m \u001b[38;5;129m@Substitution\u001b[39m(klass\u001b[38;5;241m=\u001b[39m\u001b[38;5;124m\"\u001b[39m\u001b[38;5;124mDataFrame\u001b[39m\u001b[38;5;124m\"\u001b[39m, example\u001b[38;5;241m=\u001b[39m__examples_dataframe_doc)\n\u001b[1;32m   1813\u001b[0m \u001b[38;5;129m@Appender\u001b[39m(_transform_template)\n\u001b[1;32m   1814\u001b[0m \u001b[38;5;28;01mdef\u001b[39;00m \u001b[38;5;21mtransform\u001b[39m(\u001b[38;5;28mself\u001b[39m, func, \u001b[38;5;241m*\u001b[39margs, engine\u001b[38;5;241m=\u001b[39m\u001b[38;5;28;01mNone\u001b[39;00m, engine_kwargs\u001b[38;5;241m=\u001b[39m\u001b[38;5;28;01mNone\u001b[39;00m, \u001b[38;5;241m*\u001b[39m\u001b[38;5;241m*\u001b[39mkwargs):\n\u001b[0;32m-> 1815\u001b[0m     \u001b[38;5;28;01mreturn\u001b[39;00m \u001b[38;5;28;43mself\u001b[39;49m\u001b[38;5;241;43m.\u001b[39;49m\u001b[43m_transform\u001b[49m\u001b[43m(\u001b[49m\n\u001b[1;32m   1816\u001b[0m \u001b[43m        \u001b[49m\u001b[43mfunc\u001b[49m\u001b[43m,\u001b[49m\u001b[43m \u001b[49m\u001b[38;5;241;43m*\u001b[39;49m\u001b[43margs\u001b[49m\u001b[43m,\u001b[49m\u001b[43m \u001b[49m\u001b[43mengine\u001b[49m\u001b[38;5;241;43m=\u001b[39;49m\u001b[43mengine\u001b[49m\u001b[43m,\u001b[49m\u001b[43m \u001b[49m\u001b[43mengine_kwargs\u001b[49m\u001b[38;5;241;43m=\u001b[39;49m\u001b[43mengine_kwargs\u001b[49m\u001b[43m,\u001b[49m\u001b[43m \u001b[49m\u001b[38;5;241;43m*\u001b[39;49m\u001b[38;5;241;43m*\u001b[39;49m\u001b[43mkwargs\u001b[49m\n\u001b[1;32m   1817\u001b[0m \u001b[43m    \u001b[49m\u001b[43m)\u001b[49m\n",
      "File \u001b[0;32m~/.local/lib/python3.10/site-packages/pandas/core/groupby/groupby.py:2021\u001b[0m, in \u001b[0;36mGroupBy._transform\u001b[0;34m(self, func, engine, engine_kwargs, *args, **kwargs)\u001b[0m\n\u001b[1;32m   2018\u001b[0m     warn_alias_replacement(\u001b[38;5;28mself\u001b[39m, orig_func, func)\n\u001b[1;32m   2020\u001b[0m \u001b[38;5;28;01mif\u001b[39;00m \u001b[38;5;129;01mnot\u001b[39;00m \u001b[38;5;28misinstance\u001b[39m(func, \u001b[38;5;28mstr\u001b[39m):\n\u001b[0;32m-> 2021\u001b[0m     \u001b[38;5;28;01mreturn\u001b[39;00m \u001b[38;5;28;43mself\u001b[39;49m\u001b[38;5;241;43m.\u001b[39;49m\u001b[43m_transform_general\u001b[49m\u001b[43m(\u001b[49m\u001b[43mfunc\u001b[49m\u001b[43m,\u001b[49m\u001b[43m \u001b[49m\u001b[43mengine\u001b[49m\u001b[43m,\u001b[49m\u001b[43m \u001b[49m\u001b[43mengine_kwargs\u001b[49m\u001b[43m,\u001b[49m\u001b[43m \u001b[49m\u001b[38;5;241;43m*\u001b[39;49m\u001b[43margs\u001b[49m\u001b[43m,\u001b[49m\u001b[43m \u001b[49m\u001b[38;5;241;43m*\u001b[39;49m\u001b[38;5;241;43m*\u001b[39;49m\u001b[43mkwargs\u001b[49m\u001b[43m)\u001b[49m\n\u001b[1;32m   2023\u001b[0m \u001b[38;5;28;01melif\u001b[39;00m func \u001b[38;5;129;01mnot\u001b[39;00m \u001b[38;5;129;01min\u001b[39;00m base\u001b[38;5;241m.\u001b[39mtransform_kernel_allowlist:\n\u001b[1;32m   2024\u001b[0m     msg \u001b[38;5;241m=\u001b[39m \u001b[38;5;124mf\u001b[39m\u001b[38;5;124m\"\u001b[39m\u001b[38;5;124m'\u001b[39m\u001b[38;5;132;01m{\u001b[39;00mfunc\u001b[38;5;132;01m}\u001b[39;00m\u001b[38;5;124m'\u001b[39m\u001b[38;5;124m is not a valid function name for transform(name)\u001b[39m\u001b[38;5;124m\"\u001b[39m\n",
      "File \u001b[0;32m~/.local/lib/python3.10/site-packages/pandas/core/groupby/generic.py:1732\u001b[0m, in \u001b[0;36mDataFrameGroupBy._transform_general\u001b[0;34m(self, func, engine, engine_kwargs, *args, **kwargs)\u001b[0m\n\u001b[1;32m   1730\u001b[0m \u001b[38;5;28mobject\u001b[39m\u001b[38;5;241m.\u001b[39m\u001b[38;5;21m__setattr__\u001b[39m(group, \u001b[38;5;124m\"\u001b[39m\u001b[38;5;124mname\u001b[39m\u001b[38;5;124m\"\u001b[39m, name)\n\u001b[1;32m   1731\u001b[0m \u001b[38;5;28;01mtry\u001b[39;00m:\n\u001b[0;32m-> 1732\u001b[0m     path, res \u001b[38;5;241m=\u001b[39m \u001b[38;5;28;43mself\u001b[39;49m\u001b[38;5;241;43m.\u001b[39;49m\u001b[43m_choose_path\u001b[49m\u001b[43m(\u001b[49m\u001b[43mfast_path\u001b[49m\u001b[43m,\u001b[49m\u001b[43m \u001b[49m\u001b[43mslow_path\u001b[49m\u001b[43m,\u001b[49m\u001b[43m \u001b[49m\u001b[43mgroup\u001b[49m\u001b[43m)\u001b[49m\n\u001b[1;32m   1733\u001b[0m \u001b[38;5;28;01mexcept\u001b[39;00m \u001b[38;5;167;01mValueError\u001b[39;00m \u001b[38;5;28;01mas\u001b[39;00m err:\n\u001b[1;32m   1734\u001b[0m     \u001b[38;5;66;03m# e.g. test_transform_with_non_scalar_group\u001b[39;00m\n\u001b[1;32m   1735\u001b[0m     msg \u001b[38;5;241m=\u001b[39m \u001b[38;5;124m\"\u001b[39m\u001b[38;5;124mtransform must return a scalar value for each group\u001b[39m\u001b[38;5;124m\"\u001b[39m\n",
      "File \u001b[0;32m~/.local/lib/python3.10/site-packages/pandas/core/groupby/generic.py:1834\u001b[0m, in \u001b[0;36mDataFrameGroupBy._choose_path\u001b[0;34m(self, fast_path, slow_path, group)\u001b[0m\n\u001b[1;32m   1832\u001b[0m \u001b[38;5;28;01mdef\u001b[39;00m \u001b[38;5;21m_choose_path\u001b[39m(\u001b[38;5;28mself\u001b[39m, fast_path: Callable, slow_path: Callable, group: DataFrame):\n\u001b[1;32m   1833\u001b[0m     path \u001b[38;5;241m=\u001b[39m slow_path\n\u001b[0;32m-> 1834\u001b[0m     res \u001b[38;5;241m=\u001b[39m \u001b[43mslow_path\u001b[49m\u001b[43m(\u001b[49m\u001b[43mgroup\u001b[49m\u001b[43m)\u001b[49m\n\u001b[1;32m   1836\u001b[0m     \u001b[38;5;28;01mif\u001b[39;00m \u001b[38;5;28mself\u001b[39m\u001b[38;5;241m.\u001b[39mngroups \u001b[38;5;241m==\u001b[39m \u001b[38;5;241m1\u001b[39m:\n\u001b[1;32m   1837\u001b[0m         \u001b[38;5;66;03m# no need to evaluate multiple paths when only\u001b[39;00m\n\u001b[1;32m   1838\u001b[0m         \u001b[38;5;66;03m# a single group exists\u001b[39;00m\n\u001b[1;32m   1839\u001b[0m         \u001b[38;5;28;01mreturn\u001b[39;00m path, res\n",
      "File \u001b[0;32m~/.local/lib/python3.10/site-packages/pandas/core/groupby/generic.py:1827\u001b[0m, in \u001b[0;36mDataFrameGroupBy._define_paths.<locals>.<lambda>\u001b[0;34m(group)\u001b[0m\n\u001b[1;32m   1825\u001b[0m \u001b[38;5;28;01melse\u001b[39;00m:\n\u001b[1;32m   1826\u001b[0m     fast_path \u001b[38;5;241m=\u001b[39m \u001b[38;5;28;01mlambda\u001b[39;00m group: func(group, \u001b[38;5;241m*\u001b[39margs, \u001b[38;5;241m*\u001b[39m\u001b[38;5;241m*\u001b[39mkwargs)\n\u001b[0;32m-> 1827\u001b[0m     slow_path \u001b[38;5;241m=\u001b[39m \u001b[38;5;28;01mlambda\u001b[39;00m group: \u001b[43mgroup\u001b[49m\u001b[38;5;241;43m.\u001b[39;49m\u001b[43mapply\u001b[49m\u001b[43m(\u001b[49m\n\u001b[1;32m   1828\u001b[0m \u001b[43m        \u001b[49m\u001b[38;5;28;43;01mlambda\u001b[39;49;00m\u001b[43m \u001b[49m\u001b[43mx\u001b[49m\u001b[43m:\u001b[49m\u001b[43m \u001b[49m\u001b[43mfunc\u001b[49m\u001b[43m(\u001b[49m\u001b[43mx\u001b[49m\u001b[43m,\u001b[49m\u001b[43m \u001b[49m\u001b[38;5;241;43m*\u001b[39;49m\u001b[43margs\u001b[49m\u001b[43m,\u001b[49m\u001b[43m \u001b[49m\u001b[38;5;241;43m*\u001b[39;49m\u001b[38;5;241;43m*\u001b[39;49m\u001b[43mkwargs\u001b[49m\u001b[43m)\u001b[49m\u001b[43m,\u001b[49m\u001b[43m \u001b[49m\u001b[43maxis\u001b[49m\u001b[38;5;241;43m=\u001b[39;49m\u001b[38;5;28;43mself\u001b[39;49m\u001b[38;5;241;43m.\u001b[39;49m\u001b[43maxis\u001b[49m\n\u001b[1;32m   1829\u001b[0m \u001b[43m    \u001b[49m\u001b[43m)\u001b[49m\n\u001b[1;32m   1830\u001b[0m \u001b[38;5;28;01mreturn\u001b[39;00m fast_path, slow_path\n",
      "File \u001b[0;32m~/.local/lib/python3.10/site-packages/pandas/core/frame.py:10374\u001b[0m, in \u001b[0;36mDataFrame.apply\u001b[0;34m(self, func, axis, raw, result_type, args, by_row, engine, engine_kwargs, **kwargs)\u001b[0m\n\u001b[1;32m  10360\u001b[0m \u001b[38;5;28;01mfrom\u001b[39;00m \u001b[38;5;21;01mpandas\u001b[39;00m\u001b[38;5;21;01m.\u001b[39;00m\u001b[38;5;21;01mcore\u001b[39;00m\u001b[38;5;21;01m.\u001b[39;00m\u001b[38;5;21;01mapply\u001b[39;00m \u001b[38;5;28;01mimport\u001b[39;00m frame_apply\n\u001b[1;32m  10362\u001b[0m op \u001b[38;5;241m=\u001b[39m frame_apply(\n\u001b[1;32m  10363\u001b[0m     \u001b[38;5;28mself\u001b[39m,\n\u001b[1;32m  10364\u001b[0m     func\u001b[38;5;241m=\u001b[39mfunc,\n\u001b[0;32m   (...)\u001b[0m\n\u001b[1;32m  10372\u001b[0m     kwargs\u001b[38;5;241m=\u001b[39mkwargs,\n\u001b[1;32m  10373\u001b[0m )\n\u001b[0;32m> 10374\u001b[0m \u001b[38;5;28;01mreturn\u001b[39;00m \u001b[43mop\u001b[49m\u001b[38;5;241;43m.\u001b[39;49m\u001b[43mapply\u001b[49m\u001b[43m(\u001b[49m\u001b[43m)\u001b[49m\u001b[38;5;241m.\u001b[39m__finalize__(\u001b[38;5;28mself\u001b[39m, method\u001b[38;5;241m=\u001b[39m\u001b[38;5;124m\"\u001b[39m\u001b[38;5;124mapply\u001b[39m\u001b[38;5;124m\"\u001b[39m)\n",
      "File \u001b[0;32m~/.local/lib/python3.10/site-packages/pandas/core/apply.py:916\u001b[0m, in \u001b[0;36mFrameApply.apply\u001b[0;34m(self)\u001b[0m\n\u001b[1;32m    913\u001b[0m \u001b[38;5;28;01melif\u001b[39;00m \u001b[38;5;28mself\u001b[39m\u001b[38;5;241m.\u001b[39mraw:\n\u001b[1;32m    914\u001b[0m     \u001b[38;5;28;01mreturn\u001b[39;00m \u001b[38;5;28mself\u001b[39m\u001b[38;5;241m.\u001b[39mapply_raw(engine\u001b[38;5;241m=\u001b[39m\u001b[38;5;28mself\u001b[39m\u001b[38;5;241m.\u001b[39mengine, engine_kwargs\u001b[38;5;241m=\u001b[39m\u001b[38;5;28mself\u001b[39m\u001b[38;5;241m.\u001b[39mengine_kwargs)\n\u001b[0;32m--> 916\u001b[0m \u001b[38;5;28;01mreturn\u001b[39;00m \u001b[38;5;28;43mself\u001b[39;49m\u001b[38;5;241;43m.\u001b[39;49m\u001b[43mapply_standard\u001b[49m\u001b[43m(\u001b[49m\u001b[43m)\u001b[49m\n",
      "File \u001b[0;32m~/.local/lib/python3.10/site-packages/pandas/core/apply.py:1063\u001b[0m, in \u001b[0;36mFrameApply.apply_standard\u001b[0;34m(self)\u001b[0m\n\u001b[1;32m   1061\u001b[0m \u001b[38;5;28;01mdef\u001b[39;00m \u001b[38;5;21mapply_standard\u001b[39m(\u001b[38;5;28mself\u001b[39m):\n\u001b[1;32m   1062\u001b[0m     \u001b[38;5;28;01mif\u001b[39;00m \u001b[38;5;28mself\u001b[39m\u001b[38;5;241m.\u001b[39mengine \u001b[38;5;241m==\u001b[39m \u001b[38;5;124m\"\u001b[39m\u001b[38;5;124mpython\u001b[39m\u001b[38;5;124m\"\u001b[39m:\n\u001b[0;32m-> 1063\u001b[0m         results, res_index \u001b[38;5;241m=\u001b[39m \u001b[38;5;28;43mself\u001b[39;49m\u001b[38;5;241;43m.\u001b[39;49m\u001b[43mapply_series_generator\u001b[49m\u001b[43m(\u001b[49m\u001b[43m)\u001b[49m\n\u001b[1;32m   1064\u001b[0m     \u001b[38;5;28;01melse\u001b[39;00m:\n\u001b[1;32m   1065\u001b[0m         results, res_index \u001b[38;5;241m=\u001b[39m \u001b[38;5;28mself\u001b[39m\u001b[38;5;241m.\u001b[39mapply_series_numba()\n",
      "File \u001b[0;32m~/.local/lib/python3.10/site-packages/pandas/core/apply.py:1081\u001b[0m, in \u001b[0;36mFrameApply.apply_series_generator\u001b[0;34m(self)\u001b[0m\n\u001b[1;32m   1078\u001b[0m \u001b[38;5;28;01mwith\u001b[39;00m option_context(\u001b[38;5;124m\"\u001b[39m\u001b[38;5;124mmode.chained_assignment\u001b[39m\u001b[38;5;124m\"\u001b[39m, \u001b[38;5;28;01mNone\u001b[39;00m):\n\u001b[1;32m   1079\u001b[0m     \u001b[38;5;28;01mfor\u001b[39;00m i, v \u001b[38;5;129;01min\u001b[39;00m \u001b[38;5;28menumerate\u001b[39m(series_gen):\n\u001b[1;32m   1080\u001b[0m         \u001b[38;5;66;03m# ignore SettingWithCopy here in case the user mutates\u001b[39;00m\n\u001b[0;32m-> 1081\u001b[0m         results[i] \u001b[38;5;241m=\u001b[39m \u001b[38;5;28;43mself\u001b[39;49m\u001b[38;5;241;43m.\u001b[39;49m\u001b[43mfunc\u001b[49m\u001b[43m(\u001b[49m\u001b[43mv\u001b[49m\u001b[43m,\u001b[49m\u001b[43m \u001b[49m\u001b[38;5;241;43m*\u001b[39;49m\u001b[38;5;28;43mself\u001b[39;49m\u001b[38;5;241;43m.\u001b[39;49m\u001b[43margs\u001b[49m\u001b[43m,\u001b[49m\u001b[43m \u001b[49m\u001b[38;5;241;43m*\u001b[39;49m\u001b[38;5;241;43m*\u001b[39;49m\u001b[38;5;28;43mself\u001b[39;49m\u001b[38;5;241;43m.\u001b[39;49m\u001b[43mkwargs\u001b[49m\u001b[43m)\u001b[49m\n\u001b[1;32m   1082\u001b[0m         \u001b[38;5;28;01mif\u001b[39;00m \u001b[38;5;28misinstance\u001b[39m(results[i], ABCSeries):\n\u001b[1;32m   1083\u001b[0m             \u001b[38;5;66;03m# If we have a view on v, we need to make a copy because\u001b[39;00m\n\u001b[1;32m   1084\u001b[0m             \u001b[38;5;66;03m#  series_generator will swap out the underlying data\u001b[39;00m\n\u001b[1;32m   1085\u001b[0m             results[i] \u001b[38;5;241m=\u001b[39m results[i]\u001b[38;5;241m.\u001b[39mcopy(deep\u001b[38;5;241m=\u001b[39m\u001b[38;5;28;01mFalse\u001b[39;00m)\n",
      "File \u001b[0;32m~/.local/lib/python3.10/site-packages/pandas/core/groupby/generic.py:1828\u001b[0m, in \u001b[0;36mDataFrameGroupBy._define_paths.<locals>.<lambda>.<locals>.<lambda>\u001b[0;34m(x)\u001b[0m\n\u001b[1;32m   1825\u001b[0m \u001b[38;5;28;01melse\u001b[39;00m:\n\u001b[1;32m   1826\u001b[0m     fast_path \u001b[38;5;241m=\u001b[39m \u001b[38;5;28;01mlambda\u001b[39;00m group: func(group, \u001b[38;5;241m*\u001b[39margs, \u001b[38;5;241m*\u001b[39m\u001b[38;5;241m*\u001b[39mkwargs)\n\u001b[1;32m   1827\u001b[0m     slow_path \u001b[38;5;241m=\u001b[39m \u001b[38;5;28;01mlambda\u001b[39;00m group: group\u001b[38;5;241m.\u001b[39mapply(\n\u001b[0;32m-> 1828\u001b[0m         \u001b[38;5;28;01mlambda\u001b[39;00m x: \u001b[43mfunc\u001b[49m\u001b[43m(\u001b[49m\u001b[43mx\u001b[49m\u001b[43m,\u001b[49m\u001b[43m \u001b[49m\u001b[38;5;241;43m*\u001b[39;49m\u001b[43margs\u001b[49m\u001b[43m,\u001b[49m\u001b[43m \u001b[49m\u001b[38;5;241;43m*\u001b[39;49m\u001b[38;5;241;43m*\u001b[39;49m\u001b[43mkwargs\u001b[49m\u001b[43m)\u001b[49m, axis\u001b[38;5;241m=\u001b[39m\u001b[38;5;28mself\u001b[39m\u001b[38;5;241m.\u001b[39maxis\n\u001b[1;32m   1829\u001b[0m     )\n\u001b[1;32m   1830\u001b[0m \u001b[38;5;28;01mreturn\u001b[39;00m fast_path, slow_path\n",
      "Cell \u001b[0;32mIn[20], line 8\u001b[0m, in \u001b[0;36mcompare_shares\u001b[0;34m(group)\u001b[0m\n\u001b[1;32m      7\u001b[0m \u001b[38;5;28;01mdef\u001b[39;00m \u001b[38;5;21mcompare_shares\u001b[39m(group):\n\u001b[0;32m----> 8\u001b[0m     \u001b[38;5;28;01mreturn\u001b[39;00m pd\u001b[38;5;241m.\u001b[39mSeries([\u001b[38;5;124m'\u001b[39m\u001b[38;5;124m'\u001b[39m] \u001b[38;5;241m+\u001b[39m [\u001b[38;5;124m'\u001b[39m\u001b[38;5;124mUp\u001b[39m\u001b[38;5;124m'\u001b[39m \u001b[38;5;28;01mif\u001b[39;00m x \u001b[38;5;241m>\u001b[39m y \u001b[38;5;28;01melse\u001b[39;00m \u001b[38;5;124m'\u001b[39m\u001b[38;5;124mDown\u001b[39m\u001b[38;5;124m'\u001b[39m \u001b[38;5;28;01mif\u001b[39;00m x \u001b[38;5;241m<\u001b[39m y \u001b[38;5;28;01melse\u001b[39;00m \u001b[38;5;124m'\u001b[39m\u001b[38;5;124mEqual\u001b[39m\u001b[38;5;124m'\u001b[39m \u001b[38;5;28;01mfor\u001b[39;00m x, y \u001b[38;5;129;01min\u001b[39;00m \u001b[38;5;28mzip\u001b[39m(\u001b[43mgroup\u001b[49m\u001b[43m[\u001b[49m\u001b[38;5;124;43m'\u001b[39;49m\u001b[38;5;124;43mShare\u001b[39;49m\u001b[38;5;124;43m'\u001b[39;49m\u001b[43m]\u001b[49m, group[\u001b[38;5;124m'\u001b[39m\u001b[38;5;124mShare\u001b[39m\u001b[38;5;124m'\u001b[39m][\u001b[38;5;241m1\u001b[39m:])])\n",
      "File \u001b[0;32m~/.local/lib/python3.10/site-packages/pandas/core/series.py:1121\u001b[0m, in \u001b[0;36mSeries.__getitem__\u001b[0;34m(self, key)\u001b[0m\n\u001b[1;32m   1118\u001b[0m     \u001b[38;5;28;01mreturn\u001b[39;00m \u001b[38;5;28mself\u001b[39m\u001b[38;5;241m.\u001b[39m_values[key]\n\u001b[1;32m   1120\u001b[0m \u001b[38;5;28;01melif\u001b[39;00m key_is_scalar:\n\u001b[0;32m-> 1121\u001b[0m     \u001b[38;5;28;01mreturn\u001b[39;00m \u001b[38;5;28;43mself\u001b[39;49m\u001b[38;5;241;43m.\u001b[39;49m\u001b[43m_get_value\u001b[49m\u001b[43m(\u001b[49m\u001b[43mkey\u001b[49m\u001b[43m)\u001b[49m\n\u001b[1;32m   1123\u001b[0m \u001b[38;5;66;03m# Convert generator to list before going through hashable part\u001b[39;00m\n\u001b[1;32m   1124\u001b[0m \u001b[38;5;66;03m# (We will iterate through the generator there to check for slices)\u001b[39;00m\n\u001b[1;32m   1125\u001b[0m \u001b[38;5;28;01mif\u001b[39;00m is_iterator(key):\n",
      "File \u001b[0;32m~/.local/lib/python3.10/site-packages/pandas/core/series.py:1237\u001b[0m, in \u001b[0;36mSeries._get_value\u001b[0;34m(self, label, takeable)\u001b[0m\n\u001b[1;32m   1234\u001b[0m     \u001b[38;5;28;01mreturn\u001b[39;00m \u001b[38;5;28mself\u001b[39m\u001b[38;5;241m.\u001b[39m_values[label]\n\u001b[1;32m   1236\u001b[0m \u001b[38;5;66;03m# Similar to Index.get_value, but we do not fall back to positional\u001b[39;00m\n\u001b[0;32m-> 1237\u001b[0m loc \u001b[38;5;241m=\u001b[39m \u001b[38;5;28;43mself\u001b[39;49m\u001b[38;5;241;43m.\u001b[39;49m\u001b[43mindex\u001b[49m\u001b[38;5;241;43m.\u001b[39;49m\u001b[43mget_loc\u001b[49m\u001b[43m(\u001b[49m\u001b[43mlabel\u001b[49m\u001b[43m)\u001b[49m\n\u001b[1;32m   1239\u001b[0m \u001b[38;5;28;01mif\u001b[39;00m is_integer(loc):\n\u001b[1;32m   1240\u001b[0m     \u001b[38;5;28;01mreturn\u001b[39;00m \u001b[38;5;28mself\u001b[39m\u001b[38;5;241m.\u001b[39m_values[loc]\n",
      "File \u001b[0;32m~/.local/lib/python3.10/site-packages/pandas/core/indexes/base.py:3812\u001b[0m, in \u001b[0;36mIndex.get_loc\u001b[0;34m(self, key)\u001b[0m\n\u001b[1;32m   3807\u001b[0m     \u001b[38;5;28;01mif\u001b[39;00m \u001b[38;5;28misinstance\u001b[39m(casted_key, \u001b[38;5;28mslice\u001b[39m) \u001b[38;5;129;01mor\u001b[39;00m (\n\u001b[1;32m   3808\u001b[0m         \u001b[38;5;28misinstance\u001b[39m(casted_key, abc\u001b[38;5;241m.\u001b[39mIterable)\n\u001b[1;32m   3809\u001b[0m         \u001b[38;5;129;01mand\u001b[39;00m \u001b[38;5;28many\u001b[39m(\u001b[38;5;28misinstance\u001b[39m(x, \u001b[38;5;28mslice\u001b[39m) \u001b[38;5;28;01mfor\u001b[39;00m x \u001b[38;5;129;01min\u001b[39;00m casted_key)\n\u001b[1;32m   3810\u001b[0m     ):\n\u001b[1;32m   3811\u001b[0m         \u001b[38;5;28;01mraise\u001b[39;00m InvalidIndexError(key)\n\u001b[0;32m-> 3812\u001b[0m     \u001b[38;5;28;01mraise\u001b[39;00m \u001b[38;5;167;01mKeyError\u001b[39;00m(key) \u001b[38;5;28;01mfrom\u001b[39;00m \u001b[38;5;21;01merr\u001b[39;00m\n\u001b[1;32m   3813\u001b[0m \u001b[38;5;28;01mexcept\u001b[39;00m \u001b[38;5;167;01mTypeError\u001b[39;00m:\n\u001b[1;32m   3814\u001b[0m     \u001b[38;5;66;03m# If we have a listlike key, _check_indexing_error will raise\u001b[39;00m\n\u001b[1;32m   3815\u001b[0m     \u001b[38;5;66;03m#  InvalidIndexError. Otherwise we fall through and re-raise\u001b[39;00m\n\u001b[1;32m   3816\u001b[0m     \u001b[38;5;66;03m#  the TypeError.\u001b[39;00m\n\u001b[1;32m   3817\u001b[0m     \u001b[38;5;28mself\u001b[39m\u001b[38;5;241m.\u001b[39m_check_indexing_error(key)\n",
      "\u001b[0;31mKeyError\u001b[0m: 'Share'"
     ]
    }
   ],
   "source": [
    "import pandas as pd\n",
    "\n",
    "\n",
    "\n",
    "du['ch'] = ''  \n",
    "\n",
    "def compare_shares(group):\n",
    "    return pd.Series([''] + ['Up' if x > y else 'Down' if x < y else 'Equal' for x, y in zip(group['Share'], group['Share'][1:])])\n",
    "\n",
    "du['ch'] = du.groupby('Promoter').transform(compare_shares)\n"
   ]
  },
  {
   "cell_type": "code",
   "execution_count": 11,
   "metadata": {},
   "outputs": [
    {
     "data": {
      "text/html": [
       "<div>\n",
       "<style scoped>\n",
       "    .dataframe tbody tr th:only-of-type {\n",
       "        vertical-align: middle;\n",
       "    }\n",
       "\n",
       "    .dataframe tbody tr th {\n",
       "        vertical-align: top;\n",
       "    }\n",
       "\n",
       "    .dataframe thead th {\n",
       "        text-align: right;\n",
       "    }\n",
       "</style>\n",
       "<table border=\"1\" class=\"dataframe\">\n",
       "  <thead>\n",
       "    <tr style=\"text-align: right;\">\n",
       "      <th></th>\n",
       "      <th>Promoter</th>\n",
       "      <th>Share</th>\n",
       "      <th>BSE Code</th>\n",
       "      <th>NSE Code</th>\n",
       "      <th>Price</th>\n",
       "      <th>MCap</th>\n",
       "      <th>TotalShares</th>\n",
       "      <th>CaptureDate</th>\n",
       "      <th>Date</th>\n",
       "      <th>Share_Cha0nge</th>\n",
       "      <th>ch</th>\n",
       "    </tr>\n",
       "  </thead>\n",
       "  <tbody>\n",
       "    <tr>\n",
       "      <th>0</th>\n",
       "      <td>Diwakar Nigam</td>\n",
       "      <td>22.41</td>\n",
       "      <td>540900</td>\n",
       "      <td>NEWGEN</td>\n",
       "      <td>1074.0</td>\n",
       "      <td>1.507000e+11</td>\n",
       "      <td>1.403166e+08</td>\n",
       "      <td>Sep 2021</td>\n",
       "      <td>01-09-2021</td>\n",
       "      <td>NaN</td>\n",
       "      <td></td>\n",
       "    </tr>\n",
       "    <tr>\n",
       "      <th>1</th>\n",
       "      <td>T S Varadarajan</td>\n",
       "      <td>21.46</td>\n",
       "      <td>540900</td>\n",
       "      <td>NEWGEN</td>\n",
       "      <td>1074.0</td>\n",
       "      <td>1.507000e+11</td>\n",
       "      <td>1.403166e+08</td>\n",
       "      <td>Sep 2021</td>\n",
       "      <td>01-09-2021</td>\n",
       "      <td>NaN</td>\n",
       "      <td></td>\n",
       "    </tr>\n",
       "    <tr>\n",
       "      <th>2</th>\n",
       "      <td>Priyadarshini Nigam</td>\n",
       "      <td>9.39</td>\n",
       "      <td>540900</td>\n",
       "      <td>NEWGEN</td>\n",
       "      <td>1074.0</td>\n",
       "      <td>1.507000e+11</td>\n",
       "      <td>1.403166e+08</td>\n",
       "      <td>Sep 2021</td>\n",
       "      <td>01-09-2021</td>\n",
       "      <td>NaN</td>\n",
       "      <td></td>\n",
       "    </tr>\n",
       "    <tr>\n",
       "      <th>3</th>\n",
       "      <td>Usha Varadarajan</td>\n",
       "      <td>1.90</td>\n",
       "      <td>540900</td>\n",
       "      <td>NEWGEN</td>\n",
       "      <td>1074.0</td>\n",
       "      <td>1.507000e+11</td>\n",
       "      <td>1.403166e+08</td>\n",
       "      <td>Sep 2021</td>\n",
       "      <td>01-09-2021</td>\n",
       "      <td>NaN</td>\n",
       "      <td></td>\n",
       "    </tr>\n",
       "    <tr>\n",
       "      <th>4</th>\n",
       "      <td>Ragini Goorha</td>\n",
       "      <td>0.00</td>\n",
       "      <td>540900</td>\n",
       "      <td>NEWGEN</td>\n",
       "      <td>1074.0</td>\n",
       "      <td>1.507000e+11</td>\n",
       "      <td>1.403166e+08</td>\n",
       "      <td>Sep 2021</td>\n",
       "      <td>01-09-2021</td>\n",
       "      <td>NaN</td>\n",
       "      <td></td>\n",
       "    </tr>\n",
       "    <tr>\n",
       "      <th>...</th>\n",
       "      <td>...</td>\n",
       "      <td>...</td>\n",
       "      <td>...</td>\n",
       "      <td>...</td>\n",
       "      <td>...</td>\n",
       "      <td>...</td>\n",
       "      <td>...</td>\n",
       "      <td>...</td>\n",
       "      <td>...</td>\n",
       "      <td>...</td>\n",
       "      <td>...</td>\n",
       "    </tr>\n",
       "    <tr>\n",
       "      <th>481019</th>\n",
       "      <td>SBI General Insurance Company Limited</td>\n",
       "      <td>0.00</td>\n",
       "      <td>543066</td>\n",
       "      <td>SBICARD</td>\n",
       "      <td>717.0</td>\n",
       "      <td>6.815900e+11</td>\n",
       "      <td>9.506137e+08</td>\n",
       "      <td>Jun 2024</td>\n",
       "      <td>01-06-2024</td>\n",
       "      <td>NaN</td>\n",
       "      <td></td>\n",
       "    </tr>\n",
       "    <tr>\n",
       "      <th>481020</th>\n",
       "      <td>Icici Prudential MultiAsset Fund</td>\n",
       "      <td>5.37</td>\n",
       "      <td>543066</td>\n",
       "      <td>SBICARD</td>\n",
       "      <td>717.0</td>\n",
       "      <td>6.815900e+11</td>\n",
       "      <td>9.506137e+08</td>\n",
       "      <td>Jun 2024</td>\n",
       "      <td>01-06-2024</td>\n",
       "      <td>NaN</td>\n",
       "      <td></td>\n",
       "    </tr>\n",
       "    <tr>\n",
       "      <th>481021</th>\n",
       "      <td>Life Insurance Corporation Of India  P  Gs Fund</td>\n",
       "      <td>5.96</td>\n",
       "      <td>543066</td>\n",
       "      <td>SBICARD</td>\n",
       "      <td>717.0</td>\n",
       "      <td>6.815900e+11</td>\n",
       "      <td>9.506137e+08</td>\n",
       "      <td>Jun 2024</td>\n",
       "      <td>01-06-2024</td>\n",
       "      <td>NaN</td>\n",
       "      <td></td>\n",
       "    </tr>\n",
       "    <tr>\n",
       "      <th>481022</th>\n",
       "      <td>Mirae Asset Large Cap Fund</td>\n",
       "      <td>1.11</td>\n",
       "      <td>543066</td>\n",
       "      <td>SBICARD</td>\n",
       "      <td>717.0</td>\n",
       "      <td>6.815900e+11</td>\n",
       "      <td>9.506137e+08</td>\n",
       "      <td>Jun 2024</td>\n",
       "      <td>01-06-2024</td>\n",
       "      <td>NaN</td>\n",
       "      <td></td>\n",
       "    </tr>\n",
       "    <tr>\n",
       "      <th>481023</th>\n",
       "      <td>Nippon Life India Trustee LtdAC Nippon India Lar</td>\n",
       "      <td>1.65</td>\n",
       "      <td>543066</td>\n",
       "      <td>SBICARD</td>\n",
       "      <td>717.0</td>\n",
       "      <td>6.815900e+11</td>\n",
       "      <td>9.506137e+08</td>\n",
       "      <td>Jun 2024</td>\n",
       "      <td>01-06-2024</td>\n",
       "      <td>NaN</td>\n",
       "      <td></td>\n",
       "    </tr>\n",
       "  </tbody>\n",
       "</table>\n",
       "<p>481024 rows × 11 columns</p>\n",
       "</div>"
      ],
      "text/plain": [
       "                                                Promoter  Share  BSE Code  \\\n",
       "0                                          Diwakar Nigam  22.41    540900   \n",
       "1                                        T S Varadarajan  21.46    540900   \n",
       "2                                    Priyadarshini Nigam   9.39    540900   \n",
       "3                                       Usha Varadarajan   1.90    540900   \n",
       "4                                          Ragini Goorha   0.00    540900   \n",
       "...                                                  ...    ...       ...   \n",
       "481019             SBI General Insurance Company Limited   0.00    543066   \n",
       "481020                  Icici Prudential MultiAsset Fund   5.37    543066   \n",
       "481021   Life Insurance Corporation Of India  P  Gs Fund   5.96    543066   \n",
       "481022                        Mirae Asset Large Cap Fund   1.11    543066   \n",
       "481023  Nippon Life India Trustee LtdAC Nippon India Lar   1.65    543066   \n",
       "\n",
       "       NSE Code   Price          MCap   TotalShares CaptureDate        Date  \\\n",
       "0        NEWGEN  1074.0  1.507000e+11  1.403166e+08    Sep 2021  01-09-2021   \n",
       "1        NEWGEN  1074.0  1.507000e+11  1.403166e+08    Sep 2021  01-09-2021   \n",
       "2        NEWGEN  1074.0  1.507000e+11  1.403166e+08    Sep 2021  01-09-2021   \n",
       "3        NEWGEN  1074.0  1.507000e+11  1.403166e+08    Sep 2021  01-09-2021   \n",
       "4        NEWGEN  1074.0  1.507000e+11  1.403166e+08    Sep 2021  01-09-2021   \n",
       "...         ...     ...           ...           ...         ...         ...   \n",
       "481019  SBICARD   717.0  6.815900e+11  9.506137e+08    Jun 2024  01-06-2024   \n",
       "481020  SBICARD   717.0  6.815900e+11  9.506137e+08    Jun 2024  01-06-2024   \n",
       "481021  SBICARD   717.0  6.815900e+11  9.506137e+08    Jun 2024  01-06-2024   \n",
       "481022  SBICARD   717.0  6.815900e+11  9.506137e+08    Jun 2024  01-06-2024   \n",
       "481023  SBICARD   717.0  6.815900e+11  9.506137e+08    Jun 2024  01-06-2024   \n",
       "\n",
       "        Share_Cha0nge ch  \n",
       "0                 NaN     \n",
       "1                 NaN     \n",
       "2                 NaN     \n",
       "3                 NaN     \n",
       "4                 NaN     \n",
       "...               ... ..  \n",
       "481019            NaN     \n",
       "481020            NaN     \n",
       "481021            NaN     \n",
       "481022            NaN     \n",
       "481023            NaN     \n",
       "\n",
       "[481024 rows x 11 columns]"
      ]
     },
     "execution_count": 11,
     "metadata": {},
     "output_type": "execute_result"
    }
   ],
   "source": [
    "du"
   ]
  },
  {
   "cell_type": "code",
   "execution_count": 4,
   "metadata": {},
   "outputs": [
    {
     "ename": "ValueError",
     "evalue": "No objects to concatenate",
     "output_type": "error",
     "traceback": [
      "\u001b[0;31m---------------------------------------------------------------------------\u001b[0m",
      "\u001b[0;31mValueError\u001b[0m                                Traceback (most recent call last)",
      "Cell \u001b[0;32mIn[4], line 9\u001b[0m\n\u001b[1;32m      5\u001b[0m csv_files \u001b[38;5;241m=\u001b[39m glob\u001b[38;5;241m.\u001b[39mglob(\u001b[38;5;124m'\u001b[39m\u001b[38;5;124m/home/zxc/rag/e/*.csv\u001b[39m\u001b[38;5;124m'\u001b[39m)\n\u001b[1;32m      8\u001b[0m dfs \u001b[38;5;241m=\u001b[39m [pd\u001b[38;5;241m.\u001b[39mread_csv(file) \u001b[38;5;28;01mfor\u001b[39;00m file \u001b[38;5;129;01min\u001b[39;00m csv_files]\n\u001b[0;32m----> 9\u001b[0m df \u001b[38;5;241m=\u001b[39m \u001b[43mpd\u001b[49m\u001b[38;5;241;43m.\u001b[39;49m\u001b[43mconcat\u001b[49m\u001b[43m(\u001b[49m\u001b[43mdfs\u001b[49m\u001b[43m,\u001b[49m\u001b[43m \u001b[49m\u001b[43mignore_index\u001b[49m\u001b[38;5;241;43m=\u001b[39;49m\u001b[38;5;28;43;01mTrue\u001b[39;49;00m\u001b[43m)\u001b[49m\n\u001b[1;32m     10\u001b[0m \u001b[38;5;66;03m#diis_index = df[df['Promoter'] == 'Government'].index\u001b[39;00m\n\u001b[1;32m     11\u001b[0m diis_index \u001b[38;5;241m=\u001b[39m df[df[\u001b[38;5;124m'\u001b[39m\u001b[38;5;124mPromoter\u001b[39m\u001b[38;5;124m'\u001b[39m] \u001b[38;5;241m==\u001b[39m \u001b[38;5;124m'\u001b[39m\u001b[38;5;124mFIIs\u001b[39m\u001b[38;5;124m'\u001b[39m]\u001b[38;5;241m.\u001b[39mindex\n",
      "File \u001b[0;32m~/.local/lib/python3.10/site-packages/pandas/core/reshape/concat.py:382\u001b[0m, in \u001b[0;36mconcat\u001b[0;34m(objs, axis, join, ignore_index, keys, levels, names, verify_integrity, sort, copy)\u001b[0m\n\u001b[1;32m    379\u001b[0m \u001b[38;5;28;01melif\u001b[39;00m copy \u001b[38;5;129;01mand\u001b[39;00m using_copy_on_write():\n\u001b[1;32m    380\u001b[0m     copy \u001b[38;5;241m=\u001b[39m \u001b[38;5;28;01mFalse\u001b[39;00m\n\u001b[0;32m--> 382\u001b[0m op \u001b[38;5;241m=\u001b[39m \u001b[43m_Concatenator\u001b[49m\u001b[43m(\u001b[49m\n\u001b[1;32m    383\u001b[0m \u001b[43m    \u001b[49m\u001b[43mobjs\u001b[49m\u001b[43m,\u001b[49m\n\u001b[1;32m    384\u001b[0m \u001b[43m    \u001b[49m\u001b[43maxis\u001b[49m\u001b[38;5;241;43m=\u001b[39;49m\u001b[43maxis\u001b[49m\u001b[43m,\u001b[49m\n\u001b[1;32m    385\u001b[0m \u001b[43m    \u001b[49m\u001b[43mignore_index\u001b[49m\u001b[38;5;241;43m=\u001b[39;49m\u001b[43mignore_index\u001b[49m\u001b[43m,\u001b[49m\n\u001b[1;32m    386\u001b[0m \u001b[43m    \u001b[49m\u001b[43mjoin\u001b[49m\u001b[38;5;241;43m=\u001b[39;49m\u001b[43mjoin\u001b[49m\u001b[43m,\u001b[49m\n\u001b[1;32m    387\u001b[0m \u001b[43m    \u001b[49m\u001b[43mkeys\u001b[49m\u001b[38;5;241;43m=\u001b[39;49m\u001b[43mkeys\u001b[49m\u001b[43m,\u001b[49m\n\u001b[1;32m    388\u001b[0m \u001b[43m    \u001b[49m\u001b[43mlevels\u001b[49m\u001b[38;5;241;43m=\u001b[39;49m\u001b[43mlevels\u001b[49m\u001b[43m,\u001b[49m\n\u001b[1;32m    389\u001b[0m \u001b[43m    \u001b[49m\u001b[43mnames\u001b[49m\u001b[38;5;241;43m=\u001b[39;49m\u001b[43mnames\u001b[49m\u001b[43m,\u001b[49m\n\u001b[1;32m    390\u001b[0m \u001b[43m    \u001b[49m\u001b[43mverify_integrity\u001b[49m\u001b[38;5;241;43m=\u001b[39;49m\u001b[43mverify_integrity\u001b[49m\u001b[43m,\u001b[49m\n\u001b[1;32m    391\u001b[0m \u001b[43m    \u001b[49m\u001b[43mcopy\u001b[49m\u001b[38;5;241;43m=\u001b[39;49m\u001b[43mcopy\u001b[49m\u001b[43m,\u001b[49m\n\u001b[1;32m    392\u001b[0m \u001b[43m    \u001b[49m\u001b[43msort\u001b[49m\u001b[38;5;241;43m=\u001b[39;49m\u001b[43msort\u001b[49m\u001b[43m,\u001b[49m\n\u001b[1;32m    393\u001b[0m \u001b[43m\u001b[49m\u001b[43m)\u001b[49m\n\u001b[1;32m    395\u001b[0m \u001b[38;5;28;01mreturn\u001b[39;00m op\u001b[38;5;241m.\u001b[39mget_result()\n",
      "File \u001b[0;32m~/.local/lib/python3.10/site-packages/pandas/core/reshape/concat.py:445\u001b[0m, in \u001b[0;36m_Concatenator.__init__\u001b[0;34m(self, objs, axis, join, keys, levels, names, ignore_index, verify_integrity, copy, sort)\u001b[0m\n\u001b[1;32m    442\u001b[0m \u001b[38;5;28mself\u001b[39m\u001b[38;5;241m.\u001b[39mverify_integrity \u001b[38;5;241m=\u001b[39m verify_integrity\n\u001b[1;32m    443\u001b[0m \u001b[38;5;28mself\u001b[39m\u001b[38;5;241m.\u001b[39mcopy \u001b[38;5;241m=\u001b[39m copy\n\u001b[0;32m--> 445\u001b[0m objs, keys \u001b[38;5;241m=\u001b[39m \u001b[38;5;28;43mself\u001b[39;49m\u001b[38;5;241;43m.\u001b[39;49m\u001b[43m_clean_keys_and_objs\u001b[49m\u001b[43m(\u001b[49m\u001b[43mobjs\u001b[49m\u001b[43m,\u001b[49m\u001b[43m \u001b[49m\u001b[43mkeys\u001b[49m\u001b[43m)\u001b[49m\n\u001b[1;32m    447\u001b[0m \u001b[38;5;66;03m# figure out what our result ndim is going to be\u001b[39;00m\n\u001b[1;32m    448\u001b[0m ndims \u001b[38;5;241m=\u001b[39m \u001b[38;5;28mself\u001b[39m\u001b[38;5;241m.\u001b[39m_get_ndims(objs)\n",
      "File \u001b[0;32m~/.local/lib/python3.10/site-packages/pandas/core/reshape/concat.py:507\u001b[0m, in \u001b[0;36m_Concatenator._clean_keys_and_objs\u001b[0;34m(self, objs, keys)\u001b[0m\n\u001b[1;32m    504\u001b[0m     objs_list \u001b[38;5;241m=\u001b[39m \u001b[38;5;28mlist\u001b[39m(objs)\n\u001b[1;32m    506\u001b[0m \u001b[38;5;28;01mif\u001b[39;00m \u001b[38;5;28mlen\u001b[39m(objs_list) \u001b[38;5;241m==\u001b[39m \u001b[38;5;241m0\u001b[39m:\n\u001b[0;32m--> 507\u001b[0m     \u001b[38;5;28;01mraise\u001b[39;00m \u001b[38;5;167;01mValueError\u001b[39;00m(\u001b[38;5;124m\"\u001b[39m\u001b[38;5;124mNo objects to concatenate\u001b[39m\u001b[38;5;124m\"\u001b[39m)\n\u001b[1;32m    509\u001b[0m \u001b[38;5;28;01mif\u001b[39;00m keys \u001b[38;5;129;01mis\u001b[39;00m \u001b[38;5;28;01mNone\u001b[39;00m:\n\u001b[1;32m    510\u001b[0m     objs_list \u001b[38;5;241m=\u001b[39m \u001b[38;5;28mlist\u001b[39m(com\u001b[38;5;241m.\u001b[39mnot_none(\u001b[38;5;241m*\u001b[39mobjs_list))\n",
      "\u001b[0;31mValueError\u001b[0m: No objects to concatenate"
     ]
    }
   ],
   "source": [
    "import glob\n",
    "import pandas as pd\n",
    "\n",
    "\n",
    "csv_files = glob.glob('/home/zxc/rag/e/*.csv')\n",
    "\n",
    "\n",
    "dfs = [pd.read_csv(file) for file in csv_files]\n",
    "df = pd.concat(dfs, ignore_index=True)\n",
    "#diis_index = df[df['Promoter'] == 'Government'].index\n",
    "diis_index = df[df['Promoter'] == 'FIIs'].index\n",
    "promter_index = df[df['Promoter'] == 'Promoters'].index\n",
    "\n",
    "\n",
    "drop_indices = []\n",
    "\n",
    "\n",
    "for start in diis_index:\n",
    "\n",
    "    end_candidates = promter_index[promter_index > start]\n",
    "    if not end_candidates.empty:\n",
    "        end = end_candidates[0]\n",
    "        drop_indices.extend(range(start + 1, end))\n",
    "\n",
    "\n",
    "df.drop(drop_indices, inplace=True)\n",
    "df.reset_index(drop=True, inplace=True)\n",
    "\n",
    "\n",
    "diis_index = df[df['Promoter'] == 'DIIs'].index\n",
    "promter_index = df[df['Promoter'] == 'Promoters'].index\n",
    "\n",
    "\n",
    "drop_indices = []\n",
    "\n",
    "\n",
    "for start in diis_index:\n",
    "\n",
    "    end_candidates = promter_index[promter_index > start]\n",
    "    if not end_candidates.empty:\n",
    "        end = end_candidates[0]\n",
    "        drop_indices.extend(range(start + 1, end))\n",
    "\n",
    "\n",
    "df.drop(drop_indices, inplace=True)\n",
    "df = df[df['Promoter'] != \"FIIs\"] \n",
    "df = df[df['Promoter'] != \"DIIs\"] \n",
    "df = df[df['Promoter'] != \"Public\"] \n",
    "df = df[df['Promoter'] != \"Government\"] \n",
    "df = df[df['Promoter'] != \"Others\"]\n",
    "df = df[df['Promoter'] != \"Promoters\"]\n",
    "df.reset_index(drop=True, inplace=True)\n",
    "\n",
    "du = df\n",
    "du[\"Share_Change\"] = du.groupby(\"Promoter\")[\"Share\"].transform(lambda x: x.pct_change() * 100)\n",
    "du[\"ch\"] = \"\"\n",
    "\n",
    "\n",
    "def label_change(group):\n",
    "    group['ch'] = group['Share'].diff().apply(lambda x: \"UP\" if x > 0 else (\"Down\" if x < 0 else \"EQUAL\"))\n",
    "    return group\n",
    "\n",
    "\n",
    "du = du.groupby(\"Promoter\").apply(label_change)\n",
    "du.to_csv(\"tt6.csv\")\n",
    "\n"
   ]
  },
  {
   "cell_type": "code",
   "execution_count": 11,
   "metadata": {},
   "outputs": [
    {
     "name": "stderr",
     "output_type": "stream",
     "text": [
      "<ipython-input-11-77703b4c46fb>:9: DeprecationWarning: DataFrameGroupBy.apply operated on the grouping columns. This behavior is deprecated, and in a future version of pandas the grouping columns will be excluded from the operation. Either pass `include_groups=False` to exclude the groupings or explicitly select the grouping columns after groupby to silence this warning.\n",
      "  du = du.groupby(\"Promoter\").apply(label_change)\n"
     ]
    }
   ],
   "source": [
    "du[\"ch\"] = \"\"\n",
    "\n",
    "\n",
    "def label_change(group):\n",
    "    group['ch'] = group['Share'].diff().apply(lambda x: \"UP\" if x > 0 else (\"Down\" if x < 0 else \"EQUAL\"))\n",
    "    return group\n",
    "\n",
    "\n",
    "du = du.groupby(\"Promoter\").apply(label_change)\n"
   ]
  },
  {
   "cell_type": "code",
   "execution_count": 14,
   "metadata": {},
   "outputs": [
    {
     "data": {
      "text/html": [
       "<div>\n",
       "<style scoped>\n",
       "    .dataframe tbody tr th:only-of-type {\n",
       "        vertical-align: middle;\n",
       "    }\n",
       "\n",
       "    .dataframe tbody tr th {\n",
       "        vertical-align: top;\n",
       "    }\n",
       "\n",
       "    .dataframe thead th {\n",
       "        text-align: right;\n",
       "    }\n",
       "</style>\n",
       "<table border=\"1\" class=\"dataframe\">\n",
       "  <thead>\n",
       "    <tr style=\"text-align: right;\">\n",
       "      <th></th>\n",
       "      <th></th>\n",
       "      <th>Promoter</th>\n",
       "      <th>Share</th>\n",
       "      <th>BSE Code</th>\n",
       "      <th>NSE Code</th>\n",
       "      <th>Price</th>\n",
       "      <th>MCap</th>\n",
       "      <th>TotalShares</th>\n",
       "      <th>CaptureDate</th>\n",
       "      <th>Date</th>\n",
       "      <th>Share_Cha0nge</th>\n",
       "      <th>ch</th>\n",
       "    </tr>\n",
       "    <tr>\n",
       "      <th>Promoter</th>\n",
       "      <th></th>\n",
       "      <th></th>\n",
       "      <th></th>\n",
       "      <th></th>\n",
       "      <th></th>\n",
       "      <th></th>\n",
       "      <th></th>\n",
       "      <th></th>\n",
       "      <th></th>\n",
       "      <th></th>\n",
       "      <th></th>\n",
       "      <th></th>\n",
       "    </tr>\n",
       "  </thead>\n",
       "  <tbody>\n",
       "    <tr>\n",
       "      <th rowspan=\"5\" valign=\"top\">20Th Century Engineering Limited</th>\n",
       "      <th>43987</th>\n",
       "      <td>20Th Century Engineering Limited</td>\n",
       "      <td>2.73</td>\n",
       "      <td>500402</td>\n",
       "      <td>SPMLINFRA</td>\n",
       "      <td>245.0</td>\n",
       "      <td>1.467000e+10</td>\n",
       "      <td>5.987755e+07</td>\n",
       "      <td>Sep 2021</td>\n",
       "      <td>01-09-2021</td>\n",
       "      <td>NaN</td>\n",
       "      <td>EQUAL</td>\n",
       "    </tr>\n",
       "    <tr>\n",
       "      <th>44010</th>\n",
       "      <td>20Th Century Engineering Limited</td>\n",
       "      <td>2.73</td>\n",
       "      <td>500402</td>\n",
       "      <td>SPMLINFRA</td>\n",
       "      <td>245.0</td>\n",
       "      <td>1.467000e+10</td>\n",
       "      <td>5.987755e+07</td>\n",
       "      <td>Dec 2021</td>\n",
       "      <td>01-12-2021</td>\n",
       "      <td>0.000000</td>\n",
       "      <td>EQUAL</td>\n",
       "    </tr>\n",
       "    <tr>\n",
       "      <th>44034</th>\n",
       "      <td>20Th Century Engineering Limited</td>\n",
       "      <td>2.54</td>\n",
       "      <td>500402</td>\n",
       "      <td>SPMLINFRA</td>\n",
       "      <td>245.0</td>\n",
       "      <td>1.467000e+10</td>\n",
       "      <td>5.987755e+07</td>\n",
       "      <td>Mar 2022</td>\n",
       "      <td>01-03-2022</td>\n",
       "      <td>-6.959707</td>\n",
       "      <td>up</td>\n",
       "    </tr>\n",
       "    <tr>\n",
       "      <th>44058</th>\n",
       "      <td>20Th Century Engineering Limited</td>\n",
       "      <td>2.34</td>\n",
       "      <td>500402</td>\n",
       "      <td>SPMLINFRA</td>\n",
       "      <td>245.0</td>\n",
       "      <td>1.467000e+10</td>\n",
       "      <td>5.987755e+07</td>\n",
       "      <td>Jun 2022</td>\n",
       "      <td>01-06-2022</td>\n",
       "      <td>-7.874016</td>\n",
       "      <td>up</td>\n",
       "    </tr>\n",
       "    <tr>\n",
       "      <th>44080</th>\n",
       "      <td>20Th Century Engineering Limited</td>\n",
       "      <td>2.20</td>\n",
       "      <td>500402</td>\n",
       "      <td>SPMLINFRA</td>\n",
       "      <td>245.0</td>\n",
       "      <td>1.467000e+10</td>\n",
       "      <td>5.987755e+07</td>\n",
       "      <td>Sep 2022</td>\n",
       "      <td>01-09-2022</td>\n",
       "      <td>-5.982906</td>\n",
       "      <td>up</td>\n",
       "    </tr>\n",
       "    <tr>\n",
       "      <th>...</th>\n",
       "      <th>...</th>\n",
       "      <td>...</td>\n",
       "      <td>...</td>\n",
       "      <td>...</td>\n",
       "      <td>...</td>\n",
       "      <td>...</td>\n",
       "      <td>...</td>\n",
       "      <td>...</td>\n",
       "      <td>...</td>\n",
       "      <td>...</td>\n",
       "      <td>...</td>\n",
       "      <td>...</td>\n",
       "    </tr>\n",
       "    <tr>\n",
       "      <th rowspan=\"5\" valign=\"top\">xxxii S Sridhar HUF</th>\n",
       "      <th>329580</th>\n",
       "      <td>xxxii S Sridhar HUF</td>\n",
       "      <td>0.00</td>\n",
       "      <td>500412</td>\n",
       "      <td>TIRUMALCHM</td>\n",
       "      <td>340.0</td>\n",
       "      <td>3.476000e+10</td>\n",
       "      <td>1.022353e+08</td>\n",
       "      <td>Jun 2022</td>\n",
       "      <td>01-06-2022</td>\n",
       "      <td>NaN</td>\n",
       "      <td>EQUAL</td>\n",
       "    </tr>\n",
       "    <tr>\n",
       "      <th>329614</th>\n",
       "      <td>xxxii S Sridhar HUF</td>\n",
       "      <td>0.00</td>\n",
       "      <td>500412</td>\n",
       "      <td>TIRUMALCHM</td>\n",
       "      <td>340.0</td>\n",
       "      <td>3.476000e+10</td>\n",
       "      <td>1.022353e+08</td>\n",
       "      <td>Sep 2022</td>\n",
       "      <td>01-09-2022</td>\n",
       "      <td>NaN</td>\n",
       "      <td>EQUAL</td>\n",
       "    </tr>\n",
       "    <tr>\n",
       "      <th>329652</th>\n",
       "      <td>xxxii S Sridhar HUF</td>\n",
       "      <td>0.00</td>\n",
       "      <td>500412</td>\n",
       "      <td>TIRUMALCHM</td>\n",
       "      <td>340.0</td>\n",
       "      <td>3.476000e+10</td>\n",
       "      <td>1.022353e+08</td>\n",
       "      <td>Dec 2022</td>\n",
       "      <td>01-12-2022</td>\n",
       "      <td>NaN</td>\n",
       "      <td>EQUAL</td>\n",
       "    </tr>\n",
       "    <tr>\n",
       "      <th>329690</th>\n",
       "      <td>xxxii S Sridhar HUF</td>\n",
       "      <td>0.00</td>\n",
       "      <td>500412</td>\n",
       "      <td>TIRUMALCHM</td>\n",
       "      <td>340.0</td>\n",
       "      <td>3.476000e+10</td>\n",
       "      <td>1.022353e+08</td>\n",
       "      <td>Mar 2023</td>\n",
       "      <td>01-03-2023</td>\n",
       "      <td>NaN</td>\n",
       "      <td>EQUAL</td>\n",
       "    </tr>\n",
       "    <tr>\n",
       "      <th>329729</th>\n",
       "      <td>xxxii S Sridhar HUF</td>\n",
       "      <td>0.00</td>\n",
       "      <td>500412</td>\n",
       "      <td>TIRUMALCHM</td>\n",
       "      <td>340.0</td>\n",
       "      <td>3.476000e+10</td>\n",
       "      <td>1.022353e+08</td>\n",
       "      <td>Jun 2023</td>\n",
       "      <td>01-06-2023</td>\n",
       "      <td>NaN</td>\n",
       "      <td>EQUAL</td>\n",
       "    </tr>\n",
       "  </tbody>\n",
       "</table>\n",
       "<p>481021 rows × 11 columns</p>\n",
       "</div>"
      ],
      "text/plain": [
       "                                                                 Promoter  \\\n",
       "Promoter                                                                    \n",
       "20Th Century Engineering Limited 43987   20Th Century Engineering Limited   \n",
       "                                 44010   20Th Century Engineering Limited   \n",
       "                                 44034   20Th Century Engineering Limited   \n",
       "                                 44058   20Th Century Engineering Limited   \n",
       "                                 44080   20Th Century Engineering Limited   \n",
       "...                                                                   ...   \n",
       "xxxii S Sridhar HUF              329580               xxxii S Sridhar HUF   \n",
       "                                 329614               xxxii S Sridhar HUF   \n",
       "                                 329652               xxxii S Sridhar HUF   \n",
       "                                 329690               xxxii S Sridhar HUF   \n",
       "                                 329729               xxxii S Sridhar HUF   \n",
       "\n",
       "                                         Share  BSE Code    NSE Code  Price  \\\n",
       "Promoter                                                                      \n",
       "20Th Century Engineering Limited 43987    2.73    500402   SPMLINFRA  245.0   \n",
       "                                 44010    2.73    500402   SPMLINFRA  245.0   \n",
       "                                 44034    2.54    500402   SPMLINFRA  245.0   \n",
       "                                 44058    2.34    500402   SPMLINFRA  245.0   \n",
       "                                 44080    2.20    500402   SPMLINFRA  245.0   \n",
       "...                                        ...       ...         ...    ...   \n",
       "xxxii S Sridhar HUF              329580   0.00    500412  TIRUMALCHM  340.0   \n",
       "                                 329614   0.00    500412  TIRUMALCHM  340.0   \n",
       "                                 329652   0.00    500412  TIRUMALCHM  340.0   \n",
       "                                 329690   0.00    500412  TIRUMALCHM  340.0   \n",
       "                                 329729   0.00    500412  TIRUMALCHM  340.0   \n",
       "\n",
       "                                                 MCap   TotalShares  \\\n",
       "Promoter                                                              \n",
       "20Th Century Engineering Limited 43987   1.467000e+10  5.987755e+07   \n",
       "                                 44010   1.467000e+10  5.987755e+07   \n",
       "                                 44034   1.467000e+10  5.987755e+07   \n",
       "                                 44058   1.467000e+10  5.987755e+07   \n",
       "                                 44080   1.467000e+10  5.987755e+07   \n",
       "...                                               ...           ...   \n",
       "xxxii S Sridhar HUF              329580  3.476000e+10  1.022353e+08   \n",
       "                                 329614  3.476000e+10  1.022353e+08   \n",
       "                                 329652  3.476000e+10  1.022353e+08   \n",
       "                                 329690  3.476000e+10  1.022353e+08   \n",
       "                                 329729  3.476000e+10  1.022353e+08   \n",
       "\n",
       "                                        CaptureDate        Date  \\\n",
       "Promoter                                                          \n",
       "20Th Century Engineering Limited 43987     Sep 2021  01-09-2021   \n",
       "                                 44010     Dec 2021  01-12-2021   \n",
       "                                 44034     Mar 2022  01-03-2022   \n",
       "                                 44058     Jun 2022  01-06-2022   \n",
       "                                 44080     Sep 2022  01-09-2022   \n",
       "...                                             ...         ...   \n",
       "xxxii S Sridhar HUF              329580    Jun 2022  01-06-2022   \n",
       "                                 329614    Sep 2022  01-09-2022   \n",
       "                                 329652    Dec 2022  01-12-2022   \n",
       "                                 329690    Mar 2023  01-03-2023   \n",
       "                                 329729    Jun 2023  01-06-2023   \n",
       "\n",
       "                                         Share_Cha0nge     ch  \n",
       "Promoter                                                       \n",
       "20Th Century Engineering Limited 43987             NaN  EQUAL  \n",
       "                                 44010        0.000000  EQUAL  \n",
       "                                 44034       -6.959707     up  \n",
       "                                 44058       -7.874016     up  \n",
       "                                 44080       -5.982906     up  \n",
       "...                                                ...    ...  \n",
       "xxxii S Sridhar HUF              329580            NaN  EQUAL  \n",
       "                                 329614            NaN  EQUAL  \n",
       "                                 329652            NaN  EQUAL  \n",
       "                                 329690            NaN  EQUAL  \n",
       "                                 329729            NaN  EQUAL  \n",
       "\n",
       "[481021 rows x 11 columns]"
      ]
     },
     "execution_count": 14,
     "metadata": {},
     "output_type": "execute_result"
    }
   ],
   "source": [
    "du"
   ]
  },
  {
   "cell_type": "code",
   "execution_count": 41,
   "metadata": {},
   "outputs": [
    {
     "data": {
      "text/plain": [
       "Promoter            \n",
       "T S Varadarajan  1           NaN\n",
       "                 22          NaN\n",
       "                 44     0.000000\n",
       "                 66     0.000000\n",
       "                 88     0.000000\n",
       "                 110    0.000000\n",
       "                 132    0.000000\n",
       "                 154    0.000000\n",
       "                 176    0.000000\n",
       "                 198   -0.186393\n",
       "                 220    0.093023\n",
       "                 241    0.093371\n",
       "Name: Share_Cha0nge, dtype: float64"
      ]
     },
     "execution_count": 41,
     "metadata": {},
     "output_type": "execute_result"
    }
   ],
   "source": [
    "a['Share_Cha0nge'].diff()"
   ]
  },
  {
   "cell_type": "code",
   "execution_count": 37,
   "metadata": {},
   "outputs": [
    {
     "data": {
      "text/html": [
       "<div>\n",
       "<style scoped>\n",
       "    .dataframe tbody tr th:only-of-type {\n",
       "        vertical-align: middle;\n",
       "    }\n",
       "\n",
       "    .dataframe tbody tr th {\n",
       "        vertical-align: top;\n",
       "    }\n",
       "\n",
       "    .dataframe thead th {\n",
       "        text-align: right;\n",
       "    }\n",
       "</style>\n",
       "<table border=\"1\" class=\"dataframe\">\n",
       "  <thead>\n",
       "    <tr style=\"text-align: right;\">\n",
       "      <th></th>\n",
       "      <th></th>\n",
       "      <th>Promoter</th>\n",
       "      <th>Share</th>\n",
       "      <th>BSE Code</th>\n",
       "      <th>NSE Code</th>\n",
       "      <th>Price</th>\n",
       "      <th>MCap</th>\n",
       "      <th>TotalShares</th>\n",
       "      <th>CaptureDate</th>\n",
       "      <th>Date</th>\n",
       "      <th>Share_Cha0nge</th>\n",
       "      <th>ch</th>\n",
       "    </tr>\n",
       "    <tr>\n",
       "      <th>Promoter</th>\n",
       "      <th></th>\n",
       "      <th></th>\n",
       "      <th></th>\n",
       "      <th></th>\n",
       "      <th></th>\n",
       "      <th></th>\n",
       "      <th></th>\n",
       "      <th></th>\n",
       "      <th></th>\n",
       "      <th></th>\n",
       "      <th></th>\n",
       "      <th></th>\n",
       "    </tr>\n",
       "  </thead>\n",
       "  <tbody>\n",
       "    <tr>\n",
       "      <th rowspan=\"12\" valign=\"top\">T S Varadarajan</th>\n",
       "      <th>1</th>\n",
       "      <td>T S Varadarajan</td>\n",
       "      <td>21.46</td>\n",
       "      <td>540900</td>\n",
       "      <td>NEWGEN</td>\n",
       "      <td>1074.0</td>\n",
       "      <td>1.507000e+11</td>\n",
       "      <td>1.403166e+08</td>\n",
       "      <td>Sep 2021</td>\n",
       "      <td>01-09-2021</td>\n",
       "      <td>NaN</td>\n",
       "      <td>NaN</td>\n",
       "    </tr>\n",
       "    <tr>\n",
       "      <th>22</th>\n",
       "      <td>T S Varadarajan</td>\n",
       "      <td>21.46</td>\n",
       "      <td>540900</td>\n",
       "      <td>NEWGEN</td>\n",
       "      <td>1074.0</td>\n",
       "      <td>1.507000e+11</td>\n",
       "      <td>1.403166e+08</td>\n",
       "      <td>Dec 2021</td>\n",
       "      <td>01-12-2021</td>\n",
       "      <td>0.000000</td>\n",
       "      <td>0.00</td>\n",
       "    </tr>\n",
       "    <tr>\n",
       "      <th>44</th>\n",
       "      <td>T S Varadarajan</td>\n",
       "      <td>21.46</td>\n",
       "      <td>540900</td>\n",
       "      <td>NEWGEN</td>\n",
       "      <td>1074.0</td>\n",
       "      <td>1.507000e+11</td>\n",
       "      <td>1.403166e+08</td>\n",
       "      <td>Mar 2022</td>\n",
       "      <td>01-03-2022</td>\n",
       "      <td>0.000000</td>\n",
       "      <td>0.00</td>\n",
       "    </tr>\n",
       "    <tr>\n",
       "      <th>66</th>\n",
       "      <td>T S Varadarajan</td>\n",
       "      <td>21.46</td>\n",
       "      <td>540900</td>\n",
       "      <td>NEWGEN</td>\n",
       "      <td>1074.0</td>\n",
       "      <td>1.507000e+11</td>\n",
       "      <td>1.403166e+08</td>\n",
       "      <td>Jun 2022</td>\n",
       "      <td>01-06-2022</td>\n",
       "      <td>0.000000</td>\n",
       "      <td>0.00</td>\n",
       "    </tr>\n",
       "    <tr>\n",
       "      <th>88</th>\n",
       "      <td>T S Varadarajan</td>\n",
       "      <td>21.46</td>\n",
       "      <td>540900</td>\n",
       "      <td>NEWGEN</td>\n",
       "      <td>1074.0</td>\n",
       "      <td>1.507000e+11</td>\n",
       "      <td>1.403166e+08</td>\n",
       "      <td>Sep 2022</td>\n",
       "      <td>01-09-2022</td>\n",
       "      <td>0.000000</td>\n",
       "      <td>0.00</td>\n",
       "    </tr>\n",
       "    <tr>\n",
       "      <th>110</th>\n",
       "      <td>T S Varadarajan</td>\n",
       "      <td>21.46</td>\n",
       "      <td>540900</td>\n",
       "      <td>NEWGEN</td>\n",
       "      <td>1074.0</td>\n",
       "      <td>1.507000e+11</td>\n",
       "      <td>1.403166e+08</td>\n",
       "      <td>Dec 2022</td>\n",
       "      <td>01-12-2022</td>\n",
       "      <td>0.000000</td>\n",
       "      <td>0.00</td>\n",
       "    </tr>\n",
       "    <tr>\n",
       "      <th>132</th>\n",
       "      <td>T S Varadarajan</td>\n",
       "      <td>21.46</td>\n",
       "      <td>540900</td>\n",
       "      <td>NEWGEN</td>\n",
       "      <td>1074.0</td>\n",
       "      <td>1.507000e+11</td>\n",
       "      <td>1.403166e+08</td>\n",
       "      <td>Mar 2023</td>\n",
       "      <td>01-03-2023</td>\n",
       "      <td>0.000000</td>\n",
       "      <td>0.00</td>\n",
       "    </tr>\n",
       "    <tr>\n",
       "      <th>154</th>\n",
       "      <td>T S Varadarajan</td>\n",
       "      <td>21.46</td>\n",
       "      <td>540900</td>\n",
       "      <td>NEWGEN</td>\n",
       "      <td>1074.0</td>\n",
       "      <td>1.507000e+11</td>\n",
       "      <td>1.403166e+08</td>\n",
       "      <td>Jun 2023</td>\n",
       "      <td>01-06-2023</td>\n",
       "      <td>0.000000</td>\n",
       "      <td>0.00</td>\n",
       "    </tr>\n",
       "    <tr>\n",
       "      <th>176</th>\n",
       "      <td>T S Varadarajan</td>\n",
       "      <td>21.46</td>\n",
       "      <td>540900</td>\n",
       "      <td>NEWGEN</td>\n",
       "      <td>1074.0</td>\n",
       "      <td>1.507000e+11</td>\n",
       "      <td>1.403166e+08</td>\n",
       "      <td>Sep 2023</td>\n",
       "      <td>01-09-2023</td>\n",
       "      <td>0.000000</td>\n",
       "      <td>0.00</td>\n",
       "    </tr>\n",
       "    <tr>\n",
       "      <th>198</th>\n",
       "      <td>T S Varadarajan</td>\n",
       "      <td>21.42</td>\n",
       "      <td>540900</td>\n",
       "      <td>NEWGEN</td>\n",
       "      <td>1074.0</td>\n",
       "      <td>1.507000e+11</td>\n",
       "      <td>1.403166e+08</td>\n",
       "      <td>Dec 2023</td>\n",
       "      <td>01-12-2023</td>\n",
       "      <td>-0.186393</td>\n",
       "      <td>-0.04</td>\n",
       "    </tr>\n",
       "    <tr>\n",
       "      <th>220</th>\n",
       "      <td>T S Varadarajan</td>\n",
       "      <td>21.40</td>\n",
       "      <td>540900</td>\n",
       "      <td>NEWGEN</td>\n",
       "      <td>1074.0</td>\n",
       "      <td>1.507000e+11</td>\n",
       "      <td>1.403166e+08</td>\n",
       "      <td>Mar 2024</td>\n",
       "      <td>01-03-2024</td>\n",
       "      <td>-0.093371</td>\n",
       "      <td>-0.02</td>\n",
       "    </tr>\n",
       "    <tr>\n",
       "      <th>241</th>\n",
       "      <td>T S Varadarajan</td>\n",
       "      <td>21.40</td>\n",
       "      <td>540900</td>\n",
       "      <td>NEWGEN</td>\n",
       "      <td>1074.0</td>\n",
       "      <td>1.507000e+11</td>\n",
       "      <td>1.403166e+08</td>\n",
       "      <td>Jun 2024</td>\n",
       "      <td>01-06-2024</td>\n",
       "      <td>0.000000</td>\n",
       "      <td>0.00</td>\n",
       "    </tr>\n",
       "  </tbody>\n",
       "</table>\n",
       "</div>"
      ],
      "text/plain": [
       "                            Promoter  Share  BSE Code NSE Code   Price  \\\n",
       "Promoter                                                                 \n",
       "T S Varadarajan 1    T S Varadarajan  21.46    540900   NEWGEN  1074.0   \n",
       "                22   T S Varadarajan  21.46    540900   NEWGEN  1074.0   \n",
       "                44   T S Varadarajan  21.46    540900   NEWGEN  1074.0   \n",
       "                66   T S Varadarajan  21.46    540900   NEWGEN  1074.0   \n",
       "                88   T S Varadarajan  21.46    540900   NEWGEN  1074.0   \n",
       "                110  T S Varadarajan  21.46    540900   NEWGEN  1074.0   \n",
       "                132  T S Varadarajan  21.46    540900   NEWGEN  1074.0   \n",
       "                154  T S Varadarajan  21.46    540900   NEWGEN  1074.0   \n",
       "                176  T S Varadarajan  21.46    540900   NEWGEN  1074.0   \n",
       "                198  T S Varadarajan  21.42    540900   NEWGEN  1074.0   \n",
       "                220  T S Varadarajan  21.40    540900   NEWGEN  1074.0   \n",
       "                241  T S Varadarajan  21.40    540900   NEWGEN  1074.0   \n",
       "\n",
       "                             MCap   TotalShares CaptureDate        Date  \\\n",
       "Promoter                                                                  \n",
       "T S Varadarajan 1    1.507000e+11  1.403166e+08    Sep 2021  01-09-2021   \n",
       "                22   1.507000e+11  1.403166e+08    Dec 2021  01-12-2021   \n",
       "                44   1.507000e+11  1.403166e+08    Mar 2022  01-03-2022   \n",
       "                66   1.507000e+11  1.403166e+08    Jun 2022  01-06-2022   \n",
       "                88   1.507000e+11  1.403166e+08    Sep 2022  01-09-2022   \n",
       "                110  1.507000e+11  1.403166e+08    Dec 2022  01-12-2022   \n",
       "                132  1.507000e+11  1.403166e+08    Mar 2023  01-03-2023   \n",
       "                154  1.507000e+11  1.403166e+08    Jun 2023  01-06-2023   \n",
       "                176  1.507000e+11  1.403166e+08    Sep 2023  01-09-2023   \n",
       "                198  1.507000e+11  1.403166e+08    Dec 2023  01-12-2023   \n",
       "                220  1.507000e+11  1.403166e+08    Mar 2024  01-03-2024   \n",
       "                241  1.507000e+11  1.403166e+08    Jun 2024  01-06-2024   \n",
       "\n",
       "                     Share_Cha0nge    ch  \n",
       "Promoter                                  \n",
       "T S Varadarajan 1              NaN   NaN  \n",
       "                22        0.000000  0.00  \n",
       "                44        0.000000  0.00  \n",
       "                66        0.000000  0.00  \n",
       "                88        0.000000  0.00  \n",
       "                110       0.000000  0.00  \n",
       "                132       0.000000  0.00  \n",
       "                154       0.000000  0.00  \n",
       "                176       0.000000  0.00  \n",
       "                198      -0.186393 -0.04  \n",
       "                220      -0.093371 -0.02  \n",
       "                241       0.000000  0.00  "
      ]
     },
     "execution_count": 37,
     "metadata": {},
     "output_type": "execute_result"
    }
   ],
   "source": [
    "a"
   ]
  },
  {
   "cell_type": "code",
   "execution_count": 1,
   "metadata": {},
   "outputs": [
    {
     "ename": "NameError",
     "evalue": "name 'du' is not defined",
     "output_type": "error",
     "traceback": [
      "\u001b[0;31m---------------------------------------------------------------------------\u001b[0m",
      "\u001b[0;31mNameError\u001b[0m                                 Traceback (most recent call last)",
      "Cell \u001b[0;32mIn[1], line 1\u001b[0m\n\u001b[0;32m----> 1\u001b[0m a \u001b[38;5;241m=\u001b[39m \u001b[43mdu\u001b[49m[du[\u001b[38;5;124m\"\u001b[39m\u001b[38;5;124mDate\u001b[39m\u001b[38;5;124m\"\u001b[39m]\u001b[38;5;241m==\u001b[39m\u001b[38;5;124m\"\u001b[39m\u001b[38;5;124m01-06-2024\u001b[39m\u001b[38;5;124m\"\u001b[39m]\n",
      "\u001b[0;31mNameError\u001b[0m: name 'du' is not defined"
     ]
    }
   ],
   "source": [
    "a = du[du[\"Date\"]==\"01-06-2024\"]"
   ]
  },
  {
   "cell_type": "code",
   "execution_count": 42,
   "metadata": {},
   "outputs": [
    {
     "data": {
      "text/html": [
       "<div>\n",
       "<style scoped>\n",
       "    .dataframe tbody tr th:only-of-type {\n",
       "        vertical-align: middle;\n",
       "    }\n",
       "\n",
       "    .dataframe tbody tr th {\n",
       "        vertical-align: top;\n",
       "    }\n",
       "\n",
       "    .dataframe thead th {\n",
       "        text-align: right;\n",
       "    }\n",
       "</style>\n",
       "<table border=\"1\" class=\"dataframe\">\n",
       "  <thead>\n",
       "    <tr style=\"text-align: right;\">\n",
       "      <th></th>\n",
       "      <th></th>\n",
       "      <th>Promoter</th>\n",
       "      <th>Share</th>\n",
       "      <th>BSE Code</th>\n",
       "      <th>NSE Code</th>\n",
       "      <th>Price</th>\n",
       "      <th>MCap</th>\n",
       "      <th>TotalShares</th>\n",
       "      <th>CaptureDate</th>\n",
       "      <th>Date</th>\n",
       "      <th>Share_Cha0nge</th>\n",
       "      <th>ch</th>\n",
       "    </tr>\n",
       "    <tr>\n",
       "      <th>Promoter</th>\n",
       "      <th></th>\n",
       "      <th></th>\n",
       "      <th></th>\n",
       "      <th></th>\n",
       "      <th></th>\n",
       "      <th></th>\n",
       "      <th></th>\n",
       "      <th></th>\n",
       "      <th></th>\n",
       "      <th></th>\n",
       "      <th></th>\n",
       "      <th></th>\n",
       "    </tr>\n",
       "  </thead>\n",
       "  <tbody>\n",
       "    <tr>\n",
       "      <th rowspan=\"5\" valign=\"top\">20Th Century Engineering Limited</th>\n",
       "      <th>43987</th>\n",
       "      <td>20Th Century Engineering Limited</td>\n",
       "      <td>2.73</td>\n",
       "      <td>500402</td>\n",
       "      <td>SPMLINFRA</td>\n",
       "      <td>245.0</td>\n",
       "      <td>1.467000e+10</td>\n",
       "      <td>5.987755e+07</td>\n",
       "      <td>Sep 2021</td>\n",
       "      <td>01-09-2021</td>\n",
       "      <td>NaN</td>\n",
       "      <td>EQUAL</td>\n",
       "    </tr>\n",
       "    <tr>\n",
       "      <th>44010</th>\n",
       "      <td>20Th Century Engineering Limited</td>\n",
       "      <td>2.73</td>\n",
       "      <td>500402</td>\n",
       "      <td>SPMLINFRA</td>\n",
       "      <td>245.0</td>\n",
       "      <td>1.467000e+10</td>\n",
       "      <td>5.987755e+07</td>\n",
       "      <td>Dec 2021</td>\n",
       "      <td>01-12-2021</td>\n",
       "      <td>0.000000</td>\n",
       "      <td>EQUAL</td>\n",
       "    </tr>\n",
       "    <tr>\n",
       "      <th>44034</th>\n",
       "      <td>20Th Century Engineering Limited</td>\n",
       "      <td>2.54</td>\n",
       "      <td>500402</td>\n",
       "      <td>SPMLINFRA</td>\n",
       "      <td>245.0</td>\n",
       "      <td>1.467000e+10</td>\n",
       "      <td>5.987755e+07</td>\n",
       "      <td>Mar 2022</td>\n",
       "      <td>01-03-2022</td>\n",
       "      <td>-6.959707</td>\n",
       "      <td>Down</td>\n",
       "    </tr>\n",
       "    <tr>\n",
       "      <th>44058</th>\n",
       "      <td>20Th Century Engineering Limited</td>\n",
       "      <td>2.34</td>\n",
       "      <td>500402</td>\n",
       "      <td>SPMLINFRA</td>\n",
       "      <td>245.0</td>\n",
       "      <td>1.467000e+10</td>\n",
       "      <td>5.987755e+07</td>\n",
       "      <td>Jun 2022</td>\n",
       "      <td>01-06-2022</td>\n",
       "      <td>-7.874016</td>\n",
       "      <td>Down</td>\n",
       "    </tr>\n",
       "    <tr>\n",
       "      <th>44080</th>\n",
       "      <td>20Th Century Engineering Limited</td>\n",
       "      <td>2.20</td>\n",
       "      <td>500402</td>\n",
       "      <td>SPMLINFRA</td>\n",
       "      <td>245.0</td>\n",
       "      <td>1.467000e+10</td>\n",
       "      <td>5.987755e+07</td>\n",
       "      <td>Sep 2022</td>\n",
       "      <td>01-09-2022</td>\n",
       "      <td>-5.982906</td>\n",
       "      <td>Down</td>\n",
       "    </tr>\n",
       "    <tr>\n",
       "      <th>...</th>\n",
       "      <th>...</th>\n",
       "      <td>...</td>\n",
       "      <td>...</td>\n",
       "      <td>...</td>\n",
       "      <td>...</td>\n",
       "      <td>...</td>\n",
       "      <td>...</td>\n",
       "      <td>...</td>\n",
       "      <td>...</td>\n",
       "      <td>...</td>\n",
       "      <td>...</td>\n",
       "      <td>...</td>\n",
       "    </tr>\n",
       "    <tr>\n",
       "      <th rowspan=\"5\" valign=\"top\">xxxii S Sridhar HUF</th>\n",
       "      <th>329580</th>\n",
       "      <td>xxxii S Sridhar HUF</td>\n",
       "      <td>0.00</td>\n",
       "      <td>500412</td>\n",
       "      <td>TIRUMALCHM</td>\n",
       "      <td>340.0</td>\n",
       "      <td>3.476000e+10</td>\n",
       "      <td>1.022353e+08</td>\n",
       "      <td>Jun 2022</td>\n",
       "      <td>01-06-2022</td>\n",
       "      <td>NaN</td>\n",
       "      <td>EQUAL</td>\n",
       "    </tr>\n",
       "    <tr>\n",
       "      <th>329614</th>\n",
       "      <td>xxxii S Sridhar HUF</td>\n",
       "      <td>0.00</td>\n",
       "      <td>500412</td>\n",
       "      <td>TIRUMALCHM</td>\n",
       "      <td>340.0</td>\n",
       "      <td>3.476000e+10</td>\n",
       "      <td>1.022353e+08</td>\n",
       "      <td>Sep 2022</td>\n",
       "      <td>01-09-2022</td>\n",
       "      <td>NaN</td>\n",
       "      <td>EQUAL</td>\n",
       "    </tr>\n",
       "    <tr>\n",
       "      <th>329652</th>\n",
       "      <td>xxxii S Sridhar HUF</td>\n",
       "      <td>0.00</td>\n",
       "      <td>500412</td>\n",
       "      <td>TIRUMALCHM</td>\n",
       "      <td>340.0</td>\n",
       "      <td>3.476000e+10</td>\n",
       "      <td>1.022353e+08</td>\n",
       "      <td>Dec 2022</td>\n",
       "      <td>01-12-2022</td>\n",
       "      <td>NaN</td>\n",
       "      <td>EQUAL</td>\n",
       "    </tr>\n",
       "    <tr>\n",
       "      <th>329690</th>\n",
       "      <td>xxxii S Sridhar HUF</td>\n",
       "      <td>0.00</td>\n",
       "      <td>500412</td>\n",
       "      <td>TIRUMALCHM</td>\n",
       "      <td>340.0</td>\n",
       "      <td>3.476000e+10</td>\n",
       "      <td>1.022353e+08</td>\n",
       "      <td>Mar 2023</td>\n",
       "      <td>01-03-2023</td>\n",
       "      <td>NaN</td>\n",
       "      <td>EQUAL</td>\n",
       "    </tr>\n",
       "    <tr>\n",
       "      <th>329729</th>\n",
       "      <td>xxxii S Sridhar HUF</td>\n",
       "      <td>0.00</td>\n",
       "      <td>500412</td>\n",
       "      <td>TIRUMALCHM</td>\n",
       "      <td>340.0</td>\n",
       "      <td>3.476000e+10</td>\n",
       "      <td>1.022353e+08</td>\n",
       "      <td>Jun 2023</td>\n",
       "      <td>01-06-2023</td>\n",
       "      <td>NaN</td>\n",
       "      <td>EQUAL</td>\n",
       "    </tr>\n",
       "  </tbody>\n",
       "</table>\n",
       "<p>481021 rows × 11 columns</p>\n",
       "</div>"
      ],
      "text/plain": [
       "                                                                 Promoter  \\\n",
       "Promoter                                                                    \n",
       "20Th Century Engineering Limited 43987   20Th Century Engineering Limited   \n",
       "                                 44010   20Th Century Engineering Limited   \n",
       "                                 44034   20Th Century Engineering Limited   \n",
       "                                 44058   20Th Century Engineering Limited   \n",
       "                                 44080   20Th Century Engineering Limited   \n",
       "...                                                                   ...   \n",
       "xxxii S Sridhar HUF              329580               xxxii S Sridhar HUF   \n",
       "                                 329614               xxxii S Sridhar HUF   \n",
       "                                 329652               xxxii S Sridhar HUF   \n",
       "                                 329690               xxxii S Sridhar HUF   \n",
       "                                 329729               xxxii S Sridhar HUF   \n",
       "\n",
       "                                         Share  BSE Code    NSE Code  Price  \\\n",
       "Promoter                                                                      \n",
       "20Th Century Engineering Limited 43987    2.73    500402   SPMLINFRA  245.0   \n",
       "                                 44010    2.73    500402   SPMLINFRA  245.0   \n",
       "                                 44034    2.54    500402   SPMLINFRA  245.0   \n",
       "                                 44058    2.34    500402   SPMLINFRA  245.0   \n",
       "                                 44080    2.20    500402   SPMLINFRA  245.0   \n",
       "...                                        ...       ...         ...    ...   \n",
       "xxxii S Sridhar HUF              329580   0.00    500412  TIRUMALCHM  340.0   \n",
       "                                 329614   0.00    500412  TIRUMALCHM  340.0   \n",
       "                                 329652   0.00    500412  TIRUMALCHM  340.0   \n",
       "                                 329690   0.00    500412  TIRUMALCHM  340.0   \n",
       "                                 329729   0.00    500412  TIRUMALCHM  340.0   \n",
       "\n",
       "                                                 MCap   TotalShares  \\\n",
       "Promoter                                                              \n",
       "20Th Century Engineering Limited 43987   1.467000e+10  5.987755e+07   \n",
       "                                 44010   1.467000e+10  5.987755e+07   \n",
       "                                 44034   1.467000e+10  5.987755e+07   \n",
       "                                 44058   1.467000e+10  5.987755e+07   \n",
       "                                 44080   1.467000e+10  5.987755e+07   \n",
       "...                                               ...           ...   \n",
       "xxxii S Sridhar HUF              329580  3.476000e+10  1.022353e+08   \n",
       "                                 329614  3.476000e+10  1.022353e+08   \n",
       "                                 329652  3.476000e+10  1.022353e+08   \n",
       "                                 329690  3.476000e+10  1.022353e+08   \n",
       "                                 329729  3.476000e+10  1.022353e+08   \n",
       "\n",
       "                                        CaptureDate        Date  \\\n",
       "Promoter                                                          \n",
       "20Th Century Engineering Limited 43987     Sep 2021  01-09-2021   \n",
       "                                 44010     Dec 2021  01-12-2021   \n",
       "                                 44034     Mar 2022  01-03-2022   \n",
       "                                 44058     Jun 2022  01-06-2022   \n",
       "                                 44080     Sep 2022  01-09-2022   \n",
       "...                                             ...         ...   \n",
       "xxxii S Sridhar HUF              329580    Jun 2022  01-06-2022   \n",
       "                                 329614    Sep 2022  01-09-2022   \n",
       "                                 329652    Dec 2022  01-12-2022   \n",
       "                                 329690    Mar 2023  01-03-2023   \n",
       "                                 329729    Jun 2023  01-06-2023   \n",
       "\n",
       "                                         Share_Cha0nge     ch  \n",
       "Promoter                                                       \n",
       "20Th Century Engineering Limited 43987             NaN  EQUAL  \n",
       "                                 44010        0.000000  EQUAL  \n",
       "                                 44034       -6.959707   Down  \n",
       "                                 44058       -7.874016   Down  \n",
       "                                 44080       -5.982906   Down  \n",
       "...                                                ...    ...  \n",
       "xxxii S Sridhar HUF              329580            NaN  EQUAL  \n",
       "                                 329614            NaN  EQUAL  \n",
       "                                 329652            NaN  EQUAL  \n",
       "                                 329690            NaN  EQUAL  \n",
       "                                 329729            NaN  EQUAL  \n",
       "\n",
       "[481021 rows x 11 columns]"
      ]
     },
     "execution_count": 42,
     "metadata": {},
     "output_type": "execute_result"
    }
   ],
   "source": [
    "du"
   ]
  },
  {
   "cell_type": "code",
   "execution_count": 49,
   "metadata": {},
   "outputs": [],
   "source": [
    "a = a[a[\"ch\"]==\"UP\"]"
   ]
  },
  {
   "cell_type": "code",
   "execution_count": 50,
   "metadata": {},
   "outputs": [
    {
     "data": {
      "text/html": [
       "<div>\n",
       "<style scoped>\n",
       "    .dataframe tbody tr th:only-of-type {\n",
       "        vertical-align: middle;\n",
       "    }\n",
       "\n",
       "    .dataframe tbody tr th {\n",
       "        vertical-align: top;\n",
       "    }\n",
       "\n",
       "    .dataframe thead th {\n",
       "        text-align: right;\n",
       "    }\n",
       "</style>\n",
       "<table border=\"1\" class=\"dataframe\">\n",
       "  <thead>\n",
       "    <tr style=\"text-align: right;\">\n",
       "      <th></th>\n",
       "      <th></th>\n",
       "      <th>Promoter</th>\n",
       "      <th>Share</th>\n",
       "      <th>BSE Code</th>\n",
       "      <th>NSE Code</th>\n",
       "      <th>Price</th>\n",
       "      <th>MCap</th>\n",
       "      <th>TotalShares</th>\n",
       "      <th>CaptureDate</th>\n",
       "      <th>Date</th>\n",
       "      <th>Share_Cha0nge</th>\n",
       "      <th>ch</th>\n",
       "    </tr>\n",
       "    <tr>\n",
       "      <th>Promoter</th>\n",
       "      <th></th>\n",
       "      <th></th>\n",
       "      <th></th>\n",
       "      <th></th>\n",
       "      <th></th>\n",
       "      <th></th>\n",
       "      <th></th>\n",
       "      <th></th>\n",
       "      <th></th>\n",
       "      <th></th>\n",
       "      <th></th>\n",
       "      <th></th>\n",
       "    </tr>\n",
       "  </thead>\n",
       "  <tbody>\n",
       "    <tr>\n",
       "      <th>A Durga Sundeep</th>\n",
       "      <th>239521</th>\n",
       "      <td>A Durga Sundeep</td>\n",
       "      <td>3.54</td>\n",
       "      <td>526263</td>\n",
       "      <td>MOLDTECH</td>\n",
       "      <td>223.0</td>\n",
       "      <td>6.370000e+09</td>\n",
       "      <td>2.856502e+07</td>\n",
       "      <td>Jun 2024</td>\n",
       "      <td>01-06-2024</td>\n",
       "      <td>98.876404</td>\n",
       "      <td>UP</td>\n",
       "    </tr>\n",
       "    <tr>\n",
       "      <th>APriyamvadha</th>\n",
       "      <th>142157</th>\n",
       "      <td>APriyamvadha</td>\n",
       "      <td>15.85</td>\n",
       "      <td>512634</td>\n",
       "      <td>NaN</td>\n",
       "      <td>157.0</td>\n",
       "      <td>1.870000e+09</td>\n",
       "      <td>1.191083e+07</td>\n",
       "      <td>Jun 2024</td>\n",
       "      <td>01-06-2024</td>\n",
       "      <td>175.173611</td>\n",
       "      <td>UP</td>\n",
       "    </tr>\n",
       "    <tr>\n",
       "      <th>Aadhar Infosystems Private Limited</th>\n",
       "      <th>317781</th>\n",
       "      <td>Aadhar Infosystems Private Limited</td>\n",
       "      <td>0.43</td>\n",
       "      <td>520073</td>\n",
       "      <td>NaN</td>\n",
       "      <td>1002.0</td>\n",
       "      <td>1.080000e+10</td>\n",
       "      <td>1.077844e+07</td>\n",
       "      <td>Jun 2024</td>\n",
       "      <td>01-06-2024</td>\n",
       "      <td>4.878049</td>\n",
       "      <td>UP</td>\n",
       "    </tr>\n",
       "    <tr>\n",
       "      <th>Aanal Pravin Bhagwati</th>\n",
       "      <th>373800</th>\n",
       "      <td>Aanal Pravin Bhagwati</td>\n",
       "      <td>3.77</td>\n",
       "      <td>504646</td>\n",
       "      <td>NaN</td>\n",
       "      <td>455.0</td>\n",
       "      <td>1.310000e+09</td>\n",
       "      <td>2.879121e+06</td>\n",
       "      <td>Jun 2024</td>\n",
       "      <td>01-06-2024</td>\n",
       "      <td>0.265957</td>\n",
       "      <td>UP</td>\n",
       "    </tr>\n",
       "    <tr>\n",
       "      <th>Aarey Drugs And Pharmaceuticals Limited</th>\n",
       "      <th>419931</th>\n",
       "      <td>Aarey Drugs And Pharmaceuticals Limited</td>\n",
       "      <td>2.70</td>\n",
       "      <td>538451</td>\n",
       "      <td>NaN</td>\n",
       "      <td>41.5</td>\n",
       "      <td>6.150000e+09</td>\n",
       "      <td>1.481928e+08</td>\n",
       "      <td>Jun 2024</td>\n",
       "      <td>01-06-2024</td>\n",
       "      <td>inf</td>\n",
       "      <td>UP</td>\n",
       "    </tr>\n",
       "    <tr>\n",
       "      <th>...</th>\n",
       "      <th>...</th>\n",
       "      <td>...</td>\n",
       "      <td>...</td>\n",
       "      <td>...</td>\n",
       "      <td>...</td>\n",
       "      <td>...</td>\n",
       "      <td>...</td>\n",
       "      <td>...</td>\n",
       "      <td>...</td>\n",
       "      <td>...</td>\n",
       "      <td>...</td>\n",
       "      <td>...</td>\n",
       "    </tr>\n",
       "    <tr>\n",
       "      <th>Yashpal Velchand Jain</th>\n",
       "      <th>301025</th>\n",
       "      <td>Yashpal Velchand Jain</td>\n",
       "      <td>0.08</td>\n",
       "      <td>544200</td>\n",
       "      <td>AFIL</td>\n",
       "      <td>116.0</td>\n",
       "      <td>4.940000e+09</td>\n",
       "      <td>4.258621e+07</td>\n",
       "      <td>Jun 2024</td>\n",
       "      <td>01-06-2024</td>\n",
       "      <td>inf</td>\n",
       "      <td>UP</td>\n",
       "    </tr>\n",
       "    <tr>\n",
       "      <th>Yashvardhan Rajgarhia</th>\n",
       "      <th>217266</th>\n",
       "      <td>Yashvardhan Rajgarhia</td>\n",
       "      <td>0.02</td>\n",
       "      <td>526525</td>\n",
       "      <td>NaN</td>\n",
       "      <td>22.1</td>\n",
       "      <td>7.270000e+07</td>\n",
       "      <td>3.289593e+06</td>\n",
       "      <td>Jun 2024</td>\n",
       "      <td>01-06-2024</td>\n",
       "      <td>100.000000</td>\n",
       "      <td>UP</td>\n",
       "    </tr>\n",
       "    <tr>\n",
       "      <th>Yashwant Kumar Daga</th>\n",
       "      <th>405476</th>\n",
       "      <td>Yashwant Kumar Daga</td>\n",
       "      <td>13.88</td>\n",
       "      <td>514030</td>\n",
       "      <td>NaN</td>\n",
       "      <td>218.0</td>\n",
       "      <td>1.570000e+09</td>\n",
       "      <td>7.201835e+06</td>\n",
       "      <td>Jun 2024</td>\n",
       "      <td>01-06-2024</td>\n",
       "      <td>0.725689</td>\n",
       "      <td>UP</td>\n",
       "    </tr>\n",
       "    <tr>\n",
       "      <th>Zeba Hasan</th>\n",
       "      <th>115704</th>\n",
       "      <td>Zeba Hasan</td>\n",
       "      <td>3.85</td>\n",
       "      <td>526117</td>\n",
       "      <td>NaN</td>\n",
       "      <td>570.0</td>\n",
       "      <td>1.470000e+09</td>\n",
       "      <td>2.578947e+06</td>\n",
       "      <td>Jun 2024</td>\n",
       "      <td>01-06-2024</td>\n",
       "      <td>10.000000</td>\n",
       "      <td>UP</td>\n",
       "    </tr>\n",
       "    <tr>\n",
       "      <th>Zoom Industrial Services Ltd</th>\n",
       "      <th>44193</th>\n",
       "      <td>Zoom Industrial Services Ltd</td>\n",
       "      <td>15.68</td>\n",
       "      <td>500402</td>\n",
       "      <td>SPMLINFRA</td>\n",
       "      <td>245.0</td>\n",
       "      <td>1.467000e+10</td>\n",
       "      <td>5.987755e+07</td>\n",
       "      <td>Jun 2024</td>\n",
       "      <td>01-06-2024</td>\n",
       "      <td>2.752294</td>\n",
       "      <td>UP</td>\n",
       "    </tr>\n",
       "  </tbody>\n",
       "</table>\n",
       "<p>835 rows × 11 columns</p>\n",
       "</div>"
      ],
      "text/plain": [
       "                                                                               Promoter  \\\n",
       "Promoter                                                                                  \n",
       "A Durga Sundeep                         239521                          A Durga Sundeep   \n",
       "APriyamvadha                            142157                             APriyamvadha   \n",
       "Aadhar Infosystems Private Limited      317781       Aadhar Infosystems Private Limited   \n",
       "Aanal Pravin Bhagwati                   373800                    Aanal Pravin Bhagwati   \n",
       "Aarey Drugs And Pharmaceuticals Limited 419931  Aarey Drugs And Pharmaceuticals Limited   \n",
       "...                                                                                 ...   \n",
       "Yashpal Velchand Jain                   301025                    Yashpal Velchand Jain   \n",
       "Yashvardhan Rajgarhia                   217266                    Yashvardhan Rajgarhia   \n",
       "Yashwant Kumar Daga                     405476                      Yashwant Kumar Daga   \n",
       "Zeba Hasan                              115704                               Zeba Hasan   \n",
       "Zoom Industrial Services Ltd            44193              Zoom Industrial Services Ltd   \n",
       "\n",
       "                                                Share  BSE Code   NSE Code  \\\n",
       "Promoter                                                                     \n",
       "A Durga Sundeep                         239521   3.54    526263   MOLDTECH   \n",
       "APriyamvadha                            142157  15.85    512634        NaN   \n",
       "Aadhar Infosystems Private Limited      317781   0.43    520073        NaN   \n",
       "Aanal Pravin Bhagwati                   373800   3.77    504646        NaN   \n",
       "Aarey Drugs And Pharmaceuticals Limited 419931   2.70    538451        NaN   \n",
       "...                                               ...       ...        ...   \n",
       "Yashpal Velchand Jain                   301025   0.08    544200       AFIL   \n",
       "Yashvardhan Rajgarhia                   217266   0.02    526525        NaN   \n",
       "Yashwant Kumar Daga                     405476  13.88    514030        NaN   \n",
       "Zeba Hasan                              115704   3.85    526117        NaN   \n",
       "Zoom Industrial Services Ltd            44193   15.68    500402  SPMLINFRA   \n",
       "\n",
       "                                                 Price          MCap  \\\n",
       "Promoter                                                               \n",
       "A Durga Sundeep                         239521   223.0  6.370000e+09   \n",
       "APriyamvadha                            142157   157.0  1.870000e+09   \n",
       "Aadhar Infosystems Private Limited      317781  1002.0  1.080000e+10   \n",
       "Aanal Pravin Bhagwati                   373800   455.0  1.310000e+09   \n",
       "Aarey Drugs And Pharmaceuticals Limited 419931    41.5  6.150000e+09   \n",
       "...                                                ...           ...   \n",
       "Yashpal Velchand Jain                   301025   116.0  4.940000e+09   \n",
       "Yashvardhan Rajgarhia                   217266    22.1  7.270000e+07   \n",
       "Yashwant Kumar Daga                     405476   218.0  1.570000e+09   \n",
       "Zeba Hasan                              115704   570.0  1.470000e+09   \n",
       "Zoom Industrial Services Ltd            44193    245.0  1.467000e+10   \n",
       "\n",
       "                                                 TotalShares CaptureDate  \\\n",
       "Promoter                                                                   \n",
       "A Durga Sundeep                         239521  2.856502e+07    Jun 2024   \n",
       "APriyamvadha                            142157  1.191083e+07    Jun 2024   \n",
       "Aadhar Infosystems Private Limited      317781  1.077844e+07    Jun 2024   \n",
       "Aanal Pravin Bhagwati                   373800  2.879121e+06    Jun 2024   \n",
       "Aarey Drugs And Pharmaceuticals Limited 419931  1.481928e+08    Jun 2024   \n",
       "...                                                      ...         ...   \n",
       "Yashpal Velchand Jain                   301025  4.258621e+07    Jun 2024   \n",
       "Yashvardhan Rajgarhia                   217266  3.289593e+06    Jun 2024   \n",
       "Yashwant Kumar Daga                     405476  7.201835e+06    Jun 2024   \n",
       "Zeba Hasan                              115704  2.578947e+06    Jun 2024   \n",
       "Zoom Industrial Services Ltd            44193   5.987755e+07    Jun 2024   \n",
       "\n",
       "                                                      Date  Share_Cha0nge  ch  \n",
       "Promoter                                                                       \n",
       "A Durga Sundeep                         239521  01-06-2024      98.876404  UP  \n",
       "APriyamvadha                            142157  01-06-2024     175.173611  UP  \n",
       "Aadhar Infosystems Private Limited      317781  01-06-2024       4.878049  UP  \n",
       "Aanal Pravin Bhagwati                   373800  01-06-2024       0.265957  UP  \n",
       "Aarey Drugs And Pharmaceuticals Limited 419931  01-06-2024            inf  UP  \n",
       "...                                                    ...            ...  ..  \n",
       "Yashpal Velchand Jain                   301025  01-06-2024            inf  UP  \n",
       "Yashvardhan Rajgarhia                   217266  01-06-2024     100.000000  UP  \n",
       "Yashwant Kumar Daga                     405476  01-06-2024       0.725689  UP  \n",
       "Zeba Hasan                              115704  01-06-2024      10.000000  UP  \n",
       "Zoom Industrial Services Ltd            44193   01-06-2024       2.752294  UP  \n",
       "\n",
       "[835 rows x 11 columns]"
      ]
     },
     "execution_count": 50,
     "metadata": {},
     "output_type": "execute_result"
    }
   ],
   "source": [
    "a"
   ]
  },
  {
   "cell_type": "code",
   "execution_count": 12,
   "metadata": {},
   "outputs": [],
   "source": [
    "du.to_csv(\"tt6.csv\")"
   ]
  },
  {
   "cell_type": "code",
   "execution_count": 16,
   "metadata": {},
   "outputs": [],
   "source": [
    "data = pd.read_csv(\"gj.csv\")"
   ]
  },
  {
   "cell_type": "code",
   "execution_count": 18,
   "metadata": {},
   "outputs": [
    {
     "data": {
      "image/png": "[encoded data removed]",
      "text/plain": [
       "<Figure size 720x432 with 1 Axes>"
      ]
     },
     "metadata": {
      "needs_background": "light"
     },
     "output_type": "display_data"
    }
   ],
   "source": [
    "import matplotlib.pyplot as plt\n",
    "df = pd.DataFrame(data)\n",
    "\n",
    "# Drop rows where Share_Change% is None\n",
    "df = df.dropna(subset=['Share_Change%'])\n",
    "\n",
    "# Plotting\n",
    "plt.figure(figsize=(10, 6))\n",
    "plt.plot(df['Promoter'], df['Share_Change%'], marker='o')\n",
    "\n",
    "# Adding labels and title\n",
    "plt.xlabel('Promoter')\n",
    "plt.ylabel('Share Change (%)')\n",
    "plt.title('Share Change % by Promoter on 2024-01-08')\n",
    "\n",
    "# Rotate x-axis labels for better readability\n",
    "plt.xticks(rotation=45, ha='right')\n",
    "\n",
    "# Show grid\n",
    "plt.grid(True)\n",
    "\n",
    "# Display the plot\n",
    "plt.show()"
   ]
  },
  {
   "cell_type": "code",
   "execution_count": 19,
   "metadata": {},
   "outputs": [],
   "source": [
    "import plotly.express as px"
   ]
  },
  {
   "cell_type": "code",
   "execution_count": 20,
   "metadata": {},
   "outputs": [
    {
     "data": {
      "application/vnd.plotly.v1+json": {
       "config": {
        "plotlyServerURL": "https://plot.ly"
       },
       "data": [
        {
         "hovertemplate": "Promoter=%{x}<br>Share Change (%)=%{y}<extra></extra>",
         "legendgroup": "",
         "line": {
          "color": "#636efa",
          "dash": "solid"
         },
         "marker": {
          "symbol": "circle"
         },
         "mode": "lines+markers",
         "name": "",
         "orientation": "v",
         "showlegend": false,
         "type": "scatter",
         "x": [
          "Ashok Chinubhai Shah",
          "Leena Ashok Shah",
          "Lesha Ventures Private Limited",
          "Shalin Ashok Shah"
         ],
         "xaxis": "x",
         "y": [
          0.55005500550056,
          0.536912751677843,
          0.591715976331364,
          0.486618004866179
         ],
         "yaxis": "y"
        }
       ],
       "layout": {
        "legend": {
         "tracegroupgap": 0
        },
        "template": {
         "data": {
          "bar": [
           {
            "error_x": {
             "color": "#2a3f5f"
            },
            "error_y": {
             "color": "#2a3f5f"
            },
            "marker": {
             "line": {
              "color": "#E5ECF6",
              "width": 0.5
             },
             "pattern": {
              "fillmode": "overlay",
              "size": 10,
              "solidity": 0.2
             }
            },
            "type": "bar"
           }
          ],
          "barpolar": [
           {
            "marker": {
             "line": {
              "color": "#E5ECF6",
              "width": 0.5
             },
             "pattern": {
              "fillmode": "overlay",
              "size": 10,
              "solidity": 0.2
             }
            },
            "type": "barpolar"
           }
          ],
          "carpet": [
           {
            "aaxis": {
             "endlinecolor": "#2a3f5f",
             "gridcolor": "white",
             "linecolor": "white",
             "minorgridcolor": "white",
             "startlinecolor": "#2a3f5f"
            },
            "baxis": {
             "endlinecolor": "#2a3f5f",
             "gridcolor": "white",
             "linecolor": "white",
             "minorgridcolor": "white",
             "startlinecolor": "#2a3f5f"
            },
            "type": "carpet"
           }
          ],
          "choropleth": [
           {
            "colorbar": {
             "outlinewidth": 0,
             "ticks": ""
            },
            "type": "choropleth"
           }
          ],
          "contour": [
           {
            "colorbar": {
             "outlinewidth": 0,
             "ticks": ""
            },
            "colorscale": [
             [
              0,
              "#0d0887"
             ],
             [
              0.1111111111111111,
              "#46039f"
             ],
             [
              0.2222222222222222,
              "#7201a8"
             ],
             [
              0.3333333333333333,
              "#9c179e"
             ],
             [
              0.4444444444444444,
              "#bd3786"
             ],
             [
              0.5555555555555556,
              "#d8576b"
             ],
             [
              0.6666666666666666,
              "#ed7953"
             ],
             [
              0.7777777777777778,
              "#fb9f3a"
             ],
             [
              0.8888888888888888,
              "#fdca26"
             ],
             [
              1,
              "#f0f921"
             ]
            ],
            "type": "contour"
           }
          ],
          "contourcarpet": [
           {
            "colorbar": {
             "outlinewidth": 0,
             "ticks": ""
            },
            "type": "contourcarpet"
           }
          ],
          "heatmap": [
           {
            "colorbar": {
             "outlinewidth": 0,
             "ticks": ""
            },
            "colorscale": [
             [
              0,
              "#0d0887"
             ],
             [
              0.1111111111111111,
              "#46039f"
             ],
             [
              0.2222222222222222,
              "#7201a8"
             ],
             [
              0.3333333333333333,
              "#9c179e"
             ],
             [
              0.4444444444444444,
              "#bd3786"
             ],
             [
              0.5555555555555556,
              "#d8576b"
             ],
             [
              0.6666666666666666,
              "#ed7953"
             ],
             [
              0.7777777777777778,
              "#fb9f3a"
             ],
             [
              0.8888888888888888,
              "#fdca26"
             ],
             [
              1,
              "#f0f921"
             ]
            ],
            "type": "heatmap"
           }
          ],
          "heatmapgl": [
           {
            "colorbar": {
             "outlinewidth": 0,
             "ticks": ""
            },
            "colorscale": [
             [
              0,
              "#0d0887"
             ],
             [
              0.1111111111111111,
              "#46039f"
             ],
             [
              0.2222222222222222,
              "#7201a8"
             ],
             [
              0.3333333333333333,
              "#9c179e"
             ],
             [
              0.4444444444444444,
              "#bd3786"
             ],
             [
              0.5555555555555556,
              "#d8576b"
             ],
             [
              0.6666666666666666,
              "#ed7953"
             ],
             [
              0.7777777777777778,
              "#fb9f3a"
             ],
             [
              0.8888888888888888,
              "#fdca26"
             ],
             [
              1,
              "#f0f921"
             ]
            ],
            "type": "heatmapgl"
           }
          ],
          "histogram": [
           {
            "marker": {
             "pattern": {
              "fillmode": "overlay",
              "size": 10,
              "solidity": 0.2
             }
            },
            "type": "histogram"
           }
          ],
          "histogram2d": [
           {
            "colorbar": {
             "outlinewidth": 0,
             "ticks": ""
            },
            "colorscale": [
             [
              0,
              "#0d0887"
             ],
             [
              0.1111111111111111,
              "#46039f"
             ],
             [
              0.2222222222222222,
              "#7201a8"
             ],
             [
              0.3333333333333333,
              "#9c179e"
             ],
             [
              0.4444444444444444,
              "#bd3786"
             ],
             [
              0.5555555555555556,
              "#d8576b"
             ],
             [
              0.6666666666666666,
              "#ed7953"
             ],
             [
              0.7777777777777778,
              "#fb9f3a"
             ],
             [
              0.8888888888888888,
              "#fdca26"
             ],
             [
              1,
              "#f0f921"
             ]
            ],
            "type": "histogram2d"
           }
          ],
          "histogram2dcontour": [
           {
            "colorbar": {
             "outlinewidth": 0,
             "ticks": ""
            },
            "colorscale": [
             [
              0,
              "#0d0887"
             ],
             [
              0.1111111111111111,
              "#46039f"
             ],
             [
              0.2222222222222222,
              "#7201a8"
             ],
             [
              0.3333333333333333,
              "#9c179e"
             ],
             [
              0.4444444444444444,
              "#bd3786"
             ],
             [
              0.5555555555555556,
              "#d8576b"
             ],
             [
              0.6666666666666666,
              "#ed7953"
             ],
             [
              0.7777777777777778,
              "#fb9f3a"
             ],
             [
              0.8888888888888888,
              "#fdca26"
             ],
             [
              1,
              "#f0f921"
             ]
            ],
            "type": "histogram2dcontour"
           }
          ],
          "mesh3d": [
           {
            "colorbar": {
             "outlinewidth": 0,
             "ticks": ""
            },
            "type": "mesh3d"
           }
          ],
          "parcoords": [
           {
            "line": {
             "colorbar": {
              "outlinewidth": 0,
              "ticks": ""
             }
            },
            "type": "parcoords"
           }
          ],
          "pie": [
           {
            "automargin": true,
            "type": "pie"
           }
          ],
          "scatter": [
           {
            "fillpattern": {
             "fillmode": "overlay",
             "size": 10,
             "solidity": 0.2
            },
            "type": "scatter"
           }
          ],
          "scatter3d": [
           {
            "line": {
             "colorbar": {
              "outlinewidth": 0,
              "ticks": ""
             }
            },
            "marker": {
             "colorbar": {
              "outlinewidth": 0,
              "ticks": ""
             }
            },
            "type": "scatter3d"
           }
          ],
          "scattercarpet": [
           {
            "marker": {
             "colorbar": {
              "outlinewidth": 0,
              "ticks": ""
             }
            },
            "type": "scattercarpet"
           }
          ],
          "scattergeo": [
           {
            "marker": {
             "colorbar": {
              "outlinewidth": 0,
              "ticks": ""
             }
            },
            "type": "scattergeo"
           }
          ],
          "scattergl": [
           {
            "marker": {
             "colorbar": {
              "outlinewidth": 0,
              "ticks": ""
             }
            },
            "type": "scattergl"
           }
          ],
          "scattermapbox": [
           {
            "marker": {
             "colorbar": {
              "outlinewidth": 0,
              "ticks": ""
             }
            },
            "type": "scattermapbox"
           }
          ],
          "scatterpolar": [
           {
            "marker": {
             "colorbar": {
              "outlinewidth": 0,
              "ticks": ""
             }
            },
            "type": "scatterpolar"
           }
          ],
          "scatterpolargl": [
           {
            "marker": {
             "colorbar": {
              "outlinewidth": 0,
              "ticks": ""
             }
            },
            "type": "scatterpolargl"
           }
          ],
          "scatterternary": [
           {
            "marker": {
             "colorbar": {
              "outlinewidth": 0,
              "ticks": ""
             }
            },
            "type": "scatterternary"
           }
          ],
          "surface": [
           {
            "colorbar": {
             "outlinewidth": 0,
             "ticks": ""
            },
            "colorscale": [
             [
              0,
              "#0d0887"
             ],
             [
              0.1111111111111111,
              "#46039f"
             ],
             [
              0.2222222222222222,
              "#7201a8"
             ],
             [
              0.3333333333333333,
              "#9c179e"
             ],
             [
              0.4444444444444444,
              "#bd3786"
             ],
             [
              0.5555555555555556,
              "#d8576b"
             ],
             [
              0.6666666666666666,
              "#ed7953"
             ],
             [
              0.7777777777777778,
              "#fb9f3a"
             ],
             [
              0.8888888888888888,
              "#fdca26"
             ],
             [
              1,
              "#f0f921"
             ]
            ],
            "type": "surface"
           }
          ],
          "table": [
           {
            "cells": {
             "fill": {
              "color": "#EBF0F8"
             },
             "line": {
              "color": "white"
             }
            },
            "header": {
             "fill": {
              "color": "#C8D4E3"
             },
             "line": {
              "color": "white"
             }
            },
            "type": "table"
           }
          ]
         },
         "layout": {
          "annotationdefaults": {
           "arrowcolor": "#2a3f5f",
           "arrowhead": 0,
           "arrowwidth": 1
          },
          "autotypenumbers": "strict",
          "coloraxis": {
           "colorbar": {
            "outlinewidth": 0,
            "ticks": ""
           }
          },
          "colorscale": {
           "diverging": [
            [
             0,
             "#8e0152"
            ],
            [
             0.1,
             "#c51b7d"
            ],
            [
             0.2,
             "#de77ae"
            ],
            [
             0.3,
             "#f1b6da"
            ],
            [
             0.4,
             "#fde0ef"
            ],
            [
             0.5,
             "#f7f7f7"
            ],
            [
             0.6,
             "#e6f5d0"
            ],
            [
             0.7,
             "#b8e186"
            ],
            [
             0.8,
             "#7fbc41"
            ],
            [
             0.9,
             "#4d9221"
            ],
            [
             1,
             "#276419"
            ]
           ],
           "sequential": [
            [
             0,
             "#0d0887"
            ],
            [
             0.1111111111111111,
             "#46039f"
            ],
            [
             0.2222222222222222,
             "#7201a8"
            ],
            [
             0.3333333333333333,
             "#9c179e"
            ],
            [
             0.4444444444444444,
             "#bd3786"
            ],
            [
             0.5555555555555556,
             "#d8576b"
            ],
            [
             0.6666666666666666,
             "#ed7953"
            ],
            [
             0.7777777777777778,
             "#fb9f3a"
            ],
            [
             0.8888888888888888,
             "#fdca26"
            ],
            [
             1,
             "#f0f921"
            ]
           ],
           "sequentialminus": [
            [
             0,
             "#0d0887"
            ],
            [
             0.1111111111111111,
             "#46039f"
            ],
            [
             0.2222222222222222,
             "#7201a8"
            ],
            [
             0.3333333333333333,
             "#9c179e"
            ],
            [
             0.4444444444444444,
             "#bd3786"
            ],
            [
             0.5555555555555556,
             "#d8576b"
            ],
            [
             0.6666666666666666,
             "#ed7953"
            ],
            [
             0.7777777777777778,
             "#fb9f3a"
            ],
            [
             0.8888888888888888,
             "#fdca26"
            ],
            [
             1,
             "#f0f921"
            ]
           ]
          },
          "colorway": [
           "#636efa",
           "#EF553B",
           "#00cc96",
           "#ab63fa",
           "#FFA15A",
           "#19d3f3",
           "#FF6692",
           "#B6E880",
           "#FF97FF",
           "#FECB52"
          ],
          "font": {
           "color": "#2a3f5f"
          },
          "geo": {
           "bgcolor": "white",
           "lakecolor": "white",
           "landcolor": "#E5ECF6",
           "showlakes": true,
           "showland": true,
           "subunitcolor": "white"
          },
          "hoverlabel": {
           "align": "left"
          },
          "hovermode": "closest",
          "mapbox": {
           "style": "light"
          },
          "paper_bgcolor": "white",
          "plot_bgcolor": "#E5ECF6",
          "polar": {
           "angularaxis": {
            "gridcolor": "white",
            "linecolor": "white",
            "ticks": ""
           },
           "bgcolor": "#E5ECF6",
           "radialaxis": {
            "gridcolor": "white",
            "linecolor": "white",
            "ticks": ""
           }
          },
          "scene": {
           "xaxis": {
            "backgroundcolor": "#E5ECF6",
            "gridcolor": "white",
            "gridwidth": 2,
            "linecolor": "white",
            "showbackground": true,
            "ticks": "",
            "zerolinecolor": "white"
           },
           "yaxis": {
            "backgroundcolor": "#E5ECF6",
            "gridcolor": "white",
            "gridwidth": 2,
            "linecolor": "white",
            "showbackground": true,
            "ticks": "",
            "zerolinecolor": "white"
           },
           "zaxis": {
            "backgroundcolor": "#E5ECF6",
            "gridcolor": "white",
            "gridwidth": 2,
            "linecolor": "white",
            "showbackground": true,
            "ticks": "",
            "zerolinecolor": "white"
           }
          },
          "shapedefaults": {
           "line": {
            "color": "#2a3f5f"
           }
          },
          "ternary": {
           "aaxis": {
            "gridcolor": "white",
            "linecolor": "white",
            "ticks": ""
           },
           "baxis": {
            "gridcolor": "white",
            "linecolor": "white",
            "ticks": ""
           },
           "bgcolor": "#E5ECF6",
           "caxis": {
            "gridcolor": "white",
            "linecolor": "white",
            "ticks": ""
           }
          },
          "title": {
           "x": 0.05
          },
          "xaxis": {
           "automargin": true,
           "gridcolor": "white",
           "linecolor": "white",
           "ticks": "",
           "title": {
            "standoff": 15
           },
           "zerolinecolor": "white",
           "zerolinewidth": 2
          },
          "yaxis": {
           "automargin": true,
           "gridcolor": "white",
           "linecolor": "white",
           "ticks": "",
           "title": {
            "standoff": 15
           },
           "zerolinecolor": "white",
           "zerolinewidth": 2
          }
         }
        },
        "title": {
         "text": "Share Change % by Promoter on 2024-01-08"
        },
        "xaxis": {
         "anchor": "y",
         "domain": [
          0,
          1
         ],
         "tickangle": 45,
         "title": {
          "text": "Promoter"
         }
        },
        "yaxis": {
         "anchor": "x",
         "domain": [
          0,
          1
         ],
         "title": {
          "text": "Share Change (%)"
         }
        }
       }
      }
     },
     "metadata": {},
     "output_type": "display_data"
    }
   ],
   "source": [
    "df = pd.DataFrame(data)\n",
    "\n",
    "# Drop rows where Share_Change% is None\n",
    "df = df.dropna(subset=['Share_Change%'])\n",
    "\n",
    "# Plotting using Plotly Express\n",
    "fig = px.line(\n",
    "    df,\n",
    "    x='Promoter',\n",
    "    y='Share_Change%',\n",
    "    title='Share Change % by Promoter on 2024-01-08',\n",
    "    labels={\n",
    "        'Promoter': 'Promoter',\n",
    "        'Share_Change%': 'Share Change (%)'\n",
    "    },\n",
    "    markers=True\n",
    ")\n",
    "\n",
    "# Customize the layout\n",
    "fig.update_layout(xaxis_title=\"Promoter\", yaxis_title=\"Share Change (%)\")\n",
    "fig.update_xaxes(tickangle=45)\n",
    "\n",
    "# Display the plot\n",
    "fig.show()"
   ]
  },
  {
   "cell_type": "code",
   "execution_count": 21,
   "metadata": {},
   "outputs": [
    {
     "data": {
      "application/vnd.plotly.v1+json": {
       "config": {
        "plotlyServerURL": "https://plot.ly"
       },
       "data": [
        {
         "alignmentgroup": "True",
         "hovertemplate": "Share Change (%)=%{text}<br>Promoter=%{y}<extra></extra>",
         "legendgroup": "",
         "marker": {
          "color": "#636efa",
          "pattern": {
           "shape": ""
          }
         },
         "name": "",
         "offsetgroup": "",
         "orientation": "h",
         "showlegend": false,
         "text": [
          0.55005500550056,
          0.536912751677843,
          0.591715976331364,
          0.486618004866179
         ],
         "textposition": "auto",
         "type": "bar",
         "x": [
          0.55005500550056,
          0.536912751677843,
          0.591715976331364,
          0.486618004866179
         ],
         "xaxis": "x",
         "y": [
          "Ashok Chinubhai Shah",
          "Leena Ashok Shah",
          "Lesha Ventures Private Limited",
          "Shalin Ashok Shah"
         ],
         "yaxis": "y"
        }
       ],
       "layout": {
        "barmode": "relative",
        "legend": {
         "tracegroupgap": 0
        },
        "template": {
         "data": {
          "bar": [
           {
            "error_x": {
             "color": "#2a3f5f"
            },
            "error_y": {
             "color": "#2a3f5f"
            },
            "marker": {
             "line": {
              "color": "#E5ECF6",
              "width": 0.5
             },
             "pattern": {
              "fillmode": "overlay",
              "size": 10,
              "solidity": 0.2
             }
            },
            "type": "bar"
           }
          ],
          "barpolar": [
           {
            "marker": {
             "line": {
              "color": "#E5ECF6",
              "width": 0.5
             },
             "pattern": {
              "fillmode": "overlay",
              "size": 10,
              "solidity": 0.2
             }
            },
            "type": "barpolar"
           }
          ],
          "carpet": [
           {
            "aaxis": {
             "endlinecolor": "#2a3f5f",
             "gridcolor": "white",
             "linecolor": "white",
             "minorgridcolor": "white",
             "startlinecolor": "#2a3f5f"
            },
            "baxis": {
             "endlinecolor": "#2a3f5f",
             "gridcolor": "white",
             "linecolor": "white",
             "minorgridcolor": "white",
             "startlinecolor": "#2a3f5f"
            },
            "type": "carpet"
           }
          ],
          "choropleth": [
           {
            "colorbar": {
             "outlinewidth": 0,
             "ticks": ""
            },
            "type": "choropleth"
           }
          ],
          "contour": [
           {
            "colorbar": {
             "outlinewidth": 0,
             "ticks": ""
            },
            "colorscale": [
             [
              0,
              "#0d0887"
             ],
             [
              0.1111111111111111,
              "#46039f"
             ],
             [
              0.2222222222222222,
              "#7201a8"
             ],
             [
              0.3333333333333333,
              "#9c179e"
             ],
             [
              0.4444444444444444,
              "#bd3786"
             ],
             [
              0.5555555555555556,
              "#d8576b"
             ],
             [
              0.6666666666666666,
              "#ed7953"
             ],
             [
              0.7777777777777778,
              "#fb9f3a"
             ],
             [
              0.8888888888888888,
              "#fdca26"
             ],
             [
              1,
              "#f0f921"
             ]
            ],
            "type": "contour"
           }
          ],
          "contourcarpet": [
           {
            "colorbar": {
             "outlinewidth": 0,
             "ticks": ""
            },
            "type": "contourcarpet"
           }
          ],
          "heatmap": [
           {
            "colorbar": {
             "outlinewidth": 0,
             "ticks": ""
            },
            "colorscale": [
             [
              0,
              "#0d0887"
             ],
             [
              0.1111111111111111,
              "#46039f"
             ],
             [
              0.2222222222222222,
              "#7201a8"
             ],
             [
              0.3333333333333333,
              "#9c179e"
             ],
             [
              0.4444444444444444,
              "#bd3786"
             ],
             [
              0.5555555555555556,
              "#d8576b"
             ],
             [
              0.6666666666666666,
              "#ed7953"
             ],
             [
              0.7777777777777778,
              "#fb9f3a"
             ],
             [
              0.8888888888888888,
              "#fdca26"
             ],
             [
              1,
              "#f0f921"
             ]
            ],
            "type": "heatmap"
           }
          ],
          "heatmapgl": [
           {
            "colorbar": {
             "outlinewidth": 0,
             "ticks": ""
            },
            "colorscale": [
             [
              0,
              "#0d0887"
             ],
             [
              0.1111111111111111,
              "#46039f"
             ],
             [
              0.2222222222222222,
              "#7201a8"
             ],
             [
              0.3333333333333333,
              "#9c179e"
             ],
             [
              0.4444444444444444,
              "#bd3786"
             ],
             [
              0.5555555555555556,
              "#d8576b"
             ],
             [
              0.6666666666666666,
              "#ed7953"
             ],
             [
              0.7777777777777778,
              "#fb9f3a"
             ],
             [
              0.8888888888888888,
              "#fdca26"
             ],
             [
              1,
              "#f0f921"
             ]
            ],
            "type": "heatmapgl"
           }
          ],
          "histogram": [
           {
            "marker": {
             "pattern": {
              "fillmode": "overlay",
              "size": 10,
              "solidity": 0.2
             }
            },
            "type": "histogram"
           }
          ],
          "histogram2d": [
           {
            "colorbar": {
             "outlinewidth": 0,
             "ticks": ""
            },
            "colorscale": [
             [
              0,
              "#0d0887"
             ],
             [
              0.1111111111111111,
              "#46039f"
             ],
             [
              0.2222222222222222,
              "#7201a8"
             ],
             [
              0.3333333333333333,
              "#9c179e"
             ],
             [
              0.4444444444444444,
              "#bd3786"
             ],
             [
              0.5555555555555556,
              "#d8576b"
             ],
             [
              0.6666666666666666,
              "#ed7953"
             ],
             [
              0.7777777777777778,
              "#fb9f3a"
             ],
             [
              0.8888888888888888,
              "#fdca26"
             ],
             [
              1,
              "#f0f921"
             ]
            ],
            "type": "histogram2d"
           }
          ],
          "histogram2dcontour": [
           {
            "colorbar": {
             "outlinewidth": 0,
             "ticks": ""
            },
            "colorscale": [
             [
              0,
              "#0d0887"
             ],
             [
              0.1111111111111111,
              "#46039f"
             ],
             [
              0.2222222222222222,
              "#7201a8"
             ],
             [
              0.3333333333333333,
              "#9c179e"
             ],
             [
              0.4444444444444444,
              "#bd3786"
             ],
             [
              0.5555555555555556,
              "#d8576b"
             ],
             [
              0.6666666666666666,
              "#ed7953"
             ],
             [
              0.7777777777777778,
              "#fb9f3a"
             ],
             [
              0.8888888888888888,
              "#fdca26"
             ],
             [
              1,
              "#f0f921"
             ]
            ],
            "type": "histogram2dcontour"
           }
          ],
          "mesh3d": [
           {
            "colorbar": {
             "outlinewidth": 0,
             "ticks": ""
            },
            "type": "mesh3d"
           }
          ],
          "parcoords": [
           {
            "line": {
             "colorbar": {
              "outlinewidth": 0,
              "ticks": ""
             }
            },
            "type": "parcoords"
           }
          ],
          "pie": [
           {
            "automargin": true,
            "type": "pie"
           }
          ],
          "scatter": [
           {
            "fillpattern": {
             "fillmode": "overlay",
             "size": 10,
             "solidity": 0.2
            },
            "type": "scatter"
           }
          ],
          "scatter3d": [
           {
            "line": {
             "colorbar": {
              "outlinewidth": 0,
              "ticks": ""
             }
            },
            "marker": {
             "colorbar": {
              "outlinewidth": 0,
              "ticks": ""
             }
            },
            "type": "scatter3d"
           }
          ],
          "scattercarpet": [
           {
            "marker": {
             "colorbar": {
              "outlinewidth": 0,
              "ticks": ""
             }
            },
            "type": "scattercarpet"
           }
          ],
          "scattergeo": [
           {
            "marker": {
             "colorbar": {
              "outlinewidth": 0,
              "ticks": ""
             }
            },
            "type": "scattergeo"
           }
          ],
          "scattergl": [
           {
            "marker": {
             "colorbar": {
              "outlinewidth": 0,
              "ticks": ""
             }
            },
            "type": "scattergl"
           }
          ],
          "scattermapbox": [
           {
            "marker": {
             "colorbar": {
              "outlinewidth": 0,
              "ticks": ""
             }
            },
            "type": "scattermapbox"
           }
          ],
          "scatterpolar": [
           {
            "marker": {
             "colorbar": {
              "outlinewidth": 0,
              "ticks": ""
             }
            },
            "type": "scatterpolar"
           }
          ],
          "scatterpolargl": [
           {
            "marker": {
             "colorbar": {
              "outlinewidth": 0,
              "ticks": ""
             }
            },
            "type": "scatterpolargl"
           }
          ],
          "scatterternary": [
           {
            "marker": {
             "colorbar": {
              "outlinewidth": 0,
              "ticks": ""
             }
            },
            "type": "scatterternary"
           }
          ],
          "surface": [
           {
            "colorbar": {
             "outlinewidth": 0,
             "ticks": ""
            },
            "colorscale": [
             [
              0,
              "#0d0887"
             ],
             [
              0.1111111111111111,
              "#46039f"
             ],
             [
              0.2222222222222222,
              "#7201a8"
             ],
             [
              0.3333333333333333,
              "#9c179e"
             ],
             [
              0.4444444444444444,
              "#bd3786"
             ],
             [
              0.5555555555555556,
              "#d8576b"
             ],
             [
              0.6666666666666666,
              "#ed7953"
             ],
             [
              0.7777777777777778,
              "#fb9f3a"
             ],
             [
              0.8888888888888888,
              "#fdca26"
             ],
             [
              1,
              "#f0f921"
             ]
            ],
            "type": "surface"
           }
          ],
          "table": [
           {
            "cells": {
             "fill": {
              "color": "#EBF0F8"
             },
             "line": {
              "color": "white"
             }
            },
            "header": {
             "fill": {
              "color": "#C8D4E3"
             },
             "line": {
              "color": "white"
             }
            },
            "type": "table"
           }
          ]
         },
         "layout": {
          "annotationdefaults": {
           "arrowcolor": "#2a3f5f",
           "arrowhead": 0,
           "arrowwidth": 1
          },
          "autotypenumbers": "strict",
          "coloraxis": {
           "colorbar": {
            "outlinewidth": 0,
            "ticks": ""
           }
          },
          "colorscale": {
           "diverging": [
            [
             0,
             "#8e0152"
            ],
            [
             0.1,
             "#c51b7d"
            ],
            [
             0.2,
             "#de77ae"
            ],
            [
             0.3,
             "#f1b6da"
            ],
            [
             0.4,
             "#fde0ef"
            ],
            [
             0.5,
             "#f7f7f7"
            ],
            [
             0.6,
             "#e6f5d0"
            ],
            [
             0.7,
             "#b8e186"
            ],
            [
             0.8,
             "#7fbc41"
            ],
            [
             0.9,
             "#4d9221"
            ],
            [
             1,
             "#276419"
            ]
           ],
           "sequential": [
            [
             0,
             "#0d0887"
            ],
            [
             0.1111111111111111,
             "#46039f"
            ],
            [
             0.2222222222222222,
             "#7201a8"
            ],
            [
             0.3333333333333333,
             "#9c179e"
            ],
            [
             0.4444444444444444,
             "#bd3786"
            ],
            [
             0.5555555555555556,
             "#d8576b"
            ],
            [
             0.6666666666666666,
             "#ed7953"
            ],
            [
             0.7777777777777778,
             "#fb9f3a"
            ],
            [
             0.8888888888888888,
             "#fdca26"
            ],
            [
             1,
             "#f0f921"
            ]
           ],
           "sequentialminus": [
            [
             0,
             "#0d0887"
            ],
            [
             0.1111111111111111,
             "#46039f"
            ],
            [
             0.2222222222222222,
             "#7201a8"
            ],
            [
             0.3333333333333333,
             "#9c179e"
            ],
            [
             0.4444444444444444,
             "#bd3786"
            ],
            [
             0.5555555555555556,
             "#d8576b"
            ],
            [
             0.6666666666666666,
             "#ed7953"
            ],
            [
             0.7777777777777778,
             "#fb9f3a"
            ],
            [
             0.8888888888888888,
             "#fdca26"
            ],
            [
             1,
             "#f0f921"
            ]
           ]
          },
          "colorway": [
           "#636efa",
           "#EF553B",
           "#00cc96",
           "#ab63fa",
           "#FFA15A",
           "#19d3f3",
           "#FF6692",
           "#B6E880",
           "#FF97FF",
           "#FECB52"
          ],
          "font": {
           "color": "#2a3f5f"
          },
          "geo": {
           "bgcolor": "white",
           "lakecolor": "white",
           "landcolor": "#E5ECF6",
           "showlakes": true,
           "showland": true,
           "subunitcolor": "white"
          },
          "hoverlabel": {
           "align": "left"
          },
          "hovermode": "closest",
          "mapbox": {
           "style": "light"
          },
          "paper_bgcolor": "white",
          "plot_bgcolor": "#E5ECF6",
          "polar": {
           "angularaxis": {
            "gridcolor": "white",
            "linecolor": "white",
            "ticks": ""
           },
           "bgcolor": "#E5ECF6",
           "radialaxis": {
            "gridcolor": "white",
            "linecolor": "white",
            "ticks": ""
           }
          },
          "scene": {
           "xaxis": {
            "backgroundcolor": "#E5ECF6",
            "gridcolor": "white",
            "gridwidth": 2,
            "linecolor": "white",
            "showbackground": true,
            "ticks": "",
            "zerolinecolor": "white"
           },
           "yaxis": {
            "backgroundcolor": "#E5ECF6",
            "gridcolor": "white",
            "gridwidth": 2,
            "linecolor": "white",
            "showbackground": true,
            "ticks": "",
            "zerolinecolor": "white"
           },
           "zaxis": {
            "backgroundcolor": "#E5ECF6",
            "gridcolor": "white",
            "gridwidth": 2,
            "linecolor": "white",
            "showbackground": true,
            "ticks": "",
            "zerolinecolor": "white"
           }
          },
          "shapedefaults": {
           "line": {
            "color": "#2a3f5f"
           }
          },
          "ternary": {
           "aaxis": {
            "gridcolor": "white",
            "linecolor": "white",
            "ticks": ""
           },
           "baxis": {
            "gridcolor": "white",
            "linecolor": "white",
            "ticks": ""
           },
           "bgcolor": "#E5ECF6",
           "caxis": {
            "gridcolor": "white",
            "linecolor": "white",
            "ticks": ""
           }
          },
          "title": {
           "x": 0.05
          },
          "xaxis": {
           "automargin": true,
           "gridcolor": "white",
           "linecolor": "white",
           "ticks": "",
           "title": {
            "standoff": 15
           },
           "zerolinecolor": "white",
           "zerolinewidth": 2
          },
          "yaxis": {
           "automargin": true,
           "gridcolor": "white",
           "linecolor": "white",
           "ticks": "",
           "title": {
            "standoff": 15
           },
           "zerolinecolor": "white",
           "zerolinewidth": 2
          }
         }
        },
        "title": {
         "text": "Share Change % by Promoter on 2024-01-08"
        },
        "xaxis": {
         "anchor": "y",
         "domain": [
          0,
          1
         ],
         "title": {
          "text": "Share Change (%)"
         }
        },
        "yaxis": {
         "anchor": "x",
         "domain": [
          0,
          1
         ],
         "title": {
          "text": "Promoter"
         }
        }
       }
      }
     },
     "metadata": {},
     "output_type": "display_data"
    }
   ],
   "source": [
    "fig = px.bar(\n",
    "    df,\n",
    "    x='Share_Change%',\n",
    "    y='Promoter',\n",
    "    orientation='h',\n",
    "    title='Share Change % by Promoter on 2024-01-08',\n",
    "    labels={'Share_Change%': 'Share Change (%)'},\n",
    "    text='Share_Change%'\n",
    ")\n",
    "\n",
    "fig.show()\n"
   ]
  },
  {
   "cell_type": "code",
   "execution_count": 22,
   "metadata": {},
   "outputs": [
    {
     "data": {
      "application/vnd.plotly.v1+json": {
       "config": {
        "plotlyServerURL": "https://plot.ly"
       },
       "data": [
        {
         "hovertemplate": "Promoter=%{x}<br>Share Change (%)=%{marker.size}<extra></extra>",
         "legendgroup": "",
         "marker": {
          "color": "#636efa",
          "size": [
           0.55005500550056,
           0.536912751677843,
           0.591715976331364,
           0.486618004866179
          ],
          "sizemode": "area",
          "sizeref": 0.00147928994082841,
          "symbol": "circle"
         },
         "mode": "markers",
         "name": "",
         "orientation": "v",
         "showlegend": false,
         "type": "scatter",
         "x": [
          "Ashok Chinubhai Shah",
          "Leena Ashok Shah",
          "Lesha Ventures Private Limited",
          "Shalin Ashok Shah"
         ],
         "xaxis": "x",
         "y": [
          0.55005500550056,
          0.536912751677843,
          0.591715976331364,
          0.486618004866179
         ],
         "yaxis": "y"
        }
       ],
       "layout": {
        "legend": {
         "itemsizing": "constant",
         "tracegroupgap": 0
        },
        "template": {
         "data": {
          "bar": [
           {
            "error_x": {
             "color": "#2a3f5f"
            },
            "error_y": {
             "color": "#2a3f5f"
            },
            "marker": {
             "line": {
              "color": "#E5ECF6",
              "width": 0.5
             },
             "pattern": {
              "fillmode": "overlay",
              "size": 10,
              "solidity": 0.2
             }
            },
            "type": "bar"
           }
          ],
          "barpolar": [
           {
            "marker": {
             "line": {
              "color": "#E5ECF6",
              "width": 0.5
             },
             "pattern": {
              "fillmode": "overlay",
              "size": 10,
              "solidity": 0.2
             }
            },
            "type": "barpolar"
           }
          ],
          "carpet": [
           {
            "aaxis": {
             "endlinecolor": "#2a3f5f",
             "gridcolor": "white",
             "linecolor": "white",
             "minorgridcolor": "white",
             "startlinecolor": "#2a3f5f"
            },
            "baxis": {
             "endlinecolor": "#2a3f5f",
             "gridcolor": "white",
             "linecolor": "white",
             "minorgridcolor": "white",
             "startlinecolor": "#2a3f5f"
            },
            "type": "carpet"
           }
          ],
          "choropleth": [
           {
            "colorbar": {
             "outlinewidth": 0,
             "ticks": ""
            },
            "type": "choropleth"
           }
          ],
          "contour": [
           {
            "colorbar": {
             "outlinewidth": 0,
             "ticks": ""
            },
            "colorscale": [
             [
              0,
              "#0d0887"
             ],
             [
              0.1111111111111111,
              "#46039f"
             ],
             [
              0.2222222222222222,
              "#7201a8"
             ],
             [
              0.3333333333333333,
              "#9c179e"
             ],
             [
              0.4444444444444444,
              "#bd3786"
             ],
             [
              0.5555555555555556,
              "#d8576b"
             ],
             [
              0.6666666666666666,
              "#ed7953"
             ],
             [
              0.7777777777777778,
              "#fb9f3a"
             ],
             [
              0.8888888888888888,
              "#fdca26"
             ],
             [
              1,
              "#f0f921"
             ]
            ],
            "type": "contour"
           }
          ],
          "contourcarpet": [
           {
            "colorbar": {
             "outlinewidth": 0,
             "ticks": ""
            },
            "type": "contourcarpet"
           }
          ],
          "heatmap": [
           {
            "colorbar": {
             "outlinewidth": 0,
             "ticks": ""
            },
            "colorscale": [
             [
              0,
              "#0d0887"
             ],
             [
              0.1111111111111111,
              "#46039f"
             ],
             [
              0.2222222222222222,
              "#7201a8"
             ],
             [
              0.3333333333333333,
              "#9c179e"
             ],
             [
              0.4444444444444444,
              "#bd3786"
             ],
             [
              0.5555555555555556,
              "#d8576b"
             ],
             [
              0.6666666666666666,
              "#ed7953"
             ],
             [
              0.7777777777777778,
              "#fb9f3a"
             ],
             [
              0.8888888888888888,
              "#fdca26"
             ],
             [
              1,
              "#f0f921"
             ]
            ],
            "type": "heatmap"
           }
          ],
          "heatmapgl": [
           {
            "colorbar": {
             "outlinewidth": 0,
             "ticks": ""
            },
            "colorscale": [
             [
              0,
              "#0d0887"
             ],
             [
              0.1111111111111111,
              "#46039f"
             ],
             [
              0.2222222222222222,
              "#7201a8"
             ],
             [
              0.3333333333333333,
              "#9c179e"
             ],
             [
              0.4444444444444444,
              "#bd3786"
             ],
             [
              0.5555555555555556,
              "#d8576b"
             ],
             [
              0.6666666666666666,
              "#ed7953"
             ],
             [
              0.7777777777777778,
              "#fb9f3a"
             ],
             [
              0.8888888888888888,
              "#fdca26"
             ],
             [
              1,
              "#f0f921"
             ]
            ],
            "type": "heatmapgl"
           }
          ],
          "histogram": [
           {
            "marker": {
             "pattern": {
              "fillmode": "overlay",
              "size": 10,
              "solidity": 0.2
             }
            },
            "type": "histogram"
           }
          ],
          "histogram2d": [
           {
            "colorbar": {
             "outlinewidth": 0,
             "ticks": ""
            },
            "colorscale": [
             [
              0,
              "#0d0887"
             ],
             [
              0.1111111111111111,
              "#46039f"
             ],
             [
              0.2222222222222222,
              "#7201a8"
             ],
             [
              0.3333333333333333,
              "#9c179e"
             ],
             [
              0.4444444444444444,
              "#bd3786"
             ],
             [
              0.5555555555555556,
              "#d8576b"
             ],
             [
              0.6666666666666666,
              "#ed7953"
             ],
             [
              0.7777777777777778,
              "#fb9f3a"
             ],
             [
              0.8888888888888888,
              "#fdca26"
             ],
             [
              1,
              "#f0f921"
             ]
            ],
            "type": "histogram2d"
           }
          ],
          "histogram2dcontour": [
           {
            "colorbar": {
             "outlinewidth": 0,
             "ticks": ""
            },
            "colorscale": [
             [
              0,
              "#0d0887"
             ],
             [
              0.1111111111111111,
              "#46039f"
             ],
             [
              0.2222222222222222,
              "#7201a8"
             ],
             [
              0.3333333333333333,
              "#9c179e"
             ],
             [
              0.4444444444444444,
              "#bd3786"
             ],
             [
              0.5555555555555556,
              "#d8576b"
             ],
             [
              0.6666666666666666,
              "#ed7953"
             ],
             [
              0.7777777777777778,
              "#fb9f3a"
             ],
             [
              0.8888888888888888,
              "#fdca26"
             ],
             [
              1,
              "#f0f921"
             ]
            ],
            "type": "histogram2dcontour"
           }
          ],
          "mesh3d": [
           {
            "colorbar": {
             "outlinewidth": 0,
             "ticks": ""
            },
            "type": "mesh3d"
           }
          ],
          "parcoords": [
           {
            "line": {
             "colorbar": {
              "outlinewidth": 0,
              "ticks": ""
             }
            },
            "type": "parcoords"
           }
          ],
          "pie": [
           {
            "automargin": true,
            "type": "pie"
           }
          ],
          "scatter": [
           {
            "fillpattern": {
             "fillmode": "overlay",
             "size": 10,
             "solidity": 0.2
            },
            "type": "scatter"
           }
          ],
          "scatter3d": [
           {
            "line": {
             "colorbar": {
              "outlinewidth": 0,
              "ticks": ""
             }
            },
            "marker": {
             "colorbar": {
              "outlinewidth": 0,
              "ticks": ""
             }
            },
            "type": "scatter3d"
           }
          ],
          "scattercarpet": [
           {
            "marker": {
             "colorbar": {
              "outlinewidth": 0,
              "ticks": ""
             }
            },
            "type": "scattercarpet"
           }
          ],
          "scattergeo": [
           {
            "marker": {
             "colorbar": {
              "outlinewidth": 0,
              "ticks": ""
             }
            },
            "type": "scattergeo"
           }
          ],
          "scattergl": [
           {
            "marker": {
             "colorbar": {
              "outlinewidth": 0,
              "ticks": ""
             }
            },
            "type": "scattergl"
           }
          ],
          "scattermapbox": [
           {
            "marker": {
             "colorbar": {
              "outlinewidth": 0,
              "ticks": ""
             }
            },
            "type": "scattermapbox"
           }
          ],
          "scatterpolar": [
           {
            "marker": {
             "colorbar": {
              "outlinewidth": 0,
              "ticks": ""
             }
            },
            "type": "scatterpolar"
           }
          ],
          "scatterpolargl": [
           {
            "marker": {
             "colorbar": {
              "outlinewidth": 0,
              "ticks": ""
             }
            },
            "type": "scatterpolargl"
           }
          ],
          "scatterternary": [
           {
            "marker": {
             "colorbar": {
              "outlinewidth": 0,
              "ticks": ""
             }
            },
            "type": "scatterternary"
           }
          ],
          "surface": [
           {
            "colorbar": {
             "outlinewidth": 0,
             "ticks": ""
            },
            "colorscale": [
             [
              0,
              "#0d0887"
             ],
             [
              0.1111111111111111,
              "#46039f"
             ],
             [
              0.2222222222222222,
              "#7201a8"
             ],
             [
              0.3333333333333333,
              "#9c179e"
             ],
             [
              0.4444444444444444,
              "#bd3786"
             ],
             [
              0.5555555555555556,
              "#d8576b"
             ],
             [
              0.6666666666666666,
              "#ed7953"
             ],
             [
              0.7777777777777778,
              "#fb9f3a"
             ],
             [
              0.8888888888888888,
              "#fdca26"
             ],
             [
              1,
              "#f0f921"
             ]
            ],
            "type": "surface"
           }
          ],
          "table": [
           {
            "cells": {
             "fill": {
              "color": "#EBF0F8"
             },
             "line": {
              "color": "white"
             }
            },
            "header": {
             "fill": {
              "color": "#C8D4E3"
             },
             "line": {
              "color": "white"
             }
            },
            "type": "table"
           }
          ]
         },
         "layout": {
          "annotationdefaults": {
           "arrowcolor": "#2a3f5f",
           "arrowhead": 0,
           "arrowwidth": 1
          },
          "autotypenumbers": "strict",
          "coloraxis": {
           "colorbar": {
            "outlinewidth": 0,
            "ticks": ""
           }
          },
          "colorscale": {
           "diverging": [
            [
             0,
             "#8e0152"
            ],
            [
             0.1,
             "#c51b7d"
            ],
            [
             0.2,
             "#de77ae"
            ],
            [
             0.3,
             "#f1b6da"
            ],
            [
             0.4,
             "#fde0ef"
            ],
            [
             0.5,
             "#f7f7f7"
            ],
            [
             0.6,
             "#e6f5d0"
            ],
            [
             0.7,
             "#b8e186"
            ],
            [
             0.8,
             "#7fbc41"
            ],
            [
             0.9,
             "#4d9221"
            ],
            [
             1,
             "#276419"
            ]
           ],
           "sequential": [
            [
             0,
             "#0d0887"
            ],
            [
             0.1111111111111111,
             "#46039f"
            ],
            [
             0.2222222222222222,
             "#7201a8"
            ],
            [
             0.3333333333333333,
             "#9c179e"
            ],
            [
             0.4444444444444444,
             "#bd3786"
            ],
            [
             0.5555555555555556,
             "#d8576b"
            ],
            [
             0.6666666666666666,
             "#ed7953"
            ],
            [
             0.7777777777777778,
             "#fb9f3a"
            ],
            [
             0.8888888888888888,
             "#fdca26"
            ],
            [
             1,
             "#f0f921"
            ]
           ],
           "sequentialminus": [
            [
             0,
             "#0d0887"
            ],
            [
             0.1111111111111111,
             "#46039f"
            ],
            [
             0.2222222222222222,
             "#7201a8"
            ],
            [
             0.3333333333333333,
             "#9c179e"
            ],
            [
             0.4444444444444444,
             "#bd3786"
            ],
            [
             0.5555555555555556,
             "#d8576b"
            ],
            [
             0.6666666666666666,
             "#ed7953"
            ],
            [
             0.7777777777777778,
             "#fb9f3a"
            ],
            [
             0.8888888888888888,
             "#fdca26"
            ],
            [
             1,
             "#f0f921"
            ]
           ]
          },
          "colorway": [
           "#636efa",
           "#EF553B",
           "#00cc96",
           "#ab63fa",
           "#FFA15A",
           "#19d3f3",
           "#FF6692",
           "#B6E880",
           "#FF97FF",
           "#FECB52"
          ],
          "font": {
           "color": "#2a3f5f"
          },
          "geo": {
           "bgcolor": "white",
           "lakecolor": "white",
           "landcolor": "#E5ECF6",
           "showlakes": true,
           "showland": true,
           "subunitcolor": "white"
          },
          "hoverlabel": {
           "align": "left"
          },
          "hovermode": "closest",
          "mapbox": {
           "style": "light"
          },
          "paper_bgcolor": "white",
          "plot_bgcolor": "#E5ECF6",
          "polar": {
           "angularaxis": {
            "gridcolor": "white",
            "linecolor": "white",
            "ticks": ""
           },
           "bgcolor": "#E5ECF6",
           "radialaxis": {
            "gridcolor": "white",
            "linecolor": "white",
            "ticks": ""
           }
          },
          "scene": {
           "xaxis": {
            "backgroundcolor": "#E5ECF6",
            "gridcolor": "white",
            "gridwidth": 2,
            "linecolor": "white",
            "showbackground": true,
            "ticks": "",
            "zerolinecolor": "white"
           },
           "yaxis": {
            "backgroundcolor": "#E5ECF6",
            "gridcolor": "white",
            "gridwidth": 2,
            "linecolor": "white",
            "showbackground": true,
            "ticks": "",
            "zerolinecolor": "white"
           },
           "zaxis": {
            "backgroundcolor": "#E5ECF6",
            "gridcolor": "white",
            "gridwidth": 2,
            "linecolor": "white",
            "showbackground": true,
            "ticks": "",
            "zerolinecolor": "white"
           }
          },
          "shapedefaults": {
           "line": {
            "color": "#2a3f5f"
           }
          },
          "ternary": {
           "aaxis": {
            "gridcolor": "white",
            "linecolor": "white",
            "ticks": ""
           },
           "baxis": {
            "gridcolor": "white",
            "linecolor": "white",
            "ticks": ""
           },
           "bgcolor": "#E5ECF6",
           "caxis": {
            "gridcolor": "white",
            "linecolor": "white",
            "ticks": ""
           }
          },
          "title": {
           "x": 0.05
          },
          "xaxis": {
           "automargin": true,
           "gridcolor": "white",
           "linecolor": "white",
           "ticks": "",
           "title": {
            "standoff": 15
           },
           "zerolinecolor": "white",
           "zerolinewidth": 2
          },
          "yaxis": {
           "automargin": true,
           "gridcolor": "white",
           "linecolor": "white",
           "ticks": "",
           "title": {
            "standoff": 15
           },
           "zerolinecolor": "white",
           "zerolinewidth": 2
          }
         }
        },
        "title": {
         "text": "Share Change % by Promoter on 2024-01-08"
        },
        "xaxis": {
         "anchor": "y",
         "domain": [
          0,
          1
         ],
         "tickangle": 45,
         "title": {
          "text": "Promoter"
         }
        },
        "yaxis": {
         "anchor": "x",
         "domain": [
          0,
          1
         ],
         "title": {
          "text": "Share Change (%)"
         }
        }
       }
      }
     },
     "metadata": {},
     "output_type": "display_data"
    }
   ],
   "source": [
    "import plotly.express as px\n",
    "\n",
    "fig = px.scatter(\n",
    "    df,\n",
    "    x='Promoter',\n",
    "    y='Share_Change%',\n",
    "    size='Share_Change%',\n",
    "    title='Share Change % by Promoter on 2024-01-08',\n",
    "    labels={'Share_Change%': 'Share Change (%)'},\n",
    "    hover_data=['Promoter']\n",
    ")\n",
    "\n",
    "fig.update_xaxes(tickangle=45)\n",
    "fig.show()\n"
   ]
  },
  {
   "cell_type": "code",
   "execution_count": 23,
   "metadata": {},
   "outputs": [
    {
     "data": {
      "application/vnd.plotly.v1+json": {
       "config": {
        "plotlyServerURL": "https://plot.ly"
       },
       "data": [
        {
         "alignmentgroup": "True",
         "hovertemplate": "Promoter=%{x}<br>Share Change (%)=%{text}<extra></extra>",
         "legendgroup": "",
         "marker": {
          "color": "#636efa",
          "pattern": {
           "shape": ""
          }
         },
         "name": "",
         "offsetgroup": "",
         "orientation": "v",
         "showlegend": false,
         "text": [
          0.55005500550056,
          0.536912751677843,
          0.591715976331364,
          0.486618004866179
         ],
         "textposition": "auto",
         "type": "bar",
         "x": [
          "Ashok Chinubhai Shah",
          "Leena Ashok Shah",
          "Lesha Ventures Private Limited",
          "Shalin Ashok Shah"
         ],
         "xaxis": "x",
         "y": [
          0.55005500550056,
          0.536912751677843,
          0.591715976331364,
          0.486618004866179
         ],
         "yaxis": "y"
        }
       ],
       "layout": {
        "barmode": "relative",
        "legend": {
         "tracegroupgap": 0
        },
        "template": {
         "data": {
          "bar": [
           {
            "error_x": {
             "color": "#2a3f5f"
            },
            "error_y": {
             "color": "#2a3f5f"
            },
            "marker": {
             "line": {
              "color": "#E5ECF6",
              "width": 0.5
             },
             "pattern": {
              "fillmode": "overlay",
              "size": 10,
              "solidity": 0.2
             }
            },
            "type": "bar"
           }
          ],
          "barpolar": [
           {
            "marker": {
             "line": {
              "color": "#E5ECF6",
              "width": 0.5
             },
             "pattern": {
              "fillmode": "overlay",
              "size": 10,
              "solidity": 0.2
             }
            },
            "type": "barpolar"
           }
          ],
          "carpet": [
           {
            "aaxis": {
             "endlinecolor": "#2a3f5f",
             "gridcolor": "white",
             "linecolor": "white",
             "minorgridcolor": "white",
             "startlinecolor": "#2a3f5f"
            },
            "baxis": {
             "endlinecolor": "#2a3f5f",
             "gridcolor": "white",
             "linecolor": "white",
             "minorgridcolor": "white",
             "startlinecolor": "#2a3f5f"
            },
            "type": "carpet"
           }
          ],
          "choropleth": [
           {
            "colorbar": {
             "outlinewidth": 0,
             "ticks": ""
            },
            "type": "choropleth"
           }
          ],
          "contour": [
           {
            "colorbar": {
             "outlinewidth": 0,
             "ticks": ""
            },
            "colorscale": [
             [
              0,
              "#0d0887"
             ],
             [
              0.1111111111111111,
              "#46039f"
             ],
             [
              0.2222222222222222,
              "#7201a8"
             ],
             [
              0.3333333333333333,
              "#9c179e"
             ],
             [
              0.4444444444444444,
              "#bd3786"
             ],
             [
              0.5555555555555556,
              "#d8576b"
             ],
             [
              0.6666666666666666,
              "#ed7953"
             ],
             [
              0.7777777777777778,
              "#fb9f3a"
             ],
             [
              0.8888888888888888,
              "#fdca26"
             ],
             [
              1,
              "#f0f921"
             ]
            ],
            "type": "contour"
           }
          ],
          "contourcarpet": [
           {
            "colorbar": {
             "outlinewidth": 0,
             "ticks": ""
            },
            "type": "contourcarpet"
           }
          ],
          "heatmap": [
           {
            "colorbar": {
             "outlinewidth": 0,
             "ticks": ""
            },
            "colorscale": [
             [
              0,
              "#0d0887"
             ],
             [
              0.1111111111111111,
              "#46039f"
             ],
             [
              0.2222222222222222,
              "#7201a8"
             ],
             [
              0.3333333333333333,
              "#9c179e"
             ],
             [
              0.4444444444444444,
              "#bd3786"
             ],
             [
              0.5555555555555556,
              "#d8576b"
             ],
             [
              0.6666666666666666,
              "#ed7953"
             ],
             [
              0.7777777777777778,
              "#fb9f3a"
             ],
             [
              0.8888888888888888,
              "#fdca26"
             ],
             [
              1,
              "#f0f921"
             ]
            ],
            "type": "heatmap"
           }
          ],
          "heatmapgl": [
           {
            "colorbar": {
             "outlinewidth": 0,
             "ticks": ""
            },
            "colorscale": [
             [
              0,
              "#0d0887"
             ],
             [
              0.1111111111111111,
              "#46039f"
             ],
             [
              0.2222222222222222,
              "#7201a8"
             ],
             [
              0.3333333333333333,
              "#9c179e"
             ],
             [
              0.4444444444444444,
              "#bd3786"
             ],
             [
              0.5555555555555556,
              "#d8576b"
             ],
             [
              0.6666666666666666,
              "#ed7953"
             ],
             [
              0.7777777777777778,
              "#fb9f3a"
             ],
             [
              0.8888888888888888,
              "#fdca26"
             ],
             [
              1,
              "#f0f921"
             ]
            ],
            "type": "heatmapgl"
           }
          ],
          "histogram": [
           {
            "marker": {
             "pattern": {
              "fillmode": "overlay",
              "size": 10,
              "solidity": 0.2
             }
            },
            "type": "histogram"
           }
          ],
          "histogram2d": [
           {
            "colorbar": {
             "outlinewidth": 0,
             "ticks": ""
            },
            "colorscale": [
             [
              0,
              "#0d0887"
             ],
             [
              0.1111111111111111,
              "#46039f"
             ],
             [
              0.2222222222222222,
              "#7201a8"
             ],
             [
              0.3333333333333333,
              "#9c179e"
             ],
             [
              0.4444444444444444,
              "#bd3786"
             ],
             [
              0.5555555555555556,
              "#d8576b"
             ],
             [
              0.6666666666666666,
              "#ed7953"
             ],
             [
              0.7777777777777778,
              "#fb9f3a"
             ],
             [
              0.8888888888888888,
              "#fdca26"
             ],
             [
              1,
              "#f0f921"
             ]
            ],
            "type": "histogram2d"
           }
          ],
          "histogram2dcontour": [
           {
            "colorbar": {
             "outlinewidth": 0,
             "ticks": ""
            },
            "colorscale": [
             [
              0,
              "#0d0887"
             ],
             [
              0.1111111111111111,
              "#46039f"
             ],
             [
              0.2222222222222222,
              "#7201a8"
             ],
             [
              0.3333333333333333,
              "#9c179e"
             ],
             [
              0.4444444444444444,
              "#bd3786"
             ],
             [
              0.5555555555555556,
              "#d8576b"
             ],
             [
              0.6666666666666666,
              "#ed7953"
             ],
             [
              0.7777777777777778,
              "#fb9f3a"
             ],
             [
              0.8888888888888888,
              "#fdca26"
             ],
             [
              1,
              "#f0f921"
             ]
            ],
            "type": "histogram2dcontour"
           }
          ],
          "mesh3d": [
           {
            "colorbar": {
             "outlinewidth": 0,
             "ticks": ""
            },
            "type": "mesh3d"
           }
          ],
          "parcoords": [
           {
            "line": {
             "colorbar": {
              "outlinewidth": 0,
              "ticks": ""
             }
            },
            "type": "parcoords"
           }
          ],
          "pie": [
           {
            "automargin": true,
            "type": "pie"
           }
          ],
          "scatter": [
           {
            "fillpattern": {
             "fillmode": "overlay",
             "size": 10,
             "solidity": 0.2
            },
            "type": "scatter"
           }
          ],
          "scatter3d": [
           {
            "line": {
             "colorbar": {
              "outlinewidth": 0,
              "ticks": ""
             }
            },
            "marker": {
             "colorbar": {
              "outlinewidth": 0,
              "ticks": ""
             }
            },
            "type": "scatter3d"
           }
          ],
          "scattercarpet": [
           {
            "marker": {
             "colorbar": {
              "outlinewidth": 0,
              "ticks": ""
             }
            },
            "type": "scattercarpet"
           }
          ],
          "scattergeo": [
           {
            "marker": {
             "colorbar": {
              "outlinewidth": 0,
              "ticks": ""
             }
            },
            "type": "scattergeo"
           }
          ],
          "scattergl": [
           {
            "marker": {
             "colorbar": {
              "outlinewidth": 0,
              "ticks": ""
             }
            },
            "type": "scattergl"
           }
          ],
          "scattermapbox": [
           {
            "marker": {
             "colorbar": {
              "outlinewidth": 0,
              "ticks": ""
             }
            },
            "type": "scattermapbox"
           }
          ],
          "scatterpolar": [
           {
            "marker": {
             "colorbar": {
              "outlinewidth": 0,
              "ticks": ""
             }
            },
            "type": "scatterpolar"
           }
          ],
          "scatterpolargl": [
           {
            "marker": {
             "colorbar": {
              "outlinewidth": 0,
              "ticks": ""
             }
            },
            "type": "scatterpolargl"
           }
          ],
          "scatterternary": [
           {
            "marker": {
             "colorbar": {
              "outlinewidth": 0,
              "ticks": ""
             }
            },
            "type": "scatterternary"
           }
          ],
          "surface": [
           {
            "colorbar": {
             "outlinewidth": 0,
             "ticks": ""
            },
            "colorscale": [
             [
              0,
              "#0d0887"
             ],
             [
              0.1111111111111111,
              "#46039f"
             ],
             [
              0.2222222222222222,
              "#7201a8"
             ],
             [
              0.3333333333333333,
              "#9c179e"
             ],
             [
              0.4444444444444444,
              "#bd3786"
             ],
             [
              0.5555555555555556,
              "#d8576b"
             ],
             [
              0.6666666666666666,
              "#ed7953"
             ],
             [
              0.7777777777777778,
              "#fb9f3a"
             ],
             [
              0.8888888888888888,
              "#fdca26"
             ],
             [
              1,
              "#f0f921"
             ]
            ],
            "type": "surface"
           }
          ],
          "table": [
           {
            "cells": {
             "fill": {
              "color": "#EBF0F8"
             },
             "line": {
              "color": "white"
             }
            },
            "header": {
             "fill": {
              "color": "#C8D4E3"
             },
             "line": {
              "color": "white"
             }
            },
            "type": "table"
           }
          ]
         },
         "layout": {
          "annotationdefaults": {
           "arrowcolor": "#2a3f5f",
           "arrowhead": 0,
           "arrowwidth": 1
          },
          "autotypenumbers": "strict",
          "coloraxis": {
           "colorbar": {
            "outlinewidth": 0,
            "ticks": ""
           }
          },
          "colorscale": {
           "diverging": [
            [
             0,
             "#8e0152"
            ],
            [
             0.1,
             "#c51b7d"
            ],
            [
             0.2,
             "#de77ae"
            ],
            [
             0.3,
             "#f1b6da"
            ],
            [
             0.4,
             "#fde0ef"
            ],
            [
             0.5,
             "#f7f7f7"
            ],
            [
             0.6,
             "#e6f5d0"
            ],
            [
             0.7,
             "#b8e186"
            ],
            [
             0.8,
             "#7fbc41"
            ],
            [
             0.9,
             "#4d9221"
            ],
            [
             1,
             "#276419"
            ]
           ],
           "sequential": [
            [
             0,
             "#0d0887"
            ],
            [
             0.1111111111111111,
             "#46039f"
            ],
            [
             0.2222222222222222,
             "#7201a8"
            ],
            [
             0.3333333333333333,
             "#9c179e"
            ],
            [
             0.4444444444444444,
             "#bd3786"
            ],
            [
             0.5555555555555556,
             "#d8576b"
            ],
            [
             0.6666666666666666,
             "#ed7953"
            ],
            [
             0.7777777777777778,
             "#fb9f3a"
            ],
            [
             0.8888888888888888,
             "#fdca26"
            ],
            [
             1,
             "#f0f921"
            ]
           ],
           "sequentialminus": [
            [
             0,
             "#0d0887"
            ],
            [
             0.1111111111111111,
             "#46039f"
            ],
            [
             0.2222222222222222,
             "#7201a8"
            ],
            [
             0.3333333333333333,
             "#9c179e"
            ],
            [
             0.4444444444444444,
             "#bd3786"
            ],
            [
             0.5555555555555556,
             "#d8576b"
            ],
            [
             0.6666666666666666,
             "#ed7953"
            ],
            [
             0.7777777777777778,
             "#fb9f3a"
            ],
            [
             0.8888888888888888,
             "#fdca26"
            ],
            [
             1,
             "#f0f921"
            ]
           ]
          },
          "colorway": [
           "#636efa",
           "#EF553B",
           "#00cc96",
           "#ab63fa",
           "#FFA15A",
           "#19d3f3",
           "#FF6692",
           "#B6E880",
           "#FF97FF",
           "#FECB52"
          ],
          "font": {
           "color": "#2a3f5f"
          },
          "geo": {
           "bgcolor": "white",
           "lakecolor": "white",
           "landcolor": "#E5ECF6",
           "showlakes": true,
           "showland": true,
           "subunitcolor": "white"
          },
          "hoverlabel": {
           "align": "left"
          },
          "hovermode": "closest",
          "mapbox": {
           "style": "light"
          },
          "paper_bgcolor": "white",
          "plot_bgcolor": "#E5ECF6",
          "polar": {
           "angularaxis": {
            "gridcolor": "white",
            "linecolor": "white",
            "ticks": ""
           },
           "bgcolor": "#E5ECF6",
           "radialaxis": {
            "gridcolor": "white",
            "linecolor": "white",
            "ticks": ""
           }
          },
          "scene": {
           "xaxis": {
            "backgroundcolor": "#E5ECF6",
            "gridcolor": "white",
            "gridwidth": 2,
            "linecolor": "white",
            "showbackground": true,
            "ticks": "",
            "zerolinecolor": "white"
           },
           "yaxis": {
            "backgroundcolor": "#E5ECF6",
            "gridcolor": "white",
            "gridwidth": 2,
            "linecolor": "white",
            "showbackground": true,
            "ticks": "",
            "zerolinecolor": "white"
           },
           "zaxis": {
            "backgroundcolor": "#E5ECF6",
            "gridcolor": "white",
            "gridwidth": 2,
            "linecolor": "white",
            "showbackground": true,
            "ticks": "",
            "zerolinecolor": "white"
           }
          },
          "shapedefaults": {
           "line": {
            "color": "#2a3f5f"
           }
          },
          "ternary": {
           "aaxis": {
            "gridcolor": "white",
            "linecolor": "white",
            "ticks": ""
           },
           "baxis": {
            "gridcolor": "white",
            "linecolor": "white",
            "ticks": ""
           },
           "bgcolor": "#E5ECF6",
           "caxis": {
            "gridcolor": "white",
            "linecolor": "white",
            "ticks": ""
           }
          },
          "title": {
           "x": 0.05
          },
          "xaxis": {
           "automargin": true,
           "gridcolor": "white",
           "linecolor": "white",
           "ticks": "",
           "title": {
            "standoff": 15
           },
           "zerolinecolor": "white",
           "zerolinewidth": 2
          },
          "yaxis": {
           "automargin": true,
           "gridcolor": "white",
           "linecolor": "white",
           "ticks": "",
           "title": {
            "standoff": 15
           },
           "zerolinecolor": "white",
           "zerolinewidth": 2
          }
         }
        },
        "title": {
         "text": "Share Change % by Promoter on 2024-01-08"
        },
        "xaxis": {
         "anchor": "y",
         "domain": [
          0,
          1
         ],
         "tickangle": 45,
         "title": {
          "text": "Promoter"
         }
        },
        "yaxis": {
         "anchor": "x",
         "domain": [
          0,
          1
         ],
         "title": {
          "text": "Share Change (%)"
         }
        }
       }
      }
     },
     "metadata": {},
     "output_type": "display_data"
    }
   ],
   "source": [
    "fig = px.bar(\n",
    "    df,\n",
    "    x='Promoter',\n",
    "    y='Share_Change%',\n",
    "    title='Share Change % by Promoter on 2024-01-08',\n",
    "    labels={'Share_Change%': 'Share Change (%)'},\n",
    "    text='Share_Change%'\n",
    ")\n",
    "\n",
    "fig.update_xaxes(tickangle=45)\n",
    "fig.show()\n"
   ]
  },
  {
   "cell_type": "code",
   "execution_count": 24,
   "metadata": {},
   "outputs": [
    {
     "data": {
      "application/vnd.plotly.v1+json": {
       "config": {
        "plotlyServerURL": "https://plot.ly"
       },
       "data": [
        {
         "alignmentgroup": "True",
         "hovertemplate": "Promoter=%{x}<br>Share Change (%)=%{y}<extra></extra>",
         "legendgroup": "",
         "marker": {
          "color": "#636efa"
         },
         "name": "",
         "notched": false,
         "offsetgroup": "",
         "orientation": "v",
         "showlegend": false,
         "type": "box",
         "x": [
          "Ashok Chinubhai Shah",
          "Leena Ashok Shah",
          "Lesha Ventures Private Limited",
          "Shalin Ashok Shah"
         ],
         "x0": " ",
         "xaxis": "x",
         "y": [
          0.55005500550056,
          0.536912751677843,
          0.591715976331364,
          0.486618004866179
         ],
         "y0": " ",
         "yaxis": "y"
        }
       ],
       "layout": {
        "boxmode": "group",
        "legend": {
         "tracegroupgap": 0
        },
        "template": {
         "data": {
          "bar": [
           {
            "error_x": {
             "color": "#2a3f5f"
            },
            "error_y": {
             "color": "#2a3f5f"
            },
            "marker": {
             "line": {
              "color": "#E5ECF6",
              "width": 0.5
             },
             "pattern": {
              "fillmode": "overlay",
              "size": 10,
              "solidity": 0.2
             }
            },
            "type": "bar"
           }
          ],
          "barpolar": [
           {
            "marker": {
             "line": {
              "color": "#E5ECF6",
              "width": 0.5
             },
             "pattern": {
              "fillmode": "overlay",
              "size": 10,
              "solidity": 0.2
             }
            },
            "type": "barpolar"
           }
          ],
          "carpet": [
           {
            "aaxis": {
             "endlinecolor": "#2a3f5f",
             "gridcolor": "white",
             "linecolor": "white",
             "minorgridcolor": "white",
             "startlinecolor": "#2a3f5f"
            },
            "baxis": {
             "endlinecolor": "#2a3f5f",
             "gridcolor": "white",
             "linecolor": "white",
             "minorgridcolor": "white",
             "startlinecolor": "#2a3f5f"
            },
            "type": "carpet"
           }
          ],
          "choropleth": [
           {
            "colorbar": {
             "outlinewidth": 0,
             "ticks": ""
            },
            "type": "choropleth"
           }
          ],
          "contour": [
           {
            "colorbar": {
             "outlinewidth": 0,
             "ticks": ""
            },
            "colorscale": [
             [
              0,
              "#0d0887"
             ],
             [
              0.1111111111111111,
              "#46039f"
             ],
             [
              0.2222222222222222,
              "#7201a8"
             ],
             [
              0.3333333333333333,
              "#9c179e"
             ],
             [
              0.4444444444444444,
              "#bd3786"
             ],
             [
              0.5555555555555556,
              "#d8576b"
             ],
             [
              0.6666666666666666,
              "#ed7953"
             ],
             [
              0.7777777777777778,
              "#fb9f3a"
             ],
             [
              0.8888888888888888,
              "#fdca26"
             ],
             [
              1,
              "#f0f921"
             ]
            ],
            "type": "contour"
           }
          ],
          "contourcarpet": [
           {
            "colorbar": {
             "outlinewidth": 0,
             "ticks": ""
            },
            "type": "contourcarpet"
           }
          ],
          "heatmap": [
           {
            "colorbar": {
             "outlinewidth": 0,
             "ticks": ""
            },
            "colorscale": [
             [
              0,
              "#0d0887"
             ],
             [
              0.1111111111111111,
              "#46039f"
             ],
             [
              0.2222222222222222,
              "#7201a8"
             ],
             [
              0.3333333333333333,
              "#9c179e"
             ],
             [
              0.4444444444444444,
              "#bd3786"
             ],
             [
              0.5555555555555556,
              "#d8576b"
             ],
             [
              0.6666666666666666,
              "#ed7953"
             ],
             [
              0.7777777777777778,
              "#fb9f3a"
             ],
             [
              0.8888888888888888,
              "#fdca26"
             ],
             [
              1,
              "#f0f921"
             ]
            ],
            "type": "heatmap"
           }
          ],
          "heatmapgl": [
           {
            "colorbar": {
             "outlinewidth": 0,
             "ticks": ""
            },
            "colorscale": [
             [
              0,
              "#0d0887"
             ],
             [
              0.1111111111111111,
              "#46039f"
             ],
             [
              0.2222222222222222,
              "#7201a8"
             ],
             [
              0.3333333333333333,
              "#9c179e"
             ],
             [
              0.4444444444444444,
              "#bd3786"
             ],
             [
              0.5555555555555556,
              "#d8576b"
             ],
             [
              0.6666666666666666,
              "#ed7953"
             ],
             [
              0.7777777777777778,
              "#fb9f3a"
             ],
             [
              0.8888888888888888,
              "#fdca26"
             ],
             [
              1,
              "#f0f921"
             ]
            ],
            "type": "heatmapgl"
           }
          ],
          "histogram": [
           {
            "marker": {
             "pattern": {
              "fillmode": "overlay",
              "size": 10,
              "solidity": 0.2
             }
            },
            "type": "histogram"
           }
          ],
          "histogram2d": [
           {
            "colorbar": {
             "outlinewidth": 0,
             "ticks": ""
            },
            "colorscale": [
             [
              0,
              "#0d0887"
             ],
             [
              0.1111111111111111,
              "#46039f"
             ],
             [
              0.2222222222222222,
              "#7201a8"
             ],
             [
              0.3333333333333333,
              "#9c179e"
             ],
             [
              0.4444444444444444,
              "#bd3786"
             ],
             [
              0.5555555555555556,
              "#d8576b"
             ],
             [
              0.6666666666666666,
              "#ed7953"
             ],
             [
              0.7777777777777778,
              "#fb9f3a"
             ],
             [
              0.8888888888888888,
              "#fdca26"
             ],
             [
              1,
              "#f0f921"
             ]
            ],
            "type": "histogram2d"
           }
          ],
          "histogram2dcontour": [
           {
            "colorbar": {
             "outlinewidth": 0,
             "ticks": ""
            },
            "colorscale": [
             [
              0,
              "#0d0887"
             ],
             [
              0.1111111111111111,
              "#46039f"
             ],
             [
              0.2222222222222222,
              "#7201a8"
             ],
             [
              0.3333333333333333,
              "#9c179e"
             ],
             [
              0.4444444444444444,
              "#bd3786"
             ],
             [
              0.5555555555555556,
              "#d8576b"
             ],
             [
              0.6666666666666666,
              "#ed7953"
             ],
             [
              0.7777777777777778,
              "#fb9f3a"
             ],
             [
              0.8888888888888888,
              "#fdca26"
             ],
             [
              1,
              "#f0f921"
             ]
            ],
            "type": "histogram2dcontour"
           }
          ],
          "mesh3d": [
           {
            "colorbar": {
             "outlinewidth": 0,
             "ticks": ""
            },
            "type": "mesh3d"
           }
          ],
          "parcoords": [
           {
            "line": {
             "colorbar": {
              "outlinewidth": 0,
              "ticks": ""
             }
            },
            "type": "parcoords"
           }
          ],
          "pie": [
           {
            "automargin": true,
            "type": "pie"
           }
          ],
          "scatter": [
           {
            "fillpattern": {
             "fillmode": "overlay",
             "size": 10,
             "solidity": 0.2
            },
            "type": "scatter"
           }
          ],
          "scatter3d": [
           {
            "line": {
             "colorbar": {
              "outlinewidth": 0,
              "ticks": ""
             }
            },
            "marker": {
             "colorbar": {
              "outlinewidth": 0,
              "ticks": ""
             }
            },
            "type": "scatter3d"
           }
          ],
          "scattercarpet": [
           {
            "marker": {
             "colorbar": {
              "outlinewidth": 0,
              "ticks": ""
             }
            },
            "type": "scattercarpet"
           }
          ],
          "scattergeo": [
           {
            "marker": {
             "colorbar": {
              "outlinewidth": 0,
              "ticks": ""
             }
            },
            "type": "scattergeo"
           }
          ],
          "scattergl": [
           {
            "marker": {
             "colorbar": {
              "outlinewidth": 0,
              "ticks": ""
             }
            },
            "type": "scattergl"
           }
          ],
          "scattermapbox": [
           {
            "marker": {
             "colorbar": {
              "outlinewidth": 0,
              "ticks": ""
             }
            },
            "type": "scattermapbox"
           }
          ],
          "scatterpolar": [
           {
            "marker": {
             "colorbar": {
              "outlinewidth": 0,
              "ticks": ""
             }
            },
            "type": "scatterpolar"
           }
          ],
          "scatterpolargl": [
           {
            "marker": {
             "colorbar": {
              "outlinewidth": 0,
              "ticks": ""
             }
            },
            "type": "scatterpolargl"
           }
          ],
          "scatterternary": [
           {
            "marker": {
             "colorbar": {
              "outlinewidth": 0,
              "ticks": ""
             }
            },
            "type": "scatterternary"
           }
          ],
          "surface": [
           {
            "colorbar": {
             "outlinewidth": 0,
             "ticks": ""
            },
            "colorscale": [
             [
              0,
              "#0d0887"
             ],
             [
              0.1111111111111111,
              "#46039f"
             ],
             [
              0.2222222222222222,
              "#7201a8"
             ],
             [
              0.3333333333333333,
              "#9c179e"
             ],
             [
              0.4444444444444444,
              "#bd3786"
             ],
             [
              0.5555555555555556,
              "#d8576b"
             ],
             [
              0.6666666666666666,
              "#ed7953"
             ],
             [
              0.7777777777777778,
              "#fb9f3a"
             ],
             [
              0.8888888888888888,
              "#fdca26"
             ],
             [
              1,
              "#f0f921"
             ]
            ],
            "type": "surface"
           }
          ],
          "table": [
           {
            "cells": {
             "fill": {
              "color": "#EBF0F8"
             },
             "line": {
              "color": "white"
             }
            },
            "header": {
             "fill": {
              "color": "#C8D4E3"
             },
             "line": {
              "color": "white"
             }
            },
            "type": "table"
           }
          ]
         },
         "layout": {
          "annotationdefaults": {
           "arrowcolor": "#2a3f5f",
           "arrowhead": 0,
           "arrowwidth": 1
          },
          "autotypenumbers": "strict",
          "coloraxis": {
           "colorbar": {
            "outlinewidth": 0,
            "ticks": ""
           }
          },
          "colorscale": {
           "diverging": [
            [
             0,
             "#8e0152"
            ],
            [
             0.1,
             "#c51b7d"
            ],
            [
             0.2,
             "#de77ae"
            ],
            [
             0.3,
             "#f1b6da"
            ],
            [
             0.4,
             "#fde0ef"
            ],
            [
             0.5,
             "#f7f7f7"
            ],
            [
             0.6,
             "#e6f5d0"
            ],
            [
             0.7,
             "#b8e186"
            ],
            [
             0.8,
             "#7fbc41"
            ],
            [
             0.9,
             "#4d9221"
            ],
            [
             1,
             "#276419"
            ]
           ],
           "sequential": [
            [
             0,
             "#0d0887"
            ],
            [
             0.1111111111111111,
             "#46039f"
            ],
            [
             0.2222222222222222,
             "#7201a8"
            ],
            [
             0.3333333333333333,
             "#9c179e"
            ],
            [
             0.4444444444444444,
             "#bd3786"
            ],
            [
             0.5555555555555556,
             "#d8576b"
            ],
            [
             0.6666666666666666,
             "#ed7953"
            ],
            [
             0.7777777777777778,
             "#fb9f3a"
            ],
            [
             0.8888888888888888,
             "#fdca26"
            ],
            [
             1,
             "#f0f921"
            ]
           ],
           "sequentialminus": [
            [
             0,
             "#0d0887"
            ],
            [
             0.1111111111111111,
             "#46039f"
            ],
            [
             0.2222222222222222,
             "#7201a8"
            ],
            [
             0.3333333333333333,
             "#9c179e"
            ],
            [
             0.4444444444444444,
             "#bd3786"
            ],
            [
             0.5555555555555556,
             "#d8576b"
            ],
            [
             0.6666666666666666,
             "#ed7953"
            ],
            [
             0.7777777777777778,
             "#fb9f3a"
            ],
            [
             0.8888888888888888,
             "#fdca26"
            ],
            [
             1,
             "#f0f921"
            ]
           ]
          },
          "colorway": [
           "#636efa",
           "#EF553B",
           "#00cc96",
           "#ab63fa",
           "#FFA15A",
           "#19d3f3",
           "#FF6692",
           "#B6E880",
           "#FF97FF",
           "#FECB52"
          ],
          "font": {
           "color": "#2a3f5f"
          },
          "geo": {
           "bgcolor": "white",
           "lakecolor": "white",
           "landcolor": "#E5ECF6",
           "showlakes": true,
           "showland": true,
           "subunitcolor": "white"
          },
          "hoverlabel": {
           "align": "left"
          },
          "hovermode": "closest",
          "mapbox": {
           "style": "light"
          },
          "paper_bgcolor": "white",
          "plot_bgcolor": "#E5ECF6",
          "polar": {
           "angularaxis": {
            "gridcolor": "white",
            "linecolor": "white",
            "ticks": ""
           },
           "bgcolor": "#E5ECF6",
           "radialaxis": {
            "gridcolor": "white",
            "linecolor": "white",
            "ticks": ""
           }
          },
          "scene": {
           "xaxis": {
            "backgroundcolor": "#E5ECF6",
            "gridcolor": "white",
            "gridwidth": 2,
            "linecolor": "white",
            "showbackground": true,
            "ticks": "",
            "zerolinecolor": "white"
           },
           "yaxis": {
            "backgroundcolor": "#E5ECF6",
            "gridcolor": "white",
            "gridwidth": 2,
            "linecolor": "white",
            "showbackground": true,
            "ticks": "",
            "zerolinecolor": "white"
           },
           "zaxis": {
            "backgroundcolor": "#E5ECF6",
            "gridcolor": "white",
            "gridwidth": 2,
            "linecolor": "white",
            "showbackground": true,
            "ticks": "",
            "zerolinecolor": "white"
           }
          },
          "shapedefaults": {
           "line": {
            "color": "#2a3f5f"
           }
          },
          "ternary": {
           "aaxis": {
            "gridcolor": "white",
            "linecolor": "white",
            "ticks": ""
           },
           "baxis": {
            "gridcolor": "white",
            "linecolor": "white",
            "ticks": ""
           },
           "bgcolor": "#E5ECF6",
           "caxis": {
            "gridcolor": "white",
            "linecolor": "white",
            "ticks": ""
           }
          },
          "title": {
           "x": 0.05
          },
          "xaxis": {
           "automargin": true,
           "gridcolor": "white",
           "linecolor": "white",
           "ticks": "",
           "title": {
            "standoff": 15
           },
           "zerolinecolor": "white",
           "zerolinewidth": 2
          },
          "yaxis": {
           "automargin": true,
           "gridcolor": "white",
           "linecolor": "white",
           "ticks": "",
           "title": {
            "standoff": 15
           },
           "zerolinecolor": "white",
           "zerolinewidth": 2
          }
         }
        },
        "title": {
         "text": "Distribution of Share Change % by Promoter on 2024-01-08"
        },
        "xaxis": {
         "anchor": "y",
         "domain": [
          0,
          1
         ],
         "tickangle": 45,
         "title": {
          "text": "Promoter"
         }
        },
        "yaxis": {
         "anchor": "x",
         "domain": [
          0,
          1
         ],
         "title": {
          "text": "Share Change (%)"
         }
        }
       }
      }
     },
     "metadata": {},
     "output_type": "display_data"
    }
   ],
   "source": [
    "fig = px.box(\n",
    "    df,\n",
    "    x='Promoter',\n",
    "    y='Share_Change%',\n",
    "    title='Distribution of Share Change % by Promoter on 2024-01-08',\n",
    "    labels={'Share_Change%': 'Share Change (%)'}\n",
    ")\n",
    "\n",
    "fig.update_xaxes(tickangle=45)\n",
    "fig.show()\n"
   ]
  },
  {
   "cell_type": "code",
   "execution_count": 25,
   "metadata": {},
   "outputs": [],
   "source": [
    "gt = pd.read_csv(\"/home/micro2/Documents/2024-09-02T10-32_export.csv\")"
   ]
  },
  {
   "cell_type": "code",
   "execution_count": 26,
   "metadata": {},
   "outputs": [
    {
     "data": {
      "text/html": [
       "<div>\n",
       "<style scoped>\n",
       "    .dataframe tbody tr th:only-of-type {\n",
       "        vertical-align: middle;\n",
       "    }\n",
       "\n",
       "    .dataframe tbody tr th {\n",
       "        vertical-align: top;\n",
       "    }\n",
       "\n",
       "    .dataframe thead th {\n",
       "        text-align: right;\n",
       "    }\n",
       "</style>\n",
       "<table border=\"1\" class=\"dataframe\">\n",
       "  <thead>\n",
       "    <tr style=\"text-align: right;\">\n",
       "      <th></th>\n",
       "      <th>Unnamed: 0</th>\n",
       "      <th>Promoter</th>\n",
       "      <th>Share</th>\n",
       "      <th>BSE Code</th>\n",
       "      <th>NSE Code</th>\n",
       "      <th>Price</th>\n",
       "      <th>MCap</th>\n",
       "      <th>TotalShares</th>\n",
       "      <th>CaptureDate</th>\n",
       "      <th>Date</th>\n",
       "      <th>Share_Change%</th>\n",
       "      <th>ch</th>\n",
       "    </tr>\n",
       "  </thead>\n",
       "  <tbody>\n",
       "    <tr>\n",
       "      <th>0</th>\n",
       "      <td>31681</td>\n",
       "      <td>Anita Ravichandran</td>\n",
       "      <td>1.98</td>\n",
       "      <td>531399</td>\n",
       "      <td>NaN</td>\n",
       "      <td>155</td>\n",
       "      <td>1290000000</td>\n",
       "      <td>8.322581e+06</td>\n",
       "      <td>Dec 2021</td>\n",
       "      <td>2021-01-12</td>\n",
       "      <td>NaN</td>\n",
       "      <td>EQUAL</td>\n",
       "    </tr>\n",
       "    <tr>\n",
       "      <th>1</th>\n",
       "      <td>62978</td>\n",
       "      <td>Bela Gajra</td>\n",
       "      <td>0.54</td>\n",
       "      <td>531399</td>\n",
       "      <td>NaN</td>\n",
       "      <td>155</td>\n",
       "      <td>1290000000</td>\n",
       "      <td>8.322581e+06</td>\n",
       "      <td>Dec 2021</td>\n",
       "      <td>2021-01-12</td>\n",
       "      <td>NaN</td>\n",
       "      <td>EQUAL</td>\n",
       "    </tr>\n",
       "    <tr>\n",
       "      <th>2</th>\n",
       "      <td>148093</td>\n",
       "      <td>Indira R Gajra</td>\n",
       "      <td>0.10</td>\n",
       "      <td>531399</td>\n",
       "      <td>NaN</td>\n",
       "      <td>155</td>\n",
       "      <td>1290000000</td>\n",
       "      <td>8.322581e+06</td>\n",
       "      <td>Dec 2021</td>\n",
       "      <td>2021-01-12</td>\n",
       "      <td>NaN</td>\n",
       "      <td>EQUAL</td>\n",
       "    </tr>\n",
       "    <tr>\n",
       "      <th>3</th>\n",
       "      <td>152896</td>\n",
       "      <td>J S Gajra</td>\n",
       "      <td>0.01</td>\n",
       "      <td>531399</td>\n",
       "      <td>NaN</td>\n",
       "      <td>155</td>\n",
       "      <td>1290000000</td>\n",
       "      <td>8.322581e+06</td>\n",
       "      <td>Dec 2021</td>\n",
       "      <td>2021-01-12</td>\n",
       "      <td>NaN</td>\n",
       "      <td>EQUAL</td>\n",
       "    </tr>\n",
       "    <tr>\n",
       "      <th>4</th>\n",
       "      <td>181708</td>\n",
       "      <td>Kennedy Ram Gajra</td>\n",
       "      <td>24.97</td>\n",
       "      <td>531399</td>\n",
       "      <td>NaN</td>\n",
       "      <td>155</td>\n",
       "      <td>1290000000</td>\n",
       "      <td>8.322581e+06</td>\n",
       "      <td>Dec 2021</td>\n",
       "      <td>2021-01-12</td>\n",
       "      <td>inf</td>\n",
       "      <td>UP</td>\n",
       "    </tr>\n",
       "    <tr>\n",
       "      <th>...</th>\n",
       "      <td>...</td>\n",
       "      <td>...</td>\n",
       "      <td>...</td>\n",
       "      <td>...</td>\n",
       "      <td>...</td>\n",
       "      <td>...</td>\n",
       "      <td>...</td>\n",
       "      <td>...</td>\n",
       "      <td>...</td>\n",
       "      <td>...</td>\n",
       "      <td>...</td>\n",
       "      <td>...</td>\n",
       "    </tr>\n",
       "    <tr>\n",
       "      <th>127</th>\n",
       "      <td>322983</td>\n",
       "      <td>Ram S Gajra</td>\n",
       "      <td>0.01</td>\n",
       "      <td>531399</td>\n",
       "      <td>NaN</td>\n",
       "      <td>155</td>\n",
       "      <td>1290000000</td>\n",
       "      <td>8.322581e+06</td>\n",
       "      <td>Aug 2024</td>\n",
       "      <td>2024-01-08</td>\n",
       "      <td>0.000000</td>\n",
       "      <td>EQUAL</td>\n",
       "    </tr>\n",
       "    <tr>\n",
       "      <th>128</th>\n",
       "      <td>370901</td>\n",
       "      <td>Savitri JGajra</td>\n",
       "      <td>0.99</td>\n",
       "      <td>531399</td>\n",
       "      <td>NaN</td>\n",
       "      <td>155</td>\n",
       "      <td>1290000000</td>\n",
       "      <td>8.322581e+06</td>\n",
       "      <td>Aug 2024</td>\n",
       "      <td>2024-01-08</td>\n",
       "      <td>-12.389381</td>\n",
       "      <td>Down</td>\n",
       "    </tr>\n",
       "    <tr>\n",
       "      <th>129</th>\n",
       "      <td>422694</td>\n",
       "      <td>Suresh R Gajra</td>\n",
       "      <td>0.09</td>\n",
       "      <td>531399</td>\n",
       "      <td>NaN</td>\n",
       "      <td>155</td>\n",
       "      <td>1290000000</td>\n",
       "      <td>8.322581e+06</td>\n",
       "      <td>Aug 2024</td>\n",
       "      <td>2024-01-08</td>\n",
       "      <td>-10.000000</td>\n",
       "      <td>Down</td>\n",
       "    </tr>\n",
       "    <tr>\n",
       "      <th>130</th>\n",
       "      <td>426496</td>\n",
       "      <td>Swaranjeet Singh Nagpaul</td>\n",
       "      <td>0.03</td>\n",
       "      <td>531399</td>\n",
       "      <td>NaN</td>\n",
       "      <td>155</td>\n",
       "      <td>1290000000</td>\n",
       "      <td>8.322581e+06</td>\n",
       "      <td>Aug 2024</td>\n",
       "      <td>2024-01-08</td>\n",
       "      <td>0.000000</td>\n",
       "      <td>EQUAL</td>\n",
       "    </tr>\n",
       "    <tr>\n",
       "      <th>131</th>\n",
       "      <td>459568</td>\n",
       "      <td>Versa JGajra</td>\n",
       "      <td>1.48</td>\n",
       "      <td>531399</td>\n",
       "      <td>NaN</td>\n",
       "      <td>155</td>\n",
       "      <td>1290000000</td>\n",
       "      <td>8.322581e+06</td>\n",
       "      <td>Aug 2024</td>\n",
       "      <td>2024-01-08</td>\n",
       "      <td>-12.426036</td>\n",
       "      <td>Down</td>\n",
       "    </tr>\n",
       "  </tbody>\n",
       "</table>\n",
       "<p>132 rows × 12 columns</p>\n",
       "</div>"
      ],
      "text/plain": [
       "     Unnamed: 0                  Promoter  Share  BSE Code  NSE Code  Price  \\\n",
       "0         31681        Anita Ravichandran   1.98    531399       NaN    155   \n",
       "1         62978                Bela Gajra   0.54    531399       NaN    155   \n",
       "2        148093            Indira R Gajra   0.10    531399       NaN    155   \n",
       "3        152896                 J S Gajra   0.01    531399       NaN    155   \n",
       "4        181708         Kennedy Ram Gajra  24.97    531399       NaN    155   \n",
       "..          ...                       ...    ...       ...       ...    ...   \n",
       "127      322983               Ram S Gajra   0.01    531399       NaN    155   \n",
       "128      370901            Savitri JGajra   0.99    531399       NaN    155   \n",
       "129      422694            Suresh R Gajra   0.09    531399       NaN    155   \n",
       "130      426496  Swaranjeet Singh Nagpaul   0.03    531399       NaN    155   \n",
       "131      459568              Versa JGajra   1.48    531399       NaN    155   \n",
       "\n",
       "           MCap   TotalShares CaptureDate        Date  Share_Change%     ch  \n",
       "0    1290000000  8.322581e+06    Dec 2021  2021-01-12            NaN  EQUAL  \n",
       "1    1290000000  8.322581e+06    Dec 2021  2021-01-12            NaN  EQUAL  \n",
       "2    1290000000  8.322581e+06    Dec 2021  2021-01-12            NaN  EQUAL  \n",
       "3    1290000000  8.322581e+06    Dec 2021  2021-01-12            NaN  EQUAL  \n",
       "4    1290000000  8.322581e+06    Dec 2021  2021-01-12            inf     UP  \n",
       "..          ...           ...         ...         ...            ...    ...  \n",
       "127  1290000000  8.322581e+06    Aug 2024  2024-01-08       0.000000  EQUAL  \n",
       "128  1290000000  8.322581e+06    Aug 2024  2024-01-08     -12.389381   Down  \n",
       "129  1290000000  8.322581e+06    Aug 2024  2024-01-08     -10.000000   Down  \n",
       "130  1290000000  8.322581e+06    Aug 2024  2024-01-08       0.000000  EQUAL  \n",
       "131  1290000000  8.322581e+06    Aug 2024  2024-01-08     -12.426036   Down  \n",
       "\n",
       "[132 rows x 12 columns]"
      ]
     },
     "execution_count": 26,
     "metadata": {},
     "output_type": "execute_result"
    }
   ],
   "source": [
    "gt"
   ]
  },
  {
   "cell_type": "code",
   "execution_count": 27,
   "metadata": {},
   "outputs": [
    {
     "data": {
      "image/png": "[encoded data removed]",
      "text/plain": [
       "<Figure size 1008x576 with 1 Axes>"
      ]
     },
     "metadata": {
      "needs_background": "light"
     },
     "output_type": "display_data"
    }
   ],
   "source": [
    "df = pd.DataFrame(gt)\n",
    "\n",
    "\n",
    "df_pivot = df.pivot(index='Date', columns='Promoter', values='Share')\n",
    "\n",
    "\n",
    "df_pivot.plot(figsize=(14, 8), marker='o')\n",
    "\n",
    "plt.title('Promoter Share Over Time')\n",
    "plt.xlabel('Date')\n",
    "plt.ylabel('Share')\n",
    "plt.xticks(rotation=45)\n",
    "plt.legend(title='Promoter', bbox_to_anchor=(1.05, 1), loc='upper left')\n",
    "plt.grid(True)\n",
    "\n",
    "plt.show()"
   ]
  },
  {
   "cell_type": "code",
   "execution_count": 29,
   "metadata": {},
   "outputs": [
    {
     "data": {
      "application/vnd.plotly.v1+json": {
       "config": {
        "plotlyServerURL": "https://plot.ly"
       },
       "data": [
        {
         "mode": "lines+markers",
         "name": "Anita Ravichandran",
         "type": "scatter",
         "x": [
          "2021-01-12",
          "2022-01-03",
          "2022-01-06",
          "2022-01-09",
          "2022-01-12",
          "2023-01-03",
          "2023-01-06",
          "2023-01-09",
          "2023-01-12",
          "2024-01-03",
          "2024-01-06",
          "2024-01-08"
         ],
         "y": [
          1.98,
          1.98,
          1.98,
          1.98,
          1.98,
          1.98,
          1.98,
          1.98,
          1.88,
          1.88,
          1.88,
          1.65
         ]
        },
        {
         "mode": "lines+markers",
         "name": "Bela Gajra",
         "type": "scatter",
         "x": [
          "2021-01-12",
          "2022-01-03",
          "2022-01-06",
          "2022-01-09",
          "2022-01-12",
          "2023-01-03",
          "2023-01-06",
          "2023-01-09",
          "2023-01-12",
          "2024-01-03",
          "2024-01-06",
          "2024-01-08"
         ],
         "y": [
          0.54,
          0.54,
          0.54,
          0.54,
          1.37,
          2,
          2.49,
          2.62,
          7.47,
          7.47,
          7.47,
          11.34
         ]
        },
        {
         "mode": "lines+markers",
         "name": "Indira R Gajra",
         "type": "scatter",
         "x": [
          "2021-01-12",
          "2022-01-03",
          "2022-01-06",
          "2022-01-09",
          "2022-01-12",
          "2023-01-03",
          "2023-01-06",
          "2023-01-09",
          "2023-01-12",
          "2024-01-03",
          "2024-01-06",
          "2024-01-08"
         ],
         "y": [
          0.1,
          0.1,
          0.1,
          0.1,
          0.1,
          0.1,
          0.1,
          0.1,
          0.09,
          0.09,
          0.09,
          0.08
         ]
        },
        {
         "mode": "lines+markers",
         "name": "J S Gajra",
         "type": "scatter",
         "x": [
          "2021-01-12",
          "2022-01-03",
          "2022-01-06",
          "2022-01-09",
          "2022-01-12",
          "2023-01-03",
          "2023-01-06",
          "2023-01-09",
          "2023-01-12",
          "2024-01-03",
          "2024-01-06",
          "2024-01-08"
         ],
         "y": [
          0.01,
          0.01,
          0.01,
          0.01,
          0.01,
          0.01,
          0.01,
          0.01,
          0.01,
          0.01,
          0.01,
          0.01
         ]
        },
        {
         "mode": "lines+markers",
         "name": "Kennedy Ram Gajra",
         "type": "scatter",
         "x": [
          "2021-01-12",
          "2022-01-03",
          "2022-01-06",
          "2022-01-09",
          "2022-01-12",
          "2023-01-03",
          "2023-01-06",
          "2023-01-09",
          "2023-01-12",
          "2024-01-03",
          "2024-01-06",
          "2024-01-08"
         ],
         "y": [
          24.97,
          24.97,
          24.97,
          24.97,
          24.97,
          24.97,
          24.97,
          24.97,
          23.73,
          23.73,
          23.73,
          20.81
         ]
        },
        {
         "mode": "lines+markers",
         "name": "Prem S Gajra",
         "type": "scatter",
         "x": [
          "2021-01-12",
          "2022-01-03",
          "2022-01-06",
          "2022-01-09",
          "2022-01-12",
          "2023-01-03",
          "2023-01-06",
          "2023-01-09",
          "2023-01-12",
          "2024-01-03",
          "2024-01-06",
          "2024-01-08"
         ],
         "y": [
          0,
          0,
          0,
          0,
          0,
          0,
          0,
          0,
          0,
          0,
          0,
          0
         ]
        },
        {
         "mode": "lines+markers",
         "name": "Ram S Gajra",
         "type": "scatter",
         "x": [
          "2021-01-12",
          "2022-01-03",
          "2022-01-06",
          "2022-01-09",
          "2022-01-12",
          "2023-01-03",
          "2023-01-06",
          "2023-01-09",
          "2023-01-12",
          "2024-01-03",
          "2024-01-06",
          "2024-01-08"
         ],
         "y": [
          0.01,
          0.01,
          0.01,
          0.01,
          0.01,
          0.01,
          0.01,
          0.01,
          0.01,
          0.01,
          0.01,
          0.01
         ]
        },
        {
         "mode": "lines+markers",
         "name": "SS Nagpaul",
         "type": "scatter",
         "x": [
          "2021-01-12",
          "2022-01-03",
          "2022-01-06",
          "2022-01-09",
          "2022-01-12",
          "2023-01-03",
          "2023-01-06",
          "2023-01-09",
          "2023-01-12",
          "2024-01-03",
          "2024-01-06",
          "2024-01-08"
         ],
         "y": [
          null,
          null,
          null,
          null,
          null,
          null,
          0.03,
          null,
          null,
          null,
          null,
          null
         ]
        },
        {
         "mode": "lines+markers",
         "name": "Savitri JGajra",
         "type": "scatter",
         "x": [
          "2021-01-12",
          "2022-01-03",
          "2022-01-06",
          "2022-01-09",
          "2022-01-12",
          "2023-01-03",
          "2023-01-06",
          "2023-01-09",
          "2023-01-12",
          "2024-01-03",
          "2024-01-06",
          "2024-01-08"
         ],
         "y": [
          1.19,
          1.19,
          1.19,
          1.19,
          1.19,
          1.19,
          1.19,
          1.19,
          1.13,
          1.13,
          1.13,
          0.99
         ]
        },
        {
         "mode": "lines+markers",
         "name": "Suresh R Gajra",
         "type": "scatter",
         "x": [
          "2021-01-12",
          "2022-01-03",
          "2022-01-06",
          "2022-01-09",
          "2022-01-12",
          "2023-01-03",
          "2023-01-06",
          "2023-01-09",
          "2023-01-12",
          "2024-01-03",
          "2024-01-06",
          "2024-01-08"
         ],
         "y": [
          0.11,
          0.11,
          0.11,
          0.11,
          0.11,
          0.11,
          0.11,
          0.11,
          0.1,
          0.1,
          0.1,
          0.09
         ]
        },
        {
         "mode": "lines+markers",
         "name": "Swaranjeet Singh Nagpaul",
         "type": "scatter",
         "x": [
          "2021-01-12",
          "2022-01-03",
          "2022-01-06",
          "2022-01-09",
          "2022-01-12",
          "2023-01-03",
          "2023-01-06",
          "2023-01-09",
          "2023-01-12",
          "2024-01-03",
          "2024-01-06",
          "2024-01-08"
         ],
         "y": [
          0.03,
          0.03,
          0.03,
          0.03,
          0.03,
          0.03,
          null,
          0.03,
          0.03,
          0.03,
          0.03,
          0.03
         ]
        },
        {
         "mode": "lines+markers",
         "name": "Versa JGajra",
         "type": "scatter",
         "x": [
          "2021-01-12",
          "2022-01-03",
          "2022-01-06",
          "2022-01-09",
          "2022-01-12",
          "2023-01-03",
          "2023-01-06",
          "2023-01-09",
          "2023-01-12",
          "2024-01-03",
          "2024-01-06",
          "2024-01-08"
         ],
         "y": [
          null,
          null,
          null,
          null,
          null,
          1.78,
          1.78,
          1.78,
          1.69,
          1.69,
          1.69,
          1.48
         ]
        },
        {
         "mode": "lines+markers",
         "name": "Vinita Jairam GAJRA",
         "type": "scatter",
         "x": [
          "2021-01-12",
          "2022-01-03",
          "2022-01-06",
          "2022-01-09",
          "2022-01-12",
          "2023-01-03",
          "2023-01-06",
          "2023-01-09",
          "2023-01-12",
          "2024-01-03",
          "2024-01-06",
          "2024-01-08"
         ],
         "y": [
          1.78,
          1.78,
          1.78,
          1.78,
          1.78,
          null,
          null,
          null,
          null,
          null,
          null,
          null
         ]
        }
       ],
       "layout": {
        "height": 600,
        "legend": {
         "title": {
          "text": "Promoter"
         }
        },
        "template": {
         "data": {
          "bar": [
           {
            "error_x": {
             "color": "#2a3f5f"
            },
            "error_y": {
             "color": "#2a3f5f"
            },
            "marker": {
             "line": {
              "color": "#E5ECF6",
              "width": 0.5
             },
             "pattern": {
              "fillmode": "overlay",
              "size": 10,
              "solidity": 0.2
             }
            },
            "type": "bar"
           }
          ],
          "barpolar": [
           {
            "marker": {
             "line": {
              "color": "#E5ECF6",
              "width": 0.5
             },
             "pattern": {
              "fillmode": "overlay",
              "size": 10,
              "solidity": 0.2
             }
            },
            "type": "barpolar"
           }
          ],
          "carpet": [
           {
            "aaxis": {
             "endlinecolor": "#2a3f5f",
             "gridcolor": "white",
             "linecolor": "white",
             "minorgridcolor": "white",
             "startlinecolor": "#2a3f5f"
            },
            "baxis": {
             "endlinecolor": "#2a3f5f",
             "gridcolor": "white",
             "linecolor": "white",
             "minorgridcolor": "white",
             "startlinecolor": "#2a3f5f"
            },
            "type": "carpet"
           }
          ],
          "choropleth": [
           {
            "colorbar": {
             "outlinewidth": 0,
             "ticks": ""
            },
            "type": "choropleth"
           }
          ],
          "contour": [
           {
            "colorbar": {
             "outlinewidth": 0,
             "ticks": ""
            },
            "colorscale": [
             [
              0,
              "#0d0887"
             ],
             [
              0.1111111111111111,
              "#46039f"
             ],
             [
              0.2222222222222222,
              "#7201a8"
             ],
             [
              0.3333333333333333,
              "#9c179e"
             ],
             [
              0.4444444444444444,
              "#bd3786"
             ],
             [
              0.5555555555555556,
              "#d8576b"
             ],
             [
              0.6666666666666666,
              "#ed7953"
             ],
             [
              0.7777777777777778,
              "#fb9f3a"
             ],
             [
              0.8888888888888888,
              "#fdca26"
             ],
             [
              1,
              "#f0f921"
             ]
            ],
            "type": "contour"
           }
          ],
          "contourcarpet": [
           {
            "colorbar": {
             "outlinewidth": 0,
             "ticks": ""
            },
            "type": "contourcarpet"
           }
          ],
          "heatmap": [
           {
            "colorbar": {
             "outlinewidth": 0,
             "ticks": ""
            },
            "colorscale": [
             [
              0,
              "#0d0887"
             ],
             [
              0.1111111111111111,
              "#46039f"
             ],
             [
              0.2222222222222222,
              "#7201a8"
             ],
             [
              0.3333333333333333,
              "#9c179e"
             ],
             [
              0.4444444444444444,
              "#bd3786"
             ],
             [
              0.5555555555555556,
              "#d8576b"
             ],
             [
              0.6666666666666666,
              "#ed7953"
             ],
             [
              0.7777777777777778,
              "#fb9f3a"
             ],
             [
              0.8888888888888888,
              "#fdca26"
             ],
             [
              1,
              "#f0f921"
             ]
            ],
            "type": "heatmap"
           }
          ],
          "heatmapgl": [
           {
            "colorbar": {
             "outlinewidth": 0,
             "ticks": ""
            },
            "colorscale": [
             [
              0,
              "#0d0887"
             ],
             [
              0.1111111111111111,
              "#46039f"
             ],
             [
              0.2222222222222222,
              "#7201a8"
             ],
             [
              0.3333333333333333,
              "#9c179e"
             ],
             [
              0.4444444444444444,
              "#bd3786"
             ],
             [
              0.5555555555555556,
              "#d8576b"
             ],
             [
              0.6666666666666666,
              "#ed7953"
             ],
             [
              0.7777777777777778,
              "#fb9f3a"
             ],
             [
              0.8888888888888888,
              "#fdca26"
             ],
             [
              1,
              "#f0f921"
             ]
            ],
            "type": "heatmapgl"
           }
          ],
          "histogram": [
           {
            "marker": {
             "pattern": {
              "fillmode": "overlay",
              "size": 10,
              "solidity": 0.2
             }
            },
            "type": "histogram"
           }
          ],
          "histogram2d": [
           {
            "colorbar": {
             "outlinewidth": 0,
             "ticks": ""
            },
            "colorscale": [
             [
              0,
              "#0d0887"
             ],
             [
              0.1111111111111111,
              "#46039f"
             ],
             [
              0.2222222222222222,
              "#7201a8"
             ],
             [
              0.3333333333333333,
              "#9c179e"
             ],
             [
              0.4444444444444444,
              "#bd3786"
             ],
             [
              0.5555555555555556,
              "#d8576b"
             ],
             [
              0.6666666666666666,
              "#ed7953"
             ],
             [
              0.7777777777777778,
              "#fb9f3a"
             ],
             [
              0.8888888888888888,
              "#fdca26"
             ],
             [
              1,
              "#f0f921"
             ]
            ],
            "type": "histogram2d"
           }
          ],
          "histogram2dcontour": [
           {
            "colorbar": {
             "outlinewidth": 0,
             "ticks": ""
            },
            "colorscale": [
             [
              0,
              "#0d0887"
             ],
             [
              0.1111111111111111,
              "#46039f"
             ],
             [
              0.2222222222222222,
              "#7201a8"
             ],
             [
              0.3333333333333333,
              "#9c179e"
             ],
             [
              0.4444444444444444,
              "#bd3786"
             ],
             [
              0.5555555555555556,
              "#d8576b"
             ],
             [
              0.6666666666666666,
              "#ed7953"
             ],
             [
              0.7777777777777778,
              "#fb9f3a"
             ],
             [
              0.8888888888888888,
              "#fdca26"
             ],
             [
              1,
              "#f0f921"
             ]
            ],
            "type": "histogram2dcontour"
           }
          ],
          "mesh3d": [
           {
            "colorbar": {
             "outlinewidth": 0,
             "ticks": ""
            },
            "type": "mesh3d"
           }
          ],
          "parcoords": [
           {
            "line": {
             "colorbar": {
              "outlinewidth": 0,
              "ticks": ""
             }
            },
            "type": "parcoords"
           }
          ],
          "pie": [
           {
            "automargin": true,
            "type": "pie"
           }
          ],
          "scatter": [
           {
            "fillpattern": {
             "fillmode": "overlay",
             "size": 10,
             "solidity": 0.2
            },
            "type": "scatter"
           }
          ],
          "scatter3d": [
           {
            "line": {
             "colorbar": {
              "outlinewidth": 0,
              "ticks": ""
             }
            },
            "marker": {
             "colorbar": {
              "outlinewidth": 0,
              "ticks": ""
             }
            },
            "type": "scatter3d"
           }
          ],
          "scattercarpet": [
           {
            "marker": {
             "colorbar": {
              "outlinewidth": 0,
              "ticks": ""
             }
            },
            "type": "scattercarpet"
           }
          ],
          "scattergeo": [
           {
            "marker": {
             "colorbar": {
              "outlinewidth": 0,
              "ticks": ""
             }
            },
            "type": "scattergeo"
           }
          ],
          "scattergl": [
           {
            "marker": {
             "colorbar": {
              "outlinewidth": 0,
              "ticks": ""
             }
            },
            "type": "scattergl"
           }
          ],
          "scattermapbox": [
           {
            "marker": {
             "colorbar": {
              "outlinewidth": 0,
              "ticks": ""
             }
            },
            "type": "scattermapbox"
           }
          ],
          "scatterpolar": [
           {
            "marker": {
             "colorbar": {
              "outlinewidth": 0,
              "ticks": ""
             }
            },
            "type": "scatterpolar"
           }
          ],
          "scatterpolargl": [
           {
            "marker": {
             "colorbar": {
              "outlinewidth": 0,
              "ticks": ""
             }
            },
            "type": "scatterpolargl"
           }
          ],
          "scatterternary": [
           {
            "marker": {
             "colorbar": {
              "outlinewidth": 0,
              "ticks": ""
             }
            },
            "type": "scatterternary"
           }
          ],
          "surface": [
           {
            "colorbar": {
             "outlinewidth": 0,
             "ticks": ""
            },
            "colorscale": [
             [
              0,
              "#0d0887"
             ],
             [
              0.1111111111111111,
              "#46039f"
             ],
             [
              0.2222222222222222,
              "#7201a8"
             ],
             [
              0.3333333333333333,
              "#9c179e"
             ],
             [
              0.4444444444444444,
              "#bd3786"
             ],
             [
              0.5555555555555556,
              "#d8576b"
             ],
             [
              0.6666666666666666,
              "#ed7953"
             ],
             [
              0.7777777777777778,
              "#fb9f3a"
             ],
             [
              0.8888888888888888,
              "#fdca26"
             ],
             [
              1,
              "#f0f921"
             ]
            ],
            "type": "surface"
           }
          ],
          "table": [
           {
            "cells": {
             "fill": {
              "color": "#EBF0F8"
             },
             "line": {
              "color": "white"
             }
            },
            "header": {
             "fill": {
              "color": "#C8D4E3"
             },
             "line": {
              "color": "white"
             }
            },
            "type": "table"
           }
          ]
         },
         "layout": {
          "annotationdefaults": {
           "arrowcolor": "#2a3f5f",
           "arrowhead": 0,
           "arrowwidth": 1
          },
          "autotypenumbers": "strict",
          "coloraxis": {
           "colorbar": {
            "outlinewidth": 0,
            "ticks": ""
           }
          },
          "colorscale": {
           "diverging": [
            [
             0,
             "#8e0152"
            ],
            [
             0.1,
             "#c51b7d"
            ],
            [
             0.2,
             "#de77ae"
            ],
            [
             0.3,
             "#f1b6da"
            ],
            [
             0.4,
             "#fde0ef"
            ],
            [
             0.5,
             "#f7f7f7"
            ],
            [
             0.6,
             "#e6f5d0"
            ],
            [
             0.7,
             "#b8e186"
            ],
            [
             0.8,
             "#7fbc41"
            ],
            [
             0.9,
             "#4d9221"
            ],
            [
             1,
             "#276419"
            ]
           ],
           "sequential": [
            [
             0,
             "#0d0887"
            ],
            [
             0.1111111111111111,
             "#46039f"
            ],
            [
             0.2222222222222222,
             "#7201a8"
            ],
            [
             0.3333333333333333,
             "#9c179e"
            ],
            [
             0.4444444444444444,
             "#bd3786"
            ],
            [
             0.5555555555555556,
             "#d8576b"
            ],
            [
             0.6666666666666666,
             "#ed7953"
            ],
            [
             0.7777777777777778,
             "#fb9f3a"
            ],
            [
             0.8888888888888888,
             "#fdca26"
            ],
            [
             1,
             "#f0f921"
            ]
           ],
           "sequentialminus": [
            [
             0,
             "#0d0887"
            ],
            [
             0.1111111111111111,
             "#46039f"
            ],
            [
             0.2222222222222222,
             "#7201a8"
            ],
            [
             0.3333333333333333,
             "#9c179e"
            ],
            [
             0.4444444444444444,
             "#bd3786"
            ],
            [
             0.5555555555555556,
             "#d8576b"
            ],
            [
             0.6666666666666666,
             "#ed7953"
            ],
            [
             0.7777777777777778,
             "#fb9f3a"
            ],
            [
             0.8888888888888888,
             "#fdca26"
            ],
            [
             1,
             "#f0f921"
            ]
           ]
          },
          "colorway": [
           "#636efa",
           "#EF553B",
           "#00cc96",
           "#ab63fa",
           "#FFA15A",
           "#19d3f3",
           "#FF6692",
           "#B6E880",
           "#FF97FF",
           "#FECB52"
          ],
          "font": {
           "color": "#2a3f5f"
          },
          "geo": {
           "bgcolor": "white",
           "lakecolor": "white",
           "landcolor": "#E5ECF6",
           "showlakes": true,
           "showland": true,
           "subunitcolor": "white"
          },
          "hoverlabel": {
           "align": "left"
          },
          "hovermode": "closest",
          "mapbox": {
           "style": "light"
          },
          "paper_bgcolor": "white",
          "plot_bgcolor": "#E5ECF6",
          "polar": {
           "angularaxis": {
            "gridcolor": "white",
            "linecolor": "white",
            "ticks": ""
           },
           "bgcolor": "#E5ECF6",
           "radialaxis": {
            "gridcolor": "white",
            "linecolor": "white",
            "ticks": ""
           }
          },
          "scene": {
           "xaxis": {
            "backgroundcolor": "#E5ECF6",
            "gridcolor": "white",
            "gridwidth": 2,
            "linecolor": "white",
            "showbackground": true,
            "ticks": "",
            "zerolinecolor": "white"
           },
           "yaxis": {
            "backgroundcolor": "#E5ECF6",
            "gridcolor": "white",
            "gridwidth": 2,
            "linecolor": "white",
            "showbackground": true,
            "ticks": "",
            "zerolinecolor": "white"
           },
           "zaxis": {
            "backgroundcolor": "#E5ECF6",
            "gridcolor": "white",
            "gridwidth": 2,
            "linecolor": "white",
            "showbackground": true,
            "ticks": "",
            "zerolinecolor": "white"
           }
          },
          "shapedefaults": {
           "line": {
            "color": "#2a3f5f"
           }
          },
          "ternary": {
           "aaxis": {
            "gridcolor": "white",
            "linecolor": "white",
            "ticks": ""
           },
           "baxis": {
            "gridcolor": "white",
            "linecolor": "white",
            "ticks": ""
           },
           "bgcolor": "#E5ECF6",
           "caxis": {
            "gridcolor": "white",
            "linecolor": "white",
            "ticks": ""
           }
          },
          "title": {
           "x": 0.05
          },
          "xaxis": {
           "automargin": true,
           "gridcolor": "white",
           "linecolor": "white",
           "ticks": "",
           "title": {
            "standoff": 15
           },
           "zerolinecolor": "white",
           "zerolinewidth": 2
          },
          "yaxis": {
           "automargin": true,
           "gridcolor": "white",
           "linecolor": "white",
           "ticks": "",
           "title": {
            "standoff": 15
           },
           "zerolinecolor": "white",
           "zerolinewidth": 2
          }
         }
        },
        "title": {
         "text": "Promoter Share Over Time"
        },
        "width": 1000,
        "xaxis": {
         "tickangle": -45,
         "title": {
          "text": "Date"
         }
        },
        "yaxis": {
         "title": {
          "text": "Share"
         }
        }
       }
      }
     },
     "metadata": {},
     "output_type": "display_data"
    }
   ],
   "source": [
    "import pandas as pd\n",
    "import plotly.graph_objects as go\n",
    "df = pd.DataFrame(gt)\n",
    "\n",
    "\n",
    "df_pivot = df.pivot(index='Date', columns='Promoter', values='Share')\n",
    "\n",
    "\n",
    "fig = go.Figure()\n",
    "\n",
    "for promoter in df_pivot.columns:\n",
    "    fig.add_trace(go.Scatter(\n",
    "        x=df_pivot.index,\n",
    "        y=df_pivot[promoter],\n",
    "        mode='lines+markers',\n",
    "        name=promoter\n",
    "    ))\n",
    "\n",
    "fig.update_layout(\n",
    "    title='Promoter Share Over Time',\n",
    "    xaxis_title='Date',\n",
    "    yaxis_title='Share',\n",
    "    xaxis=dict(tickangle=-45),\n",
    "    legend_title='Promoter',\n",
    "    width=1000,\n",
    "    height=600\n",
    ")\n",
    "\n",
    "fig.show()"
   ]
  },
  {
   "cell_type": "code",
   "execution_count": 30,
   "metadata": {},
   "outputs": [
    {
     "data": {
      "text/html": [
       "<div>\n",
       "<style scoped>\n",
       "    .dataframe tbody tr th:only-of-type {\n",
       "        vertical-align: middle;\n",
       "    }\n",
       "\n",
       "    .dataframe tbody tr th {\n",
       "        vertical-align: top;\n",
       "    }\n",
       "\n",
       "    .dataframe thead th {\n",
       "        text-align: right;\n",
       "    }\n",
       "</style>\n",
       "<table border=\"1\" class=\"dataframe\">\n",
       "  <thead>\n",
       "    <tr style=\"text-align: right;\">\n",
       "      <th></th>\n",
       "      <th>Unnamed: 0</th>\n",
       "      <th>Promoter</th>\n",
       "      <th>Share</th>\n",
       "      <th>BSE Code</th>\n",
       "      <th>NSE Code</th>\n",
       "      <th>Price</th>\n",
       "      <th>MCap</th>\n",
       "      <th>TotalShares</th>\n",
       "      <th>CaptureDate</th>\n",
       "      <th>Date</th>\n",
       "      <th>Share_Change%</th>\n",
       "      <th>ch</th>\n",
       "    </tr>\n",
       "  </thead>\n",
       "  <tbody>\n",
       "    <tr>\n",
       "      <th>0</th>\n",
       "      <td>31681</td>\n",
       "      <td>Anita Ravichandran</td>\n",
       "      <td>1.98</td>\n",
       "      <td>531399</td>\n",
       "      <td>NaN</td>\n",
       "      <td>155</td>\n",
       "      <td>1290000000</td>\n",
       "      <td>8.322581e+06</td>\n",
       "      <td>Dec 2021</td>\n",
       "      <td>2021-01-12</td>\n",
       "      <td>NaN</td>\n",
       "      <td>EQUAL</td>\n",
       "    </tr>\n",
       "    <tr>\n",
       "      <th>1</th>\n",
       "      <td>62978</td>\n",
       "      <td>Bela Gajra</td>\n",
       "      <td>0.54</td>\n",
       "      <td>531399</td>\n",
       "      <td>NaN</td>\n",
       "      <td>155</td>\n",
       "      <td>1290000000</td>\n",
       "      <td>8.322581e+06</td>\n",
       "      <td>Dec 2021</td>\n",
       "      <td>2021-01-12</td>\n",
       "      <td>NaN</td>\n",
       "      <td>EQUAL</td>\n",
       "    </tr>\n",
       "    <tr>\n",
       "      <th>2</th>\n",
       "      <td>148093</td>\n",
       "      <td>Indira R Gajra</td>\n",
       "      <td>0.10</td>\n",
       "      <td>531399</td>\n",
       "      <td>NaN</td>\n",
       "      <td>155</td>\n",
       "      <td>1290000000</td>\n",
       "      <td>8.322581e+06</td>\n",
       "      <td>Dec 2021</td>\n",
       "      <td>2021-01-12</td>\n",
       "      <td>NaN</td>\n",
       "      <td>EQUAL</td>\n",
       "    </tr>\n",
       "    <tr>\n",
       "      <th>3</th>\n",
       "      <td>152896</td>\n",
       "      <td>J S Gajra</td>\n",
       "      <td>0.01</td>\n",
       "      <td>531399</td>\n",
       "      <td>NaN</td>\n",
       "      <td>155</td>\n",
       "      <td>1290000000</td>\n",
       "      <td>8.322581e+06</td>\n",
       "      <td>Dec 2021</td>\n",
       "      <td>2021-01-12</td>\n",
       "      <td>NaN</td>\n",
       "      <td>EQUAL</td>\n",
       "    </tr>\n",
       "    <tr>\n",
       "      <th>4</th>\n",
       "      <td>181708</td>\n",
       "      <td>Kennedy Ram Gajra</td>\n",
       "      <td>24.97</td>\n",
       "      <td>531399</td>\n",
       "      <td>NaN</td>\n",
       "      <td>155</td>\n",
       "      <td>1290000000</td>\n",
       "      <td>8.322581e+06</td>\n",
       "      <td>Dec 2021</td>\n",
       "      <td>2021-01-12</td>\n",
       "      <td>inf</td>\n",
       "      <td>UP</td>\n",
       "    </tr>\n",
       "    <tr>\n",
       "      <th>...</th>\n",
       "      <td>...</td>\n",
       "      <td>...</td>\n",
       "      <td>...</td>\n",
       "      <td>...</td>\n",
       "      <td>...</td>\n",
       "      <td>...</td>\n",
       "      <td>...</td>\n",
       "      <td>...</td>\n",
       "      <td>...</td>\n",
       "      <td>...</td>\n",
       "      <td>...</td>\n",
       "      <td>...</td>\n",
       "    </tr>\n",
       "    <tr>\n",
       "      <th>127</th>\n",
       "      <td>322983</td>\n",
       "      <td>Ram S Gajra</td>\n",
       "      <td>0.01</td>\n",
       "      <td>531399</td>\n",
       "      <td>NaN</td>\n",
       "      <td>155</td>\n",
       "      <td>1290000000</td>\n",
       "      <td>8.322581e+06</td>\n",
       "      <td>Aug 2024</td>\n",
       "      <td>2024-01-08</td>\n",
       "      <td>0.000000</td>\n",
       "      <td>EQUAL</td>\n",
       "    </tr>\n",
       "    <tr>\n",
       "      <th>128</th>\n",
       "      <td>370901</td>\n",
       "      <td>Savitri JGajra</td>\n",
       "      <td>0.99</td>\n",
       "      <td>531399</td>\n",
       "      <td>NaN</td>\n",
       "      <td>155</td>\n",
       "      <td>1290000000</td>\n",
       "      <td>8.322581e+06</td>\n",
       "      <td>Aug 2024</td>\n",
       "      <td>2024-01-08</td>\n",
       "      <td>-12.389381</td>\n",
       "      <td>Down</td>\n",
       "    </tr>\n",
       "    <tr>\n",
       "      <th>129</th>\n",
       "      <td>422694</td>\n",
       "      <td>Suresh R Gajra</td>\n",
       "      <td>0.09</td>\n",
       "      <td>531399</td>\n",
       "      <td>NaN</td>\n",
       "      <td>155</td>\n",
       "      <td>1290000000</td>\n",
       "      <td>8.322581e+06</td>\n",
       "      <td>Aug 2024</td>\n",
       "      <td>2024-01-08</td>\n",
       "      <td>-10.000000</td>\n",
       "      <td>Down</td>\n",
       "    </tr>\n",
       "    <tr>\n",
       "      <th>130</th>\n",
       "      <td>426496</td>\n",
       "      <td>Swaranjeet Singh Nagpaul</td>\n",
       "      <td>0.03</td>\n",
       "      <td>531399</td>\n",
       "      <td>NaN</td>\n",
       "      <td>155</td>\n",
       "      <td>1290000000</td>\n",
       "      <td>8.322581e+06</td>\n",
       "      <td>Aug 2024</td>\n",
       "      <td>2024-01-08</td>\n",
       "      <td>0.000000</td>\n",
       "      <td>EQUAL</td>\n",
       "    </tr>\n",
       "    <tr>\n",
       "      <th>131</th>\n",
       "      <td>459568</td>\n",
       "      <td>Versa JGajra</td>\n",
       "      <td>1.48</td>\n",
       "      <td>531399</td>\n",
       "      <td>NaN</td>\n",
       "      <td>155</td>\n",
       "      <td>1290000000</td>\n",
       "      <td>8.322581e+06</td>\n",
       "      <td>Aug 2024</td>\n",
       "      <td>2024-01-08</td>\n",
       "      <td>-12.426036</td>\n",
       "      <td>Down</td>\n",
       "    </tr>\n",
       "  </tbody>\n",
       "</table>\n",
       "<p>132 rows × 12 columns</p>\n",
       "</div>"
      ],
      "text/plain": [
       "     Unnamed: 0                  Promoter  Share  BSE Code  NSE Code  Price  \\\n",
       "0         31681        Anita Ravichandran   1.98    531399       NaN    155   \n",
       "1         62978                Bela Gajra   0.54    531399       NaN    155   \n",
       "2        148093            Indira R Gajra   0.10    531399       NaN    155   \n",
       "3        152896                 J S Gajra   0.01    531399       NaN    155   \n",
       "4        181708         Kennedy Ram Gajra  24.97    531399       NaN    155   \n",
       "..          ...                       ...    ...       ...       ...    ...   \n",
       "127      322983               Ram S Gajra   0.01    531399       NaN    155   \n",
       "128      370901            Savitri JGajra   0.99    531399       NaN    155   \n",
       "129      422694            Suresh R Gajra   0.09    531399       NaN    155   \n",
       "130      426496  Swaranjeet Singh Nagpaul   0.03    531399       NaN    155   \n",
       "131      459568              Versa JGajra   1.48    531399       NaN    155   \n",
       "\n",
       "           MCap   TotalShares CaptureDate        Date  Share_Change%     ch  \n",
       "0    1290000000  8.322581e+06    Dec 2021  2021-01-12            NaN  EQUAL  \n",
       "1    1290000000  8.322581e+06    Dec 2021  2021-01-12            NaN  EQUAL  \n",
       "2    1290000000  8.322581e+06    Dec 2021  2021-01-12            NaN  EQUAL  \n",
       "3    1290000000  8.322581e+06    Dec 2021  2021-01-12            NaN  EQUAL  \n",
       "4    1290000000  8.322581e+06    Dec 2021  2021-01-12            inf     UP  \n",
       "..          ...           ...         ...         ...            ...    ...  \n",
       "127  1290000000  8.322581e+06    Aug 2024  2024-01-08       0.000000  EQUAL  \n",
       "128  1290000000  8.322581e+06    Aug 2024  2024-01-08     -12.389381   Down  \n",
       "129  1290000000  8.322581e+06    Aug 2024  2024-01-08     -10.000000   Down  \n",
       "130  1290000000  8.322581e+06    Aug 2024  2024-01-08       0.000000  EQUAL  \n",
       "131  1290000000  8.322581e+06    Aug 2024  2024-01-08     -12.426036   Down  \n",
       "\n",
       "[132 rows x 12 columns]"
      ]
     },
     "execution_count": 30,
     "metadata": {},
     "output_type": "execute_result"
    }
   ],
   "source": [
    "gt"
   ]
  },
  {
   "cell_type": "code",
   "execution_count": 31,
   "metadata": {},
   "outputs": [
    {
     "data": {
      "application/vnd.plotly.v1+json": {
       "config": {
        "plotlyServerURL": "https://plot.ly"
       },
       "data": [
        {
         "mode": "lines+markers",
         "name": "Anita Ravichandran",
         "type": "scatter",
         "x": [
          "2021-12-01",
          "2022-03-01",
          "2022-06-01",
          "2022-09-01",
          "2022-12-01",
          "2023-03-01",
          "2023-06-01",
          "2023-09-01",
          "2023-12-01",
          "2024-03-01",
          "2024-06-01",
          "2024-08-01"
         ],
         "y": [
          1.98,
          1.98,
          1.98,
          1.98,
          1.98,
          1.98,
          1.98,
          1.98,
          1.88,
          1.88,
          1.88,
          1.65
         ]
        },
        {
         "mode": "lines+markers",
         "name": "Bela Gajra",
         "type": "scatter",
         "x": [
          "2021-12-01",
          "2022-03-01",
          "2022-06-01",
          "2022-09-01",
          "2022-12-01",
          "2023-03-01",
          "2023-06-01",
          "2023-09-01",
          "2023-12-01",
          "2024-03-01",
          "2024-06-01",
          "2024-08-01"
         ],
         "y": [
          0.54,
          0.54,
          0.54,
          0.54,
          1.37,
          2,
          2.49,
          2.62,
          7.47,
          7.47,
          7.47,
          11.34
         ]
        },
        {
         "mode": "lines+markers",
         "name": "Indira R Gajra",
         "type": "scatter",
         "x": [
          "2021-12-01",
          "2022-03-01",
          "2022-06-01",
          "2022-09-01",
          "2022-12-01",
          "2023-03-01",
          "2023-06-01",
          "2023-09-01",
          "2023-12-01",
          "2024-03-01",
          "2024-06-01",
          "2024-08-01"
         ],
         "y": [
          0.1,
          0.1,
          0.1,
          0.1,
          0.1,
          0.1,
          0.1,
          0.1,
          0.09,
          0.09,
          0.09,
          0.08
         ]
        },
        {
         "mode": "lines+markers",
         "name": "J S Gajra",
         "type": "scatter",
         "x": [
          "2021-12-01",
          "2022-03-01",
          "2022-06-01",
          "2022-09-01",
          "2022-12-01",
          "2023-03-01",
          "2023-06-01",
          "2023-09-01",
          "2023-12-01",
          "2024-03-01",
          "2024-06-01",
          "2024-08-01"
         ],
         "y": [
          0.01,
          0.01,
          0.01,
          0.01,
          0.01,
          0.01,
          0.01,
          0.01,
          0.01,
          0.01,
          0.01,
          0.01
         ]
        },
        {
         "mode": "lines+markers",
         "name": "Kennedy Ram Gajra",
         "type": "scatter",
         "x": [
          "2021-12-01",
          "2022-03-01",
          "2022-06-01",
          "2022-09-01",
          "2022-12-01",
          "2023-03-01",
          "2023-06-01",
          "2023-09-01",
          "2023-12-01",
          "2024-03-01",
          "2024-06-01",
          "2024-08-01"
         ],
         "y": [
          24.97,
          24.97,
          24.97,
          24.97,
          24.97,
          24.97,
          24.97,
          24.97,
          23.73,
          23.73,
          23.73,
          20.81
         ]
        },
        {
         "mode": "lines+markers",
         "name": "Prem S Gajra",
         "type": "scatter",
         "x": [
          "2021-12-01",
          "2022-03-01",
          "2022-06-01",
          "2022-09-01",
          "2022-12-01",
          "2023-03-01",
          "2023-06-01",
          "2023-09-01",
          "2023-12-01",
          "2024-03-01",
          "2024-06-01",
          "2024-08-01"
         ],
         "y": [
          0,
          0,
          0,
          0,
          0,
          0,
          0,
          0,
          0,
          0,
          0,
          0
         ]
        },
        {
         "mode": "lines+markers",
         "name": "Ram S Gajra",
         "type": "scatter",
         "x": [
          "2021-12-01",
          "2022-03-01",
          "2022-06-01",
          "2022-09-01",
          "2022-12-01",
          "2023-03-01",
          "2023-06-01",
          "2023-09-01",
          "2023-12-01",
          "2024-03-01",
          "2024-06-01",
          "2024-08-01"
         ],
         "y": [
          0.01,
          0.01,
          0.01,
          0.01,
          0.01,
          0.01,
          0.01,
          0.01,
          0.01,
          0.01,
          0.01,
          0.01
         ]
        },
        {
         "mode": "lines+markers",
         "name": "SS Nagpaul",
         "type": "scatter",
         "x": [
          "2021-12-01",
          "2022-03-01",
          "2022-06-01",
          "2022-09-01",
          "2022-12-01",
          "2023-03-01",
          "2023-06-01",
          "2023-09-01",
          "2023-12-01",
          "2024-03-01",
          "2024-06-01",
          "2024-08-01"
         ],
         "y": [
          null,
          null,
          null,
          null,
          null,
          null,
          0.03,
          null,
          null,
          null,
          null,
          null
         ]
        },
        {
         "mode": "lines+markers",
         "name": "Savitri JGajra",
         "type": "scatter",
         "x": [
          "2021-12-01",
          "2022-03-01",
          "2022-06-01",
          "2022-09-01",
          "2022-12-01",
          "2023-03-01",
          "2023-06-01",
          "2023-09-01",
          "2023-12-01",
          "2024-03-01",
          "2024-06-01",
          "2024-08-01"
         ],
         "y": [
          1.19,
          1.19,
          1.19,
          1.19,
          1.19,
          1.19,
          1.19,
          1.19,
          1.13,
          1.13,
          1.13,
          0.99
         ]
        },
        {
         "mode": "lines+markers",
         "name": "Suresh R Gajra",
         "type": "scatter",
         "x": [
          "2021-12-01",
          "2022-03-01",
          "2022-06-01",
          "2022-09-01",
          "2022-12-01",
          "2023-03-01",
          "2023-06-01",
          "2023-09-01",
          "2023-12-01",
          "2024-03-01",
          "2024-06-01",
          "2024-08-01"
         ],
         "y": [
          0.11,
          0.11,
          0.11,
          0.11,
          0.11,
          0.11,
          0.11,
          0.11,
          0.1,
          0.1,
          0.1,
          0.09
         ]
        },
        {
         "mode": "lines+markers",
         "name": "Swaranjeet Singh Nagpaul",
         "type": "scatter",
         "x": [
          "2021-12-01",
          "2022-03-01",
          "2022-06-01",
          "2022-09-01",
          "2022-12-01",
          "2023-03-01",
          "2023-06-01",
          "2023-09-01",
          "2023-12-01",
          "2024-03-01",
          "2024-06-01",
          "2024-08-01"
         ],
         "y": [
          0.03,
          0.03,
          0.03,
          0.03,
          0.03,
          0.03,
          null,
          0.03,
          0.03,
          0.03,
          0.03,
          0.03
         ]
        },
        {
         "mode": "lines+markers",
         "name": "Versa JGajra",
         "type": "scatter",
         "x": [
          "2021-12-01",
          "2022-03-01",
          "2022-06-01",
          "2022-09-01",
          "2022-12-01",
          "2023-03-01",
          "2023-06-01",
          "2023-09-01",
          "2023-12-01",
          "2024-03-01",
          "2024-06-01",
          "2024-08-01"
         ],
         "y": [
          null,
          null,
          null,
          null,
          null,
          1.78,
          1.78,
          1.78,
          1.69,
          1.69,
          1.69,
          1.48
         ]
        },
        {
         "mode": "lines+markers",
         "name": "Vinita Jairam GAJRA",
         "type": "scatter",
         "x": [
          "2021-12-01",
          "2022-03-01",
          "2022-06-01",
          "2022-09-01",
          "2022-12-01",
          "2023-03-01",
          "2023-06-01",
          "2023-09-01",
          "2023-12-01",
          "2024-03-01",
          "2024-06-01",
          "2024-08-01"
         ],
         "y": [
          1.78,
          1.78,
          1.78,
          1.78,
          1.78,
          null,
          null,
          null,
          null,
          null,
          null,
          null
         ]
        }
       ],
       "layout": {
        "height": 600,
        "legend": {
         "title": {
          "text": "Promoter"
         }
        },
        "template": {
         "data": {
          "bar": [
           {
            "error_x": {
             "color": "#2a3f5f"
            },
            "error_y": {
             "color": "#2a3f5f"
            },
            "marker": {
             "line": {
              "color": "#E5ECF6",
              "width": 0.5
             },
             "pattern": {
              "fillmode": "overlay",
              "size": 10,
              "solidity": 0.2
             }
            },
            "type": "bar"
           }
          ],
          "barpolar": [
           {
            "marker": {
             "line": {
              "color": "#E5ECF6",
              "width": 0.5
             },
             "pattern": {
              "fillmode": "overlay",
              "size": 10,
              "solidity": 0.2
             }
            },
            "type": "barpolar"
           }
          ],
          "carpet": [
           {
            "aaxis": {
             "endlinecolor": "#2a3f5f",
             "gridcolor": "white",
             "linecolor": "white",
             "minorgridcolor": "white",
             "startlinecolor": "#2a3f5f"
            },
            "baxis": {
             "endlinecolor": "#2a3f5f",
             "gridcolor": "white",
             "linecolor": "white",
             "minorgridcolor": "white",
             "startlinecolor": "#2a3f5f"
            },
            "type": "carpet"
           }
          ],
          "choropleth": [
           {
            "colorbar": {
             "outlinewidth": 0,
             "ticks": ""
            },
            "type": "choropleth"
           }
          ],
          "contour": [
           {
            "colorbar": {
             "outlinewidth": 0,
             "ticks": ""
            },
            "colorscale": [
             [
              0,
              "#0d0887"
             ],
             [
              0.1111111111111111,
              "#46039f"
             ],
             [
              0.2222222222222222,
              "#7201a8"
             ],
             [
              0.3333333333333333,
              "#9c179e"
             ],
             [
              0.4444444444444444,
              "#bd3786"
             ],
             [
              0.5555555555555556,
              "#d8576b"
             ],
             [
              0.6666666666666666,
              "#ed7953"
             ],
             [
              0.7777777777777778,
              "#fb9f3a"
             ],
             [
              0.8888888888888888,
              "#fdca26"
             ],
             [
              1,
              "#f0f921"
             ]
            ],
            "type": "contour"
           }
          ],
          "contourcarpet": [
           {
            "colorbar": {
             "outlinewidth": 0,
             "ticks": ""
            },
            "type": "contourcarpet"
           }
          ],
          "heatmap": [
           {
            "colorbar": {
             "outlinewidth": 0,
             "ticks": ""
            },
            "colorscale": [
             [
              0,
              "#0d0887"
             ],
             [
              0.1111111111111111,
              "#46039f"
             ],
             [
              0.2222222222222222,
              "#7201a8"
             ],
             [
              0.3333333333333333,
              "#9c179e"
             ],
             [
              0.4444444444444444,
              "#bd3786"
             ],
             [
              0.5555555555555556,
              "#d8576b"
             ],
             [
              0.6666666666666666,
              "#ed7953"
             ],
             [
              0.7777777777777778,
              "#fb9f3a"
             ],
             [
              0.8888888888888888,
              "#fdca26"
             ],
             [
              1,
              "#f0f921"
             ]
            ],
            "type": "heatmap"
           }
          ],
          "heatmapgl": [
           {
            "colorbar": {
             "outlinewidth": 0,
             "ticks": ""
            },
            "colorscale": [
             [
              0,
              "#0d0887"
             ],
             [
              0.1111111111111111,
              "#46039f"
             ],
             [
              0.2222222222222222,
              "#7201a8"
             ],
             [
              0.3333333333333333,
              "#9c179e"
             ],
             [
              0.4444444444444444,
              "#bd3786"
             ],
             [
              0.5555555555555556,
              "#d8576b"
             ],
             [
              0.6666666666666666,
              "#ed7953"
             ],
             [
              0.7777777777777778,
              "#fb9f3a"
             ],
             [
              0.8888888888888888,
              "#fdca26"
             ],
             [
              1,
              "#f0f921"
             ]
            ],
            "type": "heatmapgl"
           }
          ],
          "histogram": [
           {
            "marker": {
             "pattern": {
              "fillmode": "overlay",
              "size": 10,
              "solidity": 0.2
             }
            },
            "type": "histogram"
           }
          ],
          "histogram2d": [
           {
            "colorbar": {
             "outlinewidth": 0,
             "ticks": ""
            },
            "colorscale": [
             [
              0,
              "#0d0887"
             ],
             [
              0.1111111111111111,
              "#46039f"
             ],
             [
              0.2222222222222222,
              "#7201a8"
             ],
             [
              0.3333333333333333,
              "#9c179e"
             ],
             [
              0.4444444444444444,
              "#bd3786"
             ],
             [
              0.5555555555555556,
              "#d8576b"
             ],
             [
              0.6666666666666666,
              "#ed7953"
             ],
             [
              0.7777777777777778,
              "#fb9f3a"
             ],
             [
              0.8888888888888888,
              "#fdca26"
             ],
             [
              1,
              "#f0f921"
             ]
            ],
            "type": "histogram2d"
           }
          ],
          "histogram2dcontour": [
           {
            "colorbar": {
             "outlinewidth": 0,
             "ticks": ""
            },
            "colorscale": [
             [
              0,
              "#0d0887"
             ],
             [
              0.1111111111111111,
              "#46039f"
             ],
             [
              0.2222222222222222,
              "#7201a8"
             ],
             [
              0.3333333333333333,
              "#9c179e"
             ],
             [
              0.4444444444444444,
              "#bd3786"
             ],
             [
              0.5555555555555556,
              "#d8576b"
             ],
             [
              0.6666666666666666,
              "#ed7953"
             ],
             [
              0.7777777777777778,
              "#fb9f3a"
             ],
             [
              0.8888888888888888,
              "#fdca26"
             ],
             [
              1,
              "#f0f921"
             ]
            ],
            "type": "histogram2dcontour"
           }
          ],
          "mesh3d": [
           {
            "colorbar": {
             "outlinewidth": 0,
             "ticks": ""
            },
            "type": "mesh3d"
           }
          ],
          "parcoords": [
           {
            "line": {
             "colorbar": {
              "outlinewidth": 0,
              "ticks": ""
             }
            },
            "type": "parcoords"
           }
          ],
          "pie": [
           {
            "automargin": true,
            "type": "pie"
           }
          ],
          "scatter": [
           {
            "fillpattern": {
             "fillmode": "overlay",
             "size": 10,
             "solidity": 0.2
            },
            "type": "scatter"
           }
          ],
          "scatter3d": [
           {
            "line": {
             "colorbar": {
              "outlinewidth": 0,
              "ticks": ""
             }
            },
            "marker": {
             "colorbar": {
              "outlinewidth": 0,
              "ticks": ""
             }
            },
            "type": "scatter3d"
           }
          ],
          "scattercarpet": [
           {
            "marker": {
             "colorbar": {
              "outlinewidth": 0,
              "ticks": ""
             }
            },
            "type": "scattercarpet"
           }
          ],
          "scattergeo": [
           {
            "marker": {
             "colorbar": {
              "outlinewidth": 0,
              "ticks": ""
             }
            },
            "type": "scattergeo"
           }
          ],
          "scattergl": [
           {
            "marker": {
             "colorbar": {
              "outlinewidth": 0,
              "ticks": ""
             }
            },
            "type": "scattergl"
           }
          ],
          "scattermapbox": [
           {
            "marker": {
             "colorbar": {
              "outlinewidth": 0,
              "ticks": ""
             }
            },
            "type": "scattermapbox"
           }
          ],
          "scatterpolar": [
           {
            "marker": {
             "colorbar": {
              "outlinewidth": 0,
              "ticks": ""
             }
            },
            "type": "scatterpolar"
           }
          ],
          "scatterpolargl": [
           {
            "marker": {
             "colorbar": {
              "outlinewidth": 0,
              "ticks": ""
             }
            },
            "type": "scatterpolargl"
           }
          ],
          "scatterternary": [
           {
            "marker": {
             "colorbar": {
              "outlinewidth": 0,
              "ticks": ""
             }
            },
            "type": "scatterternary"
           }
          ],
          "surface": [
           {
            "colorbar": {
             "outlinewidth": 0,
             "ticks": ""
            },
            "colorscale": [
             [
              0,
              "#0d0887"
             ],
             [
              0.1111111111111111,
              "#46039f"
             ],
             [
              0.2222222222222222,
              "#7201a8"
             ],
             [
              0.3333333333333333,
              "#9c179e"
             ],
             [
              0.4444444444444444,
              "#bd3786"
             ],
             [
              0.5555555555555556,
              "#d8576b"
             ],
             [
              0.6666666666666666,
              "#ed7953"
             ],
             [
              0.7777777777777778,
              "#fb9f3a"
             ],
             [
              0.8888888888888888,
              "#fdca26"
             ],
             [
              1,
              "#f0f921"
             ]
            ],
            "type": "surface"
           }
          ],
          "table": [
           {
            "cells": {
             "fill": {
              "color": "#EBF0F8"
             },
             "line": {
              "color": "white"
             }
            },
            "header": {
             "fill": {
              "color": "#C8D4E3"
             },
             "line": {
              "color": "white"
             }
            },
            "type": "table"
           }
          ]
         },
         "layout": {
          "annotationdefaults": {
           "arrowcolor": "#2a3f5f",
           "arrowhead": 0,
           "arrowwidth": 1
          },
          "autotypenumbers": "strict",
          "coloraxis": {
           "colorbar": {
            "outlinewidth": 0,
            "ticks": ""
           }
          },
          "colorscale": {
           "diverging": [
            [
             0,
             "#8e0152"
            ],
            [
             0.1,
             "#c51b7d"
            ],
            [
             0.2,
             "#de77ae"
            ],
            [
             0.3,
             "#f1b6da"
            ],
            [
             0.4,
             "#fde0ef"
            ],
            [
             0.5,
             "#f7f7f7"
            ],
            [
             0.6,
             "#e6f5d0"
            ],
            [
             0.7,
             "#b8e186"
            ],
            [
             0.8,
             "#7fbc41"
            ],
            [
             0.9,
             "#4d9221"
            ],
            [
             1,
             "#276419"
            ]
           ],
           "sequential": [
            [
             0,
             "#0d0887"
            ],
            [
             0.1111111111111111,
             "#46039f"
            ],
            [
             0.2222222222222222,
             "#7201a8"
            ],
            [
             0.3333333333333333,
             "#9c179e"
            ],
            [
             0.4444444444444444,
             "#bd3786"
            ],
            [
             0.5555555555555556,
             "#d8576b"
            ],
            [
             0.6666666666666666,
             "#ed7953"
            ],
            [
             0.7777777777777778,
             "#fb9f3a"
            ],
            [
             0.8888888888888888,
             "#fdca26"
            ],
            [
             1,
             "#f0f921"
            ]
           ],
           "sequentialminus": [
            [
             0,
             "#0d0887"
            ],
            [
             0.1111111111111111,
             "#46039f"
            ],
            [
             0.2222222222222222,
             "#7201a8"
            ],
            [
             0.3333333333333333,
             "#9c179e"
            ],
            [
             0.4444444444444444,
             "#bd3786"
            ],
            [
             0.5555555555555556,
             "#d8576b"
            ],
            [
             0.6666666666666666,
             "#ed7953"
            ],
            [
             0.7777777777777778,
             "#fb9f3a"
            ],
            [
             0.8888888888888888,
             "#fdca26"
            ],
            [
             1,
             "#f0f921"
            ]
           ]
          },
          "colorway": [
           "#636efa",
           "#EF553B",
           "#00cc96",
           "#ab63fa",
           "#FFA15A",
           "#19d3f3",
           "#FF6692",
           "#B6E880",
           "#FF97FF",
           "#FECB52"
          ],
          "font": {
           "color": "#2a3f5f"
          },
          "geo": {
           "bgcolor": "white",
           "lakecolor": "white",
           "landcolor": "#E5ECF6",
           "showlakes": true,
           "showland": true,
           "subunitcolor": "white"
          },
          "hoverlabel": {
           "align": "left"
          },
          "hovermode": "closest",
          "mapbox": {
           "style": "light"
          },
          "paper_bgcolor": "white",
          "plot_bgcolor": "#E5ECF6",
          "polar": {
           "angularaxis": {
            "gridcolor": "white",
            "linecolor": "white",
            "ticks": ""
           },
           "bgcolor": "#E5ECF6",
           "radialaxis": {
            "gridcolor": "white",
            "linecolor": "white",
            "ticks": ""
           }
          },
          "scene": {
           "xaxis": {
            "backgroundcolor": "#E5ECF6",
            "gridcolor": "white",
            "gridwidth": 2,
            "linecolor": "white",
            "showbackground": true,
            "ticks": "",
            "zerolinecolor": "white"
           },
           "yaxis": {
            "backgroundcolor": "#E5ECF6",
            "gridcolor": "white",
            "gridwidth": 2,
            "linecolor": "white",
            "showbackground": true,
            "ticks": "",
            "zerolinecolor": "white"
           },
           "zaxis": {
            "backgroundcolor": "#E5ECF6",
            "gridcolor": "white",
            "gridwidth": 2,
            "linecolor": "white",
            "showbackground": true,
            "ticks": "",
            "zerolinecolor": "white"
           }
          },
          "shapedefaults": {
           "line": {
            "color": "#2a3f5f"
           }
          },
          "ternary": {
           "aaxis": {
            "gridcolor": "white",
            "linecolor": "white",
            "ticks": ""
           },
           "baxis": {
            "gridcolor": "white",
            "linecolor": "white",
            "ticks": ""
           },
           "bgcolor": "#E5ECF6",
           "caxis": {
            "gridcolor": "white",
            "linecolor": "white",
            "ticks": ""
           }
          },
          "title": {
           "x": 0.05
          },
          "xaxis": {
           "automargin": true,
           "gridcolor": "white",
           "linecolor": "white",
           "ticks": "",
           "title": {
            "standoff": 15
           },
           "zerolinecolor": "white",
           "zerolinewidth": 2
          },
          "yaxis": {
           "automargin": true,
           "gridcolor": "white",
           "linecolor": "white",
           "ticks": "",
           "title": {
            "standoff": 15
           },
           "zerolinecolor": "white",
           "zerolinewidth": 2
          }
         }
        },
        "title": {
         "text": "Promoter Share Over Time"
        },
        "width": 1000,
        "xaxis": {
         "tickangle": -45,
         "title": {
          "text": "Date"
         }
        },
        "yaxis": {
         "title": {
          "text": "Share"
         }
        }
       }
      }
     },
     "metadata": {},
     "output_type": "display_data"
    }
   ],
   "source": [
    "df = pd.DataFrame(gt)\n",
    "\n",
    "def line(data):\n",
    "\n",
    "\n",
    "    df['Date'] = pd.to_datetime(df['Date'])\n",
    "    df['Date'] = df['Date'].dt.strftime('%Y-%d-%m')\n",
    "\n",
    "\n",
    "    df_pivot = df.pivot(index='Date', columns='Promoter', values='Share')\n",
    "\n",
    "\n",
    "    fig = go.Figure()\n",
    "\n",
    "    for promoter in df_pivot.columns:\n",
    "        fig.add_trace(go.Scatter(\n",
    "            x=df_pivot.index,\n",
    "            y=df_pivot[promoter],\n",
    "            mode='lines+markers',\n",
    "            name=promoter\n",
    "        ))\n",
    "\n",
    "    fig.update_layout(\n",
    "        title='Promoter Share Over Time',\n",
    "        xaxis_title='Date',\n",
    "        yaxis_title='Share',\n",
    "        xaxis=dict(tickangle=-45),\n",
    "        legend_title='Promoter',\n",
    "        width=1000,\n",
    "        height=600\n",
    "    )\n",
    "\n",
    "    fig.show()"
   ]
  },
  {
   "cell_type": "code",
   "execution_count": 32,
   "metadata": {},
   "outputs": [],
   "source": [
    "er = pd.read_csv(\"qw.csv\")"
   ]
  },
  {
   "cell_type": "code",
   "execution_count": 33,
   "metadata": {},
   "outputs": [
    {
     "data": {
      "text/html": [
       "<div>\n",
       "<style scoped>\n",
       "    .dataframe tbody tr th:only-of-type {\n",
       "        vertical-align: middle;\n",
       "    }\n",
       "\n",
       "    .dataframe tbody tr th {\n",
       "        vertical-align: top;\n",
       "    }\n",
       "\n",
       "    .dataframe thead th {\n",
       "        text-align: right;\n",
       "    }\n",
       "</style>\n",
       "<table border=\"1\" class=\"dataframe\">\n",
       "  <thead>\n",
       "    <tr style=\"text-align: right;\">\n",
       "      <th></th>\n",
       "      <th>Unnamed: 0</th>\n",
       "      <th>Promoter</th>\n",
       "      <th>Share</th>\n",
       "      <th>BSE Code</th>\n",
       "      <th>NSE Code</th>\n",
       "      <th>Price</th>\n",
       "      <th>MCap</th>\n",
       "      <th>TotalShares</th>\n",
       "      <th>CaptureDate</th>\n",
       "      <th>Date</th>\n",
       "      <th>Share_Change%</th>\n",
       "      <th>ch</th>\n",
       "    </tr>\n",
       "  </thead>\n",
       "  <tbody>\n",
       "    <tr>\n",
       "      <th>0</th>\n",
       "      <td>31681</td>\n",
       "      <td>Anita Ravichandran</td>\n",
       "      <td>1.98</td>\n",
       "      <td>531399</td>\n",
       "      <td>NaN</td>\n",
       "      <td>155.0</td>\n",
       "      <td>1290000000</td>\n",
       "      <td>8.322581e+06</td>\n",
       "      <td>Dec 2021</td>\n",
       "      <td>2021-01-12</td>\n",
       "      <td>NaN</td>\n",
       "      <td>EQUAL</td>\n",
       "    </tr>\n",
       "    <tr>\n",
       "      <th>1</th>\n",
       "      <td>31682</td>\n",
       "      <td>Anita Ravichandran</td>\n",
       "      <td>1.98</td>\n",
       "      <td>531399</td>\n",
       "      <td>NaN</td>\n",
       "      <td>155.0</td>\n",
       "      <td>1290000000</td>\n",
       "      <td>8.322581e+06</td>\n",
       "      <td>Mar 2022</td>\n",
       "      <td>2022-01-03</td>\n",
       "      <td>0.0</td>\n",
       "      <td>EQUAL</td>\n",
       "    </tr>\n",
       "    <tr>\n",
       "      <th>2</th>\n",
       "      <td>31683</td>\n",
       "      <td>Anita Ravichandran</td>\n",
       "      <td>1.98</td>\n",
       "      <td>531399</td>\n",
       "      <td>NaN</td>\n",
       "      <td>155.0</td>\n",
       "      <td>1290000000</td>\n",
       "      <td>8.322581e+06</td>\n",
       "      <td>Jun 2022</td>\n",
       "      <td>2022-01-06</td>\n",
       "      <td>0.0</td>\n",
       "      <td>EQUAL</td>\n",
       "    </tr>\n",
       "    <tr>\n",
       "      <th>3</th>\n",
       "      <td>31684</td>\n",
       "      <td>Anita Ravichandran</td>\n",
       "      <td>1.98</td>\n",
       "      <td>531399</td>\n",
       "      <td>NaN</td>\n",
       "      <td>155.0</td>\n",
       "      <td>1290000000</td>\n",
       "      <td>8.322581e+06</td>\n",
       "      <td>Sep 2022</td>\n",
       "      <td>2022-01-09</td>\n",
       "      <td>0.0</td>\n",
       "      <td>EQUAL</td>\n",
       "    </tr>\n",
       "    <tr>\n",
       "      <th>4</th>\n",
       "      <td>31685</td>\n",
       "      <td>Anita Ravichandran</td>\n",
       "      <td>1.98</td>\n",
       "      <td>531399</td>\n",
       "      <td>NaN</td>\n",
       "      <td>155.0</td>\n",
       "      <td>1290000000</td>\n",
       "      <td>8.322581e+06</td>\n",
       "      <td>Dec 2022</td>\n",
       "      <td>2022-01-12</td>\n",
       "      <td>0.0</td>\n",
       "      <td>EQUAL</td>\n",
       "    </tr>\n",
       "    <tr>\n",
       "      <th>...</th>\n",
       "      <td>...</td>\n",
       "      <td>...</td>\n",
       "      <td>...</td>\n",
       "      <td>...</td>\n",
       "      <td>...</td>\n",
       "      <td>...</td>\n",
       "      <td>...</td>\n",
       "      <td>...</td>\n",
       "      <td>...</td>\n",
       "      <td>...</td>\n",
       "      <td>...</td>\n",
       "      <td>...</td>\n",
       "    </tr>\n",
       "    <tr>\n",
       "      <th>127</th>\n",
       "      <td>467041</td>\n",
       "      <td>Vinita Jairam GAJRA</td>\n",
       "      <td>1.78</td>\n",
       "      <td>531399</td>\n",
       "      <td>NaN</td>\n",
       "      <td>155.0</td>\n",
       "      <td>1290000000</td>\n",
       "      <td>8.322581e+06</td>\n",
       "      <td>Dec 2021</td>\n",
       "      <td>2021-01-12</td>\n",
       "      <td>NaN</td>\n",
       "      <td>EQUAL</td>\n",
       "    </tr>\n",
       "    <tr>\n",
       "      <th>128</th>\n",
       "      <td>467042</td>\n",
       "      <td>Vinita Jairam GAJRA</td>\n",
       "      <td>1.78</td>\n",
       "      <td>531399</td>\n",
       "      <td>NaN</td>\n",
       "      <td>155.0</td>\n",
       "      <td>1290000000</td>\n",
       "      <td>8.322581e+06</td>\n",
       "      <td>Mar 2022</td>\n",
       "      <td>2022-01-03</td>\n",
       "      <td>0.0</td>\n",
       "      <td>EQUAL</td>\n",
       "    </tr>\n",
       "    <tr>\n",
       "      <th>129</th>\n",
       "      <td>467043</td>\n",
       "      <td>Vinita Jairam GAJRA</td>\n",
       "      <td>1.78</td>\n",
       "      <td>531399</td>\n",
       "      <td>NaN</td>\n",
       "      <td>155.0</td>\n",
       "      <td>1290000000</td>\n",
       "      <td>8.322581e+06</td>\n",
       "      <td>Jun 2022</td>\n",
       "      <td>2022-01-06</td>\n",
       "      <td>0.0</td>\n",
       "      <td>EQUAL</td>\n",
       "    </tr>\n",
       "    <tr>\n",
       "      <th>130</th>\n",
       "      <td>467044</td>\n",
       "      <td>Vinita Jairam GAJRA</td>\n",
       "      <td>1.78</td>\n",
       "      <td>531399</td>\n",
       "      <td>NaN</td>\n",
       "      <td>155.0</td>\n",
       "      <td>1290000000</td>\n",
       "      <td>8.322581e+06</td>\n",
       "      <td>Sep 2022</td>\n",
       "      <td>2022-01-09</td>\n",
       "      <td>0.0</td>\n",
       "      <td>EQUAL</td>\n",
       "    </tr>\n",
       "    <tr>\n",
       "      <th>131</th>\n",
       "      <td>467045</td>\n",
       "      <td>Vinita Jairam GAJRA</td>\n",
       "      <td>1.78</td>\n",
       "      <td>531399</td>\n",
       "      <td>NaN</td>\n",
       "      <td>155.0</td>\n",
       "      <td>1290000000</td>\n",
       "      <td>8.322581e+06</td>\n",
       "      <td>Dec 2022</td>\n",
       "      <td>2022-01-12</td>\n",
       "      <td>0.0</td>\n",
       "      <td>EQUAL</td>\n",
       "    </tr>\n",
       "  </tbody>\n",
       "</table>\n",
       "<p>132 rows × 12 columns</p>\n",
       "</div>"
      ],
      "text/plain": [
       "     Unnamed: 0             Promoter  Share  BSE Code  NSE Code  Price  \\\n",
       "0         31681   Anita Ravichandran   1.98    531399       NaN  155.0   \n",
       "1         31682   Anita Ravichandran   1.98    531399       NaN  155.0   \n",
       "2         31683   Anita Ravichandran   1.98    531399       NaN  155.0   \n",
       "3         31684   Anita Ravichandran   1.98    531399       NaN  155.0   \n",
       "4         31685   Anita Ravichandran   1.98    531399       NaN  155.0   \n",
       "..          ...                  ...    ...       ...       ...    ...   \n",
       "127      467041  Vinita Jairam GAJRA   1.78    531399       NaN  155.0   \n",
       "128      467042  Vinita Jairam GAJRA   1.78    531399       NaN  155.0   \n",
       "129      467043  Vinita Jairam GAJRA   1.78    531399       NaN  155.0   \n",
       "130      467044  Vinita Jairam GAJRA   1.78    531399       NaN  155.0   \n",
       "131      467045  Vinita Jairam GAJRA   1.78    531399       NaN  155.0   \n",
       "\n",
       "           MCap   TotalShares CaptureDate        Date  Share_Change%     ch  \n",
       "0    1290000000  8.322581e+06    Dec 2021  2021-01-12            NaN  EQUAL  \n",
       "1    1290000000  8.322581e+06    Mar 2022  2022-01-03            0.0  EQUAL  \n",
       "2    1290000000  8.322581e+06    Jun 2022  2022-01-06            0.0  EQUAL  \n",
       "3    1290000000  8.322581e+06    Sep 2022  2022-01-09            0.0  EQUAL  \n",
       "4    1290000000  8.322581e+06    Dec 2022  2022-01-12            0.0  EQUAL  \n",
       "..          ...           ...         ...         ...            ...    ...  \n",
       "127  1290000000  8.322581e+06    Dec 2021  2021-01-12            NaN  EQUAL  \n",
       "128  1290000000  8.322581e+06    Mar 2022  2022-01-03            0.0  EQUAL  \n",
       "129  1290000000  8.322581e+06    Jun 2022  2022-01-06            0.0  EQUAL  \n",
       "130  1290000000  8.322581e+06    Sep 2022  2022-01-09            0.0  EQUAL  \n",
       "131  1290000000  8.322581e+06    Dec 2022  2022-01-12            0.0  EQUAL  \n",
       "\n",
       "[132 rows x 12 columns]"
      ]
     },
     "execution_count": 33,
     "metadata": {},
     "output_type": "execute_result"
    }
   ],
   "source": [
    "er"
   ]
  },
  {
   "cell_type": "code",
   "execution_count": 34,
   "metadata": {},
   "outputs": [
    {
     "data": {
      "application/vnd.plotly.v1+json": {
       "config": {
        "plotlyServerURL": "https://plot.ly"
       },
       "data": [
        {
         "mode": "lines+markers",
         "name": "Anita Ravichandran",
         "type": "scatter",
         "x": [
          "2021-12-01",
          "2022-03-01",
          "2022-06-01",
          "2022-09-01",
          "2022-12-01",
          "2023-03-01",
          "2023-06-01",
          "2023-09-01",
          "2023-12-01",
          "2024-03-01",
          "2024-06-01",
          "2024-08-01"
         ],
         "y": [
          1.98,
          1.98,
          1.98,
          1.98,
          1.98,
          1.98,
          1.98,
          1.98,
          1.88,
          1.88,
          1.88,
          1.65
         ]
        },
        {
         "mode": "lines+markers",
         "name": "Bela Gajra",
         "type": "scatter",
         "x": [
          "2021-12-01",
          "2022-03-01",
          "2022-06-01",
          "2022-09-01",
          "2022-12-01",
          "2023-03-01",
          "2023-06-01",
          "2023-09-01",
          "2023-12-01",
          "2024-03-01",
          "2024-06-01",
          "2024-08-01"
         ],
         "y": [
          0.54,
          0.54,
          0.54,
          0.54,
          1.37,
          2,
          2.49,
          2.62,
          7.47,
          7.47,
          7.47,
          11.34
         ]
        },
        {
         "mode": "lines+markers",
         "name": "Indira R Gajra",
         "type": "scatter",
         "x": [
          "2021-12-01",
          "2022-03-01",
          "2022-06-01",
          "2022-09-01",
          "2022-12-01",
          "2023-03-01",
          "2023-06-01",
          "2023-09-01",
          "2023-12-01",
          "2024-03-01",
          "2024-06-01",
          "2024-08-01"
         ],
         "y": [
          0.1,
          0.1,
          0.1,
          0.1,
          0.1,
          0.1,
          0.1,
          0.1,
          0.09,
          0.09,
          0.09,
          0.08
         ]
        },
        {
         "mode": "lines+markers",
         "name": "J S Gajra",
         "type": "scatter",
         "x": [
          "2021-12-01",
          "2022-03-01",
          "2022-06-01",
          "2022-09-01",
          "2022-12-01",
          "2023-03-01",
          "2023-06-01",
          "2023-09-01",
          "2023-12-01",
          "2024-03-01",
          "2024-06-01",
          "2024-08-01"
         ],
         "y": [
          0.01,
          0.01,
          0.01,
          0.01,
          0.01,
          0.01,
          0.01,
          0.01,
          0.01,
          0.01,
          0.01,
          0.01
         ]
        },
        {
         "mode": "lines+markers",
         "name": "Kennedy Ram Gajra",
         "type": "scatter",
         "x": [
          "2021-12-01",
          "2022-03-01",
          "2022-06-01",
          "2022-09-01",
          "2022-12-01",
          "2023-03-01",
          "2023-06-01",
          "2023-09-01",
          "2023-12-01",
          "2024-03-01",
          "2024-06-01",
          "2024-08-01"
         ],
         "y": [
          24.97,
          24.97,
          24.97,
          24.97,
          24.97,
          24.97,
          24.97,
          24.97,
          23.73,
          23.73,
          23.73,
          20.81
         ]
        },
        {
         "mode": "lines+markers",
         "name": "Prem S Gajra",
         "type": "scatter",
         "x": [
          "2021-12-01",
          "2022-03-01",
          "2022-06-01",
          "2022-09-01",
          "2022-12-01",
          "2023-03-01",
          "2023-06-01",
          "2023-09-01",
          "2023-12-01",
          "2024-03-01",
          "2024-06-01",
          "2024-08-01"
         ],
         "y": [
          0,
          0,
          0,
          0,
          0,
          0,
          0,
          0,
          0,
          0,
          0,
          0
         ]
        },
        {
         "mode": "lines+markers",
         "name": "Ram S Gajra",
         "type": "scatter",
         "x": [
          "2021-12-01",
          "2022-03-01",
          "2022-06-01",
          "2022-09-01",
          "2022-12-01",
          "2023-03-01",
          "2023-06-01",
          "2023-09-01",
          "2023-12-01",
          "2024-03-01",
          "2024-06-01",
          "2024-08-01"
         ],
         "y": [
          0.01,
          0.01,
          0.01,
          0.01,
          0.01,
          0.01,
          0.01,
          0.01,
          0.01,
          0.01,
          0.01,
          0.01
         ]
        },
        {
         "mode": "lines+markers",
         "name": "SS Nagpaul",
         "type": "scatter",
         "x": [
          "2021-12-01",
          "2022-03-01",
          "2022-06-01",
          "2022-09-01",
          "2022-12-01",
          "2023-03-01",
          "2023-06-01",
          "2023-09-01",
          "2023-12-01",
          "2024-03-01",
          "2024-06-01",
          "2024-08-01"
         ],
         "y": [
          null,
          null,
          null,
          null,
          null,
          null,
          0.03,
          null,
          null,
          null,
          null,
          null
         ]
        },
        {
         "mode": "lines+markers",
         "name": "Savitri JGajra",
         "type": "scatter",
         "x": [
          "2021-12-01",
          "2022-03-01",
          "2022-06-01",
          "2022-09-01",
          "2022-12-01",
          "2023-03-01",
          "2023-06-01",
          "2023-09-01",
          "2023-12-01",
          "2024-03-01",
          "2024-06-01",
          "2024-08-01"
         ],
         "y": [
          1.19,
          1.19,
          1.19,
          1.19,
          1.19,
          1.19,
          1.19,
          1.19,
          1.13,
          1.13,
          1.13,
          0.99
         ]
        },
        {
         "mode": "lines+markers",
         "name": "Suresh R Gajra",
         "type": "scatter",
         "x": [
          "2021-12-01",
          "2022-03-01",
          "2022-06-01",
          "2022-09-01",
          "2022-12-01",
          "2023-03-01",
          "2023-06-01",
          "2023-09-01",
          "2023-12-01",
          "2024-03-01",
          "2024-06-01",
          "2024-08-01"
         ],
         "y": [
          0.11,
          0.11,
          0.11,
          0.11,
          0.11,
          0.11,
          0.11,
          0.11,
          0.1,
          0.1,
          0.1,
          0.09
         ]
        },
        {
         "mode": "lines+markers",
         "name": "Swaranjeet Singh Nagpaul",
         "type": "scatter",
         "x": [
          "2021-12-01",
          "2022-03-01",
          "2022-06-01",
          "2022-09-01",
          "2022-12-01",
          "2023-03-01",
          "2023-06-01",
          "2023-09-01",
          "2023-12-01",
          "2024-03-01",
          "2024-06-01",
          "2024-08-01"
         ],
         "y": [
          0.03,
          0.03,
          0.03,
          0.03,
          0.03,
          0.03,
          null,
          0.03,
          0.03,
          0.03,
          0.03,
          0.03
         ]
        },
        {
         "mode": "lines+markers",
         "name": "Versa JGajra",
         "type": "scatter",
         "x": [
          "2021-12-01",
          "2022-03-01",
          "2022-06-01",
          "2022-09-01",
          "2022-12-01",
          "2023-03-01",
          "2023-06-01",
          "2023-09-01",
          "2023-12-01",
          "2024-03-01",
          "2024-06-01",
          "2024-08-01"
         ],
         "y": [
          null,
          null,
          null,
          null,
          null,
          1.78,
          1.78,
          1.78,
          1.69,
          1.69,
          1.69,
          1.48
         ]
        },
        {
         "mode": "lines+markers",
         "name": "Vinita Jairam GAJRA",
         "type": "scatter",
         "x": [
          "2021-12-01",
          "2022-03-01",
          "2022-06-01",
          "2022-09-01",
          "2022-12-01",
          "2023-03-01",
          "2023-06-01",
          "2023-09-01",
          "2023-12-01",
          "2024-03-01",
          "2024-06-01",
          "2024-08-01"
         ],
         "y": [
          1.78,
          1.78,
          1.78,
          1.78,
          1.78,
          null,
          null,
          null,
          null,
          null,
          null,
          null
         ]
        }
       ],
       "layout": {
        "height": 600,
        "legend": {
         "title": {
          "text": "Promoter"
         }
        },
        "template": {
         "data": {
          "bar": [
           {
            "error_x": {
             "color": "#2a3f5f"
            },
            "error_y": {
             "color": "#2a3f5f"
            },
            "marker": {
             "line": {
              "color": "#E5ECF6",
              "width": 0.5
             },
             "pattern": {
              "fillmode": "overlay",
              "size": 10,
              "solidity": 0.2
             }
            },
            "type": "bar"
           }
          ],
          "barpolar": [
           {
            "marker": {
             "line": {
              "color": "#E5ECF6",
              "width": 0.5
             },
             "pattern": {
              "fillmode": "overlay",
              "size": 10,
              "solidity": 0.2
             }
            },
            "type": "barpolar"
           }
          ],
          "carpet": [
           {
            "aaxis": {
             "endlinecolor": "#2a3f5f",
             "gridcolor": "white",
             "linecolor": "white",
             "minorgridcolor": "white",
             "startlinecolor": "#2a3f5f"
            },
            "baxis": {
             "endlinecolor": "#2a3f5f",
             "gridcolor": "white",
             "linecolor": "white",
             "minorgridcolor": "white",
             "startlinecolor": "#2a3f5f"
            },
            "type": "carpet"
           }
          ],
          "choropleth": [
           {
            "colorbar": {
             "outlinewidth": 0,
             "ticks": ""
            },
            "type": "choropleth"
           }
          ],
          "contour": [
           {
            "colorbar": {
             "outlinewidth": 0,
             "ticks": ""
            },
            "colorscale": [
             [
              0,
              "#0d0887"
             ],
             [
              0.1111111111111111,
              "#46039f"
             ],
             [
              0.2222222222222222,
              "#7201a8"
             ],
             [
              0.3333333333333333,
              "#9c179e"
             ],
             [
              0.4444444444444444,
              "#bd3786"
             ],
             [
              0.5555555555555556,
              "#d8576b"
             ],
             [
              0.6666666666666666,
              "#ed7953"
             ],
             [
              0.7777777777777778,
              "#fb9f3a"
             ],
             [
              0.8888888888888888,
              "#fdca26"
             ],
             [
              1,
              "#f0f921"
             ]
            ],
            "type": "contour"
           }
          ],
          "contourcarpet": [
           {
            "colorbar": {
             "outlinewidth": 0,
             "ticks": ""
            },
            "type": "contourcarpet"
           }
          ],
          "heatmap": [
           {
            "colorbar": {
             "outlinewidth": 0,
             "ticks": ""
            },
            "colorscale": [
             [
              0,
              "#0d0887"
             ],
             [
              0.1111111111111111,
              "#46039f"
             ],
             [
              0.2222222222222222,
              "#7201a8"
             ],
             [
              0.3333333333333333,
              "#9c179e"
             ],
             [
              0.4444444444444444,
              "#bd3786"
             ],
             [
              0.5555555555555556,
              "#d8576b"
             ],
             [
              0.6666666666666666,
              "#ed7953"
             ],
             [
              0.7777777777777778,
              "#fb9f3a"
             ],
             [
              0.8888888888888888,
              "#fdca26"
             ],
             [
              1,
              "#f0f921"
             ]
            ],
            "type": "heatmap"
           }
          ],
          "heatmapgl": [
           {
            "colorbar": {
             "outlinewidth": 0,
             "ticks": ""
            },
            "colorscale": [
             [
              0,
              "#0d0887"
             ],
             [
              0.1111111111111111,
              "#46039f"
             ],
             [
              0.2222222222222222,
              "#7201a8"
             ],
             [
              0.3333333333333333,
              "#9c179e"
             ],
             [
              0.4444444444444444,
              "#bd3786"
             ],
             [
              0.5555555555555556,
              "#d8576b"
             ],
             [
              0.6666666666666666,
              "#ed7953"
             ],
             [
              0.7777777777777778,
              "#fb9f3a"
             ],
             [
              0.8888888888888888,
              "#fdca26"
             ],
             [
              1,
              "#f0f921"
             ]
            ],
            "type": "heatmapgl"
           }
          ],
          "histogram": [
           {
            "marker": {
             "pattern": {
              "fillmode": "overlay",
              "size": 10,
              "solidity": 0.2
             }
            },
            "type": "histogram"
           }
          ],
          "histogram2d": [
           {
            "colorbar": {
             "outlinewidth": 0,
             "ticks": ""
            },
            "colorscale": [
             [
              0,
              "#0d0887"
             ],
             [
              0.1111111111111111,
              "#46039f"
             ],
             [
              0.2222222222222222,
              "#7201a8"
             ],
             [
              0.3333333333333333,
              "#9c179e"
             ],
             [
              0.4444444444444444,
              "#bd3786"
             ],
             [
              0.5555555555555556,
              "#d8576b"
             ],
             [
              0.6666666666666666,
              "#ed7953"
             ],
             [
              0.7777777777777778,
              "#fb9f3a"
             ],
             [
              0.8888888888888888,
              "#fdca26"
             ],
             [
              1,
              "#f0f921"
             ]
            ],
            "type": "histogram2d"
           }
          ],
          "histogram2dcontour": [
           {
            "colorbar": {
             "outlinewidth": 0,
             "ticks": ""
            },
            "colorscale": [
             [
              0,
              "#0d0887"
             ],
             [
              0.1111111111111111,
              "#46039f"
             ],
             [
              0.2222222222222222,
              "#7201a8"
             ],
             [
              0.3333333333333333,
              "#9c179e"
             ],
             [
              0.4444444444444444,
              "#bd3786"
             ],
             [
              0.5555555555555556,
              "#d8576b"
             ],
             [
              0.6666666666666666,
              "#ed7953"
             ],
             [
              0.7777777777777778,
              "#fb9f3a"
             ],
             [
              0.8888888888888888,
              "#fdca26"
             ],
             [
              1,
              "#f0f921"
             ]
            ],
            "type": "histogram2dcontour"
           }
          ],
          "mesh3d": [
           {
            "colorbar": {
             "outlinewidth": 0,
             "ticks": ""
            },
            "type": "mesh3d"
           }
          ],
          "parcoords": [
           {
            "line": {
             "colorbar": {
              "outlinewidth": 0,
              "ticks": ""
             }
            },
            "type": "parcoords"
           }
          ],
          "pie": [
           {
            "automargin": true,
            "type": "pie"
           }
          ],
          "scatter": [
           {
            "fillpattern": {
             "fillmode": "overlay",
             "size": 10,
             "solidity": 0.2
            },
            "type": "scatter"
           }
          ],
          "scatter3d": [
           {
            "line": {
             "colorbar": {
              "outlinewidth": 0,
              "ticks": ""
             }
            },
            "marker": {
             "colorbar": {
              "outlinewidth": 0,
              "ticks": ""
             }
            },
            "type": "scatter3d"
           }
          ],
          "scattercarpet": [
           {
            "marker": {
             "colorbar": {
              "outlinewidth": 0,
              "ticks": ""
             }
            },
            "type": "scattercarpet"
           }
          ],
          "scattergeo": [
           {
            "marker": {
             "colorbar": {
              "outlinewidth": 0,
              "ticks": ""
             }
            },
            "type": "scattergeo"
           }
          ],
          "scattergl": [
           {
            "marker": {
             "colorbar": {
              "outlinewidth": 0,
              "ticks": ""
             }
            },
            "type": "scattergl"
           }
          ],
          "scattermapbox": [
           {
            "marker": {
             "colorbar": {
              "outlinewidth": 0,
              "ticks": ""
             }
            },
            "type": "scattermapbox"
           }
          ],
          "scatterpolar": [
           {
            "marker": {
             "colorbar": {
              "outlinewidth": 0,
              "ticks": ""
             }
            },
            "type": "scatterpolar"
           }
          ],
          "scatterpolargl": [
           {
            "marker": {
             "colorbar": {
              "outlinewidth": 0,
              "ticks": ""
             }
            },
            "type": "scatterpolargl"
           }
          ],
          "scatterternary": [
           {
            "marker": {
             "colorbar": {
              "outlinewidth": 0,
              "ticks": ""
             }
            },
            "type": "scatterternary"
           }
          ],
          "surface": [
           {
            "colorbar": {
             "outlinewidth": 0,
             "ticks": ""
            },
            "colorscale": [
             [
              0,
              "#0d0887"
             ],
             [
              0.1111111111111111,
              "#46039f"
             ],
             [
              0.2222222222222222,
              "#7201a8"
             ],
             [
              0.3333333333333333,
              "#9c179e"
             ],
             [
              0.4444444444444444,
              "#bd3786"
             ],
             [
              0.5555555555555556,
              "#d8576b"
             ],
             [
              0.6666666666666666,
              "#ed7953"
             ],
             [
              0.7777777777777778,
              "#fb9f3a"
             ],
             [
              0.8888888888888888,
              "#fdca26"
             ],
             [
              1,
              "#f0f921"
             ]
            ],
            "type": "surface"
           }
          ],
          "table": [
           {
            "cells": {
             "fill": {
              "color": "#EBF0F8"
             },
             "line": {
              "color": "white"
             }
            },
            "header": {
             "fill": {
              "color": "#C8D4E3"
             },
             "line": {
              "color": "white"
             }
            },
            "type": "table"
           }
          ]
         },
         "layout": {
          "annotationdefaults": {
           "arrowcolor": "#2a3f5f",
           "arrowhead": 0,
           "arrowwidth": 1
          },
          "autotypenumbers": "strict",
          "coloraxis": {
           "colorbar": {
            "outlinewidth": 0,
            "ticks": ""
           }
          },
          "colorscale": {
           "diverging": [
            [
             0,
             "#8e0152"
            ],
            [
             0.1,
             "#c51b7d"
            ],
            [
             0.2,
             "#de77ae"
            ],
            [
             0.3,
             "#f1b6da"
            ],
            [
             0.4,
             "#fde0ef"
            ],
            [
             0.5,
             "#f7f7f7"
            ],
            [
             0.6,
             "#e6f5d0"
            ],
            [
             0.7,
             "#b8e186"
            ],
            [
             0.8,
             "#7fbc41"
            ],
            [
             0.9,
             "#4d9221"
            ],
            [
             1,
             "#276419"
            ]
           ],
           "sequential": [
            [
             0,
             "#0d0887"
            ],
            [
             0.1111111111111111,
             "#46039f"
            ],
            [
             0.2222222222222222,
             "#7201a8"
            ],
            [
             0.3333333333333333,
             "#9c179e"
            ],
            [
             0.4444444444444444,
             "#bd3786"
            ],
            [
             0.5555555555555556,
             "#d8576b"
            ],
            [
             0.6666666666666666,
             "#ed7953"
            ],
            [
             0.7777777777777778,
             "#fb9f3a"
            ],
            [
             0.8888888888888888,
             "#fdca26"
            ],
            [
             1,
             "#f0f921"
            ]
           ],
           "sequentialminus": [
            [
             0,
             "#0d0887"
            ],
            [
             0.1111111111111111,
             "#46039f"
            ],
            [
             0.2222222222222222,
             "#7201a8"
            ],
            [
             0.3333333333333333,
             "#9c179e"
            ],
            [
             0.4444444444444444,
             "#bd3786"
            ],
            [
             0.5555555555555556,
             "#d8576b"
            ],
            [
             0.6666666666666666,
             "#ed7953"
            ],
            [
             0.7777777777777778,
             "#fb9f3a"
            ],
            [
             0.8888888888888888,
             "#fdca26"
            ],
            [
             1,
             "#f0f921"
            ]
           ]
          },
          "colorway": [
           "#636efa",
           "#EF553B",
           "#00cc96",
           "#ab63fa",
           "#FFA15A",
           "#19d3f3",
           "#FF6692",
           "#B6E880",
           "#FF97FF",
           "#FECB52"
          ],
          "font": {
           "color": "#2a3f5f"
          },
          "geo": {
           "bgcolor": "white",
           "lakecolor": "white",
           "landcolor": "#E5ECF6",
           "showlakes": true,
           "showland": true,
           "subunitcolor": "white"
          },
          "hoverlabel": {
           "align": "left"
          },
          "hovermode": "closest",
          "mapbox": {
           "style": "light"
          },
          "paper_bgcolor": "white",
          "plot_bgcolor": "#E5ECF6",
          "polar": {
           "angularaxis": {
            "gridcolor": "white",
            "linecolor": "white",
            "ticks": ""
           },
           "bgcolor": "#E5ECF6",
           "radialaxis": {
            "gridcolor": "white",
            "linecolor": "white",
            "ticks": ""
           }
          },
          "scene": {
           "xaxis": {
            "backgroundcolor": "#E5ECF6",
            "gridcolor": "white",
            "gridwidth": 2,
            "linecolor": "white",
            "showbackground": true,
            "ticks": "",
            "zerolinecolor": "white"
           },
           "yaxis": {
            "backgroundcolor": "#E5ECF6",
            "gridcolor": "white",
            "gridwidth": 2,
            "linecolor": "white",
            "showbackground": true,
            "ticks": "",
            "zerolinecolor": "white"
           },
           "zaxis": {
            "backgroundcolor": "#E5ECF6",
            "gridcolor": "white",
            "gridwidth": 2,
            "linecolor": "white",
            "showbackground": true,
            "ticks": "",
            "zerolinecolor": "white"
           }
          },
          "shapedefaults": {
           "line": {
            "color": "#2a3f5f"
           }
          },
          "ternary": {
           "aaxis": {
            "gridcolor": "white",
            "linecolor": "white",
            "ticks": ""
           },
           "baxis": {
            "gridcolor": "white",
            "linecolor": "white",
            "ticks": ""
           },
           "bgcolor": "#E5ECF6",
           "caxis": {
            "gridcolor": "white",
            "linecolor": "white",
            "ticks": ""
           }
          },
          "title": {
           "x": 0.05
          },
          "xaxis": {
           "automargin": true,
           "gridcolor": "white",
           "linecolor": "white",
           "ticks": "",
           "title": {
            "standoff": 15
           },
           "zerolinecolor": "white",
           "zerolinewidth": 2
          },
          "yaxis": {
           "automargin": true,
           "gridcolor": "white",
           "linecolor": "white",
           "ticks": "",
           "title": {
            "standoff": 15
           },
           "zerolinecolor": "white",
           "zerolinewidth": 2
          }
         }
        },
        "title": {
         "text": "Promoter Share Over Time"
        },
        "width": 1000,
        "xaxis": {
         "tickangle": -45,
         "title": {
          "text": "Date"
         }
        },
        "yaxis": {
         "title": {
          "text": "Share"
         }
        }
       }
      }
     },
     "metadata": {},
     "output_type": "display_data"
    }
   ],
   "source": [
    "df = pd.DataFrame(er)\n",
    "\n",
    "\n",
    "\n",
    "\n",
    "df['Date'] = pd.to_datetime(df['Date'])\n",
    "df['Date'] = df['Date'].dt.strftime('%Y-%d-%m')\n",
    "\n",
    "\n",
    "df_pivot = df.pivot(index='Date', columns='Promoter', values='Share')\n",
    "\n",
    "\n",
    "fig = go.Figure()\n",
    "\n",
    "for promoter in df_pivot.columns:\n",
    "    fig.add_trace(go.Scatter(\n",
    "        x=df_pivot.index,\n",
    "        y=df_pivot[promoter],\n",
    "        mode='lines+markers',\n",
    "        name=promoter\n",
    "    ))\n",
    "\n",
    "fig.update_layout(\n",
    "    title='Promoter Share Over Time',\n",
    "    xaxis_title='Date',\n",
    "    yaxis_title='Share',\n",
    "    xaxis=dict(tickangle=-45),\n",
    "    legend_title='Promoter',\n",
    "    width=1000,\n",
    "    height=600\n",
    ")\n",
    "\n",
    "fig.show()"
   ]
  },
  {
   "cell_type": "code",
   "execution_count": null,
   "metadata": {},
   "outputs": [],
   "source": [
    "def line(data):\n",
    "\n",
    "    df = data\n",
    "\n",
    "\n",
    "    df['Date'] = pd.to_datetime(df['Date'])\n",
    "    df['Date'] = df['Date'].dt.strftime('%Y-%d-%m')\n",
    "\n",
    "\n",
    "    df_pivot = df.pivot(index='Date', columns='Promoter', values='Share')\n",
    "\n",
    "    fig = go.Figure()\n",
    "\n",
    "\n",
    "    for promoter in df_pivot.columns:\n",
    "        fig.add_trace(go.Scatter(\n",
    "            x=df_pivot.index,\n",
    "            y=df_pivot[promoter],\n",
    "            mode='lines+markers',\n",
    "            name=promoter\n",
    "        ))\n",
    "\n",
    "\n",
    "    fig.update_layout(\n",
    "        title='Promoter Share Over Time',\n",
    "        xaxis_title='Date',\n",
    "        yaxis_title='Share',\n",
    "        xaxis=dict(tickangle=-45),\n",
    "        legend_title='Promoter',\n",
    "        width=1000,\n",
    "        height=600\n",
    "    )\n",
    "\n",
    "\n",
    "    st.plotly_chart(fig)"
   ]
  },
  {
   "cell_type": "code",
   "execution_count": 57,
   "metadata": {},
   "outputs": [],
   "source": [
    "yg =pd.read_csv(\"/home/micro2/Documents/ana1/try2.csv\")"
   ]
  },
  {
   "cell_type": "code",
   "execution_count": 36,
   "metadata": {},
   "outputs": [
    {
     "data": {
      "text/html": [
       "<div>\n",
       "<style scoped>\n",
       "    .dataframe tbody tr th:only-of-type {\n",
       "        vertical-align: middle;\n",
       "    }\n",
       "\n",
       "    .dataframe tbody tr th {\n",
       "        vertical-align: top;\n",
       "    }\n",
       "\n",
       "    .dataframe thead th {\n",
       "        text-align: right;\n",
       "    }\n",
       "</style>\n",
       "<table border=\"1\" class=\"dataframe\">\n",
       "  <thead>\n",
       "    <tr style=\"text-align: right;\">\n",
       "      <th></th>\n",
       "      <th>Unnamed: 0</th>\n",
       "      <th>Promoter</th>\n",
       "      <th>Share</th>\n",
       "      <th>BSE Code</th>\n",
       "      <th>NSE Code</th>\n",
       "      <th>Price</th>\n",
       "      <th>MCap</th>\n",
       "      <th>TotalShares</th>\n",
       "      <th>CaptureDate</th>\n",
       "      <th>Date</th>\n",
       "    </tr>\n",
       "  </thead>\n",
       "  <tbody>\n",
       "    <tr>\n",
       "      <th>0</th>\n",
       "      <td>0</td>\n",
       "      <td>Diwakar Nigam</td>\n",
       "      <td>22.41</td>\n",
       "      <td>540900</td>\n",
       "      <td>NEWGEN</td>\n",
       "      <td>1074.0</td>\n",
       "      <td>1.507000e+11</td>\n",
       "      <td>1.403166e+08</td>\n",
       "      <td>Sep 2021</td>\n",
       "      <td>01-09-2021</td>\n",
       "    </tr>\n",
       "    <tr>\n",
       "      <th>1</th>\n",
       "      <td>1</td>\n",
       "      <td>T S Varadarajan</td>\n",
       "      <td>21.46</td>\n",
       "      <td>540900</td>\n",
       "      <td>NEWGEN</td>\n",
       "      <td>1074.0</td>\n",
       "      <td>1.507000e+11</td>\n",
       "      <td>1.403166e+08</td>\n",
       "      <td>Sep 2021</td>\n",
       "      <td>01-09-2021</td>\n",
       "    </tr>\n",
       "    <tr>\n",
       "      <th>2</th>\n",
       "      <td>2</td>\n",
       "      <td>Priyadarshini Nigam</td>\n",
       "      <td>9.39</td>\n",
       "      <td>540900</td>\n",
       "      <td>NEWGEN</td>\n",
       "      <td>1074.0</td>\n",
       "      <td>1.507000e+11</td>\n",
       "      <td>1.403166e+08</td>\n",
       "      <td>Sep 2021</td>\n",
       "      <td>01-09-2021</td>\n",
       "    </tr>\n",
       "    <tr>\n",
       "      <th>3</th>\n",
       "      <td>3</td>\n",
       "      <td>Usha Varadarajan</td>\n",
       "      <td>1.90</td>\n",
       "      <td>540900</td>\n",
       "      <td>NEWGEN</td>\n",
       "      <td>1074.0</td>\n",
       "      <td>1.507000e+11</td>\n",
       "      <td>1.403166e+08</td>\n",
       "      <td>Sep 2021</td>\n",
       "      <td>01-09-2021</td>\n",
       "    </tr>\n",
       "    <tr>\n",
       "      <th>4</th>\n",
       "      <td>4</td>\n",
       "      <td>Ragini Goorha</td>\n",
       "      <td>0.00</td>\n",
       "      <td>540900</td>\n",
       "      <td>NEWGEN</td>\n",
       "      <td>1074.0</td>\n",
       "      <td>1.507000e+11</td>\n",
       "      <td>1.403166e+08</td>\n",
       "      <td>Sep 2021</td>\n",
       "      <td>01-09-2021</td>\n",
       "    </tr>\n",
       "    <tr>\n",
       "      <th>...</th>\n",
       "      <td>...</td>\n",
       "      <td>...</td>\n",
       "      <td>...</td>\n",
       "      <td>...</td>\n",
       "      <td>...</td>\n",
       "      <td>...</td>\n",
       "      <td>...</td>\n",
       "      <td>...</td>\n",
       "      <td>...</td>\n",
       "      <td>...</td>\n",
       "    </tr>\n",
       "    <tr>\n",
       "      <th>481015</th>\n",
       "      <td>481015</td>\n",
       "      <td>SBI Life Insurance Company Limited</td>\n",
       "      <td>0.00</td>\n",
       "      <td>543066</td>\n",
       "      <td>SBICARD</td>\n",
       "      <td>717.0</td>\n",
       "      <td>6.815900e+11</td>\n",
       "      <td>9.506137e+08</td>\n",
       "      <td>Mar 2024</td>\n",
       "      <td>01-03-2024</td>\n",
       "    </tr>\n",
       "    <tr>\n",
       "      <th>481016</th>\n",
       "      <td>481016</td>\n",
       "      <td>SBI General Insurance Company Limited</td>\n",
       "      <td>0.00</td>\n",
       "      <td>543066</td>\n",
       "      <td>SBICARD</td>\n",
       "      <td>717.0</td>\n",
       "      <td>6.815900e+11</td>\n",
       "      <td>9.506137e+08</td>\n",
       "      <td>Mar 2024</td>\n",
       "      <td>01-03-2024</td>\n",
       "    </tr>\n",
       "    <tr>\n",
       "      <th>481017</th>\n",
       "      <td>481017</td>\n",
       "      <td>State Bank of India</td>\n",
       "      <td>68.62</td>\n",
       "      <td>543066</td>\n",
       "      <td>SBICARD</td>\n",
       "      <td>717.0</td>\n",
       "      <td>6.815900e+11</td>\n",
       "      <td>9.506137e+08</td>\n",
       "      <td>Jun 2024</td>\n",
       "      <td>01-06-2024</td>\n",
       "    </tr>\n",
       "    <tr>\n",
       "      <th>481018</th>\n",
       "      <td>481018</td>\n",
       "      <td>SBI Life Insurance Company Limited</td>\n",
       "      <td>0.00</td>\n",
       "      <td>543066</td>\n",
       "      <td>SBICARD</td>\n",
       "      <td>717.0</td>\n",
       "      <td>6.815900e+11</td>\n",
       "      <td>9.506137e+08</td>\n",
       "      <td>Jun 2024</td>\n",
       "      <td>01-06-2024</td>\n",
       "    </tr>\n",
       "    <tr>\n",
       "      <th>481019</th>\n",
       "      <td>481019</td>\n",
       "      <td>SBI General Insurance Company Limited</td>\n",
       "      <td>0.00</td>\n",
       "      <td>543066</td>\n",
       "      <td>SBICARD</td>\n",
       "      <td>717.0</td>\n",
       "      <td>6.815900e+11</td>\n",
       "      <td>9.506137e+08</td>\n",
       "      <td>Jun 2024</td>\n",
       "      <td>01-06-2024</td>\n",
       "    </tr>\n",
       "  </tbody>\n",
       "</table>\n",
       "<p>481020 rows × 10 columns</p>\n",
       "</div>"
      ],
      "text/plain": [
       "        Unnamed: 0                               Promoter  Share  BSE Code  \\\n",
       "0                0                          Diwakar Nigam  22.41    540900   \n",
       "1                1                        T S Varadarajan  21.46    540900   \n",
       "2                2                    Priyadarshini Nigam   9.39    540900   \n",
       "3                3                       Usha Varadarajan   1.90    540900   \n",
       "4                4                          Ragini Goorha   0.00    540900   \n",
       "...            ...                                    ...    ...       ...   \n",
       "481015      481015     SBI Life Insurance Company Limited   0.00    543066   \n",
       "481016      481016  SBI General Insurance Company Limited   0.00    543066   \n",
       "481017      481017                    State Bank of India  68.62    543066   \n",
       "481018      481018     SBI Life Insurance Company Limited   0.00    543066   \n",
       "481019      481019  SBI General Insurance Company Limited   0.00    543066   \n",
       "\n",
       "       NSE Code   Price          MCap   TotalShares CaptureDate        Date  \n",
       "0        NEWGEN  1074.0  1.507000e+11  1.403166e+08    Sep 2021  01-09-2021  \n",
       "1        NEWGEN  1074.0  1.507000e+11  1.403166e+08    Sep 2021  01-09-2021  \n",
       "2        NEWGEN  1074.0  1.507000e+11  1.403166e+08    Sep 2021  01-09-2021  \n",
       "3        NEWGEN  1074.0  1.507000e+11  1.403166e+08    Sep 2021  01-09-2021  \n",
       "4        NEWGEN  1074.0  1.507000e+11  1.403166e+08    Sep 2021  01-09-2021  \n",
       "...         ...     ...           ...           ...         ...         ...  \n",
       "481015  SBICARD   717.0  6.815900e+11  9.506137e+08    Mar 2024  01-03-2024  \n",
       "481016  SBICARD   717.0  6.815900e+11  9.506137e+08    Mar 2024  01-03-2024  \n",
       "481017  SBICARD   717.0  6.815900e+11  9.506137e+08    Jun 2024  01-06-2024  \n",
       "481018  SBICARD   717.0  6.815900e+11  9.506137e+08    Jun 2024  01-06-2024  \n",
       "481019  SBICARD   717.0  6.815900e+11  9.506137e+08    Jun 2024  01-06-2024  \n",
       "\n",
       "[481020 rows x 10 columns]"
      ]
     },
     "execution_count": 36,
     "metadata": {},
     "output_type": "execute_result"
    }
   ],
   "source": [
    "yg"
   ]
  },
  {
   "cell_type": "code",
   "execution_count": 59,
   "metadata": {},
   "outputs": [],
   "source": [
    "fg = yg[yg[\"Promoter\"]==\"Isha M Ambani\"]"
   ]
  },
  {
   "cell_type": "code",
   "execution_count": 47,
   "metadata": {},
   "outputs": [],
   "source": [
    "fg.to_csv(\"on.csv\")"
   ]
  },
  {
   "cell_type": "code",
   "execution_count": 60,
   "metadata": {},
   "outputs": [
    {
     "data": {
      "application/vnd.plotly.v1+json": {
       "config": {
        "plotlyServerURL": "https://plot.ly"
       },
       "data": [
        {
         "mode": "lines+markers",
         "name": "500325",
         "type": "scatter",
         "x": [
          "2021-09-01",
          "2021-12-01",
          "2022-03-01",
          "2022-06-01",
          "2022-09-01",
          "2022-12-01",
          "2023-03-01",
          "2023-06-01",
          "2023-09-01",
          "2023-12-01",
          "2024-03-01",
          "2024-06-01"
         ],
         "y": [
          0.12,
          0.12,
          0.12,
          0.12,
          0.12,
          0.12,
          0.12,
          0.12,
          0.12,
          0.12,
          0.12,
          0.12
         ]
        },
        {
         "mode": "lines+markers",
         "name": "543940",
         "type": "scatter",
         "x": [
          "2021-09-01",
          "2021-12-01",
          "2022-03-01",
          "2022-06-01",
          "2022-09-01",
          "2022-12-01",
          "2023-03-01",
          "2023-06-01",
          "2023-09-01",
          "2023-12-01",
          "2024-03-01",
          "2024-06-01"
         ],
         "y": [
          null,
          null,
          null,
          null,
          null,
          null,
          null,
          null,
          0.13,
          0.13,
          0.13,
          0.13
         ]
        }
       ],
       "layout": {
        "height": 600,
        "legend": {
         "title": {
          "text": "BSE Code"
         }
        },
        "template": {
         "data": {
          "bar": [
           {
            "error_x": {
             "color": "#2a3f5f"
            },
            "error_y": {
             "color": "#2a3f5f"
            },
            "marker": {
             "line": {
              "color": "#E5ECF6",
              "width": 0.5
             },
             "pattern": {
              "fillmode": "overlay",
              "size": 10,
              "solidity": 0.2
             }
            },
            "type": "bar"
           }
          ],
          "barpolar": [
           {
            "marker": {
             "line": {
              "color": "#E5ECF6",
              "width": 0.5
             },
             "pattern": {
              "fillmode": "overlay",
              "size": 10,
              "solidity": 0.2
             }
            },
            "type": "barpolar"
           }
          ],
          "carpet": [
           {
            "aaxis": {
             "endlinecolor": "#2a3f5f",
             "gridcolor": "white",
             "linecolor": "white",
             "minorgridcolor": "white",
             "startlinecolor": "#2a3f5f"
            },
            "baxis": {
             "endlinecolor": "#2a3f5f",
             "gridcolor": "white",
             "linecolor": "white",
             "minorgridcolor": "white",
             "startlinecolor": "#2a3f5f"
            },
            "type": "carpet"
           }
          ],
          "choropleth": [
           {
            "colorbar": {
             "outlinewidth": 0,
             "ticks": ""
            },
            "type": "choropleth"
           }
          ],
          "contour": [
           {
            "colorbar": {
             "outlinewidth": 0,
             "ticks": ""
            },
            "colorscale": [
             [
              0,
              "#0d0887"
             ],
             [
              0.1111111111111111,
              "#46039f"
             ],
             [
              0.2222222222222222,
              "#7201a8"
             ],
             [
              0.3333333333333333,
              "#9c179e"
             ],
             [
              0.4444444444444444,
              "#bd3786"
             ],
             [
              0.5555555555555556,
              "#d8576b"
             ],
             [
              0.6666666666666666,
              "#ed7953"
             ],
             [
              0.7777777777777778,
              "#fb9f3a"
             ],
             [
              0.8888888888888888,
              "#fdca26"
             ],
             [
              1,
              "#f0f921"
             ]
            ],
            "type": "contour"
           }
          ],
          "contourcarpet": [
           {
            "colorbar": {
             "outlinewidth": 0,
             "ticks": ""
            },
            "type": "contourcarpet"
           }
          ],
          "heatmap": [
           {
            "colorbar": {
             "outlinewidth": 0,
             "ticks": ""
            },
            "colorscale": [
             [
              0,
              "#0d0887"
             ],
             [
              0.1111111111111111,
              "#46039f"
             ],
             [
              0.2222222222222222,
              "#7201a8"
             ],
             [
              0.3333333333333333,
              "#9c179e"
             ],
             [
              0.4444444444444444,
              "#bd3786"
             ],
             [
              0.5555555555555556,
              "#d8576b"
             ],
             [
              0.6666666666666666,
              "#ed7953"
             ],
             [
              0.7777777777777778,
              "#fb9f3a"
             ],
             [
              0.8888888888888888,
              "#fdca26"
             ],
             [
              1,
              "#f0f921"
             ]
            ],
            "type": "heatmap"
           }
          ],
          "heatmapgl": [
           {
            "colorbar": {
             "outlinewidth": 0,
             "ticks": ""
            },
            "colorscale": [
             [
              0,
              "#0d0887"
             ],
             [
              0.1111111111111111,
              "#46039f"
             ],
             [
              0.2222222222222222,
              "#7201a8"
             ],
             [
              0.3333333333333333,
              "#9c179e"
             ],
             [
              0.4444444444444444,
              "#bd3786"
             ],
             [
              0.5555555555555556,
              "#d8576b"
             ],
             [
              0.6666666666666666,
              "#ed7953"
             ],
             [
              0.7777777777777778,
              "#fb9f3a"
             ],
             [
              0.8888888888888888,
              "#fdca26"
             ],
             [
              1,
              "#f0f921"
             ]
            ],
            "type": "heatmapgl"
           }
          ],
          "histogram": [
           {
            "marker": {
             "pattern": {
              "fillmode": "overlay",
              "size": 10,
              "solidity": 0.2
             }
            },
            "type": "histogram"
           }
          ],
          "histogram2d": [
           {
            "colorbar": {
             "outlinewidth": 0,
             "ticks": ""
            },
            "colorscale": [
             [
              0,
              "#0d0887"
             ],
             [
              0.1111111111111111,
              "#46039f"
             ],
             [
              0.2222222222222222,
              "#7201a8"
             ],
             [
              0.3333333333333333,
              "#9c179e"
             ],
             [
              0.4444444444444444,
              "#bd3786"
             ],
             [
              0.5555555555555556,
              "#d8576b"
             ],
             [
              0.6666666666666666,
              "#ed7953"
             ],
             [
              0.7777777777777778,
              "#fb9f3a"
             ],
             [
              0.8888888888888888,
              "#fdca26"
             ],
             [
              1,
              "#f0f921"
             ]
            ],
            "type": "histogram2d"
           }
          ],
          "histogram2dcontour": [
           {
            "colorbar": {
             "outlinewidth": 0,
             "ticks": ""
            },
            "colorscale": [
             [
              0,
              "#0d0887"
             ],
             [
              0.1111111111111111,
              "#46039f"
             ],
             [
              0.2222222222222222,
              "#7201a8"
             ],
             [
              0.3333333333333333,
              "#9c179e"
             ],
             [
              0.4444444444444444,
              "#bd3786"
             ],
             [
              0.5555555555555556,
              "#d8576b"
             ],
             [
              0.6666666666666666,
              "#ed7953"
             ],
             [
              0.7777777777777778,
              "#fb9f3a"
             ],
             [
              0.8888888888888888,
              "#fdca26"
             ],
             [
              1,
              "#f0f921"
             ]
            ],
            "type": "histogram2dcontour"
           }
          ],
          "mesh3d": [
           {
            "colorbar": {
             "outlinewidth": 0,
             "ticks": ""
            },
            "type": "mesh3d"
           }
          ],
          "parcoords": [
           {
            "line": {
             "colorbar": {
              "outlinewidth": 0,
              "ticks": ""
             }
            },
            "type": "parcoords"
           }
          ],
          "pie": [
           {
            "automargin": true,
            "type": "pie"
           }
          ],
          "scatter": [
           {
            "fillpattern": {
             "fillmode": "overlay",
             "size": 10,
             "solidity": 0.2
            },
            "type": "scatter"
           }
          ],
          "scatter3d": [
           {
            "line": {
             "colorbar": {
              "outlinewidth": 0,
              "ticks": ""
             }
            },
            "marker": {
             "colorbar": {
              "outlinewidth": 0,
              "ticks": ""
             }
            },
            "type": "scatter3d"
           }
          ],
          "scattercarpet": [
           {
            "marker": {
             "colorbar": {
              "outlinewidth": 0,
              "ticks": ""
             }
            },
            "type": "scattercarpet"
           }
          ],
          "scattergeo": [
           {
            "marker": {
             "colorbar": {
              "outlinewidth": 0,
              "ticks": ""
             }
            },
            "type": "scattergeo"
           }
          ],
          "scattergl": [
           {
            "marker": {
             "colorbar": {
              "outlinewidth": 0,
              "ticks": ""
             }
            },
            "type": "scattergl"
           }
          ],
          "scattermapbox": [
           {
            "marker": {
             "colorbar": {
              "outlinewidth": 0,
              "ticks": ""
             }
            },
            "type": "scattermapbox"
           }
          ],
          "scatterpolar": [
           {
            "marker": {
             "colorbar": {
              "outlinewidth": 0,
              "ticks": ""
             }
            },
            "type": "scatterpolar"
           }
          ],
          "scatterpolargl": [
           {
            "marker": {
             "colorbar": {
              "outlinewidth": 0,
              "ticks": ""
             }
            },
            "type": "scatterpolargl"
           }
          ],
          "scatterternary": [
           {
            "marker": {
             "colorbar": {
              "outlinewidth": 0,
              "ticks": ""
             }
            },
            "type": "scatterternary"
           }
          ],
          "surface": [
           {
            "colorbar": {
             "outlinewidth": 0,
             "ticks": ""
            },
            "colorscale": [
             [
              0,
              "#0d0887"
             ],
             [
              0.1111111111111111,
              "#46039f"
             ],
             [
              0.2222222222222222,
              "#7201a8"
             ],
             [
              0.3333333333333333,
              "#9c179e"
             ],
             [
              0.4444444444444444,
              "#bd3786"
             ],
             [
              0.5555555555555556,
              "#d8576b"
             ],
             [
              0.6666666666666666,
              "#ed7953"
             ],
             [
              0.7777777777777778,
              "#fb9f3a"
             ],
             [
              0.8888888888888888,
              "#fdca26"
             ],
             [
              1,
              "#f0f921"
             ]
            ],
            "type": "surface"
           }
          ],
          "table": [
           {
            "cells": {
             "fill": {
              "color": "#EBF0F8"
             },
             "line": {
              "color": "white"
             }
            },
            "header": {
             "fill": {
              "color": "#C8D4E3"
             },
             "line": {
              "color": "white"
             }
            },
            "type": "table"
           }
          ]
         },
         "layout": {
          "annotationdefaults": {
           "arrowcolor": "#2a3f5f",
           "arrowhead": 0,
           "arrowwidth": 1
          },
          "autotypenumbers": "strict",
          "coloraxis": {
           "colorbar": {
            "outlinewidth": 0,
            "ticks": ""
           }
          },
          "colorscale": {
           "diverging": [
            [
             0,
             "#8e0152"
            ],
            [
             0.1,
             "#c51b7d"
            ],
            [
             0.2,
             "#de77ae"
            ],
            [
             0.3,
             "#f1b6da"
            ],
            [
             0.4,
             "#fde0ef"
            ],
            [
             0.5,
             "#f7f7f7"
            ],
            [
             0.6,
             "#e6f5d0"
            ],
            [
             0.7,
             "#b8e186"
            ],
            [
             0.8,
             "#7fbc41"
            ],
            [
             0.9,
             "#4d9221"
            ],
            [
             1,
             "#276419"
            ]
           ],
           "sequential": [
            [
             0,
             "#0d0887"
            ],
            [
             0.1111111111111111,
             "#46039f"
            ],
            [
             0.2222222222222222,
             "#7201a8"
            ],
            [
             0.3333333333333333,
             "#9c179e"
            ],
            [
             0.4444444444444444,
             "#bd3786"
            ],
            [
             0.5555555555555556,
             "#d8576b"
            ],
            [
             0.6666666666666666,
             "#ed7953"
            ],
            [
             0.7777777777777778,
             "#fb9f3a"
            ],
            [
             0.8888888888888888,
             "#fdca26"
            ],
            [
             1,
             "#f0f921"
            ]
           ],
           "sequentialminus": [
            [
             0,
             "#0d0887"
            ],
            [
             0.1111111111111111,
             "#46039f"
            ],
            [
             0.2222222222222222,
             "#7201a8"
            ],
            [
             0.3333333333333333,
             "#9c179e"
            ],
            [
             0.4444444444444444,
             "#bd3786"
            ],
            [
             0.5555555555555556,
             "#d8576b"
            ],
            [
             0.6666666666666666,
             "#ed7953"
            ],
            [
             0.7777777777777778,
             "#fb9f3a"
            ],
            [
             0.8888888888888888,
             "#fdca26"
            ],
            [
             1,
             "#f0f921"
            ]
           ]
          },
          "colorway": [
           "#636efa",
           "#EF553B",
           "#00cc96",
           "#ab63fa",
           "#FFA15A",
           "#19d3f3",
           "#FF6692",
           "#B6E880",
           "#FF97FF",
           "#FECB52"
          ],
          "font": {
           "color": "#2a3f5f"
          },
          "geo": {
           "bgcolor": "white",
           "lakecolor": "white",
           "landcolor": "#E5ECF6",
           "showlakes": true,
           "showland": true,
           "subunitcolor": "white"
          },
          "hoverlabel": {
           "align": "left"
          },
          "hovermode": "closest",
          "mapbox": {
           "style": "light"
          },
          "paper_bgcolor": "white",
          "plot_bgcolor": "#E5ECF6",
          "polar": {
           "angularaxis": {
            "gridcolor": "white",
            "linecolor": "white",
            "ticks": ""
           },
           "bgcolor": "#E5ECF6",
           "radialaxis": {
            "gridcolor": "white",
            "linecolor": "white",
            "ticks": ""
           }
          },
          "scene": {
           "xaxis": {
            "backgroundcolor": "#E5ECF6",
            "gridcolor": "white",
            "gridwidth": 2,
            "linecolor": "white",
            "showbackground": true,
            "ticks": "",
            "zerolinecolor": "white"
           },
           "yaxis": {
            "backgroundcolor": "#E5ECF6",
            "gridcolor": "white",
            "gridwidth": 2,
            "linecolor": "white",
            "showbackground": true,
            "ticks": "",
            "zerolinecolor": "white"
           },
           "zaxis": {
            "backgroundcolor": "#E5ECF6",
            "gridcolor": "white",
            "gridwidth": 2,
            "linecolor": "white",
            "showbackground": true,
            "ticks": "",
            "zerolinecolor": "white"
           }
          },
          "shapedefaults": {
           "line": {
            "color": "#2a3f5f"
           }
          },
          "ternary": {
           "aaxis": {
            "gridcolor": "white",
            "linecolor": "white",
            "ticks": ""
           },
           "baxis": {
            "gridcolor": "white",
            "linecolor": "white",
            "ticks": ""
           },
           "bgcolor": "#E5ECF6",
           "caxis": {
            "gridcolor": "white",
            "linecolor": "white",
            "ticks": ""
           }
          },
          "title": {
           "x": 0.05
          },
          "xaxis": {
           "automargin": true,
           "gridcolor": "white",
           "linecolor": "white",
           "ticks": "",
           "title": {
            "standoff": 15
           },
           "zerolinecolor": "white",
           "zerolinewidth": 2
          },
          "yaxis": {
           "automargin": true,
           "gridcolor": "white",
           "linecolor": "white",
           "ticks": "",
           "title": {
            "standoff": 15
           },
           "zerolinecolor": "white",
           "zerolinewidth": 2
          }
         }
        },
        "title": {
         "text": "Promoter Share Over Time"
        },
        "width": 1000,
        "xaxis": {
         "tickangle": -45,
         "title": {
          "text": "Date"
         }
        },
        "yaxis": {
         "title": {
          "text": "Share"
         }
        }
       }
      }
     },
     "metadata": {},
     "output_type": "display_data"
    }
   ],
   "source": [
    "df = pd.DataFrame(fg)\n",
    "\n",
    "df['Date'] = pd.to_datetime(df['Date'])\n",
    "df['Date'] = df['Date'].dt.strftime('%Y-%d-%m')\n",
    "\n",
    "\n",
    "df_pivot = df.pivot(index='Date', columns='BSE Code', values='Share')\n",
    "\n",
    "\n",
    "fig = go.Figure()\n",
    "\n",
    "for promoter in df_pivot.columns:\n",
    "    fig.add_trace(go.Scatter(\n",
    "        x=df_pivot.index,\n",
    "        y=df_pivot[promoter],\n",
    "        mode='lines+markers',\n",
    "        name=promoter\n",
    "    ))\n",
    "\n",
    "fig.update_layout(\n",
    "    title='Promoter Share Over Time',\n",
    "    xaxis_title='Date',\n",
    "    yaxis_title='Share',\n",
    "    xaxis=dict(tickangle=-45),\n",
    "    legend_title='BSE Code',\n",
    "    width=1000,\n",
    "    height=600\n",
    ")\n",
    "\n",
    "fig.show()"
   ]
  },
  {
   "cell_type": "code",
   "execution_count": null,
   "metadata": {},
   "outputs": [],
   "source": [
    "\n",
    "\n",
    "def plot_promoter_share_over_time(fg):\n",
    "    # Convert DataFrame column to datetime\n",
    "    df = pd.DataFrame(fg)\n",
    "    df['Date'] = pd.to_datetime(df['Date'])\n",
    "    df['Date'] = df['Date'].dt.strftime('%Y-%d-%m')\n",
    "\n",
    "\n",
    "    df_pivot = df.pivot(index='Date', columns='BSE Code', values='Share')\n",
    "\n",
    "\n",
    "    fig = go.Figure()\n",
    "\n",
    "    for promoter in df_pivot.columns:\n",
    "        fig.add_trace(go.Scatter(\n",
    "            x=df_pivot.index,\n",
    "            y=df_pivot[promoter],\n",
    "            mode='lines+markers',\n",
    "            name=promoter\n",
    "        ))\n",
    "\n",
    "\n",
    "    fig.update_layout(\n",
    "        title='Promoter Share Over Time',\n",
    "        xaxis_title='Date',\n",
    "        yaxis_title='Share',\n",
    "        xaxis=dict(tickangle=-45),\n",
    "        legend_title='BSE Code',\n",
    "        width=1000,\n",
    "        height=600\n",
    "    )\n",
    "\n",
    "\n",
    "\n",
    "# Example usage\n",
    "# fg = your_dataframe_here\n",
    "# plot_promoter_share_over_time(f"
   ]
  },
  {
   "cell_type": "code",
   "execution_count": 12,
   "metadata": {},
   "outputs": [],
   "source": [
    "dc = du[du[\"BSE Code\"]==540900]"
   ]
  },
  {
   "cell_type": "code",
   "execution_count": 3,
   "metadata": {},
   "outputs": [
    {
     "ename": "NameError",
     "evalue": "name 'df' is not defined",
     "output_type": "error",
     "traceback": [
      "\u001b[0;31m---------------------------------------------------------------------------\u001b[0m",
      "\u001b[0;31mNameError\u001b[0m                                 Traceback (most recent call last)",
      "Cell \u001b[0;32mIn[3], line 1\u001b[0m\n\u001b[0;32m----> 1\u001b[0m du \u001b[38;5;241m=\u001b[39m \u001b[43mdf\u001b[49m\n",
      "\u001b[0;31mNameError\u001b[0m: name 'df' is not defined"
     ]
    }
   ],
   "source": [
    "du = df"
   ]
  },
  {
   "cell_type": "code",
   "execution_count": 13,
   "metadata": {},
   "outputs": [
    {
     "data": {
      "text/html": [
       "<div>\n",
       "<style scoped>\n",
       "    .dataframe tbody tr th:only-of-type {\n",
       "        vertical-align: middle;\n",
       "    }\n",
       "\n",
       "    .dataframe tbody tr th {\n",
       "        vertical-align: top;\n",
       "    }\n",
       "\n",
       "    .dataframe thead th {\n",
       "        text-align: right;\n",
       "    }\n",
       "</style>\n",
       "<table border=\"1\" class=\"dataframe\">\n",
       "  <thead>\n",
       "    <tr style=\"text-align: right;\">\n",
       "      <th></th>\n",
       "      <th></th>\n",
       "      <th>Promoter</th>\n",
       "      <th>Share</th>\n",
       "      <th>BSE Code</th>\n",
       "      <th>NSE Code</th>\n",
       "      <th>Price</th>\n",
       "      <th>MCap</th>\n",
       "      <th>TotalShares</th>\n",
       "      <th>CaptureDate</th>\n",
       "      <th>Date</th>\n",
       "      <th>Share_Change</th>\n",
       "      <th>ch</th>\n",
       "    </tr>\n",
       "    <tr>\n",
       "      <th>Promoter</th>\n",
       "      <th></th>\n",
       "      <th></th>\n",
       "      <th></th>\n",
       "      <th></th>\n",
       "      <th></th>\n",
       "      <th></th>\n",
       "      <th></th>\n",
       "      <th></th>\n",
       "      <th></th>\n",
       "      <th></th>\n",
       "      <th></th>\n",
       "      <th></th>\n",
       "    </tr>\n",
       "  </thead>\n",
       "  <tbody>\n",
       "    <tr>\n",
       "      <th rowspan=\"5\" valign=\"top\">Diwakar Nigam</th>\n",
       "      <th>0</th>\n",
       "      <td>Diwakar Nigam</td>\n",
       "      <td>22.41</td>\n",
       "      <td>540900</td>\n",
       "      <td>NEWGEN</td>\n",
       "      <td>1074.0</td>\n",
       "      <td>1.507000e+11</td>\n",
       "      <td>1.403166e+08</td>\n",
       "      <td>Sep 2021</td>\n",
       "      <td>01-09-2021</td>\n",
       "      <td>NaN</td>\n",
       "      <td>EQUAL</td>\n",
       "    </tr>\n",
       "    <tr>\n",
       "      <th>21</th>\n",
       "      <td>Diwakar Nigam</td>\n",
       "      <td>22.41</td>\n",
       "      <td>540900</td>\n",
       "      <td>NEWGEN</td>\n",
       "      <td>1074.0</td>\n",
       "      <td>1.507000e+11</td>\n",
       "      <td>1.403166e+08</td>\n",
       "      <td>Dec 2021</td>\n",
       "      <td>01-12-2021</td>\n",
       "      <td>0.0</td>\n",
       "      <td>EQUAL</td>\n",
       "    </tr>\n",
       "    <tr>\n",
       "      <th>43</th>\n",
       "      <td>Diwakar Nigam</td>\n",
       "      <td>22.41</td>\n",
       "      <td>540900</td>\n",
       "      <td>NEWGEN</td>\n",
       "      <td>1074.0</td>\n",
       "      <td>1.507000e+11</td>\n",
       "      <td>1.403166e+08</td>\n",
       "      <td>Mar 2022</td>\n",
       "      <td>01-03-2022</td>\n",
       "      <td>0.0</td>\n",
       "      <td>EQUAL</td>\n",
       "    </tr>\n",
       "    <tr>\n",
       "      <th>65</th>\n",
       "      <td>Diwakar Nigam</td>\n",
       "      <td>22.41</td>\n",
       "      <td>540900</td>\n",
       "      <td>NEWGEN</td>\n",
       "      <td>1074.0</td>\n",
       "      <td>1.507000e+11</td>\n",
       "      <td>1.403166e+08</td>\n",
       "      <td>Jun 2022</td>\n",
       "      <td>01-06-2022</td>\n",
       "      <td>0.0</td>\n",
       "      <td>EQUAL</td>\n",
       "    </tr>\n",
       "    <tr>\n",
       "      <th>87</th>\n",
       "      <td>Diwakar Nigam</td>\n",
       "      <td>22.41</td>\n",
       "      <td>540900</td>\n",
       "      <td>NEWGEN</td>\n",
       "      <td>1074.0</td>\n",
       "      <td>1.507000e+11</td>\n",
       "      <td>1.403166e+08</td>\n",
       "      <td>Sep 2022</td>\n",
       "      <td>01-09-2022</td>\n",
       "      <td>0.0</td>\n",
       "      <td>EQUAL</td>\n",
       "    </tr>\n",
       "    <tr>\n",
       "      <th>...</th>\n",
       "      <th>...</th>\n",
       "      <td>...</td>\n",
       "      <td>...</td>\n",
       "      <td>...</td>\n",
       "      <td>...</td>\n",
       "      <td>...</td>\n",
       "      <td>...</td>\n",
       "      <td>...</td>\n",
       "      <td>...</td>\n",
       "      <td>...</td>\n",
       "      <td>...</td>\n",
       "      <td>...</td>\n",
       "    </tr>\n",
       "    <tr>\n",
       "      <th rowspan=\"5\" valign=\"top\">V Vidula</th>\n",
       "      <th>166</th>\n",
       "      <td>V Vidula</td>\n",
       "      <td>0.00</td>\n",
       "      <td>540900</td>\n",
       "      <td>NEWGEN</td>\n",
       "      <td>1074.0</td>\n",
       "      <td>1.507000e+11</td>\n",
       "      <td>1.403166e+08</td>\n",
       "      <td>Jun 2023</td>\n",
       "      <td>01-06-2023</td>\n",
       "      <td>NaN</td>\n",
       "      <td>EQUAL</td>\n",
       "    </tr>\n",
       "    <tr>\n",
       "      <th>187</th>\n",
       "      <td>V Vidula</td>\n",
       "      <td>0.00</td>\n",
       "      <td>540900</td>\n",
       "      <td>NEWGEN</td>\n",
       "      <td>1074.0</td>\n",
       "      <td>1.507000e+11</td>\n",
       "      <td>1.403166e+08</td>\n",
       "      <td>Sep 2023</td>\n",
       "      <td>01-09-2023</td>\n",
       "      <td>NaN</td>\n",
       "      <td>EQUAL</td>\n",
       "    </tr>\n",
       "    <tr>\n",
       "      <th>209</th>\n",
       "      <td>V Vidula</td>\n",
       "      <td>0.00</td>\n",
       "      <td>540900</td>\n",
       "      <td>NEWGEN</td>\n",
       "      <td>1074.0</td>\n",
       "      <td>1.507000e+11</td>\n",
       "      <td>1.403166e+08</td>\n",
       "      <td>Dec 2023</td>\n",
       "      <td>01-12-2023</td>\n",
       "      <td>NaN</td>\n",
       "      <td>EQUAL</td>\n",
       "    </tr>\n",
       "    <tr>\n",
       "      <th>231</th>\n",
       "      <td>V Vidula</td>\n",
       "      <td>0.00</td>\n",
       "      <td>540900</td>\n",
       "      <td>NEWGEN</td>\n",
       "      <td>1074.0</td>\n",
       "      <td>1.507000e+11</td>\n",
       "      <td>1.403166e+08</td>\n",
       "      <td>Mar 2024</td>\n",
       "      <td>01-03-2024</td>\n",
       "      <td>NaN</td>\n",
       "      <td>EQUAL</td>\n",
       "    </tr>\n",
       "    <tr>\n",
       "      <th>252</th>\n",
       "      <td>V Vidula</td>\n",
       "      <td>0.00</td>\n",
       "      <td>540900</td>\n",
       "      <td>NEWGEN</td>\n",
       "      <td>1074.0</td>\n",
       "      <td>1.507000e+11</td>\n",
       "      <td>1.403166e+08</td>\n",
       "      <td>Jun 2024</td>\n",
       "      <td>01-06-2024</td>\n",
       "      <td>NaN</td>\n",
       "      <td>EQUAL</td>\n",
       "    </tr>\n",
       "  </tbody>\n",
       "</table>\n",
       "<p>261 rows × 11 columns</p>\n",
       "</div>"
      ],
      "text/plain": [
       "                        Promoter  Share  BSE Code NSE Code   Price  \\\n",
       "Promoter                                                             \n",
       "Diwakar Nigam 0    Diwakar Nigam  22.41    540900   NEWGEN  1074.0   \n",
       "              21   Diwakar Nigam  22.41    540900   NEWGEN  1074.0   \n",
       "              43   Diwakar Nigam  22.41    540900   NEWGEN  1074.0   \n",
       "              65   Diwakar Nigam  22.41    540900   NEWGEN  1074.0   \n",
       "              87   Diwakar Nigam  22.41    540900   NEWGEN  1074.0   \n",
       "...                          ...    ...       ...      ...     ...   \n",
       "V Vidula      166       V Vidula   0.00    540900   NEWGEN  1074.0   \n",
       "              187       V Vidula   0.00    540900   NEWGEN  1074.0   \n",
       "              209       V Vidula   0.00    540900   NEWGEN  1074.0   \n",
       "              231       V Vidula   0.00    540900   NEWGEN  1074.0   \n",
       "              252       V Vidula   0.00    540900   NEWGEN  1074.0   \n",
       "\n",
       "                           MCap   TotalShares CaptureDate        Date  \\\n",
       "Promoter                                                                \n",
       "Diwakar Nigam 0    1.507000e+11  1.403166e+08    Sep 2021  01-09-2021   \n",
       "              21   1.507000e+11  1.403166e+08    Dec 2021  01-12-2021   \n",
       "              43   1.507000e+11  1.403166e+08    Mar 2022  01-03-2022   \n",
       "              65   1.507000e+11  1.403166e+08    Jun 2022  01-06-2022   \n",
       "              87   1.507000e+11  1.403166e+08    Sep 2022  01-09-2022   \n",
       "...                         ...           ...         ...         ...   \n",
       "V Vidula      166  1.507000e+11  1.403166e+08    Jun 2023  01-06-2023   \n",
       "              187  1.507000e+11  1.403166e+08    Sep 2023  01-09-2023   \n",
       "              209  1.507000e+11  1.403166e+08    Dec 2023  01-12-2023   \n",
       "              231  1.507000e+11  1.403166e+08    Mar 2024  01-03-2024   \n",
       "              252  1.507000e+11  1.403166e+08    Jun 2024  01-06-2024   \n",
       "\n",
       "                   Share_Change     ch  \n",
       "Promoter                                \n",
       "Diwakar Nigam 0             NaN  EQUAL  \n",
       "              21            0.0  EQUAL  \n",
       "              43            0.0  EQUAL  \n",
       "              65            0.0  EQUAL  \n",
       "              87            0.0  EQUAL  \n",
       "...                         ...    ...  \n",
       "V Vidula      166           NaN  EQUAL  \n",
       "              187           NaN  EQUAL  \n",
       "              209           NaN  EQUAL  \n",
       "              231           NaN  EQUAL  \n",
       "              252           NaN  EQUAL  \n",
       "\n",
       "[261 rows x 11 columns]"
      ]
     },
     "execution_count": 13,
     "metadata": {},
     "output_type": "execute_result"
    }
   ],
   "source": [
    "dc"
   ]
  },
  {
   "cell_type": "code",
   "execution_count": 26,
   "metadata": {},
   "outputs": [],
   "source": [
    "if dc[\"BSE Code\"].unique().count() > 1:\n",
    "    plot(dc)\n",
    "else :\n",
    "    print(\"only one company\")"
   ]
  },
  {
   "cell_type": "code",
   "execution_count": 29,
   "metadata": {},
   "outputs": [
    {
     "data": {
      "text/plain": [
       "1"
      ]
     },
     "execution_count": 29,
     "metadata": {},
     "output_type": "execute_result"
    }
   ],
   "source": [
    "len(dc[\"BSE Code\"].unique())"
   ]
  },
  {
   "cell_type": "code",
   "execution_count": null,
   "metadata": {},
   "outputs": [],
   "source": [
    "if len(dc[\"BSE Code\"].unique()) > 1:\n",
    "    "
   ]
  },
  {
   "cell_type": "code",
   "execution_count": 32,
   "metadata": {},
   "outputs": [],
   "source": [
    "from jugaad_data.nse import NSELive\n",
    "n = NSELive()\n",
    "\n",
    "q = n.stock_quote(\"HDFC\")\n"
   ]
  },
  {
   "cell_type": "code",
   "execution_count": 33,
   "metadata": {},
   "outputs": [
    {
     "data": {
      "text/plain": [
       "{'info': {'symbol': 'HDFC',\n",
       "  'companyName': 'Housing Development Finance Corporation Limited',\n",
       "  'activeSeries': [],\n",
       "  'debtSeries': [],\n",
       "  'isFNOSec': False,\n",
       "  'isCASec': False,\n",
       "  'isSLBSec': False,\n",
       "  'isDebtSec': False,\n",
       "  'isSuspended': True,\n",
       "  'tempSuspendedSeries': ['W1', 'W3', 'W2', 'EQ'],\n",
       "  'isETFSec': False,\n",
       "  'isDelisted': False,\n",
       "  'isin': 'INE001A01036',\n",
       "  'isMunicipalBond': False,\n",
       "  'isTop10': False,\n",
       "  'identifier': 'HDFCEQN'},\n",
       " 'metadata': {'series': 'EQ',\n",
       "  'symbol': 'HDFC',\n",
       "  'isin': 'INE001A01036',\n",
       "  'status': 'Permanent Suspended',\n",
       "  'listingDate': '23-Oct-1996',\n",
       "  'industry': 'NA',\n",
       "  'lastUpdateTime': '-',\n",
       "  'pdSectorPe': 'NA',\n",
       "  'pdSymbolPe': 'NA',\n",
       "  'pdSectorInd': 'NA',\n",
       "  'pdSectorIndAll': 'NA'},\n",
       " 'securityInfo': {'boardStatus': 'Main',\n",
       "  'tradingStatus': 'Suspended',\n",
       "  'tradingSegment': 'Normal Market',\n",
       "  'sessionNo': '-',\n",
       "  'slb': 'No',\n",
       "  'classOfShare': 'Equity',\n",
       "  'derivatives': 'No',\n",
       "  'surveillance': {'surv': None, 'desc': None},\n",
       "  'faceValue': 2,\n",
       "  'issuedSize': 1851426483},\n",
       " 'sddDetails': {'SDDAuditor': '-', 'SDDStatus': '-'},\n",
       " 'priceInfo': {'lastPrice': 0,\n",
       "  'change': 0,\n",
       "  'pChange': 0,\n",
       "  'previousClose': 0,\n",
       "  'open': 0,\n",
       "  'close': 2724.3,\n",
       "  'vwap': 0,\n",
       "  'lowerCP': '2472.65',\n",
       "  'upperCP': '3022.05',\n",
       "  'pPriceBand': 'No Band',\n",
       "  'basePrice': 0,\n",
       "  'intraDayHighLow': {'min': 0, 'max': 0, 'value': 0},\n",
       "  'weekHighLow': {'min': 0,\n",
       "   'minDate': None,\n",
       "   'max': 0,\n",
       "   'maxDate': None,\n",
       "   'value': 0},\n",
       "  'iNavValue': None,\n",
       "  'checkINAV': False,\n",
       "  'tickSize': 0},\n",
       " 'industryInfo': {'macro': '',\n",
       "  'sector': '',\n",
       "  'industry': '',\n",
       "  'basicIndustry': ''},\n",
       " 'preOpenMarket': {'preopen': [{'iep': True}], 'ato': {'buy': 0, 'sell': 0}}}"
      ]
     },
     "execution_count": 33,
     "metadata": {},
     "output_type": "execute_result"
    }
   ],
   "source": [
    "q"
   ]
  },
  {
   "cell_type": "code",
   "execution_count": 38,
   "metadata": {},
   "outputs": [],
   "source": [
    "response = n.stock_quote(\"VEDL\")\n",
    "pricee = response.get('priceInfo', {}).get('lastPrice')"
   ]
  },
  {
   "cell_type": "code",
   "execution_count": 39,
   "metadata": {},
   "outputs": [
    {
     "data": {
      "text/plain": [
       "465.15"
      ]
     },
     "execution_count": 39,
     "metadata": {},
     "output_type": "execute_result"
    }
   ],
   "source": [
    "pricee"
   ]
  },
  {
   "cell_type": "code",
   "execution_count": 40,
   "metadata": {},
   "outputs": [
    {
     "data": {
      "text/plain": [
       "{'info': {'symbol': 'VEDL',\n",
       "  'companyName': 'Vedanta Limited',\n",
       "  'industry': 'Diversified Metals',\n",
       "  'activeSeries': ['EQ', 'T0'],\n",
       "  'debtSeries': [],\n",
       "  'isFNOSec': True,\n",
       "  'isCASec': False,\n",
       "  'isSLBSec': True,\n",
       "  'isDebtSec': False,\n",
       "  'isSuspended': False,\n",
       "  'tempSuspendedSeries': ['P1', 'O1'],\n",
       "  'isETFSec': False,\n",
       "  'isDelisted': False,\n",
       "  'isin': 'INE205A01025',\n",
       "  'slb_isin': 'INE205A01025',\n",
       "  'isMunicipalBond': False,\n",
       "  'isTop10': False,\n",
       "  'identifier': 'VEDLEQN'},\n",
       " 'metadata': {'series': 'EQ',\n",
       "  'symbol': 'VEDL',\n",
       "  'isin': 'INE205A01025',\n",
       "  'status': 'Listed',\n",
       "  'listingDate': '13-May-1998',\n",
       "  'industry': 'Diversified Metals',\n",
       "  'lastUpdateTime': '03-Sep-2024 11:07:53',\n",
       "  'pdSectorPe': 21.83,\n",
       "  'pdSymbolPe': 19.43,\n",
       "  'pdSectorInd': 'NIFTY NEXT 50',\n",
       "  'pdSectorIndAll': ['NIFTY NEXT 50',\n",
       "   'NIFTY 100',\n",
       "   'NIFTY 500',\n",
       "   'NIFTY METAL',\n",
       "   'NIFTY 200',\n",
       "   'NIFTY DIVIDEND OPPORTUNITIES 50',\n",
       "   'NIFTY COMMODITIES',\n",
       "   'NIFTY500 VALUE 50',\n",
       "   'NIFTY HIGH BETA 50',\n",
       "   'NIFTY100 EQUAL WEIGHT',\n",
       "   'NIFTY LARGEMIDCAP 250',\n",
       "   'NIFTY200 MOMENTUM 30',\n",
       "   'NIFTY500 MULTICAP 50:25:25',\n",
       "   'NIFTY500 LARGEMIDSMALL EQUAL-CAP WEIGHTED',\n",
       "   'NIFTY INDIA MANUFACTURING',\n",
       "   'NIFTY200 VALUE 30',\n",
       "   'NIFTY500 EQUAL WEIGHT',\n",
       "   'NIFTY TOTAL MARKET',\n",
       "   'NIFTY MNC']},\n",
       " 'securityInfo': {'boardStatus': 'Main',\n",
       "  'tradingStatus': 'Active',\n",
       "  'tradingSegment': 'Normal Market',\n",
       "  'sessionNo': '-',\n",
       "  'slb': 'Yes',\n",
       "  'classOfShare': 'Equity',\n",
       "  'derivatives': 'Yes',\n",
       "  'surveillance': {'surv': None, 'desc': None},\n",
       "  'faceValue': 1,\n",
       "  'issuedSize': 3910388057},\n",
       " 'sddDetails': {'SDDAuditor': '-', 'SDDStatus': '-'},\n",
       " 'priceInfo': {'lastPrice': 465.15,\n",
       "  'change': 1.8999999999999773,\n",
       "  'pChange': 0.4101457096600059,\n",
       "  'previousClose': 463.25,\n",
       "  'open': 473,\n",
       "  'close': 0,\n",
       "  'vwap': 466.14,\n",
       "  'lowerCP': '416.95',\n",
       "  'upperCP': '509.55',\n",
       "  'pPriceBand': 'No Band',\n",
       "  'basePrice': 463.25,\n",
       "  'intraDayHighLow': {'min': 463.75, 'max': 473.25, 'value': 465.15},\n",
       "  'weekHighLow': {'min': 208,\n",
       "   'minDate': '28-Sep-2023',\n",
       "   'max': 506.75,\n",
       "   'maxDate': '22-May-2024',\n",
       "   'value': 465.15},\n",
       "  'iNavValue': None,\n",
       "  'checkINAV': False,\n",
       "  'tickSize': 0.05},\n",
       " 'industryInfo': {'macro': 'Commodities',\n",
       "  'sector': 'Metals & Mining',\n",
       "  'industry': 'Diversified Metals',\n",
       "  'basicIndustry': 'Diversified Metals'},\n",
       " 'preOpenMarket': {'preopen': [{'price': 416.95, 'buyQty': 0, 'sellQty': 255},\n",
       "   {'price': 417, 'buyQty': 0, 'sellQty': 200},\n",
       "   {'price': 440.1, 'buyQty': 0, 'sellQty': 50},\n",
       "   {'price': 443.2, 'buyQty': 0, 'sellQty': 379},\n",
       "   {'price': 473, 'buyQty': 0, 'sellQty': 0, 'iep': True},\n",
       "   {'price': 500, 'buyQty': 4909, 'sellQty': 0},\n",
       "   {'price': 501, 'buyQty': 100, 'sellQty': 0},\n",
       "   {'price': 509, 'buyQty': 1775, 'sellQty': 0},\n",
       "   {'price': 509.55, 'buyQty': 1707, 'sellQty': 0}],\n",
       "  'ato': {'buy': 177432, 'sell': 2694},\n",
       "  'IEP': 473,\n",
       "  'totalTradedVolume': 298158,\n",
       "  'finalPrice': 473,\n",
       "  'finalQuantity': 298278,\n",
       "  'lastUpdateTime': '03-Sep-2024 09:07:47',\n",
       "  'totalBuyQuantity': 843217,\n",
       "  'totalSellQuantity': 566417,\n",
       "  'atoBuyQty': 177432,\n",
       "  'atoSellQty': 2694,\n",
       "  'Change': 9.75,\n",
       "  'perChange': 2.1046950890447924,\n",
       "  'prevClose': 463.25}}"
      ]
     },
     "execution_count": 40,
     "metadata": {},
     "output_type": "execute_result"
    }
   ],
   "source": [
    "response"
   ]
  },
  {
   "cell_type": "code",
   "execution_count": 41,
   "metadata": {},
   "outputs": [
    {
     "ename": "ModuleNotFoundError",
     "evalue": "No module named 'bsedata'",
     "output_type": "error",
     "traceback": [
      "\u001b[0;31m---------------------------------------------------------------------------\u001b[0m",
      "\u001b[0;31mModuleNotFoundError\u001b[0m                       Traceback (most recent call last)",
      "Cell \u001b[0;32mIn[41], line 1\u001b[0m\n\u001b[0;32m----> 1\u001b[0m \u001b[38;5;28;01mfrom\u001b[39;00m \u001b[38;5;21;01mbsedata\u001b[39;00m\u001b[38;5;21;01m.\u001b[39;00m\u001b[38;5;21;01mbse\u001b[39;00m \u001b[38;5;28;01mimport\u001b[39;00m BSE\n\u001b[1;32m      2\u001b[0m b \u001b[38;5;241m=\u001b[39m BSE()\n\u001b[1;32m      3\u001b[0m \u001b[38;5;28mprint\u001b[39m(b)\n",
      "\u001b[0;31mModuleNotFoundError\u001b[0m: No module named 'bsedata'"
     ]
    }
   ],
   "source": [
    "from bsedata.bse import BSE\n",
    "b = BSE()\n",
    "print(b)"
   ]
  },
  {
   "cell_type": "code",
   "execution_count": 42,
   "metadata": {},
   "outputs": [
    {
     "name": "stdout",
     "output_type": "stream",
     "text": [
      "Defaulting to user installation because normal site-packages is not writeable\n",
      "Collecting bsedata\n",
      "  Downloading bsedata-0.6.0-py3-none-any.whl (15 kB)\n",
      "Requirement already satisfied: beautifulsoup4 in /home/micro2/.local/lib/python3.10/site-packages (from bsedata) (4.12.3)\n",
      "Requirement already satisfied: lxml in /home/micro2/.local/lib/python3.10/site-packages (from bsedata) (5.2.2)\n",
      "Requirement already satisfied: requests in /home/micro2/.local/lib/python3.10/site-packages (from bsedata) (2.32.3)\n",
      "Requirement already satisfied: soupsieve>1.2 in /home/micro2/.local/lib/python3.10/site-packages (from beautifulsoup4->bsedata) (2.5)\n",
      "Requirement already satisfied: idna<4,>=2.5 in /home/micro2/.local/lib/python3.10/site-packages (from requests->bsedata) (2.8)\n",
      "Requirement already satisfied: certifi>=2017.4.17 in /home/micro2/.local/lib/python3.10/site-packages (from requests->bsedata) (2024.2.2)\n",
      "Requirement already satisfied: charset-normalizer<4,>=2 in /home/micro2/.local/lib/python3.10/site-packages (from requests->bsedata) (2.0.12)\n",
      "Requirement already satisfied: urllib3<3,>=1.21.1 in /home/micro2/.local/lib/python3.10/site-packages (from requests->bsedata) (1.26.19)\n",
      "Installing collected packages: bsedata\n",
      "Successfully installed bsedata-0.6.0\n",
      "Note: you may need to restart the kernel to use updated packages.\n"
     ]
    }
   ],
   "source": [
    "pip install bsedata"
   ]
  },
  {
   "cell_type": "code",
   "execution_count": 43,
   "metadata": {},
   "outputs": [
    {
     "name": "stdout",
     "output_type": "stream",
     "text": [
      "Driver Class for Bombay Stock Exchange (BSE)\n"
     ]
    }
   ],
   "source": [
    "from bsedata.bse import BSE\n",
    "b = BSE()\n",
    "b = BSE(update_codes = True)"
   ]
  },
  {
   "cell_type": "code",
   "execution_count": 53,
   "metadata": {},
   "outputs": [],
   "source": [
    "q = b.getQuote('540900')\n"
   ]
  },
  {
   "cell_type": "code",
   "execution_count": 51,
   "metadata": {},
   "outputs": [
    {
     "data": {
      "text/plain": [
       "'V-MART RETAIL LTD.'"
      ]
     },
     "execution_count": 51,
     "metadata": {},
     "output_type": "execute_result"
    }
   ],
   "source": [
    "q[\"companyName\"]"
   ]
  },
  {
   "cell_type": "code",
   "execution_count": 54,
   "metadata": {},
   "outputs": [
    {
     "data": {
      "text/plain": [
       "{'companyName': 'Newgen Software Technologies Ltd',\n",
       " 'currentValue': '1087.85',\n",
       " 'change': '9.15',\n",
       " 'pChange': '0.85',\n",
       " 'updatedOn': '03 Sep 24 | 11:50 AM',\n",
       " 'securityID': 'NEWGEN',\n",
       " 'scripCode': '540900',\n",
       " 'group': 'A  / BSE SmallCap',\n",
       " 'faceValue': '10.00',\n",
       " 'industry': 'Information Technology',\n",
       " 'previousClose': '1078.70',\n",
       " 'previousOpen': '1107.95',\n",
       " 'dayHigh': '1107.95',\n",
       " 'dayLow': '1082.45',\n",
       " '52weekHigh': '1156.20',\n",
       " '52weekLow': '403.03',\n",
       " 'weightedAvgPrice': '1093.27',\n",
       " 'totalTradedValue': '0.27 Cr.',\n",
       " 'totalTradedQuantity': '0.02 Lakh',\n",
       " '2WeekAvgQuantity': '0.14 Lakh',\n",
       " 'marketCapFull': '15,261.64 Cr.',\n",
       " 'marketCapFreeFloat': '6,867.74 Cr.',\n",
       " 'buy': {'1': {'quantity': '1', 'price': '1087.25'},\n",
       "  '2': {'quantity': '15', 'price': '1087.15'},\n",
       "  '3': {'quantity': '2', 'price': '1086.70'},\n",
       "  '4': {'quantity': '6', 'price': '1086.60'},\n",
       "  '5': {'quantity': '18', 'price': '1086.55'}},\n",
       " 'sell': {'1': {'price': '1089.00', 'quantity': '2'},\n",
       "  '2': {'price': '1089.05', 'quantity': '7'},\n",
       "  '3': {'price': '1089.10', 'quantity': '6'},\n",
       "  '4': {'price': '1089.15', 'quantity': '26'},\n",
       "  '5': {'price': '1089.30', 'quantity': '1'}}}"
      ]
     },
     "execution_count": 54,
     "metadata": {},
     "output_type": "execute_result"
    }
   ],
   "source": [
    "q"
   ]
  },
  {
   "cell_type": "code",
   "execution_count": 55,
   "metadata": {},
   "outputs": [
    {
     "data": {
      "text/html": [
       "<div>\n",
       "<style scoped>\n",
       "    .dataframe tbody tr th:only-of-type {\n",
       "        vertical-align: middle;\n",
       "    }\n",
       "\n",
       "    .dataframe tbody tr th {\n",
       "        vertical-align: top;\n",
       "    }\n",
       "\n",
       "    .dataframe thead th {\n",
       "        text-align: right;\n",
       "    }\n",
       "</style>\n",
       "<table border=\"1\" class=\"dataframe\">\n",
       "  <thead>\n",
       "    <tr style=\"text-align: right;\">\n",
       "      <th></th>\n",
       "      <th></th>\n",
       "      <th>Promoter</th>\n",
       "      <th>Share</th>\n",
       "      <th>BSE Code</th>\n",
       "      <th>NSE Code</th>\n",
       "      <th>Price</th>\n",
       "      <th>MCap</th>\n",
       "      <th>TotalShares</th>\n",
       "      <th>CaptureDate</th>\n",
       "      <th>Date</th>\n",
       "      <th>Share_Change</th>\n",
       "      <th>ch</th>\n",
       "    </tr>\n",
       "    <tr>\n",
       "      <th>Promoter</th>\n",
       "      <th></th>\n",
       "      <th></th>\n",
       "      <th></th>\n",
       "      <th></th>\n",
       "      <th></th>\n",
       "      <th></th>\n",
       "      <th></th>\n",
       "      <th></th>\n",
       "      <th></th>\n",
       "      <th></th>\n",
       "      <th></th>\n",
       "      <th></th>\n",
       "    </tr>\n",
       "  </thead>\n",
       "  <tbody>\n",
       "    <tr>\n",
       "      <th rowspan=\"5\" valign=\"top\">20Th Century Engineering Limited</th>\n",
       "      <th>43987</th>\n",
       "      <td>20Th Century Engineering Limited</td>\n",
       "      <td>2.73</td>\n",
       "      <td>500402</td>\n",
       "      <td>SPMLINFRA</td>\n",
       "      <td>245.0</td>\n",
       "      <td>1.467000e+10</td>\n",
       "      <td>5.987755e+07</td>\n",
       "      <td>Sep 2021</td>\n",
       "      <td>01-09-2021</td>\n",
       "      <td>NaN</td>\n",
       "      <td>EQUAL</td>\n",
       "    </tr>\n",
       "    <tr>\n",
       "      <th>44010</th>\n",
       "      <td>20Th Century Engineering Limited</td>\n",
       "      <td>2.73</td>\n",
       "      <td>500402</td>\n",
       "      <td>SPMLINFRA</td>\n",
       "      <td>245.0</td>\n",
       "      <td>1.467000e+10</td>\n",
       "      <td>5.987755e+07</td>\n",
       "      <td>Dec 2021</td>\n",
       "      <td>01-12-2021</td>\n",
       "      <td>0.000000</td>\n",
       "      <td>EQUAL</td>\n",
       "    </tr>\n",
       "    <tr>\n",
       "      <th>44034</th>\n",
       "      <td>20Th Century Engineering Limited</td>\n",
       "      <td>2.54</td>\n",
       "      <td>500402</td>\n",
       "      <td>SPMLINFRA</td>\n",
       "      <td>245.0</td>\n",
       "      <td>1.467000e+10</td>\n",
       "      <td>5.987755e+07</td>\n",
       "      <td>Mar 2022</td>\n",
       "      <td>01-03-2022</td>\n",
       "      <td>-6.959707</td>\n",
       "      <td>Down</td>\n",
       "    </tr>\n",
       "    <tr>\n",
       "      <th>44058</th>\n",
       "      <td>20Th Century Engineering Limited</td>\n",
       "      <td>2.34</td>\n",
       "      <td>500402</td>\n",
       "      <td>SPMLINFRA</td>\n",
       "      <td>245.0</td>\n",
       "      <td>1.467000e+10</td>\n",
       "      <td>5.987755e+07</td>\n",
       "      <td>Jun 2022</td>\n",
       "      <td>01-06-2022</td>\n",
       "      <td>-7.874016</td>\n",
       "      <td>Down</td>\n",
       "    </tr>\n",
       "    <tr>\n",
       "      <th>44080</th>\n",
       "      <td>20Th Century Engineering Limited</td>\n",
       "      <td>2.20</td>\n",
       "      <td>500402</td>\n",
       "      <td>SPMLINFRA</td>\n",
       "      <td>245.0</td>\n",
       "      <td>1.467000e+10</td>\n",
       "      <td>5.987755e+07</td>\n",
       "      <td>Sep 2022</td>\n",
       "      <td>01-09-2022</td>\n",
       "      <td>-5.982906</td>\n",
       "      <td>Down</td>\n",
       "    </tr>\n",
       "    <tr>\n",
       "      <th>...</th>\n",
       "      <th>...</th>\n",
       "      <td>...</td>\n",
       "      <td>...</td>\n",
       "      <td>...</td>\n",
       "      <td>...</td>\n",
       "      <td>...</td>\n",
       "      <td>...</td>\n",
       "      <td>...</td>\n",
       "      <td>...</td>\n",
       "      <td>...</td>\n",
       "      <td>...</td>\n",
       "      <td>...</td>\n",
       "    </tr>\n",
       "    <tr>\n",
       "      <th rowspan=\"5\" valign=\"top\">xxxii S Sridhar HUF</th>\n",
       "      <th>329580</th>\n",
       "      <td>xxxii S Sridhar HUF</td>\n",
       "      <td>0.00</td>\n",
       "      <td>500412</td>\n",
       "      <td>TIRUMALCHM</td>\n",
       "      <td>340.0</td>\n",
       "      <td>3.476000e+10</td>\n",
       "      <td>1.022353e+08</td>\n",
       "      <td>Jun 2022</td>\n",
       "      <td>01-06-2022</td>\n",
       "      <td>NaN</td>\n",
       "      <td>EQUAL</td>\n",
       "    </tr>\n",
       "    <tr>\n",
       "      <th>329614</th>\n",
       "      <td>xxxii S Sridhar HUF</td>\n",
       "      <td>0.00</td>\n",
       "      <td>500412</td>\n",
       "      <td>TIRUMALCHM</td>\n",
       "      <td>340.0</td>\n",
       "      <td>3.476000e+10</td>\n",
       "      <td>1.022353e+08</td>\n",
       "      <td>Sep 2022</td>\n",
       "      <td>01-09-2022</td>\n",
       "      <td>NaN</td>\n",
       "      <td>EQUAL</td>\n",
       "    </tr>\n",
       "    <tr>\n",
       "      <th>329652</th>\n",
       "      <td>xxxii S Sridhar HUF</td>\n",
       "      <td>0.00</td>\n",
       "      <td>500412</td>\n",
       "      <td>TIRUMALCHM</td>\n",
       "      <td>340.0</td>\n",
       "      <td>3.476000e+10</td>\n",
       "      <td>1.022353e+08</td>\n",
       "      <td>Dec 2022</td>\n",
       "      <td>01-12-2022</td>\n",
       "      <td>NaN</td>\n",
       "      <td>EQUAL</td>\n",
       "    </tr>\n",
       "    <tr>\n",
       "      <th>329690</th>\n",
       "      <td>xxxii S Sridhar HUF</td>\n",
       "      <td>0.00</td>\n",
       "      <td>500412</td>\n",
       "      <td>TIRUMALCHM</td>\n",
       "      <td>340.0</td>\n",
       "      <td>3.476000e+10</td>\n",
       "      <td>1.022353e+08</td>\n",
       "      <td>Mar 2023</td>\n",
       "      <td>01-03-2023</td>\n",
       "      <td>NaN</td>\n",
       "      <td>EQUAL</td>\n",
       "    </tr>\n",
       "    <tr>\n",
       "      <th>329729</th>\n",
       "      <td>xxxii S Sridhar HUF</td>\n",
       "      <td>0.00</td>\n",
       "      <td>500412</td>\n",
       "      <td>TIRUMALCHM</td>\n",
       "      <td>340.0</td>\n",
       "      <td>3.476000e+10</td>\n",
       "      <td>1.022353e+08</td>\n",
       "      <td>Jun 2023</td>\n",
       "      <td>01-06-2023</td>\n",
       "      <td>NaN</td>\n",
       "      <td>EQUAL</td>\n",
       "    </tr>\n",
       "  </tbody>\n",
       "</table>\n",
       "<p>481021 rows × 11 columns</p>\n",
       "</div>"
      ],
      "text/plain": [
       "                                                                 Promoter  \\\n",
       "Promoter                                                                    \n",
       "20Th Century Engineering Limited 43987   20Th Century Engineering Limited   \n",
       "                                 44010   20Th Century Engineering Limited   \n",
       "                                 44034   20Th Century Engineering Limited   \n",
       "                                 44058   20Th Century Engineering Limited   \n",
       "                                 44080   20Th Century Engineering Limited   \n",
       "...                                                                   ...   \n",
       "xxxii S Sridhar HUF              329580               xxxii S Sridhar HUF   \n",
       "                                 329614               xxxii S Sridhar HUF   \n",
       "                                 329652               xxxii S Sridhar HUF   \n",
       "                                 329690               xxxii S Sridhar HUF   \n",
       "                                 329729               xxxii S Sridhar HUF   \n",
       "\n",
       "                                         Share  BSE Code    NSE Code  Price  \\\n",
       "Promoter                                                                      \n",
       "20Th Century Engineering Limited 43987    2.73    500402   SPMLINFRA  245.0   \n",
       "                                 44010    2.73    500402   SPMLINFRA  245.0   \n",
       "                                 44034    2.54    500402   SPMLINFRA  245.0   \n",
       "                                 44058    2.34    500402   SPMLINFRA  245.0   \n",
       "                                 44080    2.20    500402   SPMLINFRA  245.0   \n",
       "...                                        ...       ...         ...    ...   \n",
       "xxxii S Sridhar HUF              329580   0.00    500412  TIRUMALCHM  340.0   \n",
       "                                 329614   0.00    500412  TIRUMALCHM  340.0   \n",
       "                                 329652   0.00    500412  TIRUMALCHM  340.0   \n",
       "                                 329690   0.00    500412  TIRUMALCHM  340.0   \n",
       "                                 329729   0.00    500412  TIRUMALCHM  340.0   \n",
       "\n",
       "                                                 MCap   TotalShares  \\\n",
       "Promoter                                                              \n",
       "20Th Century Engineering Limited 43987   1.467000e+10  5.987755e+07   \n",
       "                                 44010   1.467000e+10  5.987755e+07   \n",
       "                                 44034   1.467000e+10  5.987755e+07   \n",
       "                                 44058   1.467000e+10  5.987755e+07   \n",
       "                                 44080   1.467000e+10  5.987755e+07   \n",
       "...                                               ...           ...   \n",
       "xxxii S Sridhar HUF              329580  3.476000e+10  1.022353e+08   \n",
       "                                 329614  3.476000e+10  1.022353e+08   \n",
       "                                 329652  3.476000e+10  1.022353e+08   \n",
       "                                 329690  3.476000e+10  1.022353e+08   \n",
       "                                 329729  3.476000e+10  1.022353e+08   \n",
       "\n",
       "                                        CaptureDate        Date  Share_Change  \\\n",
       "Promoter                                                                        \n",
       "20Th Century Engineering Limited 43987     Sep 2021  01-09-2021           NaN   \n",
       "                                 44010     Dec 2021  01-12-2021      0.000000   \n",
       "                                 44034     Mar 2022  01-03-2022     -6.959707   \n",
       "                                 44058     Jun 2022  01-06-2022     -7.874016   \n",
       "                                 44080     Sep 2022  01-09-2022     -5.982906   \n",
       "...                                             ...         ...           ...   \n",
       "xxxii S Sridhar HUF              329580    Jun 2022  01-06-2022           NaN   \n",
       "                                 329614    Sep 2022  01-09-2022           NaN   \n",
       "                                 329652    Dec 2022  01-12-2022           NaN   \n",
       "                                 329690    Mar 2023  01-03-2023           NaN   \n",
       "                                 329729    Jun 2023  01-06-2023           NaN   \n",
       "\n",
       "                                            ch  \n",
       "Promoter                                        \n",
       "20Th Century Engineering Limited 43987   EQUAL  \n",
       "                                 44010   EQUAL  \n",
       "                                 44034    Down  \n",
       "                                 44058    Down  \n",
       "                                 44080    Down  \n",
       "...                                        ...  \n",
       "xxxii S Sridhar HUF              329580  EQUAL  \n",
       "                                 329614  EQUAL  \n",
       "                                 329652  EQUAL  \n",
       "                                 329690  EQUAL  \n",
       "                                 329729  EQUAL  \n",
       "\n",
       "[481021 rows x 11 columns]"
      ]
     },
     "execution_count": 55,
     "metadata": {},
     "output_type": "execute_result"
    }
   ],
   "source": [
    "du"
   ]
  },
  {
   "cell_type": "code",
   "execution_count": 62,
   "metadata": {},
   "outputs": [],
   "source": [
    "re = du[du[\"Promoter\"]==\"President Of India\"]"
   ]
  },
  {
   "cell_type": "code",
   "execution_count": 63,
   "metadata": {},
   "outputs": [],
   "source": [
    "re.to_csv(\"sgg.csv\")"
   ]
  },
  {
   "cell_type": "code",
   "execution_count": 67,
   "metadata": {},
   "outputs": [
    {
     "ename": "ValueError",
     "evalue": "Index contains duplicate entries, cannot reshape",
     "output_type": "error",
     "traceback": [
      "\u001b[0;31m---------------------------------------------------------------------------\u001b[0m",
      "\u001b[0;31mValueError\u001b[0m                                Traceback (most recent call last)",
      "Cell \u001b[0;32mIn[67], line 7\u001b[0m\n\u001b[1;32m      3\u001b[0m df[\u001b[38;5;124m'\u001b[39m\u001b[38;5;124mDate\u001b[39m\u001b[38;5;124m'\u001b[39m] \u001b[38;5;241m=\u001b[39m pd\u001b[38;5;241m.\u001b[39mto_datetime(df[\u001b[38;5;124m'\u001b[39m\u001b[38;5;124mDate\u001b[39m\u001b[38;5;124m'\u001b[39m])\n\u001b[1;32m      4\u001b[0m df[\u001b[38;5;124m'\u001b[39m\u001b[38;5;124mDate\u001b[39m\u001b[38;5;124m'\u001b[39m] \u001b[38;5;241m=\u001b[39m df[\u001b[38;5;124m'\u001b[39m\u001b[38;5;124mDate\u001b[39m\u001b[38;5;124m'\u001b[39m]\u001b[38;5;241m.\u001b[39mdt\u001b[38;5;241m.\u001b[39mstrftime(\u001b[38;5;124m'\u001b[39m\u001b[38;5;124m%\u001b[39m\u001b[38;5;124mY-\u001b[39m\u001b[38;5;132;01m%d\u001b[39;00m\u001b[38;5;124m-\u001b[39m\u001b[38;5;124m%\u001b[39m\u001b[38;5;124mm\u001b[39m\u001b[38;5;124m'\u001b[39m)\n\u001b[0;32m----> 7\u001b[0m df_pivot \u001b[38;5;241m=\u001b[39m \u001b[43mdf\u001b[49m\u001b[38;5;241;43m.\u001b[39;49m\u001b[43mpivot\u001b[49m\u001b[43m(\u001b[49m\u001b[43mindex\u001b[49m\u001b[38;5;241;43m=\u001b[39;49m\u001b[38;5;124;43m'\u001b[39;49m\u001b[38;5;124;43mDate\u001b[39;49m\u001b[38;5;124;43m'\u001b[39;49m\u001b[43m,\u001b[49m\u001b[43m \u001b[49m\u001b[43mcolumns\u001b[49m\u001b[38;5;241;43m=\u001b[39;49m\u001b[38;5;124;43m'\u001b[39;49m\u001b[38;5;124;43mBSE Code\u001b[39;49m\u001b[38;5;124;43m'\u001b[39;49m\u001b[43m,\u001b[49m\u001b[43m \u001b[49m\u001b[43mvalues\u001b[49m\u001b[38;5;241;43m=\u001b[39;49m\u001b[38;5;124;43m'\u001b[39;49m\u001b[38;5;124;43mShare\u001b[39;49m\u001b[38;5;124;43m'\u001b[39;49m\u001b[43m)\u001b[49m\n\u001b[1;32m     10\u001b[0m fig \u001b[38;5;241m=\u001b[39m go\u001b[38;5;241m.\u001b[39mFigure()\n\u001b[1;32m     12\u001b[0m \u001b[38;5;28;01mfor\u001b[39;00m promoter \u001b[38;5;129;01min\u001b[39;00m df_pivot\u001b[38;5;241m.\u001b[39mcolumns:\n",
      "File \u001b[0;32m~/.local/lib/python3.10/site-packages/pandas/core/frame.py:9339\u001b[0m, in \u001b[0;36mDataFrame.pivot\u001b[0;34m(self, columns, index, values)\u001b[0m\n\u001b[1;32m   9332\u001b[0m \u001b[38;5;129m@Substitution\u001b[39m(\u001b[38;5;124m\"\u001b[39m\u001b[38;5;124m\"\u001b[39m)\n\u001b[1;32m   9333\u001b[0m \u001b[38;5;129m@Appender\u001b[39m(_shared_docs[\u001b[38;5;124m\"\u001b[39m\u001b[38;5;124mpivot\u001b[39m\u001b[38;5;124m\"\u001b[39m])\n\u001b[1;32m   9334\u001b[0m \u001b[38;5;28;01mdef\u001b[39;00m \u001b[38;5;21mpivot\u001b[39m(\n\u001b[1;32m   9335\u001b[0m     \u001b[38;5;28mself\u001b[39m, \u001b[38;5;241m*\u001b[39m, columns, index\u001b[38;5;241m=\u001b[39mlib\u001b[38;5;241m.\u001b[39mno_default, values\u001b[38;5;241m=\u001b[39mlib\u001b[38;5;241m.\u001b[39mno_default\n\u001b[1;32m   9336\u001b[0m ) \u001b[38;5;241m-\u001b[39m\u001b[38;5;241m>\u001b[39m DataFrame:\n\u001b[1;32m   9337\u001b[0m     \u001b[38;5;28;01mfrom\u001b[39;00m \u001b[38;5;21;01mpandas\u001b[39;00m\u001b[38;5;21;01m.\u001b[39;00m\u001b[38;5;21;01mcore\u001b[39;00m\u001b[38;5;21;01m.\u001b[39;00m\u001b[38;5;21;01mreshape\u001b[39;00m\u001b[38;5;21;01m.\u001b[39;00m\u001b[38;5;21;01mpivot\u001b[39;00m \u001b[38;5;28;01mimport\u001b[39;00m pivot\n\u001b[0;32m-> 9339\u001b[0m     \u001b[38;5;28;01mreturn\u001b[39;00m \u001b[43mpivot\u001b[49m\u001b[43m(\u001b[49m\u001b[38;5;28;43mself\u001b[39;49m\u001b[43m,\u001b[49m\u001b[43m \u001b[49m\u001b[43mindex\u001b[49m\u001b[38;5;241;43m=\u001b[39;49m\u001b[43mindex\u001b[49m\u001b[43m,\u001b[49m\u001b[43m \u001b[49m\u001b[43mcolumns\u001b[49m\u001b[38;5;241;43m=\u001b[39;49m\u001b[43mcolumns\u001b[49m\u001b[43m,\u001b[49m\u001b[43m \u001b[49m\u001b[43mvalues\u001b[49m\u001b[38;5;241;43m=\u001b[39;49m\u001b[43mvalues\u001b[49m\u001b[43m)\u001b[49m\n",
      "File \u001b[0;32m~/.local/lib/python3.10/site-packages/pandas/core/reshape/pivot.py:570\u001b[0m, in \u001b[0;36mpivot\u001b[0;34m(data, columns, index, values)\u001b[0m\n\u001b[1;32m    566\u001b[0m         indexed \u001b[38;5;241m=\u001b[39m data\u001b[38;5;241m.\u001b[39m_constructor_sliced(data[values]\u001b[38;5;241m.\u001b[39m_values, index\u001b[38;5;241m=\u001b[39mmultiindex)\n\u001b[1;32m    567\u001b[0m \u001b[38;5;66;03m# error: Argument 1 to \"unstack\" of \"DataFrame\" has incompatible type \"Union\u001b[39;00m\n\u001b[1;32m    568\u001b[0m \u001b[38;5;66;03m# [List[Any], ExtensionArray, ndarray[Any, Any], Index, Series]\"; expected\u001b[39;00m\n\u001b[1;32m    569\u001b[0m \u001b[38;5;66;03m# \"Hashable\"\u001b[39;00m\n\u001b[0;32m--> 570\u001b[0m result \u001b[38;5;241m=\u001b[39m \u001b[43mindexed\u001b[49m\u001b[38;5;241;43m.\u001b[39;49m\u001b[43munstack\u001b[49m\u001b[43m(\u001b[49m\u001b[43mcolumns_listlike\u001b[49m\u001b[43m)\u001b[49m  \u001b[38;5;66;03m# type: ignore[arg-type]\u001b[39;00m\n\u001b[1;32m    571\u001b[0m result\u001b[38;5;241m.\u001b[39mindex\u001b[38;5;241m.\u001b[39mnames \u001b[38;5;241m=\u001b[39m [\n\u001b[1;32m    572\u001b[0m     name \u001b[38;5;28;01mif\u001b[39;00m name \u001b[38;5;129;01mis\u001b[39;00m \u001b[38;5;129;01mnot\u001b[39;00m lib\u001b[38;5;241m.\u001b[39mno_default \u001b[38;5;28;01melse\u001b[39;00m \u001b[38;5;28;01mNone\u001b[39;00m \u001b[38;5;28;01mfor\u001b[39;00m name \u001b[38;5;129;01min\u001b[39;00m result\u001b[38;5;241m.\u001b[39mindex\u001b[38;5;241m.\u001b[39mnames\n\u001b[1;32m    573\u001b[0m ]\n\u001b[1;32m    575\u001b[0m \u001b[38;5;28;01mreturn\u001b[39;00m result\n",
      "File \u001b[0;32m~/.local/lib/python3.10/site-packages/pandas/core/series.py:4615\u001b[0m, in \u001b[0;36mSeries.unstack\u001b[0;34m(self, level, fill_value, sort)\u001b[0m\n\u001b[1;32m   4570\u001b[0m \u001b[38;5;250m\u001b[39m\u001b[38;5;124;03m\"\"\"\u001b[39;00m\n\u001b[1;32m   4571\u001b[0m \u001b[38;5;124;03mUnstack, also known as pivot, Series with MultiIndex to produce DataFrame.\u001b[39;00m\n\u001b[1;32m   4572\u001b[0m \n\u001b[0;32m   (...)\u001b[0m\n\u001b[1;32m   4611\u001b[0m \u001b[38;5;124;03mb    2    4\u001b[39;00m\n\u001b[1;32m   4612\u001b[0m \u001b[38;5;124;03m\"\"\"\u001b[39;00m\n\u001b[1;32m   4613\u001b[0m \u001b[38;5;28;01mfrom\u001b[39;00m \u001b[38;5;21;01mpandas\u001b[39;00m\u001b[38;5;21;01m.\u001b[39;00m\u001b[38;5;21;01mcore\u001b[39;00m\u001b[38;5;21;01m.\u001b[39;00m\u001b[38;5;21;01mreshape\u001b[39;00m\u001b[38;5;21;01m.\u001b[39;00m\u001b[38;5;21;01mreshape\u001b[39;00m \u001b[38;5;28;01mimport\u001b[39;00m unstack\n\u001b[0;32m-> 4615\u001b[0m \u001b[38;5;28;01mreturn\u001b[39;00m \u001b[43munstack\u001b[49m\u001b[43m(\u001b[49m\u001b[38;5;28;43mself\u001b[39;49m\u001b[43m,\u001b[49m\u001b[43m \u001b[49m\u001b[43mlevel\u001b[49m\u001b[43m,\u001b[49m\u001b[43m \u001b[49m\u001b[43mfill_value\u001b[49m\u001b[43m,\u001b[49m\u001b[43m \u001b[49m\u001b[43msort\u001b[49m\u001b[43m)\u001b[49m\n",
      "File \u001b[0;32m~/.local/lib/python3.10/site-packages/pandas/core/reshape/reshape.py:517\u001b[0m, in \u001b[0;36munstack\u001b[0;34m(obj, level, fill_value, sort)\u001b[0m\n\u001b[1;32m    515\u001b[0m \u001b[38;5;28;01mif\u001b[39;00m is_1d_only_ea_dtype(obj\u001b[38;5;241m.\u001b[39mdtype):\n\u001b[1;32m    516\u001b[0m     \u001b[38;5;28;01mreturn\u001b[39;00m _unstack_extension_series(obj, level, fill_value, sort\u001b[38;5;241m=\u001b[39msort)\n\u001b[0;32m--> 517\u001b[0m unstacker \u001b[38;5;241m=\u001b[39m \u001b[43m_Unstacker\u001b[49m\u001b[43m(\u001b[49m\n\u001b[1;32m    518\u001b[0m \u001b[43m    \u001b[49m\u001b[43mobj\u001b[49m\u001b[38;5;241;43m.\u001b[39;49m\u001b[43mindex\u001b[49m\u001b[43m,\u001b[49m\u001b[43m \u001b[49m\u001b[43mlevel\u001b[49m\u001b[38;5;241;43m=\u001b[39;49m\u001b[43mlevel\u001b[49m\u001b[43m,\u001b[49m\u001b[43m \u001b[49m\u001b[43mconstructor\u001b[49m\u001b[38;5;241;43m=\u001b[39;49m\u001b[43mobj\u001b[49m\u001b[38;5;241;43m.\u001b[39;49m\u001b[43m_constructor_expanddim\u001b[49m\u001b[43m,\u001b[49m\u001b[43m \u001b[49m\u001b[43msort\u001b[49m\u001b[38;5;241;43m=\u001b[39;49m\u001b[43msort\u001b[49m\n\u001b[1;32m    519\u001b[0m \u001b[43m\u001b[49m\u001b[43m)\u001b[49m\n\u001b[1;32m    520\u001b[0m \u001b[38;5;28;01mreturn\u001b[39;00m unstacker\u001b[38;5;241m.\u001b[39mget_result(\n\u001b[1;32m    521\u001b[0m     obj\u001b[38;5;241m.\u001b[39m_values, value_columns\u001b[38;5;241m=\u001b[39m\u001b[38;5;28;01mNone\u001b[39;00m, fill_value\u001b[38;5;241m=\u001b[39mfill_value\n\u001b[1;32m    522\u001b[0m )\n",
      "File \u001b[0;32m~/.local/lib/python3.10/site-packages/pandas/core/reshape/reshape.py:154\u001b[0m, in \u001b[0;36m_Unstacker.__init__\u001b[0;34m(self, index, level, constructor, sort)\u001b[0m\n\u001b[1;32m    146\u001b[0m \u001b[38;5;28;01mif\u001b[39;00m num_cells \u001b[38;5;241m>\u001b[39m np\u001b[38;5;241m.\u001b[39miinfo(np\u001b[38;5;241m.\u001b[39mint32)\u001b[38;5;241m.\u001b[39mmax:\n\u001b[1;32m    147\u001b[0m     warnings\u001b[38;5;241m.\u001b[39mwarn(\n\u001b[1;32m    148\u001b[0m         \u001b[38;5;124mf\u001b[39m\u001b[38;5;124m\"\u001b[39m\u001b[38;5;124mThe following operation may generate \u001b[39m\u001b[38;5;132;01m{\u001b[39;00mnum_cells\u001b[38;5;132;01m}\u001b[39;00m\u001b[38;5;124m cells \u001b[39m\u001b[38;5;124m\"\u001b[39m\n\u001b[1;32m    149\u001b[0m         \u001b[38;5;124mf\u001b[39m\u001b[38;5;124m\"\u001b[39m\u001b[38;5;124min the resulting pandas object.\u001b[39m\u001b[38;5;124m\"\u001b[39m,\n\u001b[1;32m    150\u001b[0m         PerformanceWarning,\n\u001b[1;32m    151\u001b[0m         stacklevel\u001b[38;5;241m=\u001b[39mfind_stack_level(),\n\u001b[1;32m    152\u001b[0m     )\n\u001b[0;32m--> 154\u001b[0m \u001b[38;5;28;43mself\u001b[39;49m\u001b[38;5;241;43m.\u001b[39;49m\u001b[43m_make_selectors\u001b[49m\u001b[43m(\u001b[49m\u001b[43m)\u001b[49m\n",
      "File \u001b[0;32m~/.local/lib/python3.10/site-packages/pandas/core/reshape/reshape.py:210\u001b[0m, in \u001b[0;36m_Unstacker._make_selectors\u001b[0;34m(self)\u001b[0m\n\u001b[1;32m    207\u001b[0m mask\u001b[38;5;241m.\u001b[39mput(selector, \u001b[38;5;28;01mTrue\u001b[39;00m)\n\u001b[1;32m    209\u001b[0m \u001b[38;5;28;01mif\u001b[39;00m mask\u001b[38;5;241m.\u001b[39msum() \u001b[38;5;241m<\u001b[39m \u001b[38;5;28mlen\u001b[39m(\u001b[38;5;28mself\u001b[39m\u001b[38;5;241m.\u001b[39mindex):\n\u001b[0;32m--> 210\u001b[0m     \u001b[38;5;28;01mraise\u001b[39;00m \u001b[38;5;167;01mValueError\u001b[39;00m(\u001b[38;5;124m\"\u001b[39m\u001b[38;5;124mIndex contains duplicate entries, cannot reshape\u001b[39m\u001b[38;5;124m\"\u001b[39m)\n\u001b[1;32m    212\u001b[0m \u001b[38;5;28mself\u001b[39m\u001b[38;5;241m.\u001b[39mgroup_index \u001b[38;5;241m=\u001b[39m comp_index\n\u001b[1;32m    213\u001b[0m \u001b[38;5;28mself\u001b[39m\u001b[38;5;241m.\u001b[39mmask \u001b[38;5;241m=\u001b[39m mask\n",
      "\u001b[0;31mValueError\u001b[0m: Index contains duplicate entries, cannot reshape"
     ]
    }
   ],
   "source": [
    "df = pd.DataFrame(duplicates)\n",
    "\n",
    "df['Date'] = pd.to_datetime(df['Date'])\n",
    "df['Date'] = df['Date'].dt.strftime('%Y-%d-%m')\n",
    "\n",
    "\n",
    "df_pivot = df.pivot(index='Date', columns='BSE Code', values='Share')\n",
    "\n",
    "\n",
    "fig = go.Figure()\n",
    "\n",
    "for promoter in df_pivot.columns:\n",
    "    fig.add_trace(go.Scatter(\n",
    "        x=df_pivot.index,\n",
    "        y=df_pivot[promoter],\n",
    "        mode='lines+markers',\n",
    "        name=promoter\n",
    "    ))\n",
    "\n",
    "fig.update_layout(\n",
    "    title='Promoter Share Over Time',\n",
    "    xaxis_title='Date',\n",
    "    yaxis_title='Share',\n",
    "    xaxis=dict(tickangle=-45),\n",
    "    legend_title='BSE Code',\n",
    "    width=1000,\n",
    "    height=600\n",
    ")\n",
    "\n",
    "fig.show()"
   ]
  },
  {
   "cell_type": "code",
   "execution_count": 59,
   "metadata": {},
   "outputs": [
    {
     "ename": "ValueError",
     "evalue": "The truth value of a DataFrame is ambiguous. Use a.empty, a.bool(), a.item(), a.any() or a.all().",
     "output_type": "error",
     "traceback": [
      "\u001b[0;31m---------------------------------------------------------------------------\u001b[0m",
      "\u001b[0;31mValueError\u001b[0m                                Traceback (most recent call last)",
      "\u001b[0;32m<ipython-input-59-bd0e7a7f8878>\u001b[0m in \u001b[0;36m?\u001b[0;34m()\u001b[0m\n\u001b[0;32m----> 1\u001b[0;31m \u001b[0ma\u001b[0m \u001b[0;34m=\u001b[0m \u001b[0mre\u001b[0m\u001b[0;34m[\u001b[0m\u001b[0mre\u001b[0m\u001b[0;34m[\u001b[0m\u001b[0;34m\"Date\"\u001b[0m\u001b[0;34m]\u001b[0m\u001b[0;34m.\u001b[0m\u001b[0mduplicated\u001b[0m\u001b[0;34m]\u001b[0m\u001b[0;34m\u001b[0m\u001b[0;34m\u001b[0m\u001b[0m\n\u001b[0m",
      "\u001b[0;32m~/.local/lib/python3.10/site-packages/pandas/core/frame.py\u001b[0m in \u001b[0;36m?\u001b[0;34m(self, key)\u001b[0m\n\u001b[1;32m   4062\u001b[0m     \u001b[0;32mdef\u001b[0m \u001b[0m__getitem__\u001b[0m\u001b[0;34m(\u001b[0m\u001b[0mself\u001b[0m\u001b[0;34m,\u001b[0m \u001b[0mkey\u001b[0m\u001b[0;34m)\u001b[0m\u001b[0;34m:\u001b[0m\u001b[0;34m\u001b[0m\u001b[0;34m\u001b[0m\u001b[0m\n\u001b[1;32m   4063\u001b[0m         \u001b[0mcheck_dict_or_set_indexers\u001b[0m\u001b[0;34m(\u001b[0m\u001b[0mkey\u001b[0m\u001b[0;34m)\u001b[0m\u001b[0;34m\u001b[0m\u001b[0;34m\u001b[0m\u001b[0m\n\u001b[1;32m   4064\u001b[0m         \u001b[0mkey\u001b[0m \u001b[0;34m=\u001b[0m \u001b[0mlib\u001b[0m\u001b[0;34m.\u001b[0m\u001b[0mitem_from_zerodim\u001b[0m\u001b[0;34m(\u001b[0m\u001b[0mkey\u001b[0m\u001b[0;34m)\u001b[0m\u001b[0;34m\u001b[0m\u001b[0;34m\u001b[0m\u001b[0m\n\u001b[0;32m-> 4065\u001b[0;31m         \u001b[0mkey\u001b[0m \u001b[0;34m=\u001b[0m \u001b[0mcom\u001b[0m\u001b[0;34m.\u001b[0m\u001b[0mapply_if_callable\u001b[0m\u001b[0;34m(\u001b[0m\u001b[0mkey\u001b[0m\u001b[0;34m,\u001b[0m \u001b[0mself\u001b[0m\u001b[0;34m)\u001b[0m\u001b[0;34m\u001b[0m\u001b[0;34m\u001b[0m\u001b[0m\n\u001b[0m\u001b[1;32m   4066\u001b[0m \u001b[0;34m\u001b[0m\u001b[0m\n\u001b[1;32m   4067\u001b[0m         \u001b[0;32mif\u001b[0m \u001b[0mis_hashable\u001b[0m\u001b[0;34m(\u001b[0m\u001b[0mkey\u001b[0m\u001b[0;34m)\u001b[0m \u001b[0;32mand\u001b[0m \u001b[0;32mnot\u001b[0m \u001b[0mis_iterator\u001b[0m\u001b[0;34m(\u001b[0m\u001b[0mkey\u001b[0m\u001b[0;34m)\u001b[0m\u001b[0;34m:\u001b[0m\u001b[0;34m\u001b[0m\u001b[0;34m\u001b[0m\u001b[0m\n\u001b[1;32m   4068\u001b[0m             \u001b[0;31m# is_iterator to exclude generator e.g. test_getitem_listlike\u001b[0m\u001b[0;34m\u001b[0m\u001b[0;34m\u001b[0m\u001b[0m\n",
      "\u001b[0;32m~/.local/lib/python3.10/site-packages/pandas/core/common.py\u001b[0m in \u001b[0;36m?\u001b[0;34m(maybe_callable, obj, **kwargs)\u001b[0m\n\u001b[1;32m    380\u001b[0m     \u001b[0mobj\u001b[0m \u001b[0;34m:\u001b[0m \u001b[0mNDFrame\u001b[0m\u001b[0;34m\u001b[0m\u001b[0;34m\u001b[0m\u001b[0m\n\u001b[1;32m    381\u001b[0m     \u001b[0;34m**\u001b[0m\u001b[0mkwargs\u001b[0m\u001b[0;34m\u001b[0m\u001b[0;34m\u001b[0m\u001b[0m\n\u001b[1;32m    382\u001b[0m     \"\"\"\n\u001b[1;32m    383\u001b[0m     \u001b[0;32mif\u001b[0m \u001b[0mcallable\u001b[0m\u001b[0;34m(\u001b[0m\u001b[0mmaybe_callable\u001b[0m\u001b[0;34m)\u001b[0m\u001b[0;34m:\u001b[0m\u001b[0;34m\u001b[0m\u001b[0;34m\u001b[0m\u001b[0m\n\u001b[0;32m--> 384\u001b[0;31m         \u001b[0;32mreturn\u001b[0m \u001b[0mmaybe_callable\u001b[0m\u001b[0;34m(\u001b[0m\u001b[0mobj\u001b[0m\u001b[0;34m,\u001b[0m \u001b[0;34m**\u001b[0m\u001b[0mkwargs\u001b[0m\u001b[0;34m)\u001b[0m\u001b[0;34m\u001b[0m\u001b[0;34m\u001b[0m\u001b[0m\n\u001b[0m\u001b[1;32m    385\u001b[0m \u001b[0;34m\u001b[0m\u001b[0m\n\u001b[1;32m    386\u001b[0m     \u001b[0;32mreturn\u001b[0m \u001b[0mmaybe_callable\u001b[0m\u001b[0;34m\u001b[0m\u001b[0;34m\u001b[0m\u001b[0m\n",
      "\u001b[0;32m~/.local/lib/python3.10/site-packages/pandas/core/series.py\u001b[0m in \u001b[0;36m?\u001b[0;34m(self, keep)\u001b[0m\n\u001b[1;32m   2600\u001b[0m         \u001b[0;36m3\u001b[0m    \u001b[0;32mFalse\u001b[0m\u001b[0;34m\u001b[0m\u001b[0;34m\u001b[0m\u001b[0m\n\u001b[1;32m   2601\u001b[0m         \u001b[0;36m4\u001b[0m     \u001b[0;32mTrue\u001b[0m\u001b[0;34m\u001b[0m\u001b[0;34m\u001b[0m\u001b[0m\n\u001b[1;32m   2602\u001b[0m         \u001b[0mdtype\u001b[0m\u001b[0;34m:\u001b[0m \u001b[0mbool\u001b[0m\u001b[0;34m\u001b[0m\u001b[0;34m\u001b[0m\u001b[0m\n\u001b[1;32m   2603\u001b[0m         \"\"\"\n\u001b[0;32m-> 2604\u001b[0;31m         \u001b[0mres\u001b[0m \u001b[0;34m=\u001b[0m \u001b[0mself\u001b[0m\u001b[0;34m.\u001b[0m\u001b[0m_duplicated\u001b[0m\u001b[0;34m(\u001b[0m\u001b[0mkeep\u001b[0m\u001b[0;34m=\u001b[0m\u001b[0mkeep\u001b[0m\u001b[0;34m)\u001b[0m\u001b[0;34m\u001b[0m\u001b[0;34m\u001b[0m\u001b[0m\n\u001b[0m\u001b[1;32m   2605\u001b[0m         \u001b[0mresult\u001b[0m \u001b[0;34m=\u001b[0m \u001b[0mself\u001b[0m\u001b[0;34m.\u001b[0m\u001b[0m_constructor\u001b[0m\u001b[0;34m(\u001b[0m\u001b[0mres\u001b[0m\u001b[0;34m,\u001b[0m \u001b[0mindex\u001b[0m\u001b[0;34m=\u001b[0m\u001b[0mself\u001b[0m\u001b[0;34m.\u001b[0m\u001b[0mindex\u001b[0m\u001b[0;34m,\u001b[0m \u001b[0mcopy\u001b[0m\u001b[0;34m=\u001b[0m\u001b[0;32mFalse\u001b[0m\u001b[0;34m)\u001b[0m\u001b[0;34m\u001b[0m\u001b[0;34m\u001b[0m\u001b[0m\n\u001b[1;32m   2606\u001b[0m         \u001b[0;32mreturn\u001b[0m \u001b[0mresult\u001b[0m\u001b[0;34m.\u001b[0m\u001b[0m__finalize__\u001b[0m\u001b[0;34m(\u001b[0m\u001b[0mself\u001b[0m\u001b[0;34m,\u001b[0m \u001b[0mmethod\u001b[0m\u001b[0;34m=\u001b[0m\u001b[0;34m\"duplicated\"\u001b[0m\u001b[0;34m)\u001b[0m\u001b[0;34m\u001b[0m\u001b[0;34m\u001b[0m\u001b[0m\n",
      "\u001b[0;32m~/.local/lib/python3.10/site-packages/pandas/core/base.py\u001b[0m in \u001b[0;36m?\u001b[0;34m(self, keep)\u001b[0m\n\u001b[1;32m   1365\u001b[0m     \u001b[0;32mdef\u001b[0m \u001b[0m_duplicated\u001b[0m\u001b[0;34m(\u001b[0m\u001b[0mself\u001b[0m\u001b[0;34m,\u001b[0m \u001b[0mkeep\u001b[0m\u001b[0;34m:\u001b[0m \u001b[0mDropKeep\u001b[0m \u001b[0;34m=\u001b[0m \u001b[0;34m\"first\"\u001b[0m\u001b[0;34m)\u001b[0m \u001b[0;34m->\u001b[0m \u001b[0mnpt\u001b[0m\u001b[0;34m.\u001b[0m\u001b[0mNDArray\u001b[0m\u001b[0;34m[\u001b[0m\u001b[0mnp\u001b[0m\u001b[0;34m.\u001b[0m\u001b[0mbool_\u001b[0m\u001b[0;34m]\u001b[0m\u001b[0;34m:\u001b[0m\u001b[0;34m\u001b[0m\u001b[0;34m\u001b[0m\u001b[0m\n\u001b[1;32m   1366\u001b[0m         \u001b[0marr\u001b[0m \u001b[0;34m=\u001b[0m \u001b[0mself\u001b[0m\u001b[0;34m.\u001b[0m\u001b[0m_values\u001b[0m\u001b[0;34m\u001b[0m\u001b[0;34m\u001b[0m\u001b[0m\n\u001b[1;32m   1367\u001b[0m         \u001b[0;32mif\u001b[0m \u001b[0misinstance\u001b[0m\u001b[0;34m(\u001b[0m\u001b[0marr\u001b[0m\u001b[0;34m,\u001b[0m \u001b[0mExtensionArray\u001b[0m\u001b[0;34m)\u001b[0m\u001b[0;34m:\u001b[0m\u001b[0;34m\u001b[0m\u001b[0;34m\u001b[0m\u001b[0m\n\u001b[1;32m   1368\u001b[0m             \u001b[0;32mreturn\u001b[0m \u001b[0marr\u001b[0m\u001b[0;34m.\u001b[0m\u001b[0mduplicated\u001b[0m\u001b[0;34m(\u001b[0m\u001b[0mkeep\u001b[0m\u001b[0;34m=\u001b[0m\u001b[0mkeep\u001b[0m\u001b[0;34m)\u001b[0m\u001b[0;34m\u001b[0m\u001b[0;34m\u001b[0m\u001b[0m\n\u001b[0;32m-> 1369\u001b[0;31m         \u001b[0;32mreturn\u001b[0m \u001b[0malgorithms\u001b[0m\u001b[0;34m.\u001b[0m\u001b[0mduplicated\u001b[0m\u001b[0;34m(\u001b[0m\u001b[0marr\u001b[0m\u001b[0;34m,\u001b[0m \u001b[0mkeep\u001b[0m\u001b[0;34m=\u001b[0m\u001b[0mkeep\u001b[0m\u001b[0;34m)\u001b[0m\u001b[0;34m\u001b[0m\u001b[0;34m\u001b[0m\u001b[0m\n\u001b[0m",
      "\u001b[0;32m~/.local/lib/python3.10/site-packages/pandas/core/algorithms.py\u001b[0m in \u001b[0;36m?\u001b[0;34m(values, keep, mask)\u001b[0m\n\u001b[1;32m   1016\u001b[0m     \u001b[0;34m-\u001b[0m\u001b[0;34m-\u001b[0m\u001b[0;34m-\u001b[0m\u001b[0;34m-\u001b[0m\u001b[0;34m-\u001b[0m\u001b[0;34m-\u001b[0m\u001b[0;34m-\u001b[0m\u001b[0;34m\u001b[0m\u001b[0;34m\u001b[0m\u001b[0m\n\u001b[1;32m   1017\u001b[0m     \u001b[0mduplicated\u001b[0m \u001b[0;34m:\u001b[0m \u001b[0mndarray\u001b[0m\u001b[0;34m[\u001b[0m\u001b[0mbool\u001b[0m\u001b[0;34m]\u001b[0m\u001b[0;34m\u001b[0m\u001b[0;34m\u001b[0m\u001b[0m\n\u001b[1;32m   1018\u001b[0m     \"\"\"\n\u001b[1;32m   1019\u001b[0m     \u001b[0mvalues\u001b[0m \u001b[0;34m=\u001b[0m \u001b[0m_ensure_data\u001b[0m\u001b[0;34m(\u001b[0m\u001b[0mvalues\u001b[0m\u001b[0;34m)\u001b[0m\u001b[0;34m\u001b[0m\u001b[0;34m\u001b[0m\u001b[0m\n\u001b[0;32m-> 1020\u001b[0;31m     \u001b[0;32mreturn\u001b[0m \u001b[0mhtable\u001b[0m\u001b[0;34m.\u001b[0m\u001b[0mduplicated\u001b[0m\u001b[0;34m(\u001b[0m\u001b[0mvalues\u001b[0m\u001b[0;34m,\u001b[0m \u001b[0mkeep\u001b[0m\u001b[0;34m=\u001b[0m\u001b[0mkeep\u001b[0m\u001b[0;34m,\u001b[0m \u001b[0mmask\u001b[0m\u001b[0;34m=\u001b[0m\u001b[0mmask\u001b[0m\u001b[0;34m)\u001b[0m\u001b[0;34m\u001b[0m\u001b[0;34m\u001b[0m\u001b[0m\n\u001b[0m",
      "\u001b[0;32mpandas/_libs/hashtable_func_helper.pxi\u001b[0m in \u001b[0;36m?\u001b[0;34m()\u001b[0m\n\u001b[0;32m-> 2655\u001b[0;31m \u001b[0;34m'Could not get source, probably due dynamically evaluated source code.'\u001b[0m\u001b[0;34m\u001b[0m\u001b[0;34m\u001b[0m\u001b[0m\n\u001b[0m",
      "\u001b[0;32mpandas/_libs/hashtable_func_helper.pxi\u001b[0m in \u001b[0;36m?\u001b[0;34m()\u001b[0m\n\u001b[0;32m-> 2657\u001b[0;31m \u001b[0;34m'Could not get source, probably due dynamically evaluated source code.'\u001b[0m\u001b[0;34m\u001b[0m\u001b[0;34m\u001b[0m\u001b[0m\n\u001b[0m",
      "\u001b[0;32mpandas/_libs/hashtable_func_helper.pxi\u001b[0m in \u001b[0;36m?\u001b[0;34m()\u001b[0m\n\u001b[0;32m-> 1691\u001b[0;31m \u001b[0;34m'Could not get source, probably due dynamically evaluated source code.'\u001b[0m\u001b[0;34m\u001b[0m\u001b[0;34m\u001b[0m\u001b[0m\n\u001b[0m",
      "\u001b[0;32m~/.local/lib/python3.10/site-packages/pandas/core/generic.py\u001b[0m in \u001b[0;36m?\u001b[0;34m(self)\u001b[0m\n\u001b[1;32m   1575\u001b[0m     \u001b[0;34m@\u001b[0m\u001b[0mfinal\u001b[0m\u001b[0;34m\u001b[0m\u001b[0;34m\u001b[0m\u001b[0m\n\u001b[1;32m   1576\u001b[0m     \u001b[0;32mdef\u001b[0m \u001b[0m__nonzero__\u001b[0m\u001b[0;34m(\u001b[0m\u001b[0mself\u001b[0m\u001b[0;34m)\u001b[0m \u001b[0;34m->\u001b[0m \u001b[0mNoReturn\u001b[0m\u001b[0;34m:\u001b[0m\u001b[0;34m\u001b[0m\u001b[0;34m\u001b[0m\u001b[0m\n\u001b[0;32m-> 1577\u001b[0;31m         raise ValueError(\n\u001b[0m\u001b[1;32m   1578\u001b[0m             \u001b[0;34mf\"The truth value of a {type(self).__name__} is ambiguous. \"\u001b[0m\u001b[0;34m\u001b[0m\u001b[0;34m\u001b[0m\u001b[0m\n\u001b[1;32m   1579\u001b[0m             \u001b[0;34m\"Use a.empty, a.bool(), a.item(), a.any() or a.all().\"\u001b[0m\u001b[0;34m\u001b[0m\u001b[0;34m\u001b[0m\u001b[0m\n\u001b[1;32m   1580\u001b[0m         )\n",
      "\u001b[0;31mValueError\u001b[0m: The truth value of a DataFrame is ambiguous. Use a.empty, a.bool(), a.item(), a.any() or a.all()."
     ]
    }
   ],
   "source": [
    "re[re[\"Date\"].duplicated]"
   ]
  },
  {
   "cell_type": "code",
   "execution_count": 60,
   "metadata": {},
   "outputs": [
    {
     "name": "stdout",
     "output_type": "stream",
     "text": [
      "                                     Promoter  Share  BSE Code NSE Code  \\\n",
      "Promoter                                                                  \n",
      "President Of India 5395    President Of India  56.89    500108     MTNL   \n",
      "                   5396    President Of India  56.89    500108     MTNL   \n",
      "                   5397    President Of India  56.89    500108     MTNL   \n",
      "                   5398    President Of India  56.89    500108     MTNL   \n",
      "                   5399    President Of India  56.89    500108     MTNL   \n",
      "...                                       ...    ...       ...      ...   \n",
      "                   475315  President Of India  74.93    541143      BDL   \n",
      "                   475316  President Of India  74.93    541143      BDL   \n",
      "                   475317  President Of India  74.93    541143      BDL   \n",
      "                   475318  President Of India  74.93    541143      BDL   \n",
      "                   475319  President Of India  74.93    541143      BDL   \n",
      "\n",
      "                            Price          MCap   TotalShares CaptureDate  \\\n",
      "Promoter                                                                    \n",
      "President Of India 5395      61.6  3.878000e+10  6.295455e+08    Sep 2021   \n",
      "                   5396      61.6  3.878000e+10  6.295455e+08    Dec 2021   \n",
      "                   5397      61.6  3.878000e+10  6.295455e+08    Mar 2022   \n",
      "                   5398      61.6  3.878000e+10  6.295455e+08    Jun 2022   \n",
      "                   5399      61.6  3.878000e+10  6.295455e+08    Sep 2022   \n",
      "...                           ...           ...           ...         ...   \n",
      "                   475315  1316.0  4.823000e+11  3.664894e+08    Jun 2023   \n",
      "                   475316  1316.0  4.823000e+11  3.664894e+08    Sep 2023   \n",
      "                   475317  1316.0  4.823000e+11  3.664894e+08    Dec 2023   \n",
      "                   475318  1316.0  4.823000e+11  3.664894e+08    Mar 2024   \n",
      "                   475319  1316.0  4.823000e+11  3.664894e+08    Jun 2024   \n",
      "\n",
      "                                 Date  Share_Change     ch  \n",
      "Promoter                                                    \n",
      "President Of India 5395    01-09-2021           NaN  EQUAL  \n",
      "                   5396    01-12-2021           0.0  EQUAL  \n",
      "                   5397    01-03-2022           0.0  EQUAL  \n",
      "                   5398    01-06-2022           0.0  EQUAL  \n",
      "                   5399    01-09-2022           0.0  EQUAL  \n",
      "...                               ...           ...    ...  \n",
      "                   475315  01-06-2023           0.0  EQUAL  \n",
      "                   475316  01-09-2023           0.0  EQUAL  \n",
      "                   475317  01-12-2023           0.0  EQUAL  \n",
      "                   475318  01-03-2024           0.0  EQUAL  \n",
      "                   475319  01-06-2024           0.0  EQUAL  \n",
      "\n",
      "[528 rows x 11 columns]\n"
     ]
    }
   ],
   "source": [
    "duplicates = re[re[\"Date\"].duplicated(keep=False)]\n",
    "print(duplicates)\n"
   ]
  },
  {
   "cell_type": "code",
   "execution_count": 61,
   "metadata": {},
   "outputs": [
    {
     "data": {
      "text/html": [
       "<div>\n",
       "<style scoped>\n",
       "    .dataframe tbody tr th:only-of-type {\n",
       "        vertical-align: middle;\n",
       "    }\n",
       "\n",
       "    .dataframe tbody tr th {\n",
       "        vertical-align: top;\n",
       "    }\n",
       "\n",
       "    .dataframe thead th {\n",
       "        text-align: right;\n",
       "    }\n",
       "</style>\n",
       "<table border=\"1\" class=\"dataframe\">\n",
       "  <thead>\n",
       "    <tr style=\"text-align: right;\">\n",
       "      <th></th>\n",
       "      <th></th>\n",
       "      <th>Promoter</th>\n",
       "      <th>Share</th>\n",
       "      <th>BSE Code</th>\n",
       "      <th>NSE Code</th>\n",
       "      <th>Price</th>\n",
       "      <th>MCap</th>\n",
       "      <th>TotalShares</th>\n",
       "      <th>CaptureDate</th>\n",
       "      <th>Date</th>\n",
       "      <th>Share_Change</th>\n",
       "      <th>ch</th>\n",
       "    </tr>\n",
       "    <tr>\n",
       "      <th>Promoter</th>\n",
       "      <th></th>\n",
       "      <th></th>\n",
       "      <th></th>\n",
       "      <th></th>\n",
       "      <th></th>\n",
       "      <th></th>\n",
       "      <th></th>\n",
       "      <th></th>\n",
       "      <th></th>\n",
       "      <th></th>\n",
       "      <th></th>\n",
       "      <th></th>\n",
       "    </tr>\n",
       "  </thead>\n",
       "  <tbody>\n",
       "    <tr>\n",
       "      <th rowspan=\"11\" valign=\"top\">President Of India</th>\n",
       "      <th>5395</th>\n",
       "      <td>President Of India</td>\n",
       "      <td>56.89</td>\n",
       "      <td>500108</td>\n",
       "      <td>MTNL</td>\n",
       "      <td>61.6</td>\n",
       "      <td>3.878000e+10</td>\n",
       "      <td>6.295455e+08</td>\n",
       "      <td>Sep 2021</td>\n",
       "      <td>01-09-2021</td>\n",
       "      <td>NaN</td>\n",
       "      <td>EQUAL</td>\n",
       "    </tr>\n",
       "    <tr>\n",
       "      <th>5396</th>\n",
       "      <td>President Of India</td>\n",
       "      <td>56.89</td>\n",
       "      <td>500108</td>\n",
       "      <td>MTNL</td>\n",
       "      <td>61.6</td>\n",
       "      <td>3.878000e+10</td>\n",
       "      <td>6.295455e+08</td>\n",
       "      <td>Dec 2021</td>\n",
       "      <td>01-12-2021</td>\n",
       "      <td>0.0</td>\n",
       "      <td>EQUAL</td>\n",
       "    </tr>\n",
       "    <tr>\n",
       "      <th>5397</th>\n",
       "      <td>President Of India</td>\n",
       "      <td>56.89</td>\n",
       "      <td>500108</td>\n",
       "      <td>MTNL</td>\n",
       "      <td>61.6</td>\n",
       "      <td>3.878000e+10</td>\n",
       "      <td>6.295455e+08</td>\n",
       "      <td>Mar 2022</td>\n",
       "      <td>01-03-2022</td>\n",
       "      <td>0.0</td>\n",
       "      <td>EQUAL</td>\n",
       "    </tr>\n",
       "    <tr>\n",
       "      <th>5398</th>\n",
       "      <td>President Of India</td>\n",
       "      <td>56.89</td>\n",
       "      <td>500108</td>\n",
       "      <td>MTNL</td>\n",
       "      <td>61.6</td>\n",
       "      <td>3.878000e+10</td>\n",
       "      <td>6.295455e+08</td>\n",
       "      <td>Jun 2022</td>\n",
       "      <td>01-06-2022</td>\n",
       "      <td>0.0</td>\n",
       "      <td>EQUAL</td>\n",
       "    </tr>\n",
       "    <tr>\n",
       "      <th>5399</th>\n",
       "      <td>President Of India</td>\n",
       "      <td>56.89</td>\n",
       "      <td>500108</td>\n",
       "      <td>MTNL</td>\n",
       "      <td>61.6</td>\n",
       "      <td>3.878000e+10</td>\n",
       "      <td>6.295455e+08</td>\n",
       "      <td>Sep 2022</td>\n",
       "      <td>01-09-2022</td>\n",
       "      <td>0.0</td>\n",
       "      <td>EQUAL</td>\n",
       "    </tr>\n",
       "    <tr>\n",
       "      <th>...</th>\n",
       "      <td>...</td>\n",
       "      <td>...</td>\n",
       "      <td>...</td>\n",
       "      <td>...</td>\n",
       "      <td>...</td>\n",
       "      <td>...</td>\n",
       "      <td>...</td>\n",
       "      <td>...</td>\n",
       "      <td>...</td>\n",
       "      <td>...</td>\n",
       "      <td>...</td>\n",
       "    </tr>\n",
       "    <tr>\n",
       "      <th>475315</th>\n",
       "      <td>President Of India</td>\n",
       "      <td>74.93</td>\n",
       "      <td>541143</td>\n",
       "      <td>BDL</td>\n",
       "      <td>1316.0</td>\n",
       "      <td>4.823000e+11</td>\n",
       "      <td>3.664894e+08</td>\n",
       "      <td>Jun 2023</td>\n",
       "      <td>01-06-2023</td>\n",
       "      <td>0.0</td>\n",
       "      <td>EQUAL</td>\n",
       "    </tr>\n",
       "    <tr>\n",
       "      <th>475316</th>\n",
       "      <td>President Of India</td>\n",
       "      <td>74.93</td>\n",
       "      <td>541143</td>\n",
       "      <td>BDL</td>\n",
       "      <td>1316.0</td>\n",
       "      <td>4.823000e+11</td>\n",
       "      <td>3.664894e+08</td>\n",
       "      <td>Sep 2023</td>\n",
       "      <td>01-09-2023</td>\n",
       "      <td>0.0</td>\n",
       "      <td>EQUAL</td>\n",
       "    </tr>\n",
       "    <tr>\n",
       "      <th>475317</th>\n",
       "      <td>President Of India</td>\n",
       "      <td>74.93</td>\n",
       "      <td>541143</td>\n",
       "      <td>BDL</td>\n",
       "      <td>1316.0</td>\n",
       "      <td>4.823000e+11</td>\n",
       "      <td>3.664894e+08</td>\n",
       "      <td>Dec 2023</td>\n",
       "      <td>01-12-2023</td>\n",
       "      <td>0.0</td>\n",
       "      <td>EQUAL</td>\n",
       "    </tr>\n",
       "    <tr>\n",
       "      <th>475318</th>\n",
       "      <td>President Of India</td>\n",
       "      <td>74.93</td>\n",
       "      <td>541143</td>\n",
       "      <td>BDL</td>\n",
       "      <td>1316.0</td>\n",
       "      <td>4.823000e+11</td>\n",
       "      <td>3.664894e+08</td>\n",
       "      <td>Mar 2024</td>\n",
       "      <td>01-03-2024</td>\n",
       "      <td>0.0</td>\n",
       "      <td>EQUAL</td>\n",
       "    </tr>\n",
       "    <tr>\n",
       "      <th>475319</th>\n",
       "      <td>President Of India</td>\n",
       "      <td>74.93</td>\n",
       "      <td>541143</td>\n",
       "      <td>BDL</td>\n",
       "      <td>1316.0</td>\n",
       "      <td>4.823000e+11</td>\n",
       "      <td>3.664894e+08</td>\n",
       "      <td>Jun 2024</td>\n",
       "      <td>01-06-2024</td>\n",
       "      <td>0.0</td>\n",
       "      <td>EQUAL</td>\n",
       "    </tr>\n",
       "  </tbody>\n",
       "</table>\n",
       "<p>528 rows × 11 columns</p>\n",
       "</div>"
      ],
      "text/plain": [
       "                                     Promoter  Share  BSE Code NSE Code  \\\n",
       "Promoter                                                                  \n",
       "President Of India 5395    President Of India  56.89    500108     MTNL   \n",
       "                   5396    President Of India  56.89    500108     MTNL   \n",
       "                   5397    President Of India  56.89    500108     MTNL   \n",
       "                   5398    President Of India  56.89    500108     MTNL   \n",
       "                   5399    President Of India  56.89    500108     MTNL   \n",
       "...                                       ...    ...       ...      ...   \n",
       "                   475315  President Of India  74.93    541143      BDL   \n",
       "                   475316  President Of India  74.93    541143      BDL   \n",
       "                   475317  President Of India  74.93    541143      BDL   \n",
       "                   475318  President Of India  74.93    541143      BDL   \n",
       "                   475319  President Of India  74.93    541143      BDL   \n",
       "\n",
       "                            Price          MCap   TotalShares CaptureDate  \\\n",
       "Promoter                                                                    \n",
       "President Of India 5395      61.6  3.878000e+10  6.295455e+08    Sep 2021   \n",
       "                   5396      61.6  3.878000e+10  6.295455e+08    Dec 2021   \n",
       "                   5397      61.6  3.878000e+10  6.295455e+08    Mar 2022   \n",
       "                   5398      61.6  3.878000e+10  6.295455e+08    Jun 2022   \n",
       "                   5399      61.6  3.878000e+10  6.295455e+08    Sep 2022   \n",
       "...                           ...           ...           ...         ...   \n",
       "                   475315  1316.0  4.823000e+11  3.664894e+08    Jun 2023   \n",
       "                   475316  1316.0  4.823000e+11  3.664894e+08    Sep 2023   \n",
       "                   475317  1316.0  4.823000e+11  3.664894e+08    Dec 2023   \n",
       "                   475318  1316.0  4.823000e+11  3.664894e+08    Mar 2024   \n",
       "                   475319  1316.0  4.823000e+11  3.664894e+08    Jun 2024   \n",
       "\n",
       "                                 Date  Share_Change     ch  \n",
       "Promoter                                                    \n",
       "President Of India 5395    01-09-2021           NaN  EQUAL  \n",
       "                   5396    01-12-2021           0.0  EQUAL  \n",
       "                   5397    01-03-2022           0.0  EQUAL  \n",
       "                   5398    01-06-2022           0.0  EQUAL  \n",
       "                   5399    01-09-2022           0.0  EQUAL  \n",
       "...                               ...           ...    ...  \n",
       "                   475315  01-06-2023           0.0  EQUAL  \n",
       "                   475316  01-09-2023           0.0  EQUAL  \n",
       "                   475317  01-12-2023           0.0  EQUAL  \n",
       "                   475318  01-03-2024           0.0  EQUAL  \n",
       "                   475319  01-06-2024           0.0  EQUAL  \n",
       "\n",
       "[528 rows x 11 columns]"
      ]
     },
     "execution_count": 61,
     "metadata": {},
     "output_type": "execute_result"
    }
   ],
   "source": [
    "duplicates"
   ]
  },
  {
   "cell_type": "code",
   "execution_count": 65,
   "metadata": {},
   "outputs": [
    {
     "name": "stdout",
     "output_type": "stream",
     "text": [
      "                                     Promoter  Share  BSE Code NSE Code  \\\n",
      "Promoter                                                                  \n",
      "President Of India 5395    President Of India  56.89    500108     MTNL   \n",
      "                   5396    President Of India  56.89    500108     MTNL   \n",
      "                   5397    President Of India  56.89    500108     MTNL   \n",
      "                   5398    President Of India  56.89    500108     MTNL   \n",
      "                   5399    President Of India  56.89    500108     MTNL   \n",
      "...                                       ...    ...       ...      ...   \n",
      "                   475315  President Of India  74.93    541143      BDL   \n",
      "                   475316  President Of India  74.93    541143      BDL   \n",
      "                   475317  President Of India  74.93    541143      BDL   \n",
      "                   475318  President Of India  74.93    541143      BDL   \n",
      "                   475319  President Of India  74.93    541143      BDL   \n",
      "\n",
      "                            Price          MCap   TotalShares CaptureDate  \\\n",
      "Promoter                                                                    \n",
      "President Of India 5395      61.6  3.878000e+10  6.295455e+08    Sep 2021   \n",
      "                   5396      61.6  3.878000e+10  6.295455e+08    Dec 2021   \n",
      "                   5397      61.6  3.878000e+10  6.295455e+08    Mar 2022   \n",
      "                   5398      61.6  3.878000e+10  6.295455e+08    Jun 2022   \n",
      "                   5399      61.6  3.878000e+10  6.295455e+08    Sep 2022   \n",
      "...                           ...           ...           ...         ...   \n",
      "                   475315  1316.0  4.823000e+11  3.664894e+08    Jun 2023   \n",
      "                   475316  1316.0  4.823000e+11  3.664894e+08    Sep 2023   \n",
      "                   475317  1316.0  4.823000e+11  3.664894e+08    Dec 2023   \n",
      "                   475318  1316.0  4.823000e+11  3.664894e+08    Mar 2024   \n",
      "                   475319  1316.0  4.823000e+11  3.664894e+08    Jun 2024   \n",
      "\n",
      "                                 Date  Share_Change     ch  \n",
      "Promoter                                                    \n",
      "President Of India 5395    01-09-2021           NaN  EQUAL  \n",
      "                   5396    01-12-2021           0.0  EQUAL  \n",
      "                   5397    01-03-2022           0.0  EQUAL  \n",
      "                   5398    01-06-2022           0.0  EQUAL  \n",
      "                   5399    01-09-2022           0.0  EQUAL  \n",
      "...                               ...           ...    ...  \n",
      "                   475315  01-06-2023           0.0  EQUAL  \n",
      "                   475316  01-09-2023           0.0  EQUAL  \n",
      "                   475317  01-12-2023           0.0  EQUAL  \n",
      "                   475318  01-03-2024           0.0  EQUAL  \n",
      "                   475319  01-06-2024           0.0  EQUAL  \n",
      "\n",
      "[528 rows x 11 columns]\n"
     ]
    }
   ],
   "source": [
    "import pandas as pd\n",
    "\n",
    "\n",
    "duplicates = re[re[\"Date\"].duplicated(keep=False)]\n",
    "\n",
    "print(duplicates)\n"
   ]
  },
  {
   "cell_type": "code",
   "execution_count": 64,
   "metadata": {},
   "outputs": [
    {
     "name": "stdout",
     "output_type": "stream",
     "text": [
      "                                     Promoter  Share  BSE Code NSE Code  \\\n",
      "Promoter                                                                  \n",
      "President Of India 5395    President Of India  56.89    500108     MTNL   \n",
      "                   5396    President Of India  56.89    500108     MTNL   \n",
      "                   5397    President Of India  56.89    500108     MTNL   \n",
      "                   5398    President Of India  56.89    500108     MTNL   \n",
      "                   5399    President Of India  56.89    500108     MTNL   \n",
      "...                                       ...    ...       ...      ...   \n",
      "                   475315  President Of India  74.93    541143      BDL   \n",
      "                   475316  President Of India  74.93    541143      BDL   \n",
      "                   475317  President Of India  74.93    541143      BDL   \n",
      "                   475318  President Of India  74.93    541143      BDL   \n",
      "                   475319  President Of India  74.93    541143      BDL   \n",
      "\n",
      "                            Price          MCap   TotalShares CaptureDate  \\\n",
      "Promoter                                                                    \n",
      "President Of India 5395      61.6  3.878000e+10  6.295455e+08    Sep 2021   \n",
      "                   5396      61.6  3.878000e+10  6.295455e+08    Dec 2021   \n",
      "                   5397      61.6  3.878000e+10  6.295455e+08    Mar 2022   \n",
      "                   5398      61.6  3.878000e+10  6.295455e+08    Jun 2022   \n",
      "                   5399      61.6  3.878000e+10  6.295455e+08    Sep 2022   \n",
      "...                           ...           ...           ...         ...   \n",
      "                   475315  1316.0  4.823000e+11  3.664894e+08    Jun 2023   \n",
      "                   475316  1316.0  4.823000e+11  3.664894e+08    Sep 2023   \n",
      "                   475317  1316.0  4.823000e+11  3.664894e+08    Dec 2023   \n",
      "                   475318  1316.0  4.823000e+11  3.664894e+08    Mar 2024   \n",
      "                   475319  1316.0  4.823000e+11  3.664894e+08    Jun 2024   \n",
      "\n",
      "                                 Date  Share_Change     ch  \n",
      "Promoter                                                    \n",
      "President Of India 5395    2021-09-01           NaN  EQUAL  \n",
      "                   5396    2021-12-01           0.0  EQUAL  \n",
      "                   5397    2022-03-01           0.0  EQUAL  \n",
      "                   5398    2022-06-01           0.0  EQUAL  \n",
      "                   5399    2022-09-01           0.0  EQUAL  \n",
      "...                               ...           ...    ...  \n",
      "                   475315  2023-06-01           0.0  EQUAL  \n",
      "                   475316  2023-09-01           0.0  EQUAL  \n",
      "                   475317  2023-12-01           0.0  EQUAL  \n",
      "                   475318  2024-03-01           0.0  EQUAL  \n",
      "                   475319  2024-06-01           0.0  EQUAL  \n",
      "\n",
      "[528 rows x 11 columns]\n"
     ]
    }
   ],
   "source": [
    "print(df[df['Date'].duplicated(keep=False)])\n"
   ]
  },
  {
   "cell_type": "code",
   "execution_count": 66,
   "metadata": {},
   "outputs": [
    {
     "data": {
      "text/html": [
       "<div>\n",
       "<style scoped>\n",
       "    .dataframe tbody tr th:only-of-type {\n",
       "        vertical-align: middle;\n",
       "    }\n",
       "\n",
       "    .dataframe tbody tr th {\n",
       "        vertical-align: top;\n",
       "    }\n",
       "\n",
       "    .dataframe thead th {\n",
       "        text-align: right;\n",
       "    }\n",
       "</style>\n",
       "<table border=\"1\" class=\"dataframe\">\n",
       "  <thead>\n",
       "    <tr style=\"text-align: right;\">\n",
       "      <th></th>\n",
       "      <th></th>\n",
       "      <th>Promoter</th>\n",
       "      <th>Share</th>\n",
       "      <th>BSE Code</th>\n",
       "      <th>NSE Code</th>\n",
       "      <th>Price</th>\n",
       "      <th>MCap</th>\n",
       "      <th>TotalShares</th>\n",
       "      <th>CaptureDate</th>\n",
       "      <th>Date</th>\n",
       "      <th>Share_Change</th>\n",
       "      <th>ch</th>\n",
       "    </tr>\n",
       "    <tr>\n",
       "      <th>Promoter</th>\n",
       "      <th></th>\n",
       "      <th></th>\n",
       "      <th></th>\n",
       "      <th></th>\n",
       "      <th></th>\n",
       "      <th></th>\n",
       "      <th></th>\n",
       "      <th></th>\n",
       "      <th></th>\n",
       "      <th></th>\n",
       "      <th></th>\n",
       "      <th></th>\n",
       "    </tr>\n",
       "  </thead>\n",
       "  <tbody>\n",
       "    <tr>\n",
       "      <th rowspan=\"11\" valign=\"top\">President Of India</th>\n",
       "      <th>5395</th>\n",
       "      <td>President Of India</td>\n",
       "      <td>56.89</td>\n",
       "      <td>500108</td>\n",
       "      <td>MTNL</td>\n",
       "      <td>61.6</td>\n",
       "      <td>3.878000e+10</td>\n",
       "      <td>6.295455e+08</td>\n",
       "      <td>Sep 2021</td>\n",
       "      <td>01-09-2021</td>\n",
       "      <td>NaN</td>\n",
       "      <td>EQUAL</td>\n",
       "    </tr>\n",
       "    <tr>\n",
       "      <th>5396</th>\n",
       "      <td>President Of India</td>\n",
       "      <td>56.89</td>\n",
       "      <td>500108</td>\n",
       "      <td>MTNL</td>\n",
       "      <td>61.6</td>\n",
       "      <td>3.878000e+10</td>\n",
       "      <td>6.295455e+08</td>\n",
       "      <td>Dec 2021</td>\n",
       "      <td>01-12-2021</td>\n",
       "      <td>0.0</td>\n",
       "      <td>EQUAL</td>\n",
       "    </tr>\n",
       "    <tr>\n",
       "      <th>5397</th>\n",
       "      <td>President Of India</td>\n",
       "      <td>56.89</td>\n",
       "      <td>500108</td>\n",
       "      <td>MTNL</td>\n",
       "      <td>61.6</td>\n",
       "      <td>3.878000e+10</td>\n",
       "      <td>6.295455e+08</td>\n",
       "      <td>Mar 2022</td>\n",
       "      <td>01-03-2022</td>\n",
       "      <td>0.0</td>\n",
       "      <td>EQUAL</td>\n",
       "    </tr>\n",
       "    <tr>\n",
       "      <th>5398</th>\n",
       "      <td>President Of India</td>\n",
       "      <td>56.89</td>\n",
       "      <td>500108</td>\n",
       "      <td>MTNL</td>\n",
       "      <td>61.6</td>\n",
       "      <td>3.878000e+10</td>\n",
       "      <td>6.295455e+08</td>\n",
       "      <td>Jun 2022</td>\n",
       "      <td>01-06-2022</td>\n",
       "      <td>0.0</td>\n",
       "      <td>EQUAL</td>\n",
       "    </tr>\n",
       "    <tr>\n",
       "      <th>5399</th>\n",
       "      <td>President Of India</td>\n",
       "      <td>56.89</td>\n",
       "      <td>500108</td>\n",
       "      <td>MTNL</td>\n",
       "      <td>61.6</td>\n",
       "      <td>3.878000e+10</td>\n",
       "      <td>6.295455e+08</td>\n",
       "      <td>Sep 2022</td>\n",
       "      <td>01-09-2022</td>\n",
       "      <td>0.0</td>\n",
       "      <td>EQUAL</td>\n",
       "    </tr>\n",
       "    <tr>\n",
       "      <th>...</th>\n",
       "      <td>...</td>\n",
       "      <td>...</td>\n",
       "      <td>...</td>\n",
       "      <td>...</td>\n",
       "      <td>...</td>\n",
       "      <td>...</td>\n",
       "      <td>...</td>\n",
       "      <td>...</td>\n",
       "      <td>...</td>\n",
       "      <td>...</td>\n",
       "      <td>...</td>\n",
       "    </tr>\n",
       "    <tr>\n",
       "      <th>475315</th>\n",
       "      <td>President Of India</td>\n",
       "      <td>74.93</td>\n",
       "      <td>541143</td>\n",
       "      <td>BDL</td>\n",
       "      <td>1316.0</td>\n",
       "      <td>4.823000e+11</td>\n",
       "      <td>3.664894e+08</td>\n",
       "      <td>Jun 2023</td>\n",
       "      <td>01-06-2023</td>\n",
       "      <td>0.0</td>\n",
       "      <td>EQUAL</td>\n",
       "    </tr>\n",
       "    <tr>\n",
       "      <th>475316</th>\n",
       "      <td>President Of India</td>\n",
       "      <td>74.93</td>\n",
       "      <td>541143</td>\n",
       "      <td>BDL</td>\n",
       "      <td>1316.0</td>\n",
       "      <td>4.823000e+11</td>\n",
       "      <td>3.664894e+08</td>\n",
       "      <td>Sep 2023</td>\n",
       "      <td>01-09-2023</td>\n",
       "      <td>0.0</td>\n",
       "      <td>EQUAL</td>\n",
       "    </tr>\n",
       "    <tr>\n",
       "      <th>475317</th>\n",
       "      <td>President Of India</td>\n",
       "      <td>74.93</td>\n",
       "      <td>541143</td>\n",
       "      <td>BDL</td>\n",
       "      <td>1316.0</td>\n",
       "      <td>4.823000e+11</td>\n",
       "      <td>3.664894e+08</td>\n",
       "      <td>Dec 2023</td>\n",
       "      <td>01-12-2023</td>\n",
       "      <td>0.0</td>\n",
       "      <td>EQUAL</td>\n",
       "    </tr>\n",
       "    <tr>\n",
       "      <th>475318</th>\n",
       "      <td>President Of India</td>\n",
       "      <td>74.93</td>\n",
       "      <td>541143</td>\n",
       "      <td>BDL</td>\n",
       "      <td>1316.0</td>\n",
       "      <td>4.823000e+11</td>\n",
       "      <td>3.664894e+08</td>\n",
       "      <td>Mar 2024</td>\n",
       "      <td>01-03-2024</td>\n",
       "      <td>0.0</td>\n",
       "      <td>EQUAL</td>\n",
       "    </tr>\n",
       "    <tr>\n",
       "      <th>475319</th>\n",
       "      <td>President Of India</td>\n",
       "      <td>74.93</td>\n",
       "      <td>541143</td>\n",
       "      <td>BDL</td>\n",
       "      <td>1316.0</td>\n",
       "      <td>4.823000e+11</td>\n",
       "      <td>3.664894e+08</td>\n",
       "      <td>Jun 2024</td>\n",
       "      <td>01-06-2024</td>\n",
       "      <td>0.0</td>\n",
       "      <td>EQUAL</td>\n",
       "    </tr>\n",
       "  </tbody>\n",
       "</table>\n",
       "<p>528 rows × 11 columns</p>\n",
       "</div>"
      ],
      "text/plain": [
       "                                     Promoter  Share  BSE Code NSE Code  \\\n",
       "Promoter                                                                  \n",
       "President Of India 5395    President Of India  56.89    500108     MTNL   \n",
       "                   5396    President Of India  56.89    500108     MTNL   \n",
       "                   5397    President Of India  56.89    500108     MTNL   \n",
       "                   5398    President Of India  56.89    500108     MTNL   \n",
       "                   5399    President Of India  56.89    500108     MTNL   \n",
       "...                                       ...    ...       ...      ...   \n",
       "                   475315  President Of India  74.93    541143      BDL   \n",
       "                   475316  President Of India  74.93    541143      BDL   \n",
       "                   475317  President Of India  74.93    541143      BDL   \n",
       "                   475318  President Of India  74.93    541143      BDL   \n",
       "                   475319  President Of India  74.93    541143      BDL   \n",
       "\n",
       "                            Price          MCap   TotalShares CaptureDate  \\\n",
       "Promoter                                                                    \n",
       "President Of India 5395      61.6  3.878000e+10  6.295455e+08    Sep 2021   \n",
       "                   5396      61.6  3.878000e+10  6.295455e+08    Dec 2021   \n",
       "                   5397      61.6  3.878000e+10  6.295455e+08    Mar 2022   \n",
       "                   5398      61.6  3.878000e+10  6.295455e+08    Jun 2022   \n",
       "                   5399      61.6  3.878000e+10  6.295455e+08    Sep 2022   \n",
       "...                           ...           ...           ...         ...   \n",
       "                   475315  1316.0  4.823000e+11  3.664894e+08    Jun 2023   \n",
       "                   475316  1316.0  4.823000e+11  3.664894e+08    Sep 2023   \n",
       "                   475317  1316.0  4.823000e+11  3.664894e+08    Dec 2023   \n",
       "                   475318  1316.0  4.823000e+11  3.664894e+08    Mar 2024   \n",
       "                   475319  1316.0  4.823000e+11  3.664894e+08    Jun 2024   \n",
       "\n",
       "                                 Date  Share_Change     ch  \n",
       "Promoter                                                    \n",
       "President Of India 5395    01-09-2021           NaN  EQUAL  \n",
       "                   5396    01-12-2021           0.0  EQUAL  \n",
       "                   5397    01-03-2022           0.0  EQUAL  \n",
       "                   5398    01-06-2022           0.0  EQUAL  \n",
       "                   5399    01-09-2022           0.0  EQUAL  \n",
       "...                               ...           ...    ...  \n",
       "                   475315  01-06-2023           0.0  EQUAL  \n",
       "                   475316  01-09-2023           0.0  EQUAL  \n",
       "                   475317  01-12-2023           0.0  EQUAL  \n",
       "                   475318  01-03-2024           0.0  EQUAL  \n",
       "                   475319  01-06-2024           0.0  EQUAL  \n",
       "\n",
       "[528 rows x 11 columns]"
      ]
     },
     "execution_count": 66,
     "metadata": {},
     "output_type": "execute_result"
    }
   ],
   "source": [
    "duplicates"
   ]
  },
  {
   "cell_type": "code",
   "execution_count": 1,
   "metadata": {},
   "outputs": [],
   "source": [
    "import pandas as pd"
   ]
  },
  {
   "cell_type": "code",
   "execution_count": 2,
   "metadata": {},
   "outputs": [],
   "source": [
    "df = pd.read_csv(\"try2.csv\")"
   ]
  },
  {
   "cell_type": "code",
   "execution_count": 3,
   "metadata": {},
   "outputs": [
    {
     "data": {
      "text/html": [
       "<div>\n",
       "<style scoped>\n",
       "    .dataframe tbody tr th:only-of-type {\n",
       "        vertical-align: middle;\n",
       "    }\n",
       "\n",
       "    .dataframe tbody tr th {\n",
       "        vertical-align: top;\n",
       "    }\n",
       "\n",
       "    .dataframe thead th {\n",
       "        text-align: right;\n",
       "    }\n",
       "</style>\n",
       "<table border=\"1\" class=\"dataframe\">\n",
       "  <thead>\n",
       "    <tr style=\"text-align: right;\">\n",
       "      <th></th>\n",
       "      <th>Promoter</th>\n",
       "      <th>Share</th>\n",
       "      <th>BSE Code</th>\n",
       "      <th>NSE Code</th>\n",
       "      <th>Price</th>\n",
       "      <th>MCap</th>\n",
       "      <th>TotalShares</th>\n",
       "      <th>CaptureDate</th>\n",
       "      <th>Date</th>\n",
       "    </tr>\n",
       "  </thead>\n",
       "  <tbody>\n",
       "    <tr>\n",
       "      <th>0</th>\n",
       "      <td>Diwakar Nigam</td>\n",
       "      <td>22.41</td>\n",
       "      <td>540900</td>\n",
       "      <td>NEWGEN</td>\n",
       "      <td>1074.0</td>\n",
       "      <td>150700000000</td>\n",
       "      <td>1.403166e+08</td>\n",
       "      <td>Sep 2021</td>\n",
       "      <td>01-09-2021</td>\n",
       "    </tr>\n",
       "    <tr>\n",
       "      <th>1</th>\n",
       "      <td>T S Varadarajan</td>\n",
       "      <td>21.46</td>\n",
       "      <td>540900</td>\n",
       "      <td>NEWGEN</td>\n",
       "      <td>1074.0</td>\n",
       "      <td>150700000000</td>\n",
       "      <td>1.403166e+08</td>\n",
       "      <td>Sep 2021</td>\n",
       "      <td>01-09-2021</td>\n",
       "    </tr>\n",
       "    <tr>\n",
       "      <th>2</th>\n",
       "      <td>Priyadarshini Nigam</td>\n",
       "      <td>9.39</td>\n",
       "      <td>540900</td>\n",
       "      <td>NEWGEN</td>\n",
       "      <td>1074.0</td>\n",
       "      <td>150700000000</td>\n",
       "      <td>1.403166e+08</td>\n",
       "      <td>Sep 2021</td>\n",
       "      <td>01-09-2021</td>\n",
       "    </tr>\n",
       "    <tr>\n",
       "      <th>3</th>\n",
       "      <td>Usha Varadarajan</td>\n",
       "      <td>1.90</td>\n",
       "      <td>540900</td>\n",
       "      <td>NEWGEN</td>\n",
       "      <td>1074.0</td>\n",
       "      <td>150700000000</td>\n",
       "      <td>1.403166e+08</td>\n",
       "      <td>Sep 2021</td>\n",
       "      <td>01-09-2021</td>\n",
       "    </tr>\n",
       "    <tr>\n",
       "      <th>4</th>\n",
       "      <td>Ragini Goorha</td>\n",
       "      <td>0.00</td>\n",
       "      <td>540900</td>\n",
       "      <td>NEWGEN</td>\n",
       "      <td>1074.0</td>\n",
       "      <td>150700000000</td>\n",
       "      <td>1.403166e+08</td>\n",
       "      <td>Sep 2021</td>\n",
       "      <td>01-09-2021</td>\n",
       "    </tr>\n",
       "    <tr>\n",
       "      <th>...</th>\n",
       "      <td>...</td>\n",
       "      <td>...</td>\n",
       "      <td>...</td>\n",
       "      <td>...</td>\n",
       "      <td>...</td>\n",
       "      <td>...</td>\n",
       "      <td>...</td>\n",
       "      <td>...</td>\n",
       "      <td>...</td>\n",
       "    </tr>\n",
       "    <tr>\n",
       "      <th>481015</th>\n",
       "      <td>SBI Life Insurance Company Limited</td>\n",
       "      <td>0.00</td>\n",
       "      <td>543066</td>\n",
       "      <td>SBICARD</td>\n",
       "      <td>717.0</td>\n",
       "      <td>681590000000</td>\n",
       "      <td>9.506137e+08</td>\n",
       "      <td>Mar 2024</td>\n",
       "      <td>01-03-2024</td>\n",
       "    </tr>\n",
       "    <tr>\n",
       "      <th>481016</th>\n",
       "      <td>SBI General Insurance Company Limited</td>\n",
       "      <td>0.00</td>\n",
       "      <td>543066</td>\n",
       "      <td>SBICARD</td>\n",
       "      <td>717.0</td>\n",
       "      <td>681590000000</td>\n",
       "      <td>9.506137e+08</td>\n",
       "      <td>Mar 2024</td>\n",
       "      <td>01-03-2024</td>\n",
       "    </tr>\n",
       "    <tr>\n",
       "      <th>481017</th>\n",
       "      <td>State Bank of India</td>\n",
       "      <td>68.62</td>\n",
       "      <td>543066</td>\n",
       "      <td>SBICARD</td>\n",
       "      <td>717.0</td>\n",
       "      <td>681590000000</td>\n",
       "      <td>9.506137e+08</td>\n",
       "      <td>Jun 2024</td>\n",
       "      <td>01-06-2024</td>\n",
       "    </tr>\n",
       "    <tr>\n",
       "      <th>481018</th>\n",
       "      <td>SBI Life Insurance Company Limited</td>\n",
       "      <td>0.00</td>\n",
       "      <td>543066</td>\n",
       "      <td>SBICARD</td>\n",
       "      <td>717.0</td>\n",
       "      <td>681590000000</td>\n",
       "      <td>9.506137e+08</td>\n",
       "      <td>Jun 2024</td>\n",
       "      <td>01-06-2024</td>\n",
       "    </tr>\n",
       "    <tr>\n",
       "      <th>481019</th>\n",
       "      <td>SBI General Insurance Company Limited</td>\n",
       "      <td>0.00</td>\n",
       "      <td>543066</td>\n",
       "      <td>SBICARD</td>\n",
       "      <td>717.0</td>\n",
       "      <td>681590000000</td>\n",
       "      <td>9.506137e+08</td>\n",
       "      <td>Jun 2024</td>\n",
       "      <td>01-06-2024</td>\n",
       "    </tr>\n",
       "  </tbody>\n",
       "</table>\n",
       "<p>481020 rows × 9 columns</p>\n",
       "</div>"
      ],
      "text/plain": [
       "                                     Promoter  Share  BSE Code NSE Code  \\\n",
       "0                               Diwakar Nigam  22.41    540900   NEWGEN   \n",
       "1                             T S Varadarajan  21.46    540900   NEWGEN   \n",
       "2                         Priyadarshini Nigam   9.39    540900   NEWGEN   \n",
       "3                            Usha Varadarajan   1.90    540900   NEWGEN   \n",
       "4                               Ragini Goorha   0.00    540900   NEWGEN   \n",
       "...                                       ...    ...       ...      ...   \n",
       "481015     SBI Life Insurance Company Limited   0.00    543066  SBICARD   \n",
       "481016  SBI General Insurance Company Limited   0.00    543066  SBICARD   \n",
       "481017                    State Bank of India  68.62    543066  SBICARD   \n",
       "481018     SBI Life Insurance Company Limited   0.00    543066  SBICARD   \n",
       "481019  SBI General Insurance Company Limited   0.00    543066  SBICARD   \n",
       "\n",
       "         Price          MCap   TotalShares CaptureDate        Date  \n",
       "0       1074.0  150700000000  1.403166e+08    Sep 2021  01-09-2021  \n",
       "1       1074.0  150700000000  1.403166e+08    Sep 2021  01-09-2021  \n",
       "2       1074.0  150700000000  1.403166e+08    Sep 2021  01-09-2021  \n",
       "3       1074.0  150700000000  1.403166e+08    Sep 2021  01-09-2021  \n",
       "4       1074.0  150700000000  1.403166e+08    Sep 2021  01-09-2021  \n",
       "...        ...           ...           ...         ...         ...  \n",
       "481015   717.0  681590000000  9.506137e+08    Mar 2024  01-03-2024  \n",
       "481016   717.0  681590000000  9.506137e+08    Mar 2024  01-03-2024  \n",
       "481017   717.0  681590000000  9.506137e+08    Jun 2024  01-06-2024  \n",
       "481018   717.0  681590000000  9.506137e+08    Jun 2024  01-06-2024  \n",
       "481019   717.0  681590000000  9.506137e+08    Jun 2024  01-06-2024  \n",
       "\n",
       "[481020 rows x 9 columns]"
      ]
     },
     "execution_count": 3,
     "metadata": {},
     "output_type": "execute_result"
    }
   ],
   "source": [
    "df"
   ]
  },
  {
   "cell_type": "code",
   "execution_count": 4,
   "metadata": {},
   "outputs": [
    {
     "ename": "SyntaxError",
     "evalue": "leading zeros in decimal integer literals are not permitted; use an 0o prefix for octal integers (<ipython-input-4-404371a4a044>, line 1)",
     "output_type": "error",
     "traceback": [
      "\u001b[0;36m  Cell \u001b[0;32mIn[4], line 1\u001b[0;36m\u001b[0m\n\u001b[0;31m    dr = df[(df[\"BSE Code\"]==540900)] &(df[(df[\"Date\"]==01-09-2021)])\u001b[0m\n\u001b[0m                                                        ^\u001b[0m\n\u001b[0;31mSyntaxError\u001b[0m\u001b[0;31m:\u001b[0m leading zeros in decimal integer literals are not permitted; use an 0o prefix for octal integers\n"
     ]
    }
   ],
   "source": [
    "dr = df[(df[\"BSE Code\"]==540900)] &(df[(df[\"Date\"]==01-09-2021)])"
   ]
  },
  {
   "cell_type": "code",
   "execution_count": 5,
   "metadata": {},
   "outputs": [
    {
     "data": {
      "text/plain": [
       "Promoter        object\n",
       "Share          float64\n",
       "BSE Code         int64\n",
       "NSE Code        object\n",
       "Price          float64\n",
       "MCap             int64\n",
       "TotalShares    float64\n",
       "CaptureDate     object\n",
       "Date            object\n",
       "dtype: object"
      ]
     },
     "execution_count": 5,
     "metadata": {},
     "output_type": "execute_result"
    }
   ],
   "source": [
    "df.dtypes"
   ]
  },
  {
   "cell_type": "code",
   "execution_count": 6,
   "metadata": {},
   "outputs": [],
   "source": [
    "dr = df[(df[\"BSE Code\"] == 540900) & (df[\"Date\"] == \"01-09-2021\")] \n"
   ]
  },
  {
   "cell_type": "code",
   "execution_count": 8,
   "metadata": {},
   "outputs": [
    {
     "name": "stdout",
     "output_type": "stream",
     "text": [
      "Defaulting to user installation because normal site-packages is not writeable\n",
      "Requirement already satisfied: pymongo in /usr/local/lib/python3.10/dist-packages (4.7.0)\n",
      "Requirement already satisfied: dnspython<3.0.0,>=1.16.0 in /usr/lib/python3/dist-packages (from pymongo) (2.1.0)\n",
      "Note: you may need to restart the kernel to use updated packages.\n"
     ]
    }
   ],
   "source": [
    "pip install pymongo"
   ]
  },
  {
   "cell_type": "code",
   "execution_count": null,
   "metadata": {},
   "outputs": [],
   "source": []
  }
 ],
 "metadata": {
  "kernelspec": {
   "display_name": "Python 3",
   "language": "python",
   "name": "python3"
  },
  "language_info": {
   "codemirror_mode": {
    "name": "ipython",
    "version": 3
   },
   "file_extension": ".py",
   "mimetype": "text/x-python",
   "name": "python",
   "nbconvert_exporter": "python",
   "pygments_lexer": "ipython3",
   "version": "3.10.12"
  }
 },
 "nbformat": 4,
 "nbformat_minor": 2
}
